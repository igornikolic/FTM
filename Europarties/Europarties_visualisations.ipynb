{
 "cells": [
  {
   "cell_type": "markdown",
   "metadata": {},
   "source": [
    "# Analysis of the FTM dataset on EU elections 2019\n",
    "Data source : https://www.ftm.nl/artikelen/eurosceptici-donaties\n",
    "\n",
    "Data licence, according to the above page : https://creativecommons.org/licenses/by-sa/4.0/\n",
    "\n",
    "Given the licence, the data files are available in github, to make it easier to  extend this analysis. "
   ]
  },
  {
   "cell_type": "code",
   "execution_count": 8,
   "metadata": {},
   "outputs": [],
   "source": [
    "import pandas as pd\n",
    "import ipysankeywidget as sw\n",
    "import ipywidgets as ipw\n",
    "\n",
    "all_data = pd.read_stata('EUdonations1418.dta')\n",
    "countries = pd.read_csv('ContryCodesAndNames.csv')\n",
    "#Add the country names to the table for easyer manipulation\n",
    "all_data = all_data.merge(countries, how='left', left_on='country', right_on='CountryID')"
   ]
  },
  {
   "cell_type": "code",
   "execution_count": 9,
   "metadata": {},
   "outputs": [
    {
     "data": {
      "text/html": [
       "<div>\n",
       "<style scoped>\n",
       "    .dataframe tbody tr th:only-of-type {\n",
       "        vertical-align: middle;\n",
       "    }\n",
       "\n",
       "    .dataframe tbody tr th {\n",
       "        vertical-align: top;\n",
       "    }\n",
       "\n",
       "    .dataframe thead th {\n",
       "        text-align: right;\n",
       "    }\n",
       "</style>\n",
       "<table border=\"1\" class=\"dataframe\">\n",
       "  <thead>\n",
       "    <tr style=\"text-align: right;\">\n",
       "      <th></th>\n",
       "      <th>party</th>\n",
       "      <th>partynr</th>\n",
       "      <th>thinktank</th>\n",
       "      <th>year</th>\n",
       "      <th>don</th>\n",
       "      <th>name</th>\n",
       "      <th>country</th>\n",
       "      <th>org</th>\n",
       "      <th>sec1</th>\n",
       "      <th>sec2</th>\n",
       "      <th>det</th>\n",
       "      <th>sum_pcoun</th>\n",
       "      <th>sum_coun</th>\n",
       "      <th>sum_org</th>\n",
       "      <th>sum_year</th>\n",
       "      <th>id</th>\n",
       "      <th>CountryID</th>\n",
       "      <th>CountryName</th>\n",
       "    </tr>\n",
       "  </thead>\n",
       "  <tbody>\n",
       "    <tr>\n",
       "      <th>0</th>\n",
       "      <td>ACRE (ND)</td>\n",
       "      <td>1</td>\n",
       "      <td>0</td>\n",
       "      <td>2014</td>\n",
       "      <td>595.86</td>\n",
       "      <td>Geoffrey Clifton-Brown</td>\n",
       "      <td>28.0</td>\n",
       "      <td>5.0</td>\n",
       "      <td>23.0</td>\n",
       "      <td>NaN</td>\n",
       "      <td>Conservative MP UK</td>\n",
       "      <td>164493.875000</td>\n",
       "      <td>378392.500000</td>\n",
       "      <td>198809.359375</td>\n",
       "      <td>241829.015625</td>\n",
       "      <td>1.0</td>\n",
       "      <td>28.0</td>\n",
       "      <td>UK</td>\n",
       "    </tr>\n",
       "    <tr>\n",
       "      <th>1</th>\n",
       "      <td>ACRE (ND)</td>\n",
       "      <td>1</td>\n",
       "      <td>0</td>\n",
       "      <td>2014</td>\n",
       "      <td>1914.50</td>\n",
       "      <td>George Rukhadze</td>\n",
       "      <td>33.0</td>\n",
       "      <td>3.0</td>\n",
       "      <td>27.0</td>\n",
       "      <td>NaN</td>\n",
       "      <td>Vice-president ECPM / founder Georgian Strateg...</td>\n",
       "      <td>2514.500000</td>\n",
       "      <td>28310.500000</td>\n",
       "      <td>143904.734375</td>\n",
       "      <td>241829.015625</td>\n",
       "      <td>2.0</td>\n",
       "      <td>33.0</td>\n",
       "      <td>Georgia</td>\n",
       "    </tr>\n",
       "    <tr>\n",
       "      <th>2</th>\n",
       "      <td>ACRE (ND)</td>\n",
       "      <td>1</td>\n",
       "      <td>1</td>\n",
       "      <td>2014</td>\n",
       "      <td>2000.00</td>\n",
       "      <td>Bendukidze Stichting</td>\n",
       "      <td>20.0</td>\n",
       "      <td>2.0</td>\n",
       "      <td>13.0</td>\n",
       "      <td>NaN</td>\n",
       "      <td>Foundation of Olga Yuriyevna Novikova co-owner...</td>\n",
       "      <td>32100.000000</td>\n",
       "      <td>426397.625000</td>\n",
       "      <td>378524.062500</td>\n",
       "      <td>241829.015625</td>\n",
       "      <td>3.0</td>\n",
       "      <td>20.0</td>\n",
       "      <td>Netherlands</td>\n",
       "    </tr>\n",
       "    <tr>\n",
       "      <th>3</th>\n",
       "      <td>ACRE (ND)</td>\n",
       "      <td>1</td>\n",
       "      <td>0</td>\n",
       "      <td>2014</td>\n",
       "      <td>4116.00</td>\n",
       "      <td>SIA Contex</td>\n",
       "      <td>16.0</td>\n",
       "      <td>2.0</td>\n",
       "      <td>37.0</td>\n",
       "      <td>24.0</td>\n",
       "      <td>Tabacco products / computer programming</td>\n",
       "      <td>19651.550781</td>\n",
       "      <td>61771.550781</td>\n",
       "      <td>378524.062500</td>\n",
       "      <td>241829.015625</td>\n",
       "      <td>4.0</td>\n",
       "      <td>16.0</td>\n",
       "      <td>Latvia</td>\n",
       "    </tr>\n",
       "    <tr>\n",
       "      <th>4</th>\n",
       "      <td>ACRE (ND)</td>\n",
       "      <td>1</td>\n",
       "      <td>1</td>\n",
       "      <td>2014</td>\n",
       "      <td>12000.00</td>\n",
       "      <td>Manfred Kastner</td>\n",
       "      <td>1.0</td>\n",
       "      <td>1.0</td>\n",
       "      <td>18.0</td>\n",
       "      <td>7.0</td>\n",
       "      <td>CEO Austrian oilcompany + founder Microfinance...</td>\n",
       "      <td>74000.000000</td>\n",
       "      <td>400097.812500</td>\n",
       "      <td>328750.375000</td>\n",
       "      <td>241829.015625</td>\n",
       "      <td>5.0</td>\n",
       "      <td>1.0</td>\n",
       "      <td>Austria</td>\n",
       "    </tr>\n",
       "  </tbody>\n",
       "</table>\n",
       "</div>"
      ],
      "text/plain": [
       "       party  partynr  thinktank  year       don                    name  \\\n",
       "0  ACRE (ND)        1          0  2014    595.86  Geoffrey Clifton-Brown   \n",
       "1  ACRE (ND)        1          0  2014   1914.50         George Rukhadze   \n",
       "2  ACRE (ND)        1          1  2014   2000.00    Bendukidze Stichting   \n",
       "3  ACRE (ND)        1          0  2014   4116.00              SIA Contex   \n",
       "4  ACRE (ND)        1          1  2014  12000.00         Manfred Kastner   \n",
       "\n",
       "   country  org  sec1  sec2  \\\n",
       "0     28.0  5.0  23.0   NaN   \n",
       "1     33.0  3.0  27.0   NaN   \n",
       "2     20.0  2.0  13.0   NaN   \n",
       "3     16.0  2.0  37.0  24.0   \n",
       "4      1.0  1.0  18.0   7.0   \n",
       "\n",
       "                                                 det      sum_pcoun  \\\n",
       "0                                 Conservative MP UK  164493.875000   \n",
       "1  Vice-president ECPM / founder Georgian Strateg...    2514.500000   \n",
       "2  Foundation of Olga Yuriyevna Novikova co-owner...   32100.000000   \n",
       "3            Tabacco products / computer programming   19651.550781   \n",
       "4  CEO Austrian oilcompany + founder Microfinance...   74000.000000   \n",
       "\n",
       "        sum_coun        sum_org       sum_year   id  CountryID  CountryName  \n",
       "0  378392.500000  198809.359375  241829.015625  1.0       28.0           UK  \n",
       "1   28310.500000  143904.734375  241829.015625  2.0       33.0      Georgia  \n",
       "2  426397.625000  378524.062500  241829.015625  3.0       20.0  Netherlands  \n",
       "3   61771.550781  378524.062500  241829.015625  4.0       16.0       Latvia  \n",
       "4  400097.812500  328750.375000  241829.015625  5.0        1.0      Austria  "
      ]
     },
     "execution_count": 9,
     "metadata": {},
     "output_type": "execute_result"
    }
   ],
   "source": [
    "#Lets have a quick look at the data\n",
    "all_data.head()"
   ]
  },
  {
   "cell_type": "markdown",
   "metadata": {},
   "source": [
    "# Source of the  money by country.\n",
    "Here we sum all money up, coming from a speciffic country and see how much goes to which party."
   ]
  },
  {
   "cell_type": "code",
   "execution_count": 11,
   "metadata": {},
   "outputs": [],
   "source": [
    "#Lets prepare the data.\n",
    "links = all_data.filter(items=['CountryName','party','don'])\n",
    "\n",
    "#Group the data by country and by party, and sum up the groups\n",
    "links = links.groupby(by=['CountryName','party']).sum()\n",
    "\n",
    "#Convert the dataframe to a dict, that the SankeyWidget needs\n",
    "sankeyList = []\n",
    "for row in links.iterrows():\n",
    "    d = {\n",
    "        'source':row[0][0],\n",
    "        'target':row[0][1],\n",
    "        'value':row[1][0],\n",
    "    }\n",
    "    sankeyList.append(d)"
   ]
  },
  {
   "cell_type": "code",
   "execution_count": null,
   "metadata": {},
   "outputs": [],
   "source": [
    "layout = ipw.Layout(width=\"1000\", height=\"2500\")\n",
    "sankey = sw.SankeyWidget(links=sankeyList, margins=dict(top=0, bottom=0, left=150, right=100), layout=layout)"
   ]
  },
  {
   "cell_type": "markdown",
   "metadata": {},
   "source": [
    "# Source of the  money by country\n",
    "From which country does funding of EU parties come from?"
   ]
  },
  {
   "cell_type": "code",
   "execution_count": 12,
   "metadata": {},
   "outputs": [
    {
     "data": {
      "application/vnd.jupyter.widget-view+json": {
       "model_id": "f4fb7668cad74dc7ac58b75daa76a096",
       "version_major": 2,
       "version_minor": 0
      },
      "text/plain": [
       "SankeyWidget(layout=Layout(height='2500', width='1000'), links=[{'source': 'Albania', 'target': 'ECPM (SALLUX)…"
      ]
     },
     "metadata": {},
     "output_type": "display_data"
    }
   ],
   "source": [
    "sankey"
   ]
  },
  {
   "cell_type": "markdown",
   "metadata": {},
   "source": [
    "# Newly politicized money\n",
    "\n",
    "Here we show all the money that is coming from individuals and companies. Money that is clearly already political is removed\n",
    "\n",
    "Organisation classes:\n",
    "* 1 = individual\n",
    "* 2 = company\n",
    "* 3 = NGO\n",
    "* 4 = government(al organization)\n",
    "* 5 = political party / ideological affiliation (e.g. thinktank)"
   ]
  },
  {
   "cell_type": "code",
   "execution_count": 15,
   "metadata": {},
   "outputs": [],
   "source": [
    "#We want data only if the org is 1 or 2\n",
    "countries_with_only_companies_and_individuals = all_data.query('org < 3').filter(items=['CountryName','party','don'])\n",
    "\n",
    "#Group the data by country and by party, and sum up the groups\n",
    "countries_with_only_companies_and_individuals = countries_with_only_companies_and_individuals.groupby(by=['CountryName','party']).sum()\n",
    "\n",
    "#Convert the dataframe to a dict, that the SankeyWidget needs\n",
    "\n",
    "sankeyList = []\n",
    "for row in countries_with_only_companies_and_individuals.iterrows():\n",
    "    d = {\n",
    "        'source':row[0][0],\n",
    "        'target':row[0][1],\n",
    "        'value':row[1][0],\n",
    "    }\n",
    "    sankeyList.append(d)"
   ]
  },
  {
   "cell_type": "code",
   "execution_count": null,
   "metadata": {},
   "outputs": [],
   "source": [
    "layout = ipw.Layout(width=\"1000\", height=\"2500\")\n",
    "sankey = sw.SankeyWidget(links=sankeyList, margins=dict(top=0, bottom=0, left=150, right=100), layout=layout)"
   ]
  },
  {
   "cell_type": "markdown",
   "metadata": {},
   "source": [
    "# Newly politicized money\n",
    "From which country does company and individual money come from? "
   ]
  },
  {
   "cell_type": "code",
   "execution_count": 14,
   "metadata": {},
   "outputs": [
    {
     "data": {
      "application/vnd.jupyter.widget-view+json": {
       "model_id": "22688cff989c485f9befd14c56b88194",
       "version_major": 2,
       "version_minor": 0
      },
      "text/plain": [
       "SankeyWidget(layout=Layout(height='2500', width='1000'), links=[{'source': 'Albania', 'target': 'ECPM (SALLUX)…"
      ]
     },
     "metadata": {},
     "output_type": "display_data"
    }
   ],
   "source": [
    "sankey"
   ]
  },
  {
   "cell_type": "code",
   "execution_count": null,
   "metadata": {},
   "outputs": [],
   "source": []
  }
 ],
 "metadata": {
  "kernelspec": {
   "display_name": "Python 3",
   "language": "python",
   "name": "python3"
  },
  "language_info": {
   "codemirror_mode": {
    "name": "ipython",
    "version": 3
   },
   "file_extension": ".py",
   "mimetype": "text/x-python",
   "name": "python",
   "nbconvert_exporter": "python",
   "pygments_lexer": "ipython3",
   "version": "3.7.3"
  },
  "widgets": {
   "application/vnd.jupyter.widget-state+json": {
    "state": {
     "101baf8004ab479898e900778ed03ea4": {
      "model_module": "jupyter-sankey-widget",
      "model_module_version": "^0.2.5",
      "model_name": "SankeyModel",
      "state": {
       "_model_module_version": "^0.2.5",
       "_view_module_version": "^0.2.5",
       "layout": "IPY_MODEL_705f1878551c450aafd010bcd8faea99",
       "links": [
        {
         "source": "Albania",
         "target": "ECPM (SALLUX)",
         "value": 1000
        },
        {
         "source": "Argentina",
         "target": "ACRE (ND)",
         "value": 4625.62
        },
        {
         "source": "Armenia",
         "target": "ACRE (ND)",
         "value": 6090
        },
        {
         "source": "Austria",
         "target": "ACRE (ND)",
         "value": 74000
        },
        {
         "source": "Austria",
         "target": "ALDE (ELF)",
         "value": 1200
        },
        {
         "source": "Austria",
         "target": "EAF (EFF)",
         "value": 47240
        },
        {
         "source": "Austria",
         "target": "EGP (GEF)",
         "value": 91680
        },
        {
         "source": "Austria",
         "target": "EL (TE)",
         "value": 19067.04
        },
        {
         "source": "Austria",
         "target": "EPP (WMCES)",
         "value": 147910.76
        },
        {
         "source": "Austria",
         "target": "MENL (FENL)",
         "value": 19000
        },
        {
         "source": "Belgium",
         "target": "ACRE (ND)",
         "value": 17000
        },
        {
         "source": "Belgium",
         "target": "ADDE (IDDE)",
         "value": 32000
        },
        {
         "source": "Belgium",
         "target": "EAF (EFF)",
         "value": 1117
        },
        {
         "source": "Belgium",
         "target": "ECPM (SALLUX)",
         "value": 2000
        },
        {
         "source": "Belgium",
         "target": "EFA (CMC)",
         "value": 4022.84
        },
        {
         "source": "Belgium",
         "target": "EGP (GEF)",
         "value": 179505.91999999998
        },
        {
         "source": "Belgium",
         "target": "EPP (WMCES)",
         "value": 37615.14
        },
        {
         "source": "Belgium",
         "target": "EUD (OEIC)",
         "value": 11668
        },
        {
         "source": "Belgium",
         "target": "MENL (FENL)",
         "value": 11400
        },
        {
         "source": "Bosnia",
         "target": "ADDE (IDDE)",
         "value": 82500
        },
        {
         "source": "Bulgaria",
         "target": "EAF (EFF)",
         "value": 3000
        },
        {
         "source": "Bulgaria",
         "target": "EGP (GEF)",
         "value": 6880
        },
        {
         "source": "Bulgaria",
         "target": "EPP (WMCES)",
         "value": 24303.14
        },
        {
         "source": "Croatia",
         "target": "ACRE (ND)",
         "value": 1310
        },
        {
         "source": "Croatia",
         "target": "ECPM (SALLUX)",
         "value": 6500
        },
        {
         "source": "Croatia",
         "target": "EFA (CMC)",
         "value": 814.95
        },
        {
         "source": "Croatia",
         "target": "EGP (GEF)",
         "value": 6010
        },
        {
         "source": "Croatia",
         "target": "EPP (WMCES)",
         "value": 36541.05
        },
        {
         "source": "Czech Republic",
         "target": "ACRE (ND)",
         "value": 112233
        },
        {
         "source": "Czech Republic",
         "target": "ALDE (ELF)",
         "value": 12000
        },
        {
         "source": "Czech Republic",
         "target": "EGP (GEF)",
         "value": 5831.290000000001
        },
        {
         "source": "Czech Republic",
         "target": "EPP (WMCES)",
         "value": 184809.72000000003
        },
        {
         "source": "Czech Republic",
         "target": "EUD (OEIC)",
         "value": 37548
        },
        {
         "source": "Denmark",
         "target": "ALDE (ELF)",
         "value": 3000
        },
        {
         "source": "Denmark",
         "target": "EGP (GEF)",
         "value": 64660
        },
        {
         "source": "Denmark",
         "target": "EUD (OEIC)",
         "value": 6031
        },
        {
         "source": "Dominican Republic",
         "target": "ACRE (ND)",
         "value": 456.97
        },
        {
         "source": "Estonia",
         "target": "EGP (GEF)",
         "value": 575
        },
        {
         "source": "Estonia",
         "target": "EPP (WMCES)",
         "value": 71366.73
        },
        {
         "source": "Faroe Islands",
         "target": "ACRE (ND)",
         "value": 665
        },
        {
         "source": "Finland",
         "target": "ACRE (ND)",
         "value": 14785
        },
        {
         "source": "Finland",
         "target": "ADDE (IDDE)",
         "value": 12000
        },
        {
         "source": "Finland",
         "target": "ALDE (ELF)",
         "value": 17000
        },
        {
         "source": "Finland",
         "target": "EFA (CMC)",
         "value": 760
        },
        {
         "source": "Finland",
         "target": "EGP (GEF)",
         "value": 84438.47
        },
        {
         "source": "Finland",
         "target": "EPP (WMCES)",
         "value": 74229.76
        },
        {
         "source": "Finland",
         "target": "EUD (OEIC)",
         "value": 3200
        },
        {
         "source": "France",
         "target": "ACRE (ND)",
         "value": 1237
        },
        {
         "source": "France",
         "target": "EAF (EFF)",
         "value": 8500
        },
        {
         "source": "France",
         "target": "ECPM (SALLUX)",
         "value": 28300
        },
        {
         "source": "France",
         "target": "EDP (IED)",
         "value": 6545
        },
        {
         "source": "France",
         "target": "EGP (GEF)",
         "value": 173260
        },
        {
         "source": "France",
         "target": "MENL (FENL)",
         "value": 36000
        },
        {
         "source": "Georgia",
         "target": "ACRE (ND)",
         "value": 2514.5
        },
        {
         "source": "Georgia",
         "target": "ECPM (SALLUX)",
         "value": 21796
        },
        {
         "source": "Georgia",
         "target": "EGP (GEF)",
         "value": 4000
        },
        {
         "source": "Germany",
         "target": "ACRE (ND)",
         "value": 35121
        },
        {
         "source": "Germany",
         "target": "ALDE (ELF)",
         "value": 305500
        },
        {
         "source": "Germany",
         "target": "APF (Terra Nostra)",
         "value": 1406.5
        },
        {
         "source": "Germany",
         "target": "EAF (EFF)",
         "value": 29000
        },
        {
         "source": "Germany",
         "target": "ECPM (SALLUX)",
         "value": 2000
        },
        {
         "source": "Germany",
         "target": "EFA (CMC)",
         "value": 8228.23
        },
        {
         "source": "Germany",
         "target": "EGP (GEF)",
         "value": 239994.78999999998
        },
        {
         "source": "Germany",
         "target": "EPP (WMCES)",
         "value": 995765.7799999998
        },
        {
         "source": "Greece",
         "target": "EGP (GEF)",
         "value": 47550
        },
        {
         "source": "Greece",
         "target": "EPP (WMCES)",
         "value": 22065.57
        },
        {
         "source": "Guatemala",
         "target": "ACRE (ND)",
         "value": 930.54
        },
        {
         "source": "HongKong",
         "target": "ACRE (ND)",
         "value": 4496.76
        },
        {
         "source": "Hungary",
         "target": "ACRE (ND)",
         "value": 8500
        },
        {
         "source": "Hungary",
         "target": "ALDE (ELF)",
         "value": 1200
        },
        {
         "source": "Hungary",
         "target": "EGP (GEF)",
         "value": 22760
        },
        {
         "source": "Hungary",
         "target": "EPP (WMCES)",
         "value": 166739.61
        },
        {
         "source": "Iceland",
         "target": "ACRE (ND)",
         "value": 51400
        },
        {
         "source": "Iceland",
         "target": "ADDE (IDDE)",
         "value": 45649
        },
        {
         "source": "India",
         "target": "ALDE (ELF)",
         "value": 12000
        },
        {
         "source": "India",
         "target": "EAF (EFF)",
         "value": 24000
        },
        {
         "source": "Ireland",
         "target": "ECPM (SALLUX)",
         "value": 5000
        },
        {
         "source": "Ireland",
         "target": "EGP (GEF)",
         "value": 2150
        },
        {
         "source": "Ireland",
         "target": "EPP (WMCES)",
         "value": 9022.48
        },
        {
         "source": "Israel",
         "target": "ACRE (ND)",
         "value": 500
        },
        {
         "source": "Italy",
         "target": "ACRE (ND)",
         "value": 34000
        },
        {
         "source": "Italy",
         "target": "ALDE (ELF)",
         "value": 8000
        },
        {
         "source": "Italy",
         "target": "APF (Terra Nostra)",
         "value": 750
        },
        {
         "source": "Italy",
         "target": "EDP (IED)",
         "value": 36545
        },
        {
         "source": "Italy",
         "target": "EGP (GEF)",
         "value": 5450
        },
        {
         "source": "Italy",
         "target": "EPP (WMCES)",
         "value": 133037
        },
        {
         "source": "Italy",
         "target": "MENL (FENL)",
         "value": 22800
        },
        {
         "source": "Latvia",
         "target": "ACRE (ND)",
         "value": 19651.55
        },
        {
         "source": "Latvia",
         "target": "EAF (EFF)",
         "value": 29000
        },
        {
         "source": "Latvia",
         "target": "EGP (GEF)",
         "value": 7660
        },
        {
         "source": "Latvia",
         "target": "EUD (OEIC)",
         "value": 5460
        },
        {
         "source": "Lebanon",
         "target": "EPP (WMCES)",
         "value": 7250.49
        },
        {
         "source": "Lichtenstein",
         "target": "ACRE (ND)",
         "value": 18000
        },
        {
         "source": "Lithuania",
         "target": "ACRE (ND)",
         "value": 3683.55
        },
        {
         "source": "Lithuania",
         "target": "ADDE (IDDE)",
         "value": 12000
        },
        {
         "source": "Lithuania",
         "target": "EPP (WMCES)",
         "value": 41109.3
        },
        {
         "source": "Luxembourg",
         "target": "ACRE (ND)",
         "value": 20800
        },
        {
         "source": "Luxembourg",
         "target": "EGP (GEF)",
         "value": 30610
        },
        {
         "source": "Malta",
         "target": "EAF (EFF)",
         "value": 48000
        },
        {
         "source": "Malta",
         "target": "ECPM (SALLUX)",
         "value": 600
        },
        {
         "source": "Malta",
         "target": "EGP (GEF)",
         "value": 2150
        },
        {
         "source": "Malta",
         "target": "EUD (OEIC)",
         "value": 8340
        },
        {
         "source": "Monaco",
         "target": "ADDE (IDDE)",
         "value": 34000
        },
        {
         "source": "Netherlands",
         "target": "ACRE (ND)",
         "value": 32100
        },
        {
         "source": "Netherlands",
         "target": "ADDE (IDDE)",
         "value": 37000
        },
        {
         "source": "Netherlands",
         "target": "ALDE (ELF)",
         "value": 74000
        },
        {
         "source": "Netherlands",
         "target": "ECPM (SALLUX)",
         "value": 131110
        },
        {
         "source": "Netherlands",
         "target": "EGP (GEF)",
         "value": 102570
        },
        {
         "source": "Netherlands",
         "target": "EPP (WMCES)",
         "value": 49617.61
        },
        {
         "source": "Norway",
         "target": "ECPM (SALLUX)",
         "value": 12810
        },
        {
         "source": "Norway",
         "target": "EGP (GEF)",
         "value": 29563
        },
        {
         "source": "Pakistan",
         "target": "ACRE (ND)",
         "value": 5908
        },
        {
         "source": "Poland",
         "target": "ACRE (ND)",
         "value": 294250.26
        },
        {
         "source": "Poland",
         "target": "ADDE (IDDE)",
         "value": 25590
        },
        {
         "source": "Poland",
         "target": "EAF (EFF)",
         "value": 23815
        },
        {
         "source": "Poland",
         "target": "ECPM (SALLUX)",
         "value": 8000
        },
        {
         "source": "Poland",
         "target": "EGP (GEF)",
         "value": 6240.3
        },
        {
         "source": "Poland",
         "target": "EPP (WMCES)",
         "value": 14416.66
        },
        {
         "source": "Poland",
         "target": "MENL (FENL)",
         "value": 9500
        },
        {
         "source": "Portugal",
         "target": "ALDE (ELF)",
         "value": 1000
        },
        {
         "source": "Portugal",
         "target": "APF (Terra Nostra)",
         "value": 4000
        },
        {
         "source": "Portugal",
         "target": "EGP (GEF)",
         "value": 8600
        },
        {
         "source": "Portugal",
         "target": "EPP (WMCES)",
         "value": 104970.11
        },
        {
         "source": "Republic of Cyprus",
         "target": "EGP (GEF)",
         "value": 17200
        },
        {
         "source": "Romania",
         "target": "ACRE (ND)",
         "value": 12671.23
        },
        {
         "source": "Romania",
         "target": "ECPM (SALLUX)",
         "value": 13889
        },
        {
         "source": "Romania",
         "target": "EGP (GEF)",
         "value": 4240
        },
        {
         "source": "Romania",
         "target": "EPP (WMCES)",
         "value": 296454.09
        },
        {
         "source": "Romania",
         "target": "MENL (FENL)",
         "value": 3800
        },
        {
         "source": "Russia",
         "target": "EGP (GEF)",
         "value": 3440
        },
        {
         "source": "Serbia",
         "target": "ALDE (ELF)",
         "value": 2000
        },
        {
         "source": "Serbia",
         "target": "EPP (WMCES)",
         "value": 124539.84
        },
        {
         "source": "Slovakia",
         "target": "ACRE (ND)",
         "value": 10600
        },
        {
         "source": "Slovakia",
         "target": "APF (Terra Nostra)",
         "value": 4244
        },
        {
         "source": "Slovakia",
         "target": "ECPM (SALLUX)",
         "value": 2750
        },
        {
         "source": "Slovakia",
         "target": "EGP (GEF)",
         "value": 2150
        },
        {
         "source": "Slovakia",
         "target": "EPP (WMCES)",
         "value": 467882.56
        },
        {
         "source": "Slovakia",
         "target": "EUD (OEIC)",
         "value": 2207
        },
        {
         "source": "Slovenia",
         "target": "EPP (WMCES)",
         "value": 57289.9
        },
        {
         "source": "Slovenia",
         "target": "EUD (OEIC)",
         "value": 7650
        },
        {
         "source": "South-Korea",
         "target": "ALDE (ELF)",
         "value": 3600
        },
        {
         "source": "Spain",
         "target": "ACRE (ND)",
         "value": 1323.07
        },
        {
         "source": "Spain",
         "target": "ECPM (SALLUX)",
         "value": 10000
        },
        {
         "source": "Spain",
         "target": "EFA (CMC)",
         "value": 24717.32
        },
        {
         "source": "Spain",
         "target": "EGP (GEF)",
         "value": 82010
        },
        {
         "source": "Spain",
         "target": "EPP (WMCES)",
         "value": 21223.28
        },
        {
         "source": "Sweden",
         "target": "ACRE (ND)",
         "value": 12000
        },
        {
         "source": "Sweden",
         "target": "ADDE (IDDE)",
         "value": 18000
        },
        {
         "source": "Sweden",
         "target": "ALDE (ELF)",
         "value": 20500
        },
        {
         "source": "Sweden",
         "target": "APF (Terra Nostra)",
         "value": 2895.45
        },
        {
         "source": "Sweden",
         "target": "EAF (EFF)",
         "value": 79500
        },
        {
         "source": "Sweden",
         "target": "EFA (CMC)",
         "value": 750
        },
        {
         "source": "Sweden",
         "target": "EGP (GEF)",
         "value": 106533
        },
        {
         "source": "Sweden",
         "target": "EPP (WMCES)",
         "value": 25409.61
        },
        {
         "source": "Sweden",
         "target": "EUD (OEIC)",
         "value": 51850.73
        },
        {
         "source": "Switzerland",
         "target": "ACRE (ND)",
         "value": 586
        },
        {
         "source": "Switzerland",
         "target": "ALDE (ELF)",
         "value": 48000
        },
        {
         "source": "Switzerland",
         "target": "APF (Terra Nostra)",
         "value": 3000
        },
        {
         "source": "Switzerland",
         "target": "ECPM (SALLUX)",
         "value": 4395
        },
        {
         "source": "Switzerland",
         "target": "EGP (GEF)",
         "value": 8600
        },
        {
         "source": "Switzerland",
         "target": "EPP (WMCES)",
         "value": 13000
        },
        {
         "source": "Switzerland",
         "target": "EUD (OEIC)",
         "value": 2199
        },
        {
         "source": "Tunesia",
         "target": "ACRE (ND)",
         "value": 400
        },
        {
         "source": "UK",
         "target": "ACRE (ND)",
         "value": 164493.88
        },
        {
         "source": "UK",
         "target": "ALDE (ELF)",
         "value": 88890.49
        },
        {
         "source": "UK",
         "target": "EAF (EFF)",
         "value": 20600
        },
        {
         "source": "UK",
         "target": "ECPM (SALLUX)",
         "value": 40308
        },
        {
         "source": "UK",
         "target": "EFA (CMC)",
         "value": 6072.84
        },
        {
         "source": "UK",
         "target": "EGP (GEF)",
         "value": 25030
        },
        {
         "source": "UK",
         "target": "EPP (WMCES)",
         "value": 12372.29
        },
        {
         "source": "UK",
         "target": "EUD (OEIC)",
         "value": 20625
        },
        {
         "source": "USA",
         "target": "ACRE (ND)",
         "value": 108191.88
        },
        {
         "source": "USA",
         "target": "ADDE (IDDE)",
         "value": 2680.49
        },
        {
         "source": "USA",
         "target": "ALDE (ELF)",
         "value": 132380
        },
        {
         "source": "USA",
         "target": "APF (Terra Nostra)",
         "value": 4580
        },
        {
         "source": "USA",
         "target": "EAF (EFF)",
         "value": 45385
        },
        {
         "source": "USA",
         "target": "ECPM (SALLUX)",
         "value": 50541
        },
        {
         "source": "USA",
         "target": "EPP (WMCES)",
         "value": 317419.93
        },
        {
         "source": "USA",
         "target": "PES (FEPS)",
         "value": 36000
        },
        {
         "source": "Ukraine",
         "target": "EGP (GEF)",
         "value": 3440
        }
       ],
       "margins": {
        "bottom": 0,
        "left": 150,
        "right": 100,
        "top": 0
       },
       "nodes": [
        {
         "id": "Iceland"
        },
        {
         "id": "ACRE (ND)"
        },
        {
         "id": "India"
        },
        {
         "id": "Lichtenstein"
        },
        {
         "id": "Pakistan"
        },
        {
         "id": "Armenia"
        },
        {
         "id": "UK"
        },
        {
         "id": "Hungary"
        },
        {
         "id": "Republic of Cyprus"
        },
        {
         "id": "Croatia"
        },
        {
         "id": "EFA (CMC)"
        },
        {
         "id": "Czech Republic"
        },
        {
         "id": "France"
        },
        {
         "id": "Lebanon"
        },
        {
         "id": "Estonia"
        },
        {
         "id": "Argentina"
        },
        {
         "id": "Bulgaria"
        },
        {
         "id": "Ireland"
        },
        {
         "id": "ADDE (IDDE)"
        },
        {
         "id": "Lithuania"
        },
        {
         "id": "Norway"
        },
        {
         "id": "Russia"
        },
        {
         "id": "Sweden"
        },
        {
         "id": "Austria"
        },
        {
         "id": "ECPM (SALLUX)"
        },
        {
         "id": "Finland"
        },
        {
         "id": "Slovenia"
        },
        {
         "id": "Ukraine"
        },
        {
         "id": "EL (TE)"
        },
        {
         "id": "PES (FEPS)"
        },
        {
         "id": "Bosnia"
        },
        {
         "id": "EAF (EFF)"
        },
        {
         "id": "Denmark"
        },
        {
         "id": "Latvia"
        },
        {
         "id": "Netherlands"
        },
        {
         "id": "Luxembourg"
        },
        {
         "id": "HongKong"
        },
        {
         "id": "Malta"
        },
        {
         "id": "ALDE (ELF)"
        },
        {
         "id": "Guatemala"
        },
        {
         "id": "Tunesia"
        },
        {
         "id": "South-Korea"
        },
        {
         "id": "Belgium"
        },
        {
         "id": "Greece"
        },
        {
         "id": "Israel"
        },
        {
         "id": "USA"
        },
        {
         "id": "EPP (WMCES)"
        },
        {
         "id": "EUD (OEIC)"
        },
        {
         "id": "Dominican Republic"
        },
        {
         "id": "Georgia"
        },
        {
         "id": "Poland"
        },
        {
         "id": "Romania"
        },
        {
         "id": "Portugal"
        },
        {
         "id": "Slovakia"
        },
        {
         "id": "Spain"
        },
        {
         "id": "Serbia"
        },
        {
         "id": "Monaco"
        },
        {
         "id": "APF (Terra Nostra)"
        },
        {
         "id": "Italy"
        },
        {
         "id": "EDP (IED)"
        },
        {
         "id": "Switzerland"
        },
        {
         "id": "Faroe Islands"
        },
        {
         "id": "EGP (GEF)"
        },
        {
         "id": "Germany"
        },
        {
         "id": "MENL (FENL)"
        },
        {
         "id": "Albania"
        }
       ],
       "order": [],
       "png": "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",
       "scale": 0.00015506389937051588,
       "svg": "<?xml version=\"1.0\" standalone=\"no\"?><!DOCTYPE svg PUBLIC \"-//W3C//DTD SVG 1.1//EN\" \"http://www.w3.org/Graphics/SVG/1.1/DTD/svg11.dtd\"><svg xmlns=\"http://www.w3.org/2000/svg\" width=\"1000\" height=\"2500\" viewBox=\"0 0 1000 2500\"><g class=\"sankey\" transform=\"translate(150,0)\"><g class=\"groups\"/><g class=\"links\"><g class=\"link\" style=\"opacity: 0.8;\"><path d=\"M1,488.58970561358706 A715.6785073105095 715.6785073105095 0.195156779974631 0 0 139.78462033370823,475.00418002631585 L609.8275389838734,382.0895238431742 A717.6785073105095 717.6785073105095 0.195156779974631 0 1 749,368.4660328134634 L749,370.4660328134634 A715.6785073105095 715.6785073105095 0.195156779974631 0 0 610.2153796662917,384.0515584007346 L140.17246101612653,476.96621458387625 A717.6785073105095 717.6785073105095 0.195156779974631 0 1 1,490.58970561358706 Z\" style=\"fill: rgb(31, 119, 180);\"/><title>Tunesia → ACRE (ND)\n400</title><text class=\"label\" dy=\"0.35em\" x=\"5\" y=\"489.58970561358706\"/></g><g class=\"link\" style=\"opacity: 0.8;\"><path d=\"M1,357.34018800780046 A1001 1001 0.00777958181278704 0 1 8.78728284386178,357.3704790625648 L741.2282761628193,363.06867864886834 A999 999 0.00777958181278704 0 0 749,363.0989091820448 L749,365.0989091820448 A1001 1001 0.00777958181278704 0 1 741.2127171561382,365.06861812728044 L8.771723837180739,359.3704185409769 A999 999 0.00777958181278704 0 0 1,359.34018800780046 Z\" style=\"fill: rgb(31, 119, 180);\"/><title>Dominican Republic → ACRE (ND)\n457</title><text class=\"label\" dy=\"0.35em\" x=\"5\" y=\"358.34018800780046\"/></g><g class=\"link\" style=\"opacity: 0.8;\"><path d=\"M1,417.1826089635905 A999 999 0.07917995900713115 0 0 80.01815168092263,414.052646521168 L669.8236538212176,367.2540293595686 A1001 1001 0.07917995900713115 0 1 749,364.1178007260702 L749,366.1178007260702 A999 999 0.07917995900713115 0 0 669.9818483190774,369.24776316849267 L80.17634617878234,416.04638033009206 A1001 1001 0.07917995900713115 0 1 1,419.1826089635905 Z\" style=\"fill: rgb(31, 119, 180);\"/><title>Israel → ACRE (ND)\n500</title><text class=\"label\" dy=\"0.35em\" x=\"5\" y=\"418.1826089635905\"/></g><g class=\"link\" style=\"opacity: 0.8;\"><path d=\"M1,1809.9912943756349 A243.1099323814838 243.1099323814838 0.7189931852352902 0 0 161.11886481550215,1749.81410469683 L586.1033494075907,1377.8302147068073 A247.32746985386257 247.32746985386257 0.7189931852352902 0 1 749,1316.6090547139697 L749,1318.6090547139697 A245.32746985386257 245.32746985386257 0.7189931852352902 0 0 587.4206042251706,1379.335153159224 L162.43611963308194,1751.319043149247 A245.1099323814838 245.1099323814838 0.7189931852352902 0 1 1,1811.9912943756349 Z\" style=\"fill: rgb(31, 119, 180);\"/><title>Estonia → EGP (GEF)\n575</title><text class=\"label\" dy=\"0.35em\" x=\"5\" y=\"1810.9912943756349\"/></g><g class=\"link\" style=\"opacity: 0.8;\"><path d=\"M1,2103.0824414795397 A289.4756908282556 289.4756908282556 1.4127478182412072 0 0 286.86775597734686,1859.1677172013026 L461.15717139973674,765.6061040449223 A291.4756908282556 291.4756908282556 1.4127478182412072 0 1 749,520.006162444427 L749,522.006162444427 A289.4756908282556 289.4756908282556 1.4127478182412072 0 0 463.13224402265314,765.920886722664 L288.84282860026326,1859.4824998790443 A291.4756908282556 291.4756908282556 1.4127478182412072 0 1 1,2105.0824414795397 Z\" style=\"fill: rgb(31, 119, 180);\"/><title>Switzerland → ACRE (ND)\n586</title><text class=\"label\" dy=\"0.35em\" x=\"5\" y=\"2104.0824414795397\"/></g><g class=\"link\" style=\"opacity: 0.8;\"><path d=\"M1,1199.5715341700377 A255.57583211992983 255.57583211992983 0.660601238062436 0 0 157.81921302199868,1145.8043747848433 L581.8565172570777,816.2982369117638 A272.40179224374134 272.40179224374134 0.660601238062436 0 1 749,758.991290245895 L749,760.991290245895 A270.40179224374134 270.40179224374134 0.660601238062436 0 0 583.0837006861307,817.8774838308545 L159.04639645105163,1147.3836217039343 A257.5758321199298 257.5758321199298 0.660601238062436 0 1 1,1201.5715341700377 Z\" style=\"fill: rgb(31, 119, 180);\"/><title>Malta → ECPM (SALLUX)\n600</title><text class=\"label\" dy=\"0.35em\" x=\"5\" y=\"1200.5715341700377\"/></g><g class=\"link\" style=\"opacity: 0.8;\"><path d=\"M1,372.13305888233003 A999 999 0.012158490651653642 0 0 13.146032900070505,372.0592192589569 L736.8296507177471,363.2598851540802 A1001 1001 0.012158490651653642 0 1 749,363.1858977036332 L749,365.1858977036332 A999 999 0.012158490651653642 0 0 736.8539670999295,365.25973732700635 L13.170349282252829,374.059071431883 A1001 1001 0.012158490651653642 0 1 1,374.13305888233003 Z\" style=\"fill: rgb(31, 119, 180);\"/><title>Faroe Islands → ACRE (ND)\n665</title><text class=\"label\" dy=\"0.35em\" x=\"5\" y=\"373.13305888233003\"/></g><g class=\"link\" style=\"opacity: 0.8;\"><path d=\"M1,1682.1614062969315 A317.03904436092614 317.03904436092614 0.4847718134034884 0 1 148.742247927131,1718.6902301190555 L602.1897650255635,1957.5170199751192 A315.03904436092614 315.03904436092614 0.4847718134034884 0 0 749,1993.8154064143916 L749,1995.8154064143916 A317.03904436092614 317.03904436092614 0.4847718134034884 0 1 601.2577520728689,1959.2865825922677 L147.8102349744365,1720.459792736204 A315.03904436092614 315.03904436092614 0.4847718134034884 0 0 1,1684.1614062969315 Z\" style=\"fill: rgb(31, 119, 180);\"/><title>Italy → APF (Terra Nostra)\n750</title><text class=\"label\" dy=\"0.35em\" x=\"5\" y=\"1683.1614062969315\"/></g><g class=\"link\" style=\"opacity: 0.8;\"><path d=\"M1,1747.8158783393258 A288.6862083628306 288.6862083628306 0.9518171948052816 0 0 236.1266004318982,1626.6265614946549 L564.5154441618959,1165.6451561315291 A226.50838666732997 226.50838666732997 0.9518171948052816 0 1 749,1070.5578404073858 L749,1072.5578404073858 A224.50838666732997 224.50838666732997 0.9518171948052816 0 0 566.1443865472306,1166.8055641223925 L237.75554281723296,1627.7869694855183 A290.6862083628306 290.6862083628306 0.9518171948052816 0 1 1,1749.8158783393258 Z\" style=\"fill: rgb(31, 119, 180);\"/><title>Sweden → EFA (CMC)\n750</title><text class=\"label\" dy=\"0.35em\" x=\"5\" y=\"1748.8158783393258\"/></g><g class=\"link\" style=\"opacity: 0.8;\"><path d=\"M1,1603.6536715637978 A262.68096920508924 262.68096920508924 0.7761548504635115 0 0 185.01869901811912,1528.4251229731246 L582.0065355852083,1138.709242155764 A238.37797635485865 238.37797635485865 0.7761548504635115 0 1 749,1070.440767163361 L749,1072.440767163361 A236.37797635485865 236.37797635485865 0.7761548504635115 0 0 583.4076169012625,1140.1364671365586 L186.41978033417323,1529.8523479539192 A264.68096920508924 264.68096920508924 0.7761548504635115 0 1 1,1605.6536715637978 Z\" style=\"fill: rgb(31, 119, 180);\"/><title>Finland → EFA (CMC)\n760</title><text class=\"label\" dy=\"0.35em\" x=\"5\" y=\"1604.6536715637978\"/></g><g class=\"link\" style=\"opacity: 0.8;\"><path d=\"M1,1040.824588430188 A1001 1001 0.032766109075905936 0 1 33.79300659008399,1041.3618861175119 L716.2725139026035,1063.7320903531738 A999 999 0.032766109075905936 0 0 749,1064.2683145186447 L749,1066.2683145186447 A1001 1001 0.032766109075905936 0 1 716.206993409916,1065.7310168313209 L33.72748609739651,1043.360812595659 A999 999 0.032766109075905936 0 0 1,1042.824588430188 Z\" style=\"fill: rgb(31, 119, 180);\"/><title>Croatia → EFA (CMC)\n815</title><text class=\"label\" dy=\"0.35em\" x=\"5\" y=\"1041.824588430188\"/></g><g class=\"link\" style=\"opacity: 0.8;\"><path d=\"M1,386.962646562272 A999 999 0.033072615840054276 0 0 34.033520456340376,386.4163443000593 L715.9003463695728,363.8569989910695 A1001 1001 0.033072615840054276 0 1 749,363.30960303063404 L749,365.30960303063404 A999 999 0.033072615840054276 0 0 715.9664795436597,365.8559052928468 L34.09965363042715,388.4152506018366 A1001 1001 0.033072615840054276 0 1 1,388.962646562272 Z\" style=\"fill: rgb(31, 119, 180);\"/><title>Guatemala → ACRE (ND)\n931</title><text class=\"label\" dy=\"0.35em\" x=\"5\" y=\"387.962646562272\"/></g><g class=\"link\" style=\"opacity: 0.8;\"><path d=\"M1,503.4041326960876 A429.91953172656366 429.91953172656366 0.33764054348828676 0 1 143.41590817719916,527.6778671338695 L607.2466153774077,690.5215890407527 A427.91953172656366 427.91953172656366 0.33764054348828676 0 0 749,714.6824012563676 L749,716.6824012563676 A429.91953172656366 429.91953172656366 0.33764054348828676 0 1 606.5840918228008,692.4086668185856 L142.75338462259228,529.5649449117025 A427.91953172656366 427.91953172656366 0.33764054348828676 0 0 1,505.4041326960876 Z\" style=\"fill: rgb(31, 119, 180);\"/><title>Albania → ECPM (SALLUX)\n1.00k</title><text class=\"label\" dy=\"0.35em\" x=\"5\" y=\"504.4041326960876\"/></g><g class=\"link\" style=\"opacity: 0.8;\"><path d=\"M1,2148.422299657451 A862.1839722640549 862.1839722640549 0.16152402843914104 0 1 139.65865384281426,2159.6450626155097 L610.6629913241185,2236.3921888946816 A860.1839722640549 860.1839722640549 0.16152402843914104 0 0 749,2247.588918515729 L749,2249.588918515729 A862.1839722640549 862.1839722640549 0.16152402843914104 0 1 610.3413461571857,2238.36615555767 L139.33700867588152,2161.619029278498 A860.1839722640549 860.1839722640549 0.16152402843914104 0 0 1,2150.422299657451 Z\" style=\"fill: rgb(31, 119, 180);\"/><title>Portugal → ALDE (ELF)\n1.00k</title><text class=\"label\" dy=\"0.35em\" x=\"5\" y=\"2149.422299657451\"/></g><g class=\"link\" style=\"opacity: 0.8;\"><path d=\"M1,763.742916628884 A467.86907547875427 467.86907547875427 0.3074234321193543 0 1 142.57899498664193,785.6782975207449 L608.026212762307,933.4526193805314 A465.86907547875427 465.86907547875427 0.3074234321193543 0 0 749,955.2942330967378 L749,957.2942330967378 A467.86907547875427 467.86907547875427 0.3074234321193543 0 1 607.421005013358,935.3588522048769 L141.97378723769305,787.5845303450905 A465.86907547875427 465.86907547875427 0.3074234321193543 0 0 1,765.742916628884 Z\" style=\"fill: rgb(31, 119, 180);\"/><title>Belgium → EAF (EFF)\n1.12k</title><text class=\"label\" dy=\"0.35em\" x=\"5\" y=\"764.742916628884\"/></g><g class=\"link\" style=\"opacity: 0.8;\"><path d=\"M1,1160.4416745415613 A235.42011281146952 235.42011281146952 1.1966406803217897 0 1 220.13293807473764,1309.8188622115747 L486.88513838376343,1989.1796963012803 A281.59669118392077 281.59669118392077 1.1966406803217897 0 0 749,2167.856536117092 L749,2169.856536117092 A283.59669118392077 283.59669118392077 1.1966406803217897 0 1 485.0235052763983,1989.9106697437264 L218.2713049673725,1310.5498356540209 A233.42011281146952 233.42011281146952 1.1966406803217897 0 0 1,1162.4416745415613 Z\" style=\"fill: rgb(31, 119, 180);\"/><title>Austria → ALDE (ELF)\n1.20k</title><text class=\"label\" dy=\"0.35em\" x=\"5\" y=\"1161.4416745415613\"/></g><g class=\"link\" style=\"opacity: 0.8;\"><path d=\"M1,1982.765919281957 A370.10652682701806 370.10652682701806 0.40093355449747214 0 1 145.44444733619872,2012.1164588780853 L605.3361087300482,2207.061813776721 A368.10652682701806 368.10652682701806 0.40093355449747214 0 0 749,2236.253747471744 L749,2238.253747471744 A370.10652682701806 370.10652682701806 0.40093355449747214 0 1 604.5555526638013,2208.903207875616 L144.66389126995182,2013.9578529769801 A368.10652682701806 368.10652682701806 0.40093355449747214 0 0 1,1984.765919281957 Z\" style=\"fill: rgb(31, 119, 180);\"/><title>Hungary → ALDE (ELF)\n1.20k</title><text class=\"label\" dy=\"0.35em\" x=\"5\" y=\"1983.765919281957\"/></g><g class=\"link\" style=\"opacity: 0.8;\"><path d=\"M1,611.2904469099993 A455.2134226977915 455.2134226977915 0.31531598077818224 0 0 142.1693705398402,588.84771294427 L607.2103956818885,437.1517905913819 A457.2134226977915 457.2134226977915 0.31531598077818224 0 1 749,414.61045349645343 L749,416.61045349645343 A455.2134226977915 455.2134226977915 0.31531598077818224 0 0 607.8306294601598,439.0531874621827 L142.78960431811157,590.7491098150709 A457.2134226977915 457.2134226977915 0.31531598077818224 0 1 1,613.2904469099993 Z\" style=\"fill: rgb(31, 119, 180);\"/><title>France → ACRE (ND)\n1.24k</title><text class=\"label\" dy=\"0.35em\" x=\"5\" y=\"612.2904469099993\"/></g><g class=\"link\" style=\"opacity: 0.8;\"><path d=\"M1,1039.651921567796 A229.2785136354781 229.2785136354781 0.9213066181328489 0 0 183.59569240019246,949.0364885694811 L456.6495202982355,589.4710401569382 A367.0934542077343 367.0934542077343 0.9213066181328489 0 1 749,444.3883990649485 L749,446.3883990649485 A365.0934542077343 365.0934542077343 0.9213066181328489 0 0 458.2423053307702,590.6806003415234 L185.18847743272713,950.2460487540662 A231.2785136354781 231.2785136354781 0.9213066181328489 0 1 1,1041.651921567796 Z\" style=\"fill: rgb(31, 119, 180);\"/><title>Croatia → ACRE (ND)\n1.31k</title><text class=\"label\" dy=\"0.35em\" x=\"5\" y=\"1040.651921567796\"/></g><g class=\"link\" style=\"opacity: 0.8;\"><path d=\"M1,1062.294367377505 A227.52276962721547 227.52276962721547 0.9489535254764355 0 0 185.93195032476666,967.311344422437 L450.7900439722578,597.7563615033143 A366.8893071569765 366.8893071569765 0.9489535254764355 0 1 749,444.5925461157062 L749,446.5925461157062 A364.8893071569765 364.8893071569765 0.9489535254764355 0 0 452.4156566582124,598.9214294821309 L187.5575630107213,968.4764124012535 A229.52276962721547 229.52276962721547 0.9489535254764355 0 1 1,1064.294367377505 Z\" style=\"fill: rgb(31, 119, 180);\"/><title>Spain → ACRE (ND)\n1.32k</title><text class=\"label\" dy=\"0.35em\" x=\"5\" y=\"1063.294367377505\"/></g><g class=\"link\" style=\"opacity: 0.8;\"><path d=\"M1,1443.8670562099633 A249.31466469996622 249.31466469996622 0.7878890295725892 0 1 177.73066271428834,1517.3292972956244 L583.0403777647563,1924.6632030398816 A234.11991408759465 234.11991408759465 0.7878890295725892 0 0 749,1993.6482087648956 L749,1995.6482087648956 A236.11991408759465 236.11991408759465 0.7878890295725892 0 1 581.6226459764799,1926.073889601989 L176.31293092601211,1518.7399838577319 A247.31466469996622 247.31466469996622 0.7878890295725892 0 0 1,1445.8670562099633 Z\" style=\"fill: rgb(31, 119, 180);\"/><title>Germany → APF (Terra Nostra)\n1.41k</title><text class=\"label\" dy=\"0.35em\" x=\"5\" y=\"1444.8670562099633\"/></g><g class=\"link\" style=\"opacity: 0.8;\"><path d=\"M1,763.501249541715 A999 999 0.05386327942538727 0 0 54.78340079959506,762.0524240678293 L695.1089247243297,727.5289979269949 A1001 1001 0.05386327942538727 0 1 749,726.0772719016098 L749,728.0772719016098 A999 999 0.05386327942538727 0 0 695.216599200405,729.5260973754955 L54.89107527567032,764.0495235163299 A1001 1001 0.05386327942538727 0 1 1,765.501249541715 Z\" style=\"fill: rgb(31, 119, 180);\"/><title>Belgium → ECPM (SALLUX)\n2.00k</title><text class=\"label\" dy=\"0.35em\" x=\"5\" y=\"764.501249541715\"/></g><g class=\"link\" style=\"opacity: 0.8;\"><path d=\"M1,1246.2083364403668 A244.53715516052273 244.53715516052273 0.720732106771937 0 0 162.37860237180567,1185.3975183971015 L569.8772433115261,827.4653777193497 A271.42488967770703 271.42488967770703 0.720732106771937 0 1 749,759.9681928119293 L749,761.9681928119293 A269.42488967770703 269.42488967770703 0.720732106771937 0 0 571.1971131060844,828.9680232947973 L163.69847216636404,1186.9001639725493 A246.53715516052273 246.53715516052273 0.720732106771937 0 1 1,1248.2083364403668 Z\" style=\"fill: rgb(31, 119, 180);\"/><title>Germany → ECPM (SALLUX)\n2.00k</title><text class=\"label\" dy=\"0.35em\" x=\"5\" y=\"1247.2083364403668\"/></g><g class=\"link\" style=\"opacity: 0.8;\"><path d=\"M1,2233.5808237099545 A1001 1001 0.02020330037310214 0 1 21.22212791902593,2233.785107520868 L728.8182759329601,2248.082830411445 A999 999 0.02020330037310214 0 0 749,2248.286706062896 L749,2250.286706062896 A1001 1001 0.02020330037310214 0 1 728.7778720809741,2250.0824222519823 L21.181724067039866,2235.7846993614057 A999 999 0.02020330037310214 0 0 1,2235.5808237099545 Z\" style=\"fill: rgb(31, 119, 180);\"/><title>Serbia → ALDE (ELF)\n2.00k</title><text class=\"label\" dy=\"0.35em\" x=\"5\" y=\"2234.5808237099545\"/></g><g class=\"link\" style=\"opacity: 0.8;\"><path d=\"M1,1224.3356363556475 A1001 1001 0.021621339308877108 0 1 22.641274404048428,1224.569602138774 L727.4019649054502,1239.8098470820012 A999 999 0.021621339308877108 0 0 749,1240.0433454010254 L749,1242.0433454010254 A1001 1001 0.021621339308877108 0 1 727.3587255959516,1241.809379617899 L22.598035094549832,1226.5691346746717 A999 999 0.021621339308877108 0 0 1,1226.3356363556475 Z\" style=\"fill: rgb(31, 119, 180);\"/><title>Ireland → EGP (GEF)\n2.15k</title><text class=\"label\" dy=\"0.35em\" x=\"5\" y=\"1225.3356363556475\"/></g><g class=\"link\" style=\"opacity: 0.8;\"><path d=\"M1,1207.2278142014572 A1001 1001 0.046255215746140665 0 1 47.28496204807471,1208.29846555316 L702.8075153985749,1238.641445829216 A999 999 0.046255215746140665 0 0 749,1239.7099580173788 L749,1241.7099580173788 A1001 1001 0.046255215746140665 0 1 702.7150379519253,1240.639306665676 L47.192484601425214,1210.29632638962 A999 999 0.046255215746140665 0 0 1,1209.2278142014572 Z\" style=\"fill: rgb(31, 119, 180);\"/><title>Malta → EGP (GEF)\n2.15k</title><text class=\"label\" dy=\"0.35em\" x=\"5\" y=\"1208.2278142014572\"/></g><g class=\"link\" style=\"opacity: 0.8;\"><path d=\"M1,1863.5457018812301 A266.304297706148 266.304297706148 0.7866323090935716 0 0 189.53782781723785,1785.3144390809991 L579.2670768503733,1394.6220355351732 A239.7429068759022 239.7429068759022 0.7866323090935716 0 1 749,1324.19361769193 L749,1326.19361769193 A237.7429068759022 237.7429068759022 0.7866323090935716 0 0 580.6830346808795,1396.0345026754028 L190.95378564774407,1786.7269062212288 A268.304297706148 268.304297706148 0.7866323090935716 0 1 1,1865.5457018812301 Z\" style=\"fill: rgb(31, 119, 180);\"/><title>Slovakia → EGP (GEF)\n2.15k</title><text class=\"label\" dy=\"0.35em\" x=\"5\" y=\"1864.5457018812301\"/></g><g class=\"link\" style=\"opacity: 0.8;\"><path d=\"M1,2107.794445721661 A999 999 0.045548297816103034 0 0 46.48701745654543,2106.758338476758 L703.4219174434414,2076.81536210211 A1001 1001 0.045548297816103034 0 1 749,2075.7771805684292 L749,2077.7771805684292 A999 999 0.045548297816103034 0 0 703.5129825434545,2078.813287813332 L46.57808255655853,2108.75626418798 A1001 1001 0.045548297816103034 0 1 1,2109.794445721661 Z\" style=\"fill: rgb(31, 119, 180);\"/><title>Switzerland → EUD (OEIC)\n2.20k</title><text class=\"label\" dy=\"0.35em\" x=\"5\" y=\"2108.794445721661\"/></g><g class=\"link\" style=\"opacity: 0.8;\"><path d=\"M1,1937.0932939759964 A654.1834321460065 654.1834321460065 0.21492142668005676 0 1 140.5181345351793,1952.1439910581882 L609.9084067915477,2054.6085521131463 A652.1834321460065 652.1834321460065 0.21492142668005676 0 0 749,2069.6132355045515 L749,2071.6132355045515 A654.1834321460065 654.1834321460065 0.21492142668005676 0 1 609.4818654648208,2056.5625384223595 L140.09159320845234,1954.0979773674019 A652.1834321460065 652.1834321460065 0.21492142668005676 0 0 1,1939.0932939759964 Z\" style=\"fill: rgb(31, 119, 180);\"/><title>Slovakia → EUD (OEIC)\n2.21k</title><text class=\"label\" dy=\"0.35em\" x=\"5\" y=\"1938.0932939759964\"/></g><g class=\"link\" style=\"opacity: 0.8;\"><path d=\"M1,518.3825010861975 A582.1144001266193 582.1144001266193 0.2421190820664325 0 0 140.5680024151903,501.4034365532812 L608.9524767126759,385.72940004782504 A584.1144001266193 584.1144001266193 0.2421190820664325 0 1 749,368.6919996808211 L749,370.6919996808211 A582.1144001266193 582.1144001266193 0.2421190820664325 0 0 609.4319975848098,387.6710642137374 L141.04752328732414,503.34510071919357 A584.1144001266193 584.1144001266193 0.2421190820664325 0 1 1,520.3825010861975 Z\" style=\"fill: rgb(31, 119, 180);\"/><title>Georgia → ACRE (ND)\n2.51k</title><text class=\"label\" dy=\"0.35em\" x=\"5\" y=\"519.3825010861975\"/></g><g class=\"link\" style=\"opacity: 0.8;\"><path d=\"M1,895.6687052611037 A228.4867338511376 228.4867338511376 0.8670192615739626 0 0 175.19908219893307,815.0361810457082 L536.6642991367195,389.16457960447894 A278.5083030164225 278.5083030164225 0.8670192615739626 0 1 749,290.87954086874487 L749,292.87954086874487 A276.5083030164225 276.5083030164225 0.8670192615739626 0 0 538.189106107022,390.45878349232544 L176.72388916923558,816.3303849335546 A230.4867338511376 230.4867338511376 0.8670192615739626 0 1 1,897.6687052611037 Z\" style=\"fill: rgb(31, 119, 180);\"/><title>USA → ADDE (IDDE)\n2.68k</title><text class=\"label\" dy=\"0.35em\" x=\"5\" y=\"896.6687052611037\"/></g><g class=\"link\" style=\"opacity: 0.8;\"><path d=\"M1,1863.1657953277722 A265.92439115269025 265.92439115269025 1.249113702080929 0 0 253.2837402375492,1681.3169429582608 L497.7770007788771,947.6710439850783 A264.8062972608753 264.8062972608753 1.249113702080929 0 1 749,766.5867852287611 L749,768.5867852287611 A262.8062972608753 262.8062972608753 1.249113702080929 0 0 499.674410333104,948.3033706281421 L255.18114979177616,1681.9492696013244 A267.92439115269025 267.92439115269025 1.249113702080929 0 1 1,1865.1657953277722 Z\" style=\"fill: rgb(31, 119, 180);\"/><title>Slovakia → ECPM (SALLUX)\n2.75k</title><text class=\"label\" dy=\"0.35em\" x=\"5\" y=\"1864.1657953277722\"/></g><g class=\"link\" style=\"opacity: 0.8;\"><path d=\"M1,1768.5580527850293 A406.94061490392255 406.94061490392255 0.3592410011147307 0 1 144.06558375269742,1794.5355424341806 L606.6375438217594,1968.2482277515662 A404.94061490392255 404.94061490392255 0.3592410011147307 0 0 749,1994.098045260372 L749,1996.098045260372 A406.94061490392255 406.94061490392255 0.3592410011147307 0 1 605.9344162473026,1970.1205556112207 L143.3624561782405,1796.407870293835 A404.94061490392255 404.94061490392255 0.3592410011147307 0 0 1,1770.5580527850293 Z\" style=\"fill: rgb(31, 119, 180);\"/><title>Sweden → APF (Terra Nostra)\n2.90k</title><text class=\"label\" dy=\"0.35em\" x=\"5\" y=\"1769.5580527850293\"/></g><g class=\"link\" style=\"opacity: 0.8;\"><path d=\"M1,1579.6675032523842 A229.74129826099454 229.74129826099454 0.8360259586886357 0 0 171.46453333147062,1503.9486286923923 L560.5689627331053,1073.3067560263798 A253.95541399913063 253.95541399913063 0.8360259586886357 0 1 749,989.6073154730933 L749,991.6073154730933 A251.95541399913063 251.95541399913063 0.8360259586886357 0 0 562.0529321771869,1074.6475896062966 L172.94850277555216,1505.289462272309 A231.74129826099454 231.74129826099454 0.8360259586886357 0 1 1,1581.6675032523842 Z\" style=\"fill: rgb(31, 119, 180);\"/><title>Bulgaria → EAF (EFF)\n3.00k</title><text class=\"label\" dy=\"0.35em\" x=\"5\" y=\"1580.6675032523842\"/></g><g class=\"link\" style=\"opacity: 0.8;\"><path d=\"M1,2199.1756483912072 A1001 1001 0.07194955252061241 0 1 72.95937874606118,2201.765488281405 L677.1843962364484,2245.3143809295475 A999 999 0.07194955252061241 0 0 749,2247.89904631447 L749,2249.89904631447 A1001 1001 0.07194955252061241 0 1 677.0406212539389,2247.3092064242724 L72.81560376355155,2203.76031377613 A999 999 0.07194955252061241 0 0 1,2201.1756483912072 Z\" style=\"fill: rgb(31, 119, 180);\"/><title>Denmark → ALDE (ELF)\n3.00k</title><text class=\"label\" dy=\"0.35em\" x=\"5\" y=\"2200.1756483912072\"/></g><g class=\"link\" style=\"opacity: 0.8;\"><path d=\"M1,2107.3913571152475 A763.9725157641636 763.9725157641636 0.182436105360257 0 0 139.60431470025702,2094.71295738654 L610.0328337263154,2007.9248126328728 A765.9725157641636 765.9725157641636 0.182436105360257 0 1 749,1995.2132221820723 L749,1997.2132221820723 A763.9725157641636 763.9725157641636 0.182436105360257 0 0 610.395685299743,2009.8916219107798 L139.96716627368465,2096.6797666644466 A765.9725157641636 765.9725157641636 0.182436105360257 0 1 1,2109.3913571152475 Z\" style=\"fill: rgb(31, 119, 180);\"/><title>Switzerland → APF (Terra Nostra)\n3.00k</title><text class=\"label\" dy=\"0.35em\" x=\"5\" y=\"2108.3913571152475\"/></g><g class=\"link\" style=\"opacity: 0.8;\"><path d=\"M1,1628.5644125345693 A259.8959283384821 259.8959283384821 0.6460441407295936 0 1 157.46579112519126,1680.9408242619882 L592.0648973320598,2008.6203316425167 A260.67547355539864 260.67547355539864 0.6460441407295936 0 0 749,2061.153843873596 L749,2063.153843873596 A262.67547355539864 262.67547355539864 0.6460441407295936 0 1 590.860832365552,2010.2172748338758 L156.2617261586835,1682.5377674533472 A257.8959283384821 257.8959283384821 0.6460441407295936 0 0 1,1630.5644125345693 Z\" style=\"fill: rgb(31, 119, 180);\"/><title>Finland → EUD (OEIC)\n3.20k</title><text class=\"label\" dy=\"0.35em\" x=\"5\" y=\"1629.5644125345693\"/></g><g class=\"link\" style=\"opacity: 0.8;\"><path d=\"M1,1715.8056401361318 A262.95677739043185 262.95677739043185 0.6250008753458236 0 0 154.85548001825862,1666.0969765566138 L593.8420905266156,1349.374382980759 A265.1827796898468 265.1827796898468 0.6250008753458236 0 1 749,1299.2449217305095 L749,1301.2449217305095 A263.1827796898468 263.1827796898468 0.6250008753458236 0 0 595.0122864922424,1350.9963081954438 L156.02567598388544,1667.7189017712985 A264.95677739043185 264.95677739043185 0.6250008753458236 0 1 1,1717.8056401361318 Z\" style=\"fill: rgb(31, 119, 180);\"/><title>Russia → EGP (GEF)\n3.44k</title><text class=\"label\" dy=\"0.35em\" x=\"5\" y=\"1716.8056401361318\"/></g><g class=\"link\" style=\"opacity: 0.8;\"><path d=\"M1,1794.9741212447072 A246.12993748437304 246.12993748437304 0.7008295926612443 0 0 159.71737578823615,1736.963137480998 L588.992920265869,1374.7801327279149 A248.12993748437304 248.12993748437304 0.7008295926612443 0 1 749,1316.2977639359833 L749,1318.2977639359833 A246.12993748437304 246.12993748437304 0.7008295926612443 0 0 590.2826242117638,1376.3087476996925 L161.00707973413108,1738.4917524527757 A248.12993748437304 248.12993748437304 0.7008295926612443 0 1 1,1796.9741212447072 Z\" style=\"fill: rgb(31, 119, 180);\"/><title>Ukraine → EGP (GEF)\n3.44k</title><text class=\"label\" dy=\"0.35em\" x=\"5\" y=\"1795.9741212447072\"/></g><g class=\"link\" style=\"opacity: 0.8;\"><path d=\"M1,2248.7208849811336 A0 0 0 0 0 1,2248.7208849811336 L749,2248.7208849811336 A0 0 0 0 0 749,2248.7208849811336 L749,2250.7208849811336 A0 0 0 0 0 749,2250.7208849811336 L1,2250.7208849811336 A0 0 0 0 0 1,2250.7208849811336 Z\" style=\"fill: rgb(31, 119, 180);\"/><title>South-Korea → ALDE (ELF)\n3.60k</title><text class=\"label\" dy=\"0.35em\" x=\"5\" y=\"2249.7208849811336\"/></g><g class=\"link\" style=\"opacity: 0.8;\"><path d=\"M1,451.5706494386941 A999 999 0.13727350993909315 0 0 137.7059424682562,442.1728348111122 L612.0203719612367,376.6499387741259 A1001 1001 0.13727350993909315 0 1 749,367.2333097028452 L749,369.2333097028452 A999 999 0.13727350993909315 0 0 612.2940575317438,378.6311243304271 L137.97962803876325,444.15402036741335 A1001 1001 0.13727350993909315 0 1 1,453.5706494386941 Z\" style=\"fill: rgb(31, 119, 180);\"/><title>Lithuania → ACRE (ND)\n3.68k</title><text class=\"label\" dy=\"0.35em\" x=\"5\" y=\"452.5706494386941\"/></g><g class=\"link\" style=\"opacity: 0.8;\"><path d=\"M1,690.1993417471944 A813.2556393546944 813.2556393546944 0.17108077337593408 0 0 139.45469377797392,678.3269020623334 L610.2048113343723,596.9955696871735 A815.2556393546944 815.2556393546944 0.17108077337593408 0 1 749,585.0939326894129 L749,587.0939326894129 A813.2556393546944 813.2556393546944 0.17108077337593408 0 0 610.5453062220262,598.9663723742739 L139.79518866562776,680.2977047494337 A815.2556393546944 815.2556393546944 0.17108077337593408 0 1 1,692.1993417471944 Z\" style=\"fill: rgb(31, 119, 180);\"/><title>Romania → MENL (FENL)\n3.80k</title><text class=\"label\" dy=\"0.35em\" x=\"5\" y=\"691.1993417471944\"/></g><g class=\"link\" style=\"opacity: 0.8;\"><path d=\"M1,522.267355723102 A230.3635649961826 230.3635649961826 0.8404392921267517 0 1 172.6061723817424,598.9471750653016 L578.8837001368096,1052.6043342273204 A228.3635649961826 228.3635649961826 0.8404392921267517 0 0 749,1128.6184248606985 L749,1130.6184248606985 A230.3635649961826 230.3635649961826 0.8404392921267517 0 1 577.3938276182577,1053.938605518499 L171.11629986319036,600.2814463564802 A228.3635649961826 228.3635649961826 0.8404392921267517 0 0 1,524.267355723102 Z\" style=\"fill: rgb(31, 119, 180);\"/><title>Georgia → EGP (GEF)\n4.00k</title><text class=\"label\" dy=\"0.35em\" x=\"5\" y=\"523.267355723102\"/></g><g class=\"link\" style=\"opacity: 0.8;\"><path d=\"M1,2148.034639909025 A572.9734020514687 572.9734020514687 0.24619940768014126 0 0 140.6449286893678,2130.757029950474 L608.8676318302325,2013.0938643817915 A574.9734020514687 574.9734020514687 0.24619940768014126 0 1 749,1995.755945829869 L749,1997.755945829869 A572.9734020514687 572.9734020514687 0.24619940768014126 0 0 609.3550713106322,2015.0335557884198 L141.13236816976737,2132.6967213571024 A574.9734020514687 574.9734020514687 0.24619940768014126 0 1 1,2150.034639909025 Z\" style=\"fill: rgb(31, 119, 180);\"/><title>Portugal → APF (Terra Nostra)\n4.00k</title><text class=\"label\" dy=\"0.35em\" x=\"5\" y=\"2149.034639909025\"/></g><g class=\"link\" style=\"opacity: 0.8;\"><path d=\"M1,764.1414184451543 A325.9463997757579 325.9463997757579 0.4679552564240672 0 1 148.0221364644537,799.1831140372126 L602.8799881582794,1029.066550715598 A323.9463997757579 323.9463997757579 0.4679552564240672 0 0 749,1063.893231227777 L749,1065.893231227777 A325.9463997757579 325.9463997757579 0.4679552564240672 0 1 601.9778635355464,1030.8515356357186 L147.1200118417206,800.9680989573335 A323.9463997757579 323.9463997757579 0.4679552564240672 0 0 1,766.1414184451543 Z\" style=\"fill: rgb(31, 119, 180);\"/><title>Belgium → EFA (CMC)\n4.02k</title><text class=\"label\" dy=\"0.35em\" x=\"5\" y=\"765.1414184451543\"/></g><g class=\"link\" style=\"opacity: 0.8;\"><path d=\"M1,692.976381121021 A250.32794353369425 250.32794353369425 0.6976427230793163 0 1 161.81391372240432,751.4633372013258 L576.5417703460471,1099.1158938248498 A268.4538481493412 268.4538481493412 0.6976427230793163 0 0 749,1161.8378105420138 L749,1163.8378105420138 A270.4538481493412 270.4538481493412 0.6976427230793163 0 1 575.2569444376622,1100.6486111455395 L160.52908781401942,752.9960545220157 A248.32794353369425 248.32794353369425 0.6976427230793163 0 0 1,694.976381121021 Z\" style=\"fill: rgb(31, 119, 180);\"/><title>Romania → EGP (GEF)\n4.24k</title><text class=\"label\" dy=\"0.35em\" x=\"5\" y=\"693.976381121021\"/></g><g class=\"link\" style=\"opacity: 0.8;\"><path d=\"M1,1936.593135368577 A1001 1001 0.08771067165042856 0 1 88.68585108824556,1940.4410950462748 L661.4893454174253,1990.8113092919787 A999 999 0.08771067165042856 0 0 749,1994.6515807385524 L749,1996.6515807385524 A1001 1001 0.08771067165042856 0 1 661.3141489117545,1992.8036210608545 L88.51065458257474,1942.4334068151506 A999 999 0.08771067165042856 0 0 1,1938.593135368577 Z\" style=\"fill: rgb(31, 119, 180);\"/><title>Slovakia → APF (Terra Nostra)\n4.24k</title><text class=\"label\" dy=\"0.35em\" x=\"5\" y=\"1937.593135368577\"/></g><g class=\"link\" style=\"opacity: 0.8;\"><path d=\"M1,2103.468628120922 A289.8618774696379 289.8618774696379 1.3452423535169546 0 0 283.5197811989832,1878.4332980026743 L491.44108427478017,972.2940163103589 A264.2523314803741 264.2523314803741 1.3452423535169546 0 1 749,767.1407510092622 L749,769.1407510092622 A262.2523314803741 262.2523314803741 1.3452423535169546 0 0 493.39042499985413,972.7413089858725 L285.46912192405716,1878.8805906781877 A291.8618774696379 291.8618774696379 1.3452423535169546 0 1 1,2105.468628120922 Z\" style=\"fill: rgb(31, 119, 180);\"/><title>Switzerland → ECPM (SALLUX)\n4.40k</title><text class=\"label\" dy=\"0.35em\" x=\"5\" y=\"2104.468628120922\"/></g><g class=\"link\" style=\"opacity: 0.8;\"><path d=\"M1,402.08931806574 A999 999 0.05532236571501592 0 0 56.238856274487915,400.56095613746305 L693.6505554246623,365.26181389307794 A1001 1001 0.05532236571501592 0 1 749,363.7303921811608 L749,365.7303921811608 A999 999 0.05532236571501592 0 0 693.761143725512,367.25875410943775 L56.34944457533774,402.55789635382285 A1001 1001 0.05532236571501592 0 1 1,404.08931806574 Z\" style=\"fill: rgb(31, 119, 180);\"/><title>HongKong → ACRE (ND)\n4.50k</title><text class=\"label\" dy=\"0.35em\" x=\"5\" y=\"403.08931806574\"/></g><g class=\"link\" style=\"opacity: 0.8;\"><path d=\"M1,982.6856120715718 A258.3370179058776 258.3370179058776 1.1772318869234841 0 1 239.5866435486013,1141.9548332889472 L533.2329214533406,1849.1481107989014 A233.6284328617607 233.6284328617607 1.1772318869234841 0 0 749,1993.1840637481048 L749,1995.1840637481048 A235.6284328617607 235.6284328617607 1.1772318869234841 0 1 531.3858253965493,1849.9150763502696 L237.73954749180987,1142.7217988403154 A256.3370179058776 256.3370179058776 1.1772318869234841 0 0 1,984.6856120715718 Z\" style=\"fill: rgb(31, 119, 180);\"/><title>USA → APF (Terra Nostra)\n4.58k</title><text class=\"label\" dy=\"0.35em\" x=\"5\" y=\"983.6856120715718\"/></g><g class=\"link\" style=\"opacity: 0.8;\"><path d=\"M1,326.59002104260094 A1001 1001 0.050372545038486205 0 1 51.401596493216886,327.85971787532424 L698.699105997279,360.49334694681295 A999 999 0.050372545038486205 0 0 749,361.7605069227276 L749,363.7605069227276 A1001 1001 0.050372545038486205 0 1 698.5984035067831,362.4908100900043 L51.30089400272095,329.8571810185156 A999 999 0.050372545038486205 0 0 1,328.59002104260094 Z\" style=\"fill: rgb(31, 119, 180);\"/><title>Argentina → ACRE (ND)\n4.63k</title><text class=\"label\" dy=\"0.35em\" x=\"5\" y=\"327.59002104260094\"/></g><g class=\"link\" style=\"opacity: 0.8;\"><path d=\"M1,1223.781282915398 A249.38891475356945 249.38891475356945 0.692342859024011 0 0 160.19550697590122,1166.3601294152454 L575.3915534210417,822.0453096941949 A271.96761332550386 271.96761332550386 0.692342859024011 0 1 749,759.4254691641324 L749,761.4254691641324 A269.96761332550386 269.96761332550386 0.692342859024011 0 0 576.6682381296079,823.5848148597963 L161.47219168446745,1167.8996345808469 A251.38891475356945 251.38891475356945 0.692342859024011 0 1 1,1225.781282915398 Z\" style=\"fill: rgb(31, 119, 180);\"/><title>Ireland → ECPM (SALLUX)\n5.00k</title><text class=\"label\" dy=\"0.35em\" x=\"5\" y=\"1224.781282915398\"/></g><g class=\"link\" style=\"opacity: 0.8;\"><path d=\"M1,1661.0514722283276 A283.60500786096424 283.60500786096424 0.5581037944483613 0 0 151.19116402359248,1618.0174824328317 L597.7496786282608,1339.2260317732619 A285.60500786096424 285.60500786096424 0.5581037944483613 0 1 749,1295.8885636286348 L749,1297.8885636286348 A283.60500786096424 283.60500786096424 0.5581037944483613 0 0 598.8088359764075,1340.9225534241307 L152.25032137173935,1619.7140040837005 A285.60500786096424 285.60500786096424 0.5581037944483613 0 1 1,1663.0514722283276 Z\" style=\"fill: rgb(31, 119, 180);\"/><title>Italy → EGP (GEF)\n5.45k</title><text class=\"label\" dy=\"0.35em\" x=\"5\" y=\"1662.0514722283276\"/></g><g class=\"link\" style=\"opacity: 0.8;\"><path d=\"M1,1184.3958082020038 A228.0289330628553 228.0289330628553 1.0897300929227187 0 1 203.1481175503559,1306.9101314488169 L522.4875366166932,1918.7103602174182 A255.5126210258573 255.5126210258573 1.0897300929227187 0 0 749,2055.9909913440547 L749,2057.9909913440547 A257.5126210258573 257.5126210258573 1.0897300929227187 0 1 520.7145325085291,1919.6358095312291 L201.37511344219183,1307.8355807626278 A226.0289330628553 226.0289330628553 1.0897300929227187 0 0 1,1186.3958082020038 Z\" style=\"fill: rgb(31, 119, 180);\"/><title>Latvia → EUD (OEIC)\n5.46k</title><text class=\"label\" dy=\"0.35em\" x=\"5\" y=\"1185.3958082020038\"/></g><g class=\"link\" style=\"opacity: 0.8;\"><path d=\"M1,2015.4202378754517 A288.5421115660868 288.5421115660868 0.9686249541374684 0 0 238.78975311392193,1890.3179729228395 L554.8444906702699,1430.4877688983254 A235.59484755152582 235.59484755152582 0.9686249541374684 0 1 749,1328.3416770163064 L749,1330.3416770163064 A233.59484755152582 233.59484755152582 0.9686249541374684 0 0 556.4927059122205,1431.620635402465 L240.43796835587258,1891.4508394269792 A290.5421115660868 290.5421115660868 0.9686249541374684 0 1 1,2017.4202378754517 Z\" style=\"fill: rgb(31, 119, 180);\"/><title>Czech Republic → EGP (GEF)\n5.83k</title><text class=\"label\" dy=\"0.35em\" x=\"5\" y=\"2016.4202378754517\"/></g><g class=\"link\" style=\"opacity: 0.8;\"><path d=\"M1,473.39475172203123 A810.9363555082234 810.9363555082234 0.17158291586270535 0 0 139.46108515258396,461.48674401088607 L610.1974303789689,379.91433752430225 A812.9363555082234 812.9363555082234 0.17158291586270535 0 1 749,367.9769612748488 L749,369.9769612748488 A810.9363555082234 810.9363555082234 0.17158291586270535 0 0 610.538914847416,381.88496898599396 L139.80256962103107,463.4573754725778 A812.9363555082234 812.9363555082234 0.17158291586270535 0 1 1,475.39475172203123 Z\" style=\"fill: rgb(31, 119, 180);\"/><title>Pakistan → ACRE (ND)\n5.91k</title><text class=\"label\" dy=\"0.35em\" x=\"5\" y=\"474.39475172203123\"/></g><g class=\"link\" style=\"opacity: 0.8;\"><path d=\"M1,1041.3537401101923 A521.2768142049 521.2768142049 0.27337149914486014 0 1 141.7339323690679,1060.7107626077436 L608.8060261655688,1191.6737043882147 A519.2768142049 519.2768142049 0.27337149914486014 0 0 749,1210.9564591571038 L749,1212.9564591571038 A521.2768142049 521.2768142049 0.27337149914486014 0 1 608.2660676309321,1193.5994366595526 L141.19397383443126,1062.6364948790815 A519.2768142049 519.2768142049 0.27337149914486014 0 0 1,1043.3537401101923 Z\" style=\"fill: rgb(31, 119, 180);\"/><title>Croatia → EGP (GEF)\n6.01k</title><text class=\"label\" dy=\"0.35em\" x=\"5\" y=\"1042.3537401101923\"/></g><g class=\"link\" style=\"opacity: 0.8;\"><path d=\"M1,2198.4754573535997 A711.4543937064433 711.4543937064433 0.19635591140388198 0 0 139.80231203615895,2184.804176439104 L609.8074948235245,2091.3112201839194 A713.4543937064433 713.4543937064433 0.19635591140388198 0 1 749,2077.6015073445233 L749,2079.6015073445233 A711.4543937064433 711.4543937064433 0.19635591140388198 0 0 610.1976879638411,2093.272788259019 L140.19250517647552,2186.7657445142036 A713.4543937064433 713.4543937064433 0.19635591140388198 0 1 1,2200.4754573535997 Z\" style=\"fill: rgb(31, 119, 180);\"/><title>Denmark → EUD (OEIC)\n6.03k</title><text class=\"label\" dy=\"0.35em\" x=\"5\" y=\"2199.4754573535997\"/></g><g class=\"link\" style=\"opacity: 0.8;\"><path d=\"M1,1541.4765420714011 A258.46754900091975 258.46754900091975 0.6969045160802988 0 0 166.896633297907,1481.2103577150333 L588.726219998516,1128.134543203974 A249.7071234212856 249.7071234212856 0.6969045160802988 0 1 749,1069.9110037562737 L749,1071.9110037562737 A247.7071234212856 247.7071234212856 0.6969045160802988 0 0 590.0099140942673,1129.668208574429 L168.1803273936584,1482.7440230854882 A260.46754900091975 260.46754900091975 0.6969045160802988 0 1 1,1543.4765420714011 Z\" style=\"fill: rgb(31, 119, 180);\"/><title>UK → EFA (CMC)\n6.07k</title><text class=\"label\" dy=\"0.35em\" x=\"5\" y=\"1542.4765420714011\"/></g><g class=\"link\" style=\"opacity: 0.8;\"><path d=\"M1,342.12670630622847 A1001 1001 0.028432558095822902 0 1 29.45715611563322,342.53128843454425 L720.5997013391433,362.1875360609989 A999 999 0.028432558095822902 0 0 749,362.59130983341396 L749,364.59130983341396 A1001 1001 0.028432558095822902 0 1 720.5428438843668,364.1867277050982 L29.40029866085673,344.5304800786435 A999 999 0.028432558095822902 0 0 1,344.12670630622847 Z\" style=\"fill: rgb(31, 119, 180);\"/><title>Armenia → ACRE (ND)\n6.09k</title><text class=\"label\" dy=\"0.35em\" x=\"5\" y=\"343.12670630622847\"/></g><g class=\"link\" style=\"opacity: 0.8;\"><path d=\"M1,593.7693313941775 A238.02841289238768 238.02841289238768 0.7658012337399325 0 1 165.98100915281483,660.2203799199687 L585.4052203913649,1063.519672275406 A236.02841289238768 236.02841289238768 0.7658012337399325 0 0 749,1129.4123752850605 L749,1131.4123752850605 A238.02841289238768 238.02841289238768 0.7658012337399325 0 1 584.0189908471851,1064.9613267592692 L164.59477960863515,661.6620344038321 A236.02841289238768 236.02841289238768 0.7658012337399325 0 0 1,595.7693313941775 Z\" style=\"fill: rgb(31, 119, 180);\"/><title>Poland → EGP (GEF)\n6.24k</title><text class=\"label\" dy=\"0.35em\" x=\"5\" y=\"594.7693313941775\"/></g><g class=\"link\" style=\"opacity: 0.8;\"><path d=\"M1,1040.2574460948379 A337.6776144914458 337.6776144914458 0.44451554819300965 0 0 146.20831635538997,1007.44163011194 L602.9316425277354,789.9003522011874 A339.6776144914458 339.6776144914458 0.44451554819300965 0 1 749,756.8901744094244 L749,758.8901744094244 A337.6776144914458 337.6776144914458 0.44451554819300965 0 0 603.79168364461,791.7059903923223 L147.0683574722646,1009.2472683030749 A339.6776144914458 339.6776144914458 0.44451554819300965 0 1 1,1042.2574460948379 Z\" style=\"fill: rgb(31, 119, 180);\"/><title>Croatia → ECPM (SALLUX)\n6.50k</title><text class=\"label\" dy=\"0.35em\" x=\"5\" y=\"1041.2574460948379\"/></g><g class=\"link\" style=\"opacity: 0.8;\"><path d=\"M1,621.8644092719742 A443.3422138471698 443.3422138471698 0.32625651901372055 0 1 143.09085795134706,645.2512604131061 L607.5501405979151,802.3999095682639 A441.3422138471698 441.3422138471698 0.32625651901372055 0 0 749,825.6812582311265 L749,827.6812582311265 A443.3422138471698 443.3422138471698 0.32625651901372055 0 1 606.9091420486529,804.2944070899946 L142.44985940208494,647.1457579348369 A441.3422138471698 441.3422138471698 0.32625651901372055 0 0 1,623.8644092719742 Z\" style=\"fill: rgb(31, 119, 180);\"/><title>France → EDP (IED)\n6.54k</title><text class=\"label\" dy=\"0.35em\" x=\"5\" y=\"622.8644092719742\"/></g><g class=\"link\" style=\"opacity: 0.8;\"><path d=\"M1,1580.4335189152746 A324.85815435986393 324.85815435986393 0.4663102509427901 0 0 147.05412980703926,1545.7494702581864 L602.0466830994746,1316.736818426745 A326.85815435986393 326.85815435986393 0.4663102509427901 0 1 749,1281.8392362739353 L749,1283.8392362739353 A324.85815435986393 324.85815435986393 0.4663102509427901 0 0 602.9458701929607,1318.5232849310235 L147.9533169005253,1547.5359367624649 A326.85815435986393 326.85815435986393 0.4663102509427901 0 1 1,1582.4335189152746 Z\" style=\"fill: rgb(31, 119, 180);\"/><title>Bulgaria → EGP (GEF)\n6.88k</title><text class=\"label\" dy=\"0.35em\" x=\"5\" y=\"1581.4335189152746\"/></g><g class=\"link\" style=\"opacity: 0.8;\"><path d=\"M1,2087.7689807782094 A449.2473992540252 449.2473992540252 0.31992494103884184 0 0 142.28620059182074,2064.973730374244 L607.0848087859679,1910.983113679739 A451.2473992540252 451.2473992540252 0.31992494103884184 0 1 749,1888.086381328669 L749,1890.086381328669 A449.2473992540252 449.2473992540252 0.31992494103884184 0 0 607.7137994081793,1912.8816317326348 L142.91519121403215,2066.8722484271393 A451.2473992540252 451.2473992540252 0.31992494103884184 0 1 1,2089.7689807782094 Z\" style=\"fill: rgb(31, 119, 180);\"/><title>Lebanon → EPP (WMCES)\n7.25k</title><text class=\"label\" dy=\"0.35em\" x=\"5\" y=\"2088.7689807782094\"/></g><g class=\"link\" style=\"opacity: 0.8;\"><path d=\"M1,2172.6824286637166 A886.3583365292305 886.3583365292305 0.1566488610837764 0 0 139.2798621737865,2161.8295349799682 L610.4081198613004,2087.418175151673 A888.3583365292305 888.3583365292305 0.1566488610837764 0 1 749,2076.540792740879 L749,2078.540792740879 A886.3583365292305 886.3583365292305 0.1566488610837764 0 0 610.7201378262135,2089.3936864246275 L139.5918801386996,2163.8050462529227 A888.3583365292305 888.3583365292305 0.1566488610837764 0 1 1,2174.6824286637166 Z\" style=\"fill: rgb(31, 119, 180);\"/><title>Slovenia → EUD (OEIC)\n7.65k</title><text class=\"label\" dy=\"0.35em\" x=\"5\" y=\"2173.6824286637166\"/></g><g class=\"link\" style=\"opacity: 0.8;\"><path d=\"M1,1183.3785890221334 A1001 1001 0.0834312862012736 0 1 84.4178632801815,1186.8604387683301 L665.7488057773213,1235.4744765875191 A999 999 0.0834312862012736 0 0 749,1238.9493695909664 L749,1240.9493695909664 A1001 1001 0.0834312862012736 0 1 665.5821367198185,1237.4675198447696 L84.25119422267863,1188.8534820255807 A999 999 0.0834312862012736 0 0 1,1185.3785890221334 Z\" style=\"fill: rgb(31, 119, 180);\"/><title>Latvia → EGP (GEF)\n7.66k</title><text class=\"label\" dy=\"0.35em\" x=\"5\" y=\"1184.3785890221334\"/></g><g class=\"link\" style=\"opacity: 0.8;\"><path d=\"M1,1682.8398108566778 A236.1530530721755 236.1530530721755 0.847220322182357 0 1 177.98324418645646,1762.643269261816 L489.6164419662732,2115.403085855696 A346.1017986643723 346.1017986643723 0.847220322182357 0 0 749,2232.361643597544 L749,2234.361643597544 A348.1017986643723 348.1017986643723 0.847220322182357 0 1 488.11755603713505,2116.7272236776134 L176.48435825731823,1763.9674070837332 A234.1530530721755 234.1530530721755 0.847220322182357 0 0 1,1684.8398108566778 Z\" style=\"fill: rgb(31, 119, 180);\"/><title>Italy → ALDE (ELF)\n8.00k</title><text class=\"label\" dy=\"0.35em\" x=\"5\" y=\"1683.8398108566778\"/></g><g class=\"link\" style=\"opacity: 0.8;\"><path d=\"M1,588.9724064075657 A667.1064022891711 667.1064022891711 0.21057381294301658 0 1 140.43929554064448,603.7080285154581 L609.9787466039434,704.0685171728657 A665.1064022891711 665.1064022891711 0.21057381294301658 0 0 749,718.7599615542146 L749,720.7599615542146 A667.1064022891711 667.1064022891711 0.21057381294301658 0 1 609.5607044593555,706.0243394463222 L140.02125339605658,605.6638507889146 A665.1064022891711 665.1064022891711 0.21057381294301658 0 0 1,590.9724064075657 Z\" style=\"fill: rgb(31, 119, 180);\"/><title>Poland → ECPM (SALLUX)\n8.00k</title><text class=\"label\" dy=\"0.35em\" x=\"5\" y=\"589.9724064075657\"/></g><g class=\"link\" style=\"opacity: 0.8;\"><path d=\"M1,1251.498204135841 A485.77737053561935 485.77737053561935 0.29373755447182703 0 0 141.64795188275775,1230.6915932783825 L607.772984700897,1089.6944879280738 A487.77737053561935 487.77737053561935 0.29373755447182703 0 1 749,1068.8022139165885 L749,1070.8022139165885 A485.77737053561935 485.77737053561935 0.29373755447182703 0 0 608.3520481172422,1091.608824774047 L142.2270152991029,1232.6059301243556 A487.77737053561935 487.77737053561935 0.29373755447182703 0 1 1,1253.498204135841 Z\" style=\"fill: rgb(31, 119, 180);\"/><title>Germany → EFA (CMC)\n8.23k</title><text class=\"label\" dy=\"0.35em\" x=\"5\" y=\"1252.498204135841\"/></g><g class=\"link\" style=\"opacity: 0.8;\"><path d=\"M1,1208.0411243536555 A227.202961749381 227.202961749381 1.0744179603134953 0 1 200.7825420823654,1327.0400117490706 L523.3835904162747,1922.674306477661 A256.58256193151385 256.58256193151385 1.0744179603134953 0 0 749,2057.0609322497107 L749,2059.0609322497107 A258.58256193151385 258.58256193151385 1.0744179603134953 0 1 521.6249642034463,1923.626794715674 L199.0239158695369,1327.9924999870834 A225.202961749381 225.202961749381 1.0744179603134953 0 0 1,1210.0411243536555 Z\" style=\"fill: rgb(31, 119, 180);\"/><title>Malta → EUD (OEIC)\n8.34k</title><text class=\"label\" dy=\"0.35em\" x=\"5\" y=\"1209.0411243536555\"/></g><g class=\"link\" style=\"opacity: 0.8;\"><path d=\"M1,623.0308774549889 A303.8833499080291 303.8833499080291 0.5124331345230397 0 1 149.99379512119864,662.0634403777648 L600.9868034878814,915.7729371647989 A301.8833499080291 301.8833499080291 0.5124331345230397 0 0 749,954.5486083366146 L749,956.5486083366146 A303.8833499080291 303.8833499080291 0.5124331345230397 0 1 600.0062048788013,917.5160454138387 L149.01319651211858,663.8065486268046 A301.8833499080291 301.8833499080291 0.5124331345230397 0 0 1,625.0308774549889 Z\" style=\"fill: rgb(31, 119, 180);\"/><title>France → EAF (EFF)\n8.50k</title><text class=\"label\" dy=\"0.35em\" x=\"5\" y=\"624.0308774549889\"/></g><g class=\"link\" style=\"opacity: 0.8;\"><path d=\"M1,1952.6293109142177 A274.4601974051616 274.4601974051616 1.3941355178825594 0 0 271.18850455011835,1726.403665115254 L444.23491742468025,757.0746270003317 A309.58343274114696 309.58343274114696 1.3941355178825594 0 1 749,501.8984205315357 L749,503.8984205315357 A307.58343274114696 307.58343274114696 1.3941355178825594 0 0 446.20378946590563,757.4261136789994 L273.15737659134373,1726.7551517939216 A276.4601974051616 276.4601974051616 1.3941355178825594 0 1 1,1954.6293109142177 Z\" style=\"fill: rgb(31, 119, 180);\"/><title>Hungary → ACRE (ND)\n8.50k</title><text class=\"label\" dy=\"0.35em\" x=\"5\" y=\"1953.6293109142177\"/></g><g class=\"link\" style=\"opacity: 0.8;\"><path d=\"M1,2130.7806627690384 A223.9067462817593 223.9067462817593 1.0187632864553635 0 0 191.64766432368353,2024.294950030713 L550.4885346941646,1441.67212909715 A233.14241196676602 233.14241196676602 1.0187632864553635 0 1 749,1330.7941126010662 L749,1332.7941126010662 A231.14241196676602 231.14241196676602 1.0187632864553635 0 0 552.1914549276066,1442.7209678257132 L193.35058455712553,2025.343788759276 A225.9067462817593 225.9067462817593 1.0187632864553635 0 1 1,2132.7806627690384 Z\" style=\"fill: rgb(31, 119, 180);\"/><title>Portugal → EGP (GEF)\n8.60k</title><text class=\"label\" dy=\"0.35em\" x=\"5\" y=\"2131.7806627690384\"/></g><g class=\"link\" style=\"opacity: 0.8;\"><path d=\"M1,2104.476155807082 A290.8694051557978 290.8694051557978 1.0512600984703027 0 0 253.48904906289354,1958.0168990446825 L545.4632529300442,1447.5244585516132 A234.47596150135246 234.47596150135246 1.0512600984703027 0 1 749,1329.4605630664798 L749,1331.4605630664798 A232.47596150135246 232.47596150135246 1.0512600984703027 0 0 547.1993519805968,1448.5174137805486 L255.22514811344618,1959.009854273618 A292.8694051557978 292.8694051557978 1.0512600984703027 0 1 1,2106.476155807082 Z\" style=\"fill: rgb(31, 119, 180);\"/><title>Switzerland → EGP (GEF)\n8.60k</title><text class=\"label\" dy=\"0.35em\" x=\"5\" y=\"2105.476155807082\"/></g><g class=\"link\" style=\"opacity: 0.8;\"><path d=\"M1,1225.201860512867 A308.69687683503565 308.69687683503565 0.5199507445513367 0 1 154.3721513342873,1265.9981121847693 L561.9793251180621,1499.351763765233 A376.42230181541663 376.42230181541663 0.5199507445513367 0 0 749,1549.0983602233014 L749,1551.0983602233014 A378.42230181541663 378.42230181541663 0.5199507445513367 0 1 560.9856503332261,1501.0874510705912 L153.37847654945136,1267.7337994901275 A306.69687683503565 306.69687683503565 0.5199507445513367 0 0 1,1227.201860512867 Z\" style=\"fill: rgb(31, 119, 180);\"/><title>Ireland → EPP (WMCES)\n9.02k</title><text class=\"label\" dy=\"0.35em\" x=\"5\" y=\"1226.201860512867\"/></g><g class=\"link\" style=\"opacity: 0.8;\"><path d=\"M1,587.6155972880737 A999 999 0.012418297330598183 0 0 13.405560175463478,587.5385683307527 L736.5696038682293,578.557640550708 A1001 1001 0.012418297330598183 0 1 749,578.4804573812603 L749,580.4804573812603 A999 999 0.012418297330598183 0 0 736.5944398245365,580.5574863385813 L13.430396131770713,589.538414118626 A1001 1001 0.012418297330598183 0 1 1,589.6155972880737 Z\" style=\"fill: rgb(31, 119, 180);\"/><title>Poland → MENL (FENL)\n9.50k</title><text class=\"label\" dy=\"0.35em\" x=\"5\" y=\"588.6155972880737\"/></g><g class=\"link\" style=\"opacity: 0.8;\"><path d=\"M1,1063.1722670710276 A319.91378389692625 319.91378389692625 0.47539647819455855 0 0 147.42165851284597,1027.6974521034601 L601.6629594943605,793.8660438927789 A321.91378389692625 321.91378389692625 0.47539647819455855 0 1 749,758.1694515792312 L749,760.1694515792312 A319.91378389692625 319.91378389692625 0.47539647819455855 0 0 602.578341487154,795.6442665467987 L148.3370405056395,1029.47567475748 A321.91378389692625 321.91378389692625 0.47539647819455855 0 1 1,1065.1722670710276 Z\" style=\"fill: rgb(31, 119, 180);\"/><title>Spain → ECPM (SALLUX)\n10.0k</title><text class=\"label\" dy=\"0.35em\" x=\"5\" y=\"1064.1722670710276\"/></g><g class=\"link\" style=\"opacity: 0.8;\"><path d=\"M1,1862.130743799474 A264.88933962439205 264.88933962439205 1.3696757434301439 0 0 260.5500544739405,1650.1576726491628 L444.2057251440352,749.3413320143434 A311.0642929801354 311.0642929801354 1.3696757434301439 0 1 749,500.41756029254725 L749,502.41756029254725 A309.0642929801354 309.0642929801354 1.3696757434301439 0 0 446.1654118180402,749.7408669186102 L262.5097411479455,1650.5572075534299 A266.88933962439205 266.88933962439205 1.3696757434301439 0 1 1,1864.130743799474 Z\" style=\"fill: rgb(31, 119, 180);\"/><title>Slovakia → ACRE (ND)\n10.6k</title><text class=\"label\" dy=\"0.35em\" x=\"5\" y=\"1863.130743799474\"/></g><g class=\"link\" style=\"opacity: 0.8;\"><path d=\"M1,762.4623214159325 A501.76452134033013 501.76452134033013 0.2836366192719524 0 0 141.41820228522357,742.4138609899927 L608.0221001023979,606.4007905800155 A503.76452134033013 503.76452134033013 0.2836366192719524 0 1 749,586.2724183246288 L749,588.2724183246288 A501.76452134033013 501.76452134033013 0.2836366192719524 0 0 608.5817977147765,608.3208787505686 L141.97789989760213,744.3339491605458 A503.76452134033013 503.76452134033013 0.2836366192719524 0 1 1,764.4623214159325 Z\" style=\"fill: rgb(31, 119, 180);\"/><title>Belgium → MENL (FENL)\n11.4k</title><text class=\"label\" dy=\"0.35em\" x=\"5\" y=\"763.4623214159325\"/></g><g class=\"link\" style=\"opacity: 0.8;\"><path d=\"M1,799.0255980616136 A256.1846537916482 256.1846537916482 1.2880452067948636 0 1 247.01194925007886,983.7350976769796 L504.9086337794585,1871.3955273379877 A254.18465379164823 254.18465379164823 1.2880452067948636 0 0 749,2054.6630241098455 L749,2056.6630241098455 A256.1846537916482 256.1846537916482 1.2880452067948636 0 1 502.9880507499211,1871.9535244944793 L245.09136622054146,984.2930948334715 A254.18465379164823 254.18465379164823 1.2880452067948636 0 0 1,801.0255980616136 Z\" style=\"fill: rgb(31, 119, 180);\"/><title>Belgium → EUD (OEIC)\n11.7k</title><text class=\"label\" dy=\"0.35em\" x=\"5\" y=\"800.0255980616136\"/></g><g class=\"link\" style=\"opacity: 0.8;\"><path d=\"M1,2051.282387672892 A480.12478016000927 480.12478016000927 0.29884434145960137 0 1 142.35640133255933,2072.562779912546 L608.2324306010286,2216.0854222248317 A478.12478016000927 478.12478016000927 0.29884434145960137 0 0 749,2237.27716920759 L749,2239.27716920759 A480.12478016000927 480.12478016000927 0.29884434145960137 0 1 607.6435986674406,2217.996776967936 L141.76756939897135,2074.4741346556502 A478.12478016000927 478.12478016000927 0.29884434145960137 0 0 1,2053.282387672892 Z\" style=\"fill: rgb(31, 119, 180);\"/><title>Czech Republic → ALDE (ELF)\n12.0k</title><text class=\"label\" dy=\"0.35em\" x=\"5\" y=\"2052.282387672892\"/></g><g class=\"link\" style=\"opacity: 0.8;\"><path d=\"M1,1600.371744133621 A259.39904177491223 259.39904177491223 1.3239254683223456 0 0 252.53453983412876,1404.3622767710342 L480.0392552538744,501.60666697673184 A277.37009600438756 277.37009600438756 1.3239254683223456 0 1 749,292.0177478807798 L749,294.0177478807798 A275.37009600438756 275.37009600438756 1.3239254683223456 0 0 481.9786189316507,502.09540875448545 L254.47390351190515,1404.8510185487878 A261.39904177491223 261.39904177491223 1.3239254683223456 0 1 1,1602.371744133621 Z\" style=\"fill: rgb(31, 119, 180);\"/><title>Finland → ADDE (IDDE)\n12.0k</title><text class=\"label\" dy=\"0.35em\" x=\"5\" y=\"1601.371744133621\"/></g><g class=\"link\" style=\"opacity: 0.8;\"><path d=\"M1,2071.5705704031716 A526.9820310955001 526.9820310955001 0.27019210128848514 0 1 141.66023798185824,2090.689668663024 L608.873595164936,2220.091398461923 A524.9820310955001 524.9820310955001 0.27019210128848514 0 0 749,2239.137936000036 L749,2241.137936000036 A526.9820310955001 526.9820310955001 0.27019210128848514 0 1 608.3397620181418,2222.0188377401837 L141.12640483506402,2092.6171079412848 A524.9820310955001 524.9820310955001 0.27019210128848514 0 0 1,2073.5705704031716 Z\" style=\"fill: rgb(31, 119, 180);\"/><title>India → ALDE (ELF)\n12.0k</title><text class=\"label\" dy=\"0.35em\" x=\"5\" y=\"2072.5705704031716\"/></g><g class=\"link\" style=\"opacity: 0.8;\"><path d=\"M1,450.35467322920783 A504.0986110087269 504.0986110087269 0.2822222387278861 0 0 141.38675440676235,430.41199661358854 L608.0562642751346,295.09563835571083 A506.0986110087269 506.0986110087269 0.2822222387278861 0 1 749,275.07383961525284 L749,277.07383961525284 A504.0986110087269 504.0986110087269 0.2822222387278861 0 0 608.6132455932376,297.0165162308721 L141.94373572486535,432.33287448874984 A506.0986110087269 506.0986110087269 0.2822222387278861 0 1 1,452.35467322920783 Z\" style=\"fill: rgb(31, 119, 180);\"/><title>Lithuania → ADDE (IDDE)\n12.0k</title><text class=\"label\" dy=\"0.35em\" x=\"5\" y=\"451.35467322920783\"/></g><g class=\"link\" style=\"opacity: 0.8;\"><path d=\"M1,1734.4997659808828 A275.37009600438756 275.37009600438756 1.3502321832442647 0 0 269.69902995816994,1519.3751766388523 L443.76172116519115,743.0438140136214 A312.8165150430222 312.8165150430222 1.3502321832442647 0 1 749,498.6653382296604 L749,500.6653382296604 A310.8165150430222 310.8165150430222 1.3502321832442647 0 0 445.71326952760944,743.4813742827757 L271.65057832058824,1519.8127369080066 A277.37009600438756 277.37009600438756 1.3502321832442647 0 1 1,1736.4997659808828 Z\" style=\"fill: rgb(31, 119, 180);\"/><title>Sweden → ACRE (ND)\n12.0k</title><text class=\"label\" dy=\"0.35em\" x=\"5\" y=\"1735.4997659808828\"/></g><g class=\"link\" style=\"opacity: 0.8;\"><path d=\"M1,1546.7878783637432 A554.668154317526 554.668154317526 0.2557918319764094 0 1 141.3374529070939,1564.8349739018358 L609.1685702053372,1687.1824411101643 A552.668154317526 552.668154317526 0.2557918319764094 0 0 749,1705.1644631609922 L749,1707.1644631609922 A554.668154317526 554.668154317526 0.2557918319764094 0 1 608.662547092906,1689.1173676228996 L140.83142979466277,1566.769900414571 A552.668154317526 552.668154317526 0.2557918319764094 0 0 1,1548.7878783637432 Z\" style=\"fill: rgb(31, 119, 180);\"/><title>UK → EPP (WMCES)\n12.4k</title><text class=\"label\" dy=\"0.35em\" x=\"5\" y=\"1547.7878783637432\"/></g><g class=\"link\" style=\"opacity: 0.8;\"><path d=\"M1,688.92229517158 A350.32736529466746 350.32736529466746 0.4325688544540298 0 0 147.8587817681262,656.6542971212766 L584.4338668740329,455.072794572068 A392.5677384807516 392.5677384807516 0.4325688544540298 0 1 749,418.9141147919312 L749,420.9141147919312 A390.5677384807516 390.5677384807516 0.4325688544540298 0 0 585.27227572425,456.8885783146645 L148.69719061834317,658.4700808638731 A352.32736529466746 352.32736529466746 0.4325688544540298 0 1 1,690.92229517158 Z\" style=\"fill: rgb(31, 119, 180);\"/><title>Romania → ACRE (ND)\n12.7k</title><text class=\"label\" dy=\"0.35em\" x=\"5\" y=\"689.92229517158\"/></g><g class=\"link\" style=\"opacity: 0.8;\"><path d=\"M1,1019.2671340282085 A356.6327902632379 356.6327902632379 0.41620260212619864 0 0 145.1831276213789,988.8216715388432 L604.008292059829,786.009233386768 A358.6327902632379 358.6327902632379 0.41620260212619864 0 1 749,755.3930324610021 L749,757.3930324610021 A356.6327902632379 356.6327902632379 0.41620260212619864 0 0 604.8168723786212,787.8384949503674 L145.99170794017095,990.6509331024427 A358.6327902632379 358.6327902632379 0.41620260212619864 0 1 1,1021.2671340282085 Z\" style=\"fill: rgb(31, 119, 180);\"/><title>Norway → ECPM (SALLUX)\n12.8k</title><text class=\"label\" dy=\"0.35em\" x=\"5\" y=\"1020.2671340282085\"/></g><g class=\"link\" style=\"opacity: 0.8;\"><path d=\"M1,2106.142930574375 A419.12337739800597 419.12337739800597 0.3455653144770583 0 0 142.96908606748676,2081.366081096514 L606.3480943705009,1914.544543048235 A421.1392080898227 421.1392080898227 0.3455653144770583 0 1 749,1889.6485259545423 L749,1891.6643566463588 A419.12337739800597 419.12337739800597 0.3455653144770583 0 0 607.0309139325133,1916.4412061242197 L143.651905629499,2083.262744172499 A421.1392080898227 421.1392080898227 0.3455653144770583 0 1 1,2108.1587612661915 Z\" style=\"fill: rgb(31, 119, 180);\"/><title>Switzerland → EPP (WMCES)\n13.0k</title><text class=\"label\" dy=\"0.35em\" x=\"5\" y=\"2107.1508459202832\"/></g><g class=\"link\" style=\"opacity: 0.8;\"><path d=\"M1,691.4939631559984 A1001.0768412491785 1001.0768412491785 0.04746362329007359 0 1 48.49689592340281,692.6213622016851 L701.6052872749907,723.6435519059668 A998.9231587508215 998.9231587508215 0.04746362329007359 0 0 749,724.7685255038823 L749,726.9222080022394 A1001.0768412491785 1001.0768412491785 0.04746362329007359 0 1 701.5031040765972,725.7948089565526 L48.39471272500929,694.7726192522709 A998.9231587508215 998.9231587508215 0.04746362329007359 0 0 1,693.6476456543554 Z\" style=\"fill: rgb(31, 119, 180);\"/><title>Romania → ECPM (SALLUX)\n13.9k</title><text class=\"label\" dy=\"0.35em\" x=\"5\" y=\"692.5708044051769\"/></g><g class=\"link\" style=\"opacity: 0.8;\"><path d=\"M1,595.2531540197984 A226.25860286085026 226.25860286085026 1.0295090651318088 0 1 194.91406298507334,704.9343510716114 L548.5556448857285,1293.1793502711776 A233.87813674447233 233.87813674447233 1.0295090651318088 0 0 749,1406.5541951523571 L749,1408.7896986678559 A236.11364025997125 236.11364025997125 1.0295090651318088 0 1 546.639715219291,1294.3311703443974 L192.9981333186358,706.0861711448315 A224.02309934535134 224.02309934535134 1.0295090651318088 0 0 1,597.4886575352974 Z\" style=\"fill: rgb(31, 119, 180);\"/><title>Poland → EPP (WMCES)\n14.4k</title><text class=\"label\" dy=\"0.35em\" x=\"5\" y=\"596.3709057775479\"/></g><g class=\"link\" style=\"opacity: 0.8;\"><path d=\"M1,1602.302127529844 A261.3294251711353 261.3294251711353 1.3035781270396947 0 0 253.0546243443204,1409.976577662343 L440.0564402104189,726.903746717259 A320.3116907700359 320.3116907700359 1.3035781270396947 0 1 749,491.1701625026467 L749,493.4627822548398 A318.0190710178428 318.0190710178428 1.3035781270396947 0 0 442.2676929617115,727.5091115643112 L255.26587709561304,1410.5819425093955 A263.6220449233284 263.6220449233284 1.3035781270396947 0 1 1,1604.594747282037 Z\" style=\"fill: rgb(31, 119, 180);\"/><title>Finland → ACRE (ND)\n14.8k</title><text class=\"label\" dy=\"0.35em\" x=\"5\" y=\"1603.4484374059405\"/></g><g class=\"link\" style=\"opacity: 0.8;\"><path d=\"M1,759.9423709002218 A297.07350775833635 297.07350775833635 0.5488760812035725 0 0 155.99178411847575,716.3056715727331 L545.2204202663278,478.2690536083878 A390.58531331394124 390.58531331394124 0.5488760812035725 0 1 749,420.8965399587415 L749,423.5326262480403 A387.9492270246425 387.9492270246425 0.5488760812035725 0 0 546.5957422199805,480.51792898253143 L157.3671060721285,718.5545469468767 A299.7095940476351 299.7095940476351 0.5488760812035725 0 1 1,762.5784571895207 Z\" style=\"fill: rgb(31, 119, 180);\"/><title>Belgium → ACRE (ND)\n17.0k</title><text class=\"label\" dy=\"0.35em\" x=\"5\" y=\"761.2604140448713\"/></g><g class=\"link\" style=\"opacity: 0.8;\"><path d=\"M1,1629.8125147735623 A231.16973803392884 231.16973803392884 0.9099591112856443 0 1 183.50357126030315,1719.095346223724 L477.54135512179204,2097.3046322828654 A343.8454567775915 343.8454567775915 0.9099591112856443 0 0 749,2230.1053017107633 L749,2232.741388000062 A346.48154306689025 346.48154306689025 0.9099591112856443 0 1 475.4602212932944,2098.9226041344477 L181.42243743180552,1720.7133180753058 A228.53365174463008 228.53365174463008 0.9099591112856443 0 0 1,1632.4486010628611 Z\" style=\"fill: rgb(31, 119, 180);\"/><title>Finland → ALDE (ELF)\n17.0k</title><text class=\"label\" dy=\"0.35em\" x=\"5\" y=\"1631.1305579182117\"/></g><g class=\"link\" style=\"opacity: 0.8;\"><path d=\"M1,1699.1659488071007 A267.7902401680746 267.7902401680746 0.6061728654224009 0 0 153.5671612139449,1651.4549535677409 L594.9133221173197,1345.4972931645023 A270.4573392372475 270.4573392372475 0.6061728654224009 0 1 749,1297.3111127544196 L749,1299.9782118235923 A267.7902401680746 267.7902401680746 0.6061728654224009 0 0 596.4328387860551,1347.6892070629522 L155.08667788268033,1653.6468674661908 A270.4573392372475 270.4573392372475 0.6061728654224009 0 1 1,1701.8330478762734 Z\" style=\"fill: rgb(31, 119, 180);\"/><title>Republic of Cyprus → EGP (GEF)\n17.2k</title><text class=\"label\" dy=\"0.35em\" x=\"5\" y=\"1700.499498341687\"/></g><g class=\"link\" style=\"opacity: 0.8;\"><path d=\"M1,432.9272572913743 A998.6044249056654 998.6044249056654 0.10503059081838906 0 0 105.69128239009608,427.42430395479875 L644.0161001476663,370.6749010721208 A1001.3955750943346 1001.3955750943346 0.10503059081838906 0 1 749,365.1565667009128 L749,367.947716889582 A998.6044249056654 998.6044249056654 0.10503059081838906 0 0 644.3087176099039,373.45067022615757 L105.98389985233369,430.2000731088355 A1001.3955750943346 1001.3955750943346 0.10503059081838906 0 1 1,435.71840748004354 Z\" style=\"fill: rgb(31, 119, 180);\"/><title>Lichtenstein → ACRE (ND)\n18.0k</title><text class=\"label\" dy=\"0.35em\" x=\"5\" y=\"434.3228323857089\"/></g><g class=\"link\" style=\"opacity: 0.8;\"><path d=\"M1,1731.7782323959905 A272.64856241949525 272.64856241949525 1.3627431488361648 0 0 267.7688676439113,1515.4467175322993 L479.50017361327394,512.4942690353413 A275.4397126081645 275.4397126081645 1.3627431488361648 0 1 749,293.9481312770029 L749,296.73928146567215 A272.64856241949525 272.64856241949525 1.3627431488361648 0 0 482.2311323560887,513.0707963293631 L270.49982638672606,1516.0232448263214 A275.4397126081645 275.4397126081645 1.3627431488361648 0 1 1,1734.5693825846597 Z\" style=\"fill: rgb(31, 119, 180);\"/><title>Sweden → ADDE (IDDE)\n18.0k</title><text class=\"label\" dy=\"0.35em\" x=\"5\" y=\"1733.173807490325\"/></g><g class=\"link\" style=\"opacity: 0.8;\"><path d=\"M1,1110.9687164370368 A237.47592717330895 237.47592717330895 0.752752868764874 0 0 163.3505168975652,1046.8050094039017 L582.8805518920353,653.8095357995703 A242.98887810654657 242.98887810654657 0.752752868764874 0 1 749,588.1562825510408 L749,591.1024966390806 A240.04266401850674 240.04266401850674 0.752752868764874 0 0 584.8947323850966,655.9597112328629 L165.36469739062662,1048.9551848371943 A240.42214126134877 240.42214126134877 0.752752868764874 0 1 1,1113.9149305250764 Z\" style=\"fill: rgb(31, 119, 180);\"/><title>Austria → MENL (FENL)\n19.0k</title><text class=\"label\" dy=\"0.35em\" x=\"5\" y=\"1112.4418234810566\"/></g><g class=\"link\" style=\"opacity: 0.8;\"><path d=\"M1,1113.9149305250767 A407.7562088866848 407.7562088866848 0.35596376371781435 0 0 143.10054061089116,1088.353125369967 L605.8690990674774,916.294974616435 A410.71281845853844 410.71281845853844 0.35596376371781435 0 1 749,890.5478227366198 L749,893.5044323084733 A407.7562088866848 407.7562088866848 0.35596376371781435 0 0 606.8994593891088,919.0662374635831 L144.13090093252268,1091.1243882171152 A410.71281845853844 410.71281845853844 0.35596376371781435 0 1 1,1116.8715400969304 Z\" style=\"fill: rgb(31, 119, 180);\"/><title>Austria → EL (TE)\n19.1k</title><text class=\"label\" dy=\"0.35em\" x=\"5\" y=\"1115.3932353110035\"/></g><g class=\"link\" style=\"opacity: 0.8;\"><path d=\"M1,1176.2405952341246 A223.05095693012638 223.05095693012638 1.0480633506651649 0 0 194.2642813277141,1064.5478304154333 L442.0035419693609,634.5915851070065 A354.3119984068882 354.3119984068882 1.0480633506651649 0 1 749,457.16985486579443 L749,460.2171008374691 A351.26475243521355 351.26475243521355 1.0480633506651649 0 0 444.6438525551118,636.1129226838314 L196.90459191346494,1066.0691679922581 A226.09820290180105 226.09820290180105 1.0480633506651649 0 1 1,1179.2878412057994 Z\" style=\"fill: rgb(31, 119, 180);\"/><title>Latvia → ACRE (ND)\n19.7k</title><text class=\"label\" dy=\"0.35em\" x=\"5\" y=\"1177.764218219962\"/></g><g class=\"link\" style=\"opacity: 0.8;\"><path d=\"M1,1777.8227190477533 A253.9964257101277 253.9964257101277 0.718000805666475 0 1 168.09925732108644,1840.5287307893245 L520.2404934090315,2148.1371352130673 A347.7220542618544 347.7220542618544 0.718000805666475 0 0 749,2233.9818991950265 L749,2237.1607091321216 A350.90086419895 350.90086419895 0.718000805666475 0 1 518.1492168165815,2150.5311683853624 L166.00798072863643,1842.9227639616192 A250.81761577303212 250.81761577303212 0.718000805666475 0 0 1,1781.0015289848488 Z\" style=\"fill: rgb(31, 119, 180);\"/><title>Sweden → ALDE (ELF)\n20.5k</title><text class=\"label\" dy=\"0.35em\" x=\"5\" y=\"1779.412124016301\"/></g><g class=\"link\" style=\"opacity: 0.8;\"><path d=\"M1,1538.811386619042 A255.80239354856047 255.80239354856047 0.8056292930892033 0 0 185.50174066298723,1460.192435404974 L564.079973262354,1065.9775924636199 A256.382326175219 256.382326175219 0.8056292930892033 0 1 749,987.1804032970049 L749,990.3747196240374 A253.1880098481864 253.1880098481864 0.8056292930892033 0 0 566.3839271636056,1068.1901595740267 L187.80569456423888,1462.4050025153808 A258.9967098755931 258.9967098755931 0.8056292930892033 0 1 1,1542.0057029460745 Z\" style=\"fill: rgb(31, 119, 180);\"/><title>UK → EAF (EFF)\n20.6k</title><text class=\"label\" dy=\"0.35em\" x=\"5\" y=\"1540.4085447825582\"/></g><g class=\"link\" style=\"opacity: 0.8;\"><path d=\"M1,1548.7471261295148 A242.66593115443533 242.66593115443533 0.7457844563798964 0 1 165.66054199466777,1613.161381126133 L573.779043887352,1990.1621205761448 A258.2291783918889 258.2291783918889 0.7457844563798964 0 0 749,2058.707548710086 L749,2061.9057416346027 A261.4273713164058 261.4273713164058 0.7457844563798964 0 1 571.6089156874469,1992.511371856533 L163.49041379476267,1615.5106324065212 A239.46773822991844 239.46773822991844 0.7457844563798964 0 0 1,1551.9453190540319 Z\" style=\"fill: rgb(31, 119, 180);\"/><title>UK → EUD (OEIC)\n20.6k</title><text class=\"label\" dy=\"0.35em\" x=\"5\" y=\"1550.3462225917733\"/></g><g class=\"link\" style=\"opacity: 0.8;\"><path d=\"M1,666.2621525851903 A370.9284368543924 370.9284368543924 0.4000309317018138 0 0 145.4569046711119,636.9769623493784 L594.8664881214335,446.9532519517134 A395.7754927544687 395.7754927544687 0.4000309317018138 0 1 749,415.7063605182141 L749,418.9316896251209 A392.55016364756193 392.55016364756193 0.4000309317018138 0 0 596.1225823246187,449.9239379331971 L146.71299887429717,639.9476483308621 A374.15376596129914 374.15376596129914 0.4000309317018138 0 1 1,669.4874816920969 Z\" style=\"fill: rgb(31, 119, 180);\"/><title>Luxembourg → ACRE (ND)\n20.8k</title><text class=\"label\" dy=\"0.35em\" x=\"5\" y=\"667.8748171386436\"/></g><g class=\"link\" style=\"opacity: 0.8;\"><path d=\"M1,1081.4971409764453 A257.9133440432799 257.9133440432799 0.6978707437766549 0 1 166.73193819616932,1141.7941453680446 L523.7754668710285,1441.2304983132692 A350.4961875913316 350.4961875913316 0.6978707437766549 0 0 749,1523.1722459992163 L749,1526.4632105534486 A353.7871521455638 353.7871521455638 0.6978707437766549 0 1 521.6607335828731,1443.7520753628912 L164.6172049080139,1144.3157224176666 A254.62237948904763 254.62237948904763 0.6978707437766549 0 0 1,1084.7881055306775 Z\" style=\"fill: rgb(31, 119, 180);\"/><title>Spain → EPP (WMCES)\n21.2k</title><text class=\"label\" dy=\"0.35em\" x=\"5\" y=\"1083.1426232535614\"/></g><g class=\"link\" style=\"opacity: 0.8;\"><path d=\"M1,519.5774551736812 A458.91081457789494 458.91081457789494 0.3145514571264041 0 1 142.9824018405196,542.0937999147733 L608.0632659397396,693.4094161726188 A455.5310418272152 455.5310418272152 0.3145514571264041 0 0 749,715.7599332060528 L749,719.1397059567327 A458.91081457789494 458.91081457789494 0.3145514571264041 0 1 607.0175981594804,696.6233612156406 L141.9367340602603,545.3077449577951 A455.5310418272152 455.5310418272152 0.3145514571264041 0 0 1,522.9572279243611 Z\" style=\"fill: rgb(31, 119, 180);\"/><title>Georgia → ECPM (SALLUX)\n21.8k</title><text class=\"label\" dy=\"0.35em\" x=\"5\" y=\"521.2673415490211\"/></g><g class=\"link\" style=\"opacity: 0.8;\"><path d=\"M1,1844.1814494538357 A985.4687374551565 985.4687374551565 0.14050168477800695 0 0 139.00491718853186,1834.4705074239819 L610.5159261162156,1767.783017920315 A988.8903107811896 988.8903107811896 0.14050168477800695 0 1 749,1758.0383592448109 L749,1761.4599325708439 A985.4687374551565 985.4687374551565 0.14050168477800695 0 0 610.995082811468,1771.1708746006977 L139.4840738837844,1837.8583641043647 A988.8903107811896 988.8903107811896 0.14050168477800695 0 1 1,1847.6030227798688 Z\" style=\"fill: rgb(31, 119, 180);\"/><title>Greece → EPP (WMCES)\n22.1k</title><text class=\"label\" dy=\"0.35em\" x=\"5\" y=\"1845.8922361168522\"/></g><g class=\"link\" style=\"opacity: 0.8;\"><path d=\"M1,1954.2883324865425 A276.1192189774863 276.1192189774863 0.899594301342686 0 0 217.22196320009076,1849.895307546645 L562.1770132534273,1415.5593662167403 A238.5762131840789 238.5762131840789 0.899594301342686 0 1 749,1325.3603113837532 L749,1328.8895657334263 A235.04695883440596 235.04695883440596 0.899594301342686 0 0 564.9406828992587,1417.7543072987278 L219.98563284592214,1852.0902486286325 A279.6484733271592 279.6484733271592 0.899594301342686 0 1 1,1957.8175868362155 Z\" style=\"fill: rgb(31, 119, 180);\"/><title>Hungary → EGP (GEF)\n22.8k</title><text class=\"label\" dy=\"0.35em\" x=\"5\" y=\"1956.052959661379\"/></g><g class=\"link\" style=\"opacity: 0.8;\"><path d=\"M1,1652.4266559943997 A248.4350990704325 248.4350990704325 1.1986189692831342 0 0 232.42667820840165,1494.3336349582946 L525.391192025773,743.8549461690955 A240.04266401850674 240.04266401850674 1.1986189692831342 0 1 749,591.1024966390806 L749,594.6379535447285 A236.50720711285896 236.50720711285896 1.1986189692831342 0 0 528.6846036680266,745.1405959216954 L235.72008985065537,1495.6192847108946 A251.97055597608028 251.97055597608028 1.1986189692831342 0 1 1,1655.9621129000473 Z\" style=\"fill: rgb(31, 119, 180);\"/><title>Italy → MENL (FENL)\n22.8k</title><text class=\"label\" dy=\"0.35em\" x=\"5\" y=\"1654.1943844472235\"/></g><g class=\"link\" style=\"opacity: 0.8;\"><path d=\"M1,590.5926620050478 A288.6731718060934 288.6731718060934 0.5520039629306781 0 1 152.37865413600488,633.4677394479787 L599.5578547868471,908.8701412750781 A284.98032504258464 284.98032504258464 0.5520039629306781 0 0 749,951.1967400007811 L749,954.88958676429 A288.6731718060934 288.6731718060934 0.5520039629306781 0 1 597.6213458639951,912.0145093213591 L150.44214521315294,636.6121074942597 A284.98032504258464 284.98032504258464 0.5520039629306781 0 0 1,594.2855087685567 Z\" style=\"fill: rgb(31, 119, 180);\"/><title>Poland → EAF (EFF)\n23.8k</title><text class=\"label\" dy=\"0.35em\" x=\"5\" y=\"592.4390853868023\"/></g><g class=\"link\" style=\"opacity: 0.8;\"><path d=\"M1,2067.918653422056 A236.67370456522647 236.67370456522647 1.1912958595611274 0 0 220.8343247199856,1918.9222669472915 L525.7089295293173,1154.5067449832015 A240.39523815011884 240.39523815011884 1.1912958595611274 0 1 749,1003.1674913221051 L749,1006.8890249069974 A236.67370456522647 236.67370456522647 1.1912958595611274 0 0 529.1656752800144,1155.8854113817622 L224.2910704706826,1920.3009333458522 A240.39523815011884 240.39523815011884 1.1912958595611274 0 1 1,2071.6401870069485 Z\" style=\"fill: rgb(31, 119, 180);\"/><title>India → EAF (EFF)\n24.0k</title><text class=\"label\" dy=\"0.35em\" x=\"5\" y=\"2069.7794202145024\"/></g><g class=\"link\" style=\"opacity: 0.8;\"><path d=\"M1,1581.9669387291092 A691.2215795801947 691.2215795801947 0.20319393968237565 0 1 140.48753714408832,1596.187411176667 L610.2729488284033,1692.9807684868322 A687.4530399248472 687.4530399248472 0.20319393968237565 0 0 749,1707.1237109267638 L749,1710.8922505821113 A691.2215795801947 691.2215795801947 0.20319393968237565 0 1 609.5124628559117,1696.6717781345535 L139.72705117159666,1599.8784208243883 A687.4530399248472 687.4530399248472 0.20319393968237565 0 0 1,1585.7354783844567 Z\" style=\"fill: rgb(31, 119, 180);\"/><title>Bulgaria → EPP (WMCES)\n24.3k</title><text class=\"label\" dy=\"0.35em\" x=\"5\" y=\"1583.851208556783\"/></g><g class=\"link\" style=\"opacity: 0.8;\"><path d=\"M1,1064.9475865678803 A0 0 0 0 1 1,1064.9475865678803 L749,1065.3314991810407 A0 0 0 0 0 749,1065.3314991810407 L749,1069.1642632022294 A0 0 0 0 1 749,1069.1642632022294 L1,1068.780350589069 A0 0 0 0 0 1,1068.780350589069 Z\" style=\"fill: rgb(31, 119, 180);\"/><title>Spain → EFA (CMC)\n24.7k</title><text class=\"label\" dy=\"0.35em\" x=\"5\" y=\"1066.8639685784747\"/></g><g class=\"link\" style=\"opacity: 0.8;\"><path d=\"M1,1542.9473811967277 A355.00948634235107 355.00948634235107 0.41715211027282484 0 0 144.83508484245962,1512.504072638542 L603.5923942576782,1309.2007063656818 A358.89073574359503 358.89073574359503 0.41715211027282484 0 1 749,1278.4245670588566 L749,1282.3058164601007 A355.00948634235107 355.00948634235107 0.41715211027282484 0 0 605.1649151575403,1312.7491250182863 L146.4076057423218,1516.0524912911467 A358.89073574359503 358.89073574359503 0.41715211027282484 0 1 1,1546.8286305979718 Z\" style=\"fill: rgb(31, 119, 180);\"/><title>UK → EGP (GEF)\n25.0k</title><text class=\"label\" dy=\"0.35em\" x=\"5\" y=\"1544.8880058973498\"/></g><g class=\"link\" style=\"opacity: 0.8;\"><path d=\"M1,1765.393449693229 A998.029943395958 998.029943395958 0.031185817323860388 0 0 32.11933471427935,1764.908169418617 L717.7578095512351,1743.519038705736 A1001.970056604042 1001.970056604042 0.031185817323860388 0 1 749,1743.031842597604 L749,1746.971955805688 A998.029943395958 998.029943395958 0.031185817323860388 0 0 717.8806652857206,1747.4572360803 L32.24219044876493,1768.846366793181 A1001.970056604042 1001.970056604042 0.031185817323860388 0 1 1,1769.333562901313 Z\" style=\"fill: rgb(31, 119, 180);\"/><title>Sweden → EPP (WMCES)\n25.4k</title><text class=\"label\" dy=\"0.35em\" x=\"5\" y=\"1767.363506297271\"/></g><g class=\"link\" style=\"opacity: 0.8;\"><path d=\"M1,538.2833658747842 A358.4183130734704 358.4183130734704 0.4123994725133069 0 0 144.6572084373303,508.2341950945958 L603.7523481625686,307.3860711829747 A362.3863982583619 362.3863982583619 0.4123994725133069 0 1 749,277.004223011476 L749,280.97230819636746 A358.4183130734704 358.4183130734704 0.4123994725133069 0 0 605.3427915626697,311.0214789765559 L146.24765183743133,511.869602888177 A362.3863982583619 362.3863982583619 0.4123994725133069 0 1 1,542.2514510596758 Z\" style=\"fill: rgb(31, 119, 180);\"/><title>Poland → ADDE (IDDE)\n25.6k</title><text class=\"label\" dy=\"0.35em\" x=\"5\" y=\"540.26740846723\"/></g><g class=\"link\" style=\"opacity: 0.8;\"><path d=\"M1,617.9686543090985 A837.0492902312589 837.0492902312589 0.16674822922770693 0 1 139.9305655173119,629.5787812813718 L610.7977908269902,708.8309573443047 A832.6609818790733 832.6609818790733 0.16674822922770693 0 0 749,720.3802171516967 L749,724.7685255038822 A837.0492902312589 837.0492902312589 0.16674822922770693 0 1 610.0694344826882,713.1583985316089 L139.2022091730098,633.906222468676 A832.6609818790733 832.6609818790733 0.16674822922770693 0 0 1,622.356962661284 Z\" style=\"fill: rgb(31, 119, 180);\"/><title>France → ECPM (SALLUX)\n28.3k</title><text class=\"label\" dy=\"0.35em\" x=\"5\" y=\"620.1628084851912\"/></g><g class=\"link\" style=\"opacity: 0.8;\"><path d=\"M1,1247.3634003397372 A354.53700089108247 354.53700089108247 0.4173818864171226 0 0 144.71812789681124,1216.9275946249134 L603.4589895698817,1013.5053955997944 A359.0338539728274 359.0338539728274 0.4173818864171226 0 1 749,982.68355021526 L749,987.180403297005 A354.53700089108247 354.53700089108247 0.4173818864171226 0 0 605.2818721031887,1017.6162090118289 L146.54101043011823,1221.0384080369479 A359.0338539728274 359.0338539728274 0.4173818864171226 0 1 1,1251.8602534214822 Z\" style=\"fill: rgb(31, 119, 180);\"/><title>Germany → EAF (EFF)\n29.0k</title><text class=\"label\" dy=\"0.35em\" x=\"5\" y=\"1249.6118268806097\"/></g><g class=\"link\" style=\"opacity: 0.8;\"><path d=\"M1,1179.2878412057992 A431.46873428406684 431.46873428406684 0.3334756470578011 0 0 142.23230432444475,1155.5183893345202 L606.295744471496,994.7608117964309 A435.96558736581176 435.96558736581176 0.3334756470578011 0 1 749,970.7436299637303 L749,975.2404830454753 A431.46873428406684 431.46873428406684 0.3334756470578011 0 0 607.7676956755553,999.0099349167543 L143.70425552850392,1159.7675124548437 A435.96558736581176 435.96558736581176 0.3334756470578011 0 1 1,1183.7846942875442 Z\" style=\"fill: rgb(31, 119, 180);\"/><title>Latvia → EAF (EFF)\n29.0k</title><text class=\"label\" dy=\"0.35em\" x=\"5\" y=\"1181.5362677466717\"/></g><g class=\"link\" style=\"opacity: 0.8;\"><path d=\"M1,1021.2603183036766 A482.2122326297551 482.2122326297551 0.2983049050884714 0 1 142.72236653553094,1042.556714666829 L608.624918161067,1185.8123960644216 A477.6280785726645 477.6280785726645 0.2983049050884714 0 0 749,1206.906338082405 L749,1211.4904921394955 A482.2122326297551 482.2122326297551 0.2983049050884714 0 1 607.2776334644691,1190.1940957763431 L141.37508183893314,1046.9384143787506 A477.6280785726645 477.6280785726645 0.2983049050884714 0 0 1,1025.8444723607672 Z\" style=\"fill: rgb(31, 119, 180);\"/><title>Norway → EGP (GEF)\n29.6k</title><text class=\"label\" dy=\"0.35em\" x=\"5\" y=\"1023.5523953322219\"/></g><g class=\"link\" style=\"opacity: 0.8;\"><path d=\"M1,669.487481692097 A247.49631420611337 247.49631420611337 0.721670496459085 0 1 164.5058759606041,731.1875255589844 L574.3410123858268,1091.8538234254186 A264.3786067229442 264.3786067229442 0.721670496459085 0 0 749,1157.762569115617 L749,1162.5090750753486 A269.1251126826757 269.1251126826757 0.721670496459085 0 1 571.2052823965237,1095.41704054762 L161.37014597130087,734.750742681186 A242.74980824638186 242.74980824638186 0.721670496459085 0 0 1,674.2339876518284 Z\" style=\"fill: rgb(31, 119, 180);\"/><title>Luxembourg → EGP (GEF)\n30.6k</title><text class=\"label\" dy=\"0.35em\" x=\"5\" y=\"671.8607346719627\"/></g><g class=\"link\" style=\"opacity: 0.8;\"><path d=\"M1,754.9803261203654 A245.67541317757298 245.67541317757298 0.7118094569744355 0 0 161.47639017384265,695.3257097283771 L560.605551248468,351.0050311313615 A288.4155356887998 288.4155356887998 0.7118094569744355 0 1 749,280.97230819636746 L749,285.9343529762239 A283.45349090894337 283.45349090894337 0.7118094569744355 0 0 563.846783343504,354.76219800327584 L164.71762226887844,699.0828766002916 A250.6374579574295 250.6374579574295 0.7118094569744355 0 1 1,759.9423709002219 Z\" style=\"fill: rgb(31, 119, 180);\"/><title>Belgium → ADDE (IDDE)\n32.0k</title><text class=\"label\" dy=\"0.35em\" x=\"5\" y=\"757.4613485102936\"/></g><g class=\"link\" style=\"opacity: 0.8;\"><path d=\"M1,821.3734874801912 A268.14004392960805 268.14004392960805 0.6450601085355916 0 0 162.21825491712664,767.494399956664 L515.7468966560616,501.4857363140351 A387.9492270246425 387.9492270246425 0.6450601085355916 0 1 749,423.5326262480403 L749,428.5101774178338 A382.97167585484897 382.97167585484897 0.6450601085355916 0 0 518.7396317268647,505.4631164120266 L165.21098998792976,771.4717800546555 A273.11759509940157 273.11759509940157 0.6450601085355916 0 1 1,826.3510386499847 Z\" style=\"fill: rgb(31, 119, 180);\"/><title>Netherlands → ACRE (ND)\n32.1k</title><text class=\"label\" dy=\"0.35em\" x=\"5\" y=\"823.862263065088\"/></g><g class=\"link\" style=\"opacity: 0.8;\"><path d=\"M1,1647.1544834158021 A243.16292649183498 243.16292649183498 1.2986208432047988 0 0 235.2116970559127,1469.3604316447615 L442.68773688560276,725.9895904836558 A318.0190710178428 318.0190710178428 1.2986208432047988 0 1 749,493.4627822548398 L749,498.7349548334373 A312.7468984392453 312.7468984392453 1.2986208432047988 0 0 447.76583207313723,727.4068953079104 L240.28979224344712,1470.7777364690162 A248.4350990704325 248.4350990704325 1.2986208432047988 0 1 1,1652.4266559943999 Z\" style=\"fill: rgb(31, 119, 180);\"/><title>Italy → ACRE (ND)\n34.0k</title><text class=\"label\" dy=\"0.35em\" x=\"5\" y=\"1649.790569705101\"/></g><g class=\"link\" style=\"opacity: 0.8;\"><path d=\"M1,277.4986540510087 A997.3639137107012 997.3639137107012 0.02020330037310214 0 0 21.148671972905234,277.29511229160767 L728.7448199868395,262.99738940103117 A1002.6360862892988 1002.6360862892988 0.02020330037310214 0 1 749,262.79277169806755 L749,268.0649442766651 A997.3639137107012 997.3639137107012 0.02020330037310214 0 0 728.8513280270947,268.2684860360661 L21.25518001316056,282.5662089266426 A1002.6360862892988 1002.6360862892988 0.02020330037310214 0 1 1,282.77082662960623 Z\" style=\"fill: rgb(31, 119, 180);\"/><title>Monaco → ADDE (IDDE)\n34.0k</title><text class=\"label\" dy=\"0.35em\" x=\"5\" y=\"280.1347403403075\"/></g><g class=\"link\" style=\"opacity: 0.8;\"><path d=\"M1,1241.6072733312044 A221.8910234897899 221.8910234897899 1.1018823701887408 0 0 198.94002131000505,1119.9927389559684 L435.650899667065,652.7390813934186 A351.26475243521355 351.26475243521355 1.1018823701887408 0 1 749,460.2171008374691 L749,465.663100047261 A345.81875322542163 345.81875322542163 1.1018823701887408 0 0 440.50905563338813,655.2002250300096 L203.79817727632823,1122.4538825925592 A227.33702269958175 227.33702269958175 1.1018823701887408 0 1 1,1247.0532725409962 Z\" style=\"fill: rgb(31, 119, 180);\"/><title>Germany → ACRE (ND)\n35.1k</title><text class=\"label\" dy=\"0.35em\" x=\"5\" y=\"1244.3302729361003\"/></g><g class=\"link\" style=\"opacity: 0.8;\"><path d=\"M1,612.3863539317599 A997.2088498113308 997.2088498113308 0.0457793927596708 0 0 46.635671519552986,611.3415847953933 L703.1088634127314,581.2676285789325 A1002.7911501886692 1002.7911501886692 0.0457793927596708 0 1 749,580.2170109032703 L749,585.7993112806088 A997.2088498113308 997.2088498113308 0.0457793927596708 0 0 703.364328480447,586.8440804169754 L46.89113658726863,616.9180366334361 A1002.7911501886692 1002.7911501886692 0.0457793927596708 0 1 1,617.9686543090984 Z\" style=\"fill: rgb(31, 119, 180);\"/><title>France → MENL (FENL)\n36.0k</title><text class=\"label\" dy=\"0.35em\" x=\"5\" y=\"615.1775041204291\"/></g><g class=\"link\" style=\"opacity: 0.8;\"><path d=\"M1,913.6531836699425 A357.5639598476832 357.5639598476832 0.4124637005202838 0 0 144.3358160863234,883.6664348868009 L603.426420408189,682.7851641348109 A363.14626022502176 363.14626022502176 0.4124637005202838 0 1 749,652.330261237036 L749,657.9125616143745 A357.5639598476832 357.5639598476832 0.4124637005202838 0 0 605.6641839136767,687.899310397516 L146.5735795918111,888.780581149506 A363.14626022502176 363.14626022502176 0.4124637005202838 0 1 1,919.2354840472809 Z\" style=\"fill: rgb(31, 119, 180);\"/><title>USA → PES (FEPS)\n36.0k</title><text class=\"label\" dy=\"0.35em\" x=\"5\" y=\"916.4443338586117\"/></g><g class=\"link\" style=\"opacity: 0.8;\"><path d=\"M1,1042.8197071278007 A250.83827229510186 250.83827229510186 0.7441732032250635 0 1 170.90876793844512,1109.1292569279174 L515.4246440761707,1426.3496183889129 A344.8299898912386 344.8299898912386 0.7441732032250635 0 0 749,1517.5060482991234 L749,1523.1722459992166 A350.4961875913316 350.4961875913316 0.7441732032250635 0 1 511.5865668110481,1430.517946505015 L167.0706906733226,1113.2975850440196 A245.17207459500887 245.17207459500887 0.7441732032250635 0 0 1,1048.4859048278938 Z\" style=\"fill: rgb(31, 119, 180);\"/><title>Croatia → EPP (WMCES)\n36.5k</title><text class=\"label\" dy=\"0.35em\" x=\"5\" y=\"1045.6528059778473\"/></g><g class=\"link\" style=\"opacity: 0.8;\"><path d=\"M1,1655.9621129000475 A251.97055597608028 251.97055597608028 1.0572851356900637 0 0 220.47266555501025,1527.7692211169613 L550.045468384746,943.3970566956204 A228.41424839072315 228.41424839072315 1.0572851356900637 0 1 749,827.1887048418165 L749,832.855515044312 A222.74743818822762 222.74743818822762 1.0572851356900637 0 0 554.9814020120626,946.1808126292165 L225.40859918232692,1530.5529770505575 A257.6373661785758 257.6373661785758 1.0572851356900637 0 1 1,1661.628923102543 Z\" style=\"fill: rgb(31, 119, 180);\"/><title>Italy → EDP (IED)\n36.5k</title><text class=\"label\" dy=\"0.35em\" x=\"5\" y=\"1658.7955180012952\"/></g><g class=\"link\" style=\"opacity: 0.8;\"><path d=\"M1,815.6361232034822 A235.02592552591693 235.02592552591693 0.7807498850776601 0 0 166.41414304850656,747.5693152747843 L549.5019395715979,368.026463790145 A283.45349090894337 283.45349090894337 0.7807498850776601 0 1 749,285.934352976224 L749,291.67171725293304 A277.7161266322343 277.7161266322343 0.7807498850776601 0 0 553.5399672617996,372.1022068164926 L170.45217073870833,751.645058301132 A240.763289802626 240.763289802626 0.7807498850776601 0 1 1,821.3734874801912 Z\" style=\"fill: rgb(31, 119, 180);\"/><title>Netherlands → ADDE (IDDE)\n37.0k</title><text class=\"label\" dy=\"0.35em\" x=\"5\" y=\"818.5048053418367\"/></g><g class=\"link\" style=\"opacity: 0.8;\"><path d=\"M1,2045.5296649831048 A1002.911169646782 1002.911169646782 0.03542688900873614 0 1 36.52259108091847,2046.1589582472127 L713.6836331432394,2070.1587085768538 A997.088830353218 997.088830353218 0.03542688900873614 0 0 749,2070.784348517507 L749,2076.6066878110714 A1002.911169646782 1002.911169646782 0.03542688900873614 0 1 713.4774089190814,2075.9773945469638 L36.31636685676063,2051.9776442173224 A997.088830353218 997.088830353218 0.03542688900873614 0 0 1,2051.352004276669 Z\" style=\"fill: rgb(31, 119, 180);\"/><title>Czech Republic → EUD (OEIC)\n37.5k</title><text class=\"label\" dy=\"0.35em\" x=\"5\" y=\"2048.440834629887\"/></g><g class=\"link\" style=\"opacity: 0.8;\"><path d=\"M1,793.2882049889181 A261.92204686434366 261.92204686434366 0.9573736495002236 0 1 215.16906891387416,904.4297207686033 L518.3456995458084,1335.0626163539766 A282.08296743970914 282.08296743970914 0.9573736495002236 0 0 749,1454.7590258475939 L749,1460.5917761313617 A287.915717723477 287.915717723477 0.9573736495002236 0 1 513.5763618270607,1338.4203527339394 L210.39973119512652,907.787457148566 A256.0892965805758 256.0892965805758 0.9573736495002236 0 0 1,799.1209552726859 Z\" style=\"fill: rgb(31, 119, 180);\"/><title>Belgium → EPP (WMCES)\n37.6k</title><text class=\"label\" dy=\"0.35em\" x=\"5\" y=\"796.204580130802\"/></g><g class=\"link\" style=\"opacity: 0.8;\"><path d=\"M1,1532.5610709632151 A249.55207789273373 249.55207789273373 1.0435589779036398 0 0 216.66300264344346,1408.5705670945242 L515.4327115868365,895.4074196072044 A270.2698257783365 270.2698257783365 1.0435589779036398 0 1 749,761.1232567112999 L749,767.3735723671267 A264.01951012250976 264.01951012250976 1.0435589779036398 0 0 520.8342368042876,898.5522520546828 L222.06452786089454,1411.7153995420024 A255.80239354856047 255.80239354856047 1.0435589779036398 0 1 1,1538.811386619042 Z\" style=\"fill: rgb(31, 119, 180);\"/><title>UK → ECPM (SALLUX)\n40.3k</title><text class=\"label\" dy=\"0.35em\" x=\"5\" y=\"1535.6862287911285\"/></g><g class=\"link\" style=\"opacity: 0.8;\"><path d=\"M1,452.8562422519572 A233.87813674447233 233.87813674447233 1.119767906957024 0 1 211.49015913776398,584.7889242020892 L544.2469479166613,1271.8428940484225 A227.50356838607996 227.50356838607996 1.119767906957024 0 0 749,1400.1796267939649 L749,1406.5541951523574 A233.87813674447233 233.87813674447233 1.119767906957024 0 1 538.509840862236,1274.6215132022255 L205.75305208333864,587.567543355892 A227.50356838607996 227.50356838607996 1.119767906957024 0 0 1,459.2308106103496 Z\" style=\"fill: rgb(31, 119, 180);\"/><title>Lithuania → EPP (WMCES)\n41.1k</title><text class=\"label\" dy=\"0.35em\" x=\"5\" y=\"456.0435264311534\"/></g><g class=\"link\" style=\"opacity: 0.8;\"><path d=\"M1,927.0725685853663 A1003.5187875364654 1003.5187875364654 0.04145785344262887 0 1 42.59181808317119,927.934845841669 L707.6998611019277,955.52460609083 A996.4812124635346 996.4812124635346 0.04145785344262887 0 0 749,956.3808362845363 L749,963.4184113574671 A1003.5187875364654 1003.5187875364654 0.04145785344262887 0 1 707.4081819168288,962.5561341011644 L42.30013889807236,934.9663738520034 A996.4812124635346 996.4812124635346 0.04145785344262887 0 0 1,934.1101436582971 Z\" style=\"fill: rgb(31, 119, 180);\"/><title>USA → EAF (EFF)\n45.4k</title><text class=\"label\" dy=\"0.35em\" x=\"5\" y=\"930.5913561218317\"/></g><g class=\"link\" style=\"opacity: 0.8;\"><path d=\"M1,297.47670898254745 A996.4607440288177 996.4607440288177 0.04161323072070133 0 0 42.4539843867482,296.61406738710025 L707.2515408682119,268.9337137791793 A1003.5392559711823 1003.5392559711823 0.04161323072070133 0 1 749,268.0649442766651 L749,275.14345621902976 A996.4607440288177 996.4607440288177 0.04161323072070133 0 0 707.5460156132518,276.00609781447696 L42.74845913178814,303.6864514223979 A1003.5392559711823 1003.5392559711823 0.04161323072070133 0 1 1,304.55522092491213 Z\" style=\"fill: rgb(31, 119, 180);\"/><title>Iceland → ADDE (IDDE)\n45.6k</title><text class=\"label\" dy=\"0.35em\" x=\"5\" y=\"301.0159649537298\"/></g><g class=\"link\" style=\"opacity: 0.8;\"><path d=\"M1,1116.8715400969302 A566.2689400006154 566.2689400006154 0.24804918625427463 0 0 140.0265686125847,1099.5398693987652 L608.1749926329169,980.9742834336482 A573.5941586068786 573.5941586068786 0.24804918625427463 0 1 749,963.4184113574671 L749,970.7436299637303 A566.2689400006154 566.2689400006154 0.24804918625427463 0 0 609.9734313874153,988.0753006618954 L141.82500736708306,1106.6408866270124 A573.5941586068786 573.5941586068786 0.24804918625427463 0 1 1,1124.1967587031934 Z\" style=\"fill: rgb(31, 119, 180);\"/><title>Austria → EAF (EFF)\n47.2k</title><text class=\"label\" dy=\"0.35em\" x=\"5\" y=\"1120.5341494000618\"/></g><g class=\"link\" style=\"opacity: 0.8;\"><path d=\"M1,1836.8081610387678 A235.84476137191388 235.84476137191388 0.7488722527513428 0 0 161.5662188228822,1773.7095742684853 L581.3273664646591,1383.544869081681 A246.28288898279354 246.28288898279354 0.7488722527513428 0 1 749,1317.6536355850387 L749,1325.0269240001069 A238.9096005677255 238.9096005677255 0.7488722527513428 0 0 586.3471982990033,1388.9454866766123 L166.5860506572264,1779.1101918634165 A243.2180497869819 243.2180497869819 0.7488722527513428 0 1 1,1844.181449453836 Z\" style=\"fill: rgb(31, 119, 180);\"/><title>Greece → EGP (GEF)\n47.6k</title><text class=\"label\" dy=\"0.35em\" x=\"5\" y=\"1840.494805246302\"/></g><g class=\"link\" style=\"opacity: 0.8;\"><path d=\"M1,1200.618053339849 A402.46288511834996 402.46288511834996 0.35899620261298315 0 0 142.39913883838017,1174.9610299507863 L604.9858540962744,1001.3720022340834 A409.9059522881347 409.9059522881347 0.35899620261298315 0 1 749,975.2404830454752 L749,982.6835502152601 A402.46288511834996 402.46288511834996 0.35899620261298315 0 0 607.6008611616198,1008.3405736043229 L145.0141459037256,1181.9296013210255 A409.9059522881347 409.9059522881347 0.35899620261298315 0 1 1,1208.0611205096336 Z\" style=\"fill: rgb(31, 119, 180);\"/><title>Malta → EAF (EFF)\n48.0k</title><text class=\"label\" dy=\"0.35em\" x=\"5\" y=\"1204.3395869247413\"/></g><g class=\"link\" style=\"opacity: 0.8;\"><path d=\"M1,2108.9649384790187 A658.8394789891975 658.8394789891975 0.21425895434211006 0 1 141.0846806374099,2124.029813025425 L610.4978895040177,2226.1736363406926 A651.3964118194126 651.3964118194126 0.21425895434211006 0 0 749,2241.068319396259 L749,2248.5113865660437 A658.8394789891975 658.8394789891975 0.21425895434211006 0 1 608.9153193625901,2233.4465120196373 L139.50211049598218,2131.3026887043698 A651.3964118194126 651.3964118194126 0.21425895434211006 0 0 1,2116.4080056488033 Z\" style=\"fill: rgb(31, 119, 180);\"/><title>Switzerland → ALDE (ELF)\n48.0k</title><text class=\"label\" dy=\"0.35em\" x=\"5\" y=\"2112.686472063911\"/></g><g class=\"link\" style=\"opacity: 0.8;\"><path d=\"M1,862.5863706548869 A269.67019392967507 269.67019392967507 0.893544850323679 0 1 211.1534514070018,963.2668005282928 L524.6278478084541,1353.0994433477497 A287.915717723477 287.915717723477 0.893544850323679 0 0 749,1460.5917761313617 L749,1468.2856762154074 A295.60961780752245 295.60961780752245 0.893544850323679 0 1 518.6320066148796,1357.9208525696174 L205.15761021342723,968.0882097501603 A261.9762938456296 261.9762938456296 0.893544850323679 0 0 1,870.2802707389324 Z\" style=\"fill: rgb(31, 119, 180);\"/><title>Netherlands → EPP (WMCES)\n49.6k</title><text class=\"label\" dy=\"0.35em\" x=\"5\" y=\"866.4333206969096\"/></g><g class=\"link\" style=\"opacity: 0.8;\"><path d=\"M1,919.235484047281 A510.7021163519653 510.7021163519653 0.2766013609879572 0 0 140.46650632314984,899.823246748804 L607.3932816720644,767.2728954325755 A518.5392008900506 518.5392008900506 0.2766013609879572 0 1 749,747.5627636474487 L749,755.399848185534 A510.7021163519653 510.7021163519653 0.2766013609879572 0 0 609.5334936768502,774.812085484011 L142.6067183279355,907.3624368002395 A518.5392008900506 518.5392008900506 0.2766013609879572 0 1 1,927.0725685853663 Z\" style=\"fill: rgb(31, 119, 180);\"/><title>USA → ECPM (SALLUX)\n50.5k</title><text class=\"label\" dy=\"0.35em\" x=\"5\" y=\"923.1540263163237\"/></g><g class=\"link\" style=\"opacity: 0.8;\"><path d=\"M1,304.55522092491213 A1003.9851422138223 1003.9851422138223 0.07385359347235543 0 1 75.08052410906551,307.29202145030246 L675.5075750797295,351.71651512802464 A996.0148577861777 996.0148577861777 0.07385359347235543 0 0 749,354.43158915797994 L749,362.40187358562446 A1003.9851422138223 1003.9851422138223 0.07385359347235543 0 1 674.9194758909345,359.66507306023414 L74.49242492027047,315.24057938251195 A996.0148577861777 996.0148577861777 0.07385359347235543 0 0 1,312.52550535255665 Z\" style=\"fill: rgb(31, 119, 180);\"/><title>Iceland → ACRE (ND)\n51.4k</title><text class=\"label\" dy=\"0.35em\" x=\"5\" y=\"308.5403631387344\"/></g><g class=\"link\" style=\"opacity: 0.8;\"><path d=\"M1,1769.7825426687455 A334.7210470182499 334.7210470182499 0.4577925243520431 0 1 148.9363307263081,1804.2486623864932 L604.6171780909546,2028.763720798552 A326.68087063924213 326.68087063924213 0.4577925243520431 0 0 749,2062.4019461125886 L749,2070.4421224915964 A334.7210470182499 334.7210470182499 0.4577925243520431 0 1 601.063669273692,2035.9760027738487 L145.38282190904542,1811.4609443617899 A326.68087063924213 326.68087063924213 0.4577925243520431 0 0 1,1777.8227190477533 Z\" style=\"fill: rgb(31, 119, 180);\"/><title>Sweden → EUD (OEIC)\n51.9k</title><text class=\"label\" dy=\"0.35em\" x=\"5\" y=\"1773.8026308582494\"/></g><g class=\"link\" style=\"opacity: 0.8;\"><path d=\"M1,2164.2057139600774 A361.4941275211071 361.4941275211071 0.4050275197655113 0 0 143.44461139861698,2134.9577856884775 L603.0548607024181,1937.9081173859186 A370.37772280965396 370.37772280965396 0.4050275197655113 0 1 749,1907.941431220311 L749,1916.825026508858 A361.4941275211071 361.4941275211071 0.4050275197655113 0 0 606.555388601383,1946.0729547804576 L146.945139297582,2143.1226230830166 A370.37772280965396 370.37772280965396 0.4050275197655113 0 1 1,2173.089309248624 Z\" style=\"fill: rgb(31, 119, 180);\"/><title>Slovenia → EPP (WMCES)\n57.3k</title><text class=\"label\" dy=\"0.35em\" x=\"5\" y=\"2168.6475116043507\"/></g><g class=\"link\" style=\"opacity: 0.8;\"><path d=\"M1,2188.98143043175 A221.44920546617524 221.44920546617524 1.0568121741287722 0 0 193.83633235833298,2076.407839885477 L547.4327249497745,1450.1314093676413 A231.4756371994728 231.4756371994728 1.0568121741287722 0 1 749,1332.4608873683594 L749,1342.487319101657 A221.44920546617524 221.44920546617524 1.0568121741287722 0 0 556.1636676416671,1455.06090964793 L202.56727505022548,2081.3373401657655 A231.4756371994728 231.4756371994728 1.0568121741287722 0 1 1,2199.0078621650478 Z\" style=\"fill: rgb(31, 119, 180);\"/><title>Denmark → EGP (GEF)\n64.7k</title><text class=\"label\" dy=\"0.35em\" x=\"5\" y=\"2193.994646298399\"/></g><g class=\"link\" style=\"opacity: 0.8;\"><path d=\"M1,1811.0358752467039 A994.4667982804386 994.4667982804386 0.09829949095724344 0 0 98.5982241499841,1806.2350809923287 L650.3157050779668,1751.8261731870487 A1005.5332017195614 1005.5332017195614 0.09829949095724344 0 1 749,1746.9719558056881 L749,1758.038359244811 A994.4667982804386 994.4667982804386 0.09829949095724344 0 0 651.401775850016,1762.8391534991863 L99.68429492203325,1817.2480613044663 A1005.5332017195614 1005.5332017195614 0.09829949095724344 0 1 1,1822.1022786858268 Z\" style=\"fill: rgb(31, 119, 180);\"/><title>Estonia → EPP (WMCES)\n71.4k</title><text class=\"label\" dy=\"0.35em\" x=\"5\" y=\"1816.5690769662654\"/></g><g class=\"link\" style=\"opacity: 0.8;\"><path d=\"M1,1099.4939878836187 A220.6985495959339 220.6985495959339 0.9858797908196608 0 0 185.00921922251044,1000.6496833301576 L444.02232727331136,609.5201025411479 A365.7867269603064 365.7867269603064 0.9858797908196608 0 1 749,445.69512631237626 L749,457.1698548657944 A354.3119984068883 354.3119984068883 0.9858797908196608 0 0 453.5894759735203,615.8556420700847 L194.5763679227193,1006.9852228590944 A232.1732781493521 232.1732781493521 0.9858797908196608 0 1 1,1110.9687164370368 Z\" style=\"fill: rgb(31, 119, 180);\"/><title>Austria → ACRE (ND)\n74.0k</title><text class=\"label\" dy=\"0.35em\" x=\"5\" y=\"1105.2313521603278\"/></g><g class=\"link\" style=\"opacity: 0.8;\"><path d=\"M1,870.2802707389324 A261.9762938456296 261.9762938456296 1.2929250739601716 0 1 252.92728970357365,1060.3940622644832 L508.1072860670503,1954.9747238740977 A250.50156529221138 250.50156529221138 1.2929250739601716 0 0 749,2136.761410225383 L749,2148.2361387788014 A261.9762938456296 261.9762938456296 1.2929250739601716 0 1 497.07271029642635,1958.1223472532504 L241.89271393294968,1063.541685643636 A250.50156529221138 250.50156529221138 1.2929250739601716 0 0 1,881.7549992923505 Z\" style=\"fill: rgb(31, 119, 180);\"/><title>Netherlands → ALDE (ELF)\n74.0k</title><text class=\"label\" dy=\"0.35em\" x=\"5\" y=\"876.0176350156414\"/></g><g class=\"link\" style=\"opacity: 0.8;\"><path d=\"M1,1617.805954260639 A921.3073285735803 921.3073285735803 0.1517199274157306 0 1 140.2450307950371,1628.3893866492801 L611.4946274393419,1700.4410423396232 A909.7969725386428 909.7969725386428 0.1517199274157306 0 0 749,1710.8922505821113 L749,1722.4026066170488 A921.3073285735803 921.3073285735803 0.1517199274157306 0 1 609.7549692049629,1711.8191742284077 L138.50537256065815,1639.7675185380647 A909.7969725386428 909.7969725386428 0.1517199274157306 0 0 1,1629.3163102955766 Z\" style=\"fill: rgb(31, 119, 180);\"/><title>Finland → EPP (WMCES)\n74.2k</title><text class=\"label\" dy=\"0.35em\" x=\"5\" y=\"1623.5611322781078\"/></g><g class=\"link\" style=\"opacity: 0.8;\"><path d=\"M1,1736.4301493771059 A277.30047940061064 277.30047940061064 1.0295466342044222 0 0 238.6646739823914,1601.9969462039508 L532.3999915421117,1113.3580477216872 A252.72281815007486 252.72281815007486 1.0295466342044222 0 1 749,990.8399113221491 L749,1003.1674913221051 A240.39523815011884 240.39523815011884 1.0295466342044222 0 0 542.9655350565487,1119.7093089271373 L249.23021749682843,1608.3482074094009 A289.62805940056666 289.62805940056666 1.0295466342044222 0 1 1,1748.7577293770619 Z\" style=\"fill: rgb(31, 119, 180);\"/><title>Sweden → EAF (EFF)\n79.5k</title><text class=\"label\" dy=\"0.35em\" x=\"5\" y=\"1742.5939393770839\"/></g><g class=\"link\" style=\"opacity: 0.8;\"><path d=\"M1,1068.7803505890693 A612.1736239627747 612.1736239627747 0.23256350291839922 0 1 142.0893498344006,1085.260814242761 L610.8415240508884,1196.2843140918283 A599.4568335753987 599.4568335753987 0.23256350291839922 0 0 749,1212.4224261747122 L749,1225.1392165620882 A612.1736239627747 612.1736239627747 0.23256350291839922 0 1 607.9106501655995,1208.6587529083965 L139.15847594911156,1097.6352530593292 A599.4568335753987 599.4568335753987 0.23256350291839922 0 0 1,1081.4971409764453 Z\" style=\"fill: rgb(31, 119, 180);\"/><title>Spain → EGP (GEF)\n82.0k</title><text class=\"label\" dy=\"0.35em\" x=\"5\" y=\"1075.1387457827573\"/></g><g class=\"link\" style=\"opacity: 0.8;\"><path d=\"M1,250 A0 0 0 0 0 1,250 L749,250 A0 0 0 0 0 749,250 L749,262.79277169806755 A0 0 0 0 0 749,262.79277169806755 L1,262.79277169806755 A0 0 0 0 0 1,262.79277169806755 Z\" style=\"fill: rgb(31, 119, 180);\"/><title>Bosnia → ADDE (IDDE)\n82.5k</title><text class=\"label\" dy=\"0.35em\" x=\"5\" y=\"256.3963858490338\"/></g><g class=\"link\" style=\"opacity: 0.8;\"><path d=\"M1,1604.7125958455588 A302.82819528663236 302.82819528663236 0.49832372684373727 0 0 145.73788596833975,1567.8841378256661 L598.0040936533703,1321.7934631961373 A315.92155370171264 315.92155370171264 0.49832372684373727 0 1 749,1283.3726560877699 L749,1296.4660145028502 A302.82819528663236 302.82819528663236 0.49832372684373727 0 0 604.2621140316603,1333.2944725227428 L151.99590634662962,1579.3851471522717 A315.92155370171264 315.92155370171264 0.49832372684373727 0 1 1,1617.805954260639 Z\" style=\"fill: rgb(31, 119, 180);\"/><title>Finland → EGP (GEF)\n84.4k</title><text class=\"label\" dy=\"0.35em\" x=\"5\" y=\"1611.259275053099\"/></g><g class=\"link\" style=\"opacity: 0.8;\"><path d=\"M1,1551.9453190540316 A232.87068581118865 232.87068581118865 0.9764672306893527 0 1 193.93903591000395,1654.419360996248 L475.53579919400954,2071.0789191823287 A330.0617507812357 330.0617507812357 0.9764672306893527 0 0 749,2216.3215957144075 L749,2230.1053017107633 A343.8454567775915 343.8454567775915 0.9764672306893527 0 1 464.1156630058073,2078.797146986488 L182.5188997218017,1662.1375888004068 A219.08697981483277 219.08697981483277 0.9764672306893527 0 0 1,1565.7290250503875 Z\" style=\"fill: rgb(31, 119, 180);\"/><title>UK → ALDE (ELF)\n88.9k</title><text class=\"label\" dy=\"0.35em\" x=\"5\" y=\"1558.8371720522096\"/></g><g class=\"link\" style=\"opacity: 0.8;\"><path d=\"M1,1124.1967587031934 A853.6697126707339 853.6697126707339 0.16438375329440658 0 1 140.69828737383565,1135.7047488786868 L611.6281240088091,1213.822870248799 A839.4534543764449 839.4534543764449 0.16438375329440658 0 0 749,1225.1392165620882 L749,1239.355474856377 A853.6697126707339 853.6697126707339 0.16438375329440658 0 1 609.3017126261644,1227.8474846808836 L138.37187599119093,1149.7293633107713 A839.4534543764449 839.4534543764449 0.16438375329440658 0 0 1,1138.4130169974821 Z\" style=\"fill: rgb(31, 119, 180);\"/><title>Austria → EGP (GEF)\n91.7k</title><text class=\"label\" dy=\"0.35em\" x=\"5\" y=\"1131.3048878503378\"/></g><g class=\"link\" style=\"opacity: 0.8;\"><path d=\"M1,846.681466496453 A303.3434999910797 303.3434999910797 0.5327006243498378 0 1 155.05651908814335,888.7131452599374 L597.8515109594413,1149.7631612786968 A297.6174715312986 297.6174715312986 0.5327006243498378 0 0 749,1191.0014339239713 L749,1206.9063380824052 A313.5223756897324 313.5223756897324 0.5327006243498378 0 1 589.7740206847167,1163.4642607656247 L146.9790288134188,902.4142447468653 A287.43859583264583 287.43859583264583 0.5327006243498378 0 0 1,862.5863706548868 Z\" style=\"fill: rgb(31, 119, 180);\"/><title>Netherlands → EGP (GEF)\n103k</title><text class=\"label\" dy=\"0.35em\" x=\"5\" y=\"854.6339185756699\"/></g><g class=\"link\" style=\"opacity: 0.8;\"><path d=\"M1,2132.4474375363316 A376.53165409060847 376.53165409060847 0.3820880411257197 0 0 141.3931216403031,2105.2950300078232 L602.5378286907434,1919.9905347128883 A392.8087286645604 392.8087286645604 0.3820880411257197 0 1 749,1891.664356646359 L749,1907.9414312203112 A376.53165409060847 376.53165409060847 0.3820880411257197 0 0 608.6068783596969,1935.0938387488195 L147.46217130925663,2120.398334043754 A392.8087286645604 392.8087286645604 0.3820880411257197 0 1 1,2148.7245121102833 Z\" style=\"fill: rgb(31, 119, 180);\"/><title>Portugal → EPP (WMCES)\n105k</title><text class=\"label\" dy=\"0.35em\" x=\"5\" y=\"2140.5859748233074\"/></g><g class=\"link\" style=\"opacity: 0.8;\"><path d=\"M1,1748.8740273015899 A289.74435732509454 289.74435732509454 0.6828104632712211 0 0 183.8217000805666,1683.9140523997044 L582.4753263127042,1359.6809677638516 A263.9160697829295 263.9160697829295 0.6828104632712211 0 1 749,1300.511631637427 L749,1317.0310540290661 A247.39664739129034 247.39664739129034 0.6828104632712211 0 0 592.8986833501627,1372.4967761356652 L194.24505711802522,1696.729860771518 A306.2637797167337 306.2637797167337 0.6828104632712211 0 1 1,1765.393449693229 Z\" style=\"fill: rgb(31, 119, 180);\"/><title>Sweden → EGP (GEF)\n107k</title><text class=\"label\" dy=\"0.35em\" x=\"5\" y=\"1757.1337384974095\"/></g><g class=\"link\" style=\"opacity: 0.8;\"><path d=\"M1,896.8765288769155 A241.05456172843387 241.05456172843387 0.7506027940704938 0 0 165.4184216691826,832.0998283389957 L487.7827965728613,531.4231502463773 A382.97167585484897 382.97167585484897 0.7506027940704938 0 1 749,428.51017741783386 L749,445.28683221086084 A366.195021061822 366.195021061822 0.7506027940704938 0 0 499.225812138216,543.6915462627866 L176.86143723453725,844.368224355405 A257.8312165214608 257.8312165214608 0.7506027940704938 0 1 1,913.6531836699423 Z\" style=\"fill: rgb(31, 119, 180);\"/><title>USA → ACRE (ND)\n108k</title><text class=\"label\" dy=\"0.35em\" x=\"5\" y=\"905.2648562734289\"/></g><g class=\"link\" style=\"opacity: 0.8;\"><path d=\"M1,1998.5648399745203 A271.6867136651556 271.6867136651556 1.398137433645183 0 0 268.64712502457843,1773.5545320005692 L445.6539796429089,758.5797273496048 A307.92441116882225 307.92441116882225 1.398137433645183 0 1 749,503.5574421038604 L749,520.9607287219116 A290.52112455077116 290.52112455077116 1.398137433645183 0 0 462.7985045497869,761.5696522361991 L285.79164993145645,1776.5444568871637 A289.0900002832067 289.0900002832067 1.398137433645183 0 1 1,2015.9681265925713 Z\" style=\"fill: rgb(31, 119, 180);\"/><title>Czech Republic → ACRE (ND)\n112k</title><text class=\"label\" dy=\"0.35em\" x=\"5\" y=\"2007.2664832835458\"/></g><g class=\"link\" style=\"opacity: 0.8;\"><path d=\"M1,2215.114126593204 A316.44412488050284 316.44412488050284 0.4658762659262239 0 0 143.14855354014452,2181.3901334646375 L598.1765477573277,1952.607093511194 A335.755758097883 335.755758097883 0.4658762659262239 0 1 749,1916.825026508858 L749,1936.136659726238 A316.44412488050284 316.44412488050284 0.4658762659262239 0 0 606.8514464598555,1969.860652854805 L151.82345224267226,2198.643692808248 A335.755758097883 335.755758097883 0.4658762659262239 0 1 1,2234.4257598105846 Z\" style=\"fill: rgb(31, 119, 180);\"/><title>Serbia → EPP (WMCES)\n125k</title><text class=\"label\" dy=\"0.35em\" x=\"5\" y=\"2224.7699432018944\"/></g><g class=\"link\" style=\"opacity: 0.8;\"><path d=\"M1,826.3510386499847 A851.4206940185409 851.4206940185409 0.16144684324833558 0 0 137.86281356956582,815.2789440024645 L608.8691432930189,738.5688125840561 A871.7511218650093 871.7511218650093 0.16144684324833558 0 1 749,727.2323358009804 L749,747.5627636474488 A851.4206940185409 851.4206940185409 0.16144684324833558 0 0 612.1371864304342,758.634858294969 L141.13085670698118,835.3449897133775 A871.7511218650093 871.7511218650093 0.16144684324833558 0 1 1,846.6814664964531 Z\" style=\"fill: rgb(31, 119, 180);\"/><title>Netherlands → ECPM (SALLUX)\n131k</title><text class=\"label\" dy=\"0.35em\" x=\"5\" y=\"836.5162525732189\"/></g><g class=\"link\" style=\"opacity: 0.8;\"><path d=\"M1,984.0407084011302 A256.9819215763191 256.9819215763191 1.2648931223130064 0 1 246.05162257259732,1163.6313495151471 L499.18586720559836,1965.1552034358917 A261.9762938456296 261.9762938456296 1.2648931223130064 0 0 749,2148.236138778801 L749,2168.76349777747 A282.5036528442985 282.5036528442985 1.2648931223130064 0 1 479.6114839225311,1971.3371114381032 L226.47723928953,1169.8132575173586 A236.4545625776502 236.4545625776502 1.2648931223130064 0 0 1,1004.5680673997991 Z\" style=\"fill: rgb(31, 119, 180);\"/><title>USA → ALDE (ELF)\n132k</title><text class=\"label\" dy=\"0.35em\" x=\"5\" y=\"994.3043879004647\"/></g><g class=\"link\" style=\"opacity: 0.8;\"><path d=\"M1,1662.4740213541124 A1010.3146179902776 1010.3146179902776 0.09096802061771325 0 1 92.77961653275764,1666.6514074948075 L659.0943971001693,1718.3105169601852 A989.6853820097224 989.6853820097224 0.09096802061771325 0 0 749,1722.4026066170488 L749,1743.031842597604 A1010.3146179902776 1010.3146179902776 0.09096802061771325 0 1 657.2203834672423,1738.854456456909 L90.90560289983071,1687.1953469915313 A989.6853820097224 989.6853820097224 0.09096802061771325 0 0 1,1683.1032573346677 Z\" style=\"fill: rgb(31, 119, 180);\"/><title>Italy → EPP (WMCES)\n133k</title><text class=\"label\" dy=\"0.35em\" x=\"5\" y=\"1672.78863934439\"/></g><g class=\"link\" style=\"opacity: 0.8;\"><path d=\"M1,1138.4130169974824 A285.9504530246485 285.9504530246485 0.6206063462789493 0 1 167.2883511383794,1191.7353421857044 L543.2626718651932,1460.4911046358732 A353.7871521455638 353.7871521455638 0.6206063462789493 0 0 749,1526.4632105534486 L749,1549.398829757905 A376.72277135002037 376.72277135002037 0.6206063462789493 0 1 529.9249545805906,1479.14982715184 L153.95063385377668,1210.3940647016714 A263.01483382019194 263.01483382019194 0.6206063462789493 0 0 1,1161.348636201939 Z\" style=\"fill: rgb(31, 119, 180);\"/><title>Austria → EPP (WMCES)\n148k</title><text class=\"label\" dy=\"0.35em\" x=\"5\" y=\"1149.8808265997106\"/></g><g class=\"link\" style=\"opacity: 0.8;\"><path d=\"M1,1507.0540085078294 A224.045015437348 224.045015437348 1.2628086810682002 0 0 214.50269536414754,1350.9263547283485 L419.4535658739382,706.6498074222735 A345.81875322542163 345.81875322542163 1.2628086810682002 0 1 749,465.66310004726097 L749,491.1701625026467 A320.3116907700359 320.3116907700359 1.2628086810682002 0 0 443.76040695413786,714.3820588282266 L238.8095364443472,1358.6586061343019 A249.55207789273373 249.55207789273373 1.2628086810682002 0 1 1,1532.561070963215 Z\" style=\"fill: rgb(31, 119, 180);\"/><title>UK → ACRE (ND)\n164k</title><text class=\"label\" dy=\"0.35em\" x=\"5\" y=\"1519.8075397355221\"/></g><g class=\"link\" style=\"opacity: 0.8;\"><path d=\"M1,1957.8175868362155 A683.5233745078291 683.5233745078291 0.20103850683847524 0 0 137.49075212849604,1944.0512414680343 L607.3462809991731,1848.298704746364 A709.3786686139482 709.3786686139482 0.20103850683847524 0 1 749,1834.0116267719031 L749,1859.866920878022 A683.5233745078291 683.5233745078291 0.20103850683847524 0 0 612.5092478715039,1873.6332662462032 L142.65371900082684,1969.3858029678736 A709.3786686139482 709.3786686139482 0.20103850683847524 0 1 1,1983.6728809423344 Z\" style=\"fill: rgb(31, 119, 180);\"/><title>Hungary → EPP (WMCES)\n167k</title><text class=\"label\" dy=\"0.35em\" x=\"5\" y=\"1970.745233889275\"/></g><g class=\"link\" style=\"opacity: 0.8;\"><path d=\"M1,624.6898990273136 A255.15740520284942 255.15740520284942 0.7369740806113657 0 1 172.4786060590207,690.9018383043932 L589.3798351993308,1069.2630828412616 A237.5122355180086 237.5122355180086 0.7369740806113657 0 0 749,1130.8961979106814 L749,1157.762569115617 A264.3786067229442 264.3786067229442 0.7369740806113657 0 1 571.3242828612593,1089.1577789055032 L154.4230537209492,710.7965343686348 A228.29103399791381 228.29103399791381 0.7369740806113657 0 0 1,651.5562702322492 Z\" style=\"fill: rgb(31, 119, 180);\"/><title>France → EGP (GEF)\n173k</title><text class=\"label\" dy=\"0.35em\" x=\"5\" y=\"638.1230846297814\"/></g><g class=\"link\" style=\"opacity: 0.8;\"><path d=\"M1,765.4533170736262 A289.75693477963557 289.75693477963557 0.6069190928860456 0 1 166.25982120738482,817.201275662461 L595.1323399657213,1114.985825241574 A269.78258361600666 269.78258361600666 0.6069190928860456 0 0 749,1163.1665460086795 L749,1191.0014339239713 A297.6174715312986 297.6174715312986 0.6069190928860456 0 1 579.2570043030664,1137.8496548170172 L150.38448554472987,840.0651052379038 A261.92204686434366 261.92204686434366 0.6069190928860456 0 0 1,793.288204988918 Z\" style=\"fill: rgb(31, 119, 180);\"/><title>Belgium → EGP (GEF)\n180k</title><text class=\"label\" dy=\"0.35em\" x=\"5\" y=\"779.3707610312721\"/></g><g class=\"link\" style=\"opacity: 0.8;\"><path d=\"M1,2016.8723491583319 A543.7616363924984 543.7616363924984 0.2536375065194685 0 0 137.44433474500386,1999.4752829339263 L605.3647784185695,1878.1808469686828 A572.4189522172716 572.4189522172716 0.2536375065194685 0 1 749,1859.8669208780223 L749,1888.5242367027956 A543.7616363924984 543.7616363924984 0.2536375065194685 0 0 612.5556652549961,1905.9213029272012 L144.63522158143053,2027.2157388924447 A572.4189522172716 572.4189522172716 0.2536375065194685 0 1 1,2045.5296649831052 Z\" style=\"fill: rgb(31, 119, 180);\"/><title>Czech Republic → EPP (WMCES)\n185k</title><text class=\"label\" dy=\"0.35em\" x=\"5\" y=\"2031.2010070707186\"/></g><g class=\"link\" style=\"opacity: 0.8;\"><path d=\"M1,1253.1361548501995 A981.392736016996 981.392736016996 0.016297701572066003 0 0 16.993737885004954,1253.005821381773 L732.3997776934594,1241.3453148217257 A1018.607263983004 1018.607263983004 0.016297701572066003 0 1 749,1241.2100390928485 L749,1278.4245670588566 A981.392736016996 981.392736016996 0.016297701572066003 0 0 733.0062621149951,1278.554900527283 L17.600222306540566,1290.2154070873305 A1018.607263983004 1018.607263983004 0.016297701572066003 0 1 1,1290.3506828162076 Z\" style=\"fill: rgb(31, 119, 180);\"/><title>Germany → EGP (GEF)\n240k</title><text class=\"label\" dy=\"0.35em\" x=\"5\" y=\"1271.7434188332036\"/></g><g class=\"link\" style=\"opacity: 0.8;\"><path d=\"M1,542.2514510596757 A489.9485727997291 489.9485727997291 0.2776799245379227 0 0 135.30724347667893,523.4834894253336 L602.185084202013,390.40272518702375 A535.5761655061173 535.5761655061173 0.2776799245379227 0 1 749,369.88695376830464 L749,415.51454647469274 A489.9485727997291 489.9485727997291 0.2776799245379227 0 0 614.692756523321,434.2825081090349 L147.8149157979871,567.3632723473447 A535.5761655061173 535.5761655061173 0.2776799245379227 0 1 1,587.8790437660639 Z\" style=\"fill: rgb(31, 119, 180);\"/><title>Poland → ACRE (ND)\n294k</title><text class=\"label\" dy=\"0.35em\" x=\"5\" y=\"565.0652474128698\"/></g><g class=\"link\" style=\"opacity: 0.8;\"><path d=\"M1,694.3051165876864 A247.62048741305148 247.62048741305148 0.9653813706153669 0 1 204.6099115383692,801.0039601343159 L554.8517778210255,1307.0491172461755 A236.11364025997125 236.11364025997125 0.9653813706153669 0 0 749,1408.789698667856 L749,1454.7590258475939 A282.08296743970914 282.08296743970914 0.9653813706153669 0 1 517.0527623262703,1333.2104144040961 L166.81089604361398,827.1652572922368 A201.65116023331365 201.65116023331365 0.9653813706153669 0 0 1,740.2744437674241 Z\" style=\"fill: rgb(31, 119, 180);\"/><title>Romania → EPP (WMCES)\n296k</title><text class=\"label\" dy=\"0.35em\" x=\"5\" y=\"717.2897801775553\"/></g><g class=\"link\" style=\"opacity: 0.8;\"><path d=\"M1,1444.9761048971955 A248.2056160127339 248.2056160127339 1.0102775813245635 0 1 211.22505529220064,1561.2292523932251 L509.5676093301,2036.544952233231 A282.68972952354306 282.68972952354306 1.0102775813245635 0 0 749,2168.949574456715 L749,2216.3215957144075 A330.0617507812357 330.0617507812357 1.0102775813245635 0 1 469.4444809811798,2061.729133171577 L171.10192694328043,1586.413433331571 A200.8335947550413 200.8335947550413 1.0102775813245635 0 0 1,1492.3481261548882 Z\" style=\"fill: rgb(31, 119, 180);\"/><title>Germany → ALDE (ELF)\n306k</title><text class=\"label\" dy=\"0.35em\" x=\"5\" y=\"1468.6621155260418\"/></g><g class=\"link\" style=\"opacity: 0.8;\"><path d=\"M1,934.1101436582971 A306.9124863191522 306.9124863191522 0.8397998669345373 0 1 229.49926900019435,1036.1242202106075 L528.9158242515902,1370.0285393283245 A295.60961780752245 295.60961780752245 0.8397998669345373 0 0 749,1468.2856762154072 L749,1517.5060482991232 A344.8299898912386 344.8299898912386 0.8397998669345373 0 1 492.2707884763061,1402.8886425096541 L192.85423322491025,1068.984323391937 A257.69211423543607 257.69211423543607 0.8397998669345373 0 0 1,983.3305157420134 Z\" style=\"fill: rgb(31, 119, 180);\"/><title>USA → EPP (WMCES)\n317k</title><text class=\"label\" dy=\"0.35em\" x=\"5\" y=\"958.7203297001553\"/></g><g class=\"link\" style=\"opacity: 0.8;\"><path d=\"M1,1864.7123955730533 A792.0313736732093 792.0313736732093 0.16810109415516084 0 0 133.51517504125022,1853.54812023762 L604.3461638196022,1773.6468783673681 A864.5830678742685 864.5830678742685 0.16810109415516084 0 1 749,1761.4599325708439 L749,1834.0116267719034 A792.0313736732093 792.0313736732093 0.16810109415516084 0 0 616.4848249587499,1845.1759021073367 L145.65383618039775,1925.0771439775885 A864.5830678742685 864.5830678742685 0.16810109415516084 0 1 1,1937.2640897741128 Z\" style=\"fill: rgb(31, 119, 180);\"/><title>Slovakia → EPP (WMCES)\n468k</title><text class=\"label\" dy=\"0.35em\" x=\"5\" y=\"1900.988242673583\"/></g><g class=\"link\" style=\"opacity: 0.8;\"><path d=\"M1,1290.3506828162076 A438.507256206171 438.507256206171 0.4283496521133463 0 1 183.14281413141683,1329.968720058325 L591.9394869950031,1516.6355259356826 A378.1218322808129 378.1218322808129 0.4283496521133463 0 0 749,1550.7978906886976 L749,1705.2052153952206 A532.5291569873361 532.5291569873361 0.4283496521133463 0 1 527.8032971224081,1657.092533847898 L119.00662425882197,1470.4257279705405 A284.09993149964777 284.09993149964777 0.4283496521133463 0 0 1,1444.7580075227306 Z\" style=\"fill: rgb(31, 119, 180);\"/><title>Germany → EPP (WMCES)\n996k</title><text class=\"label\" dy=\"0.35em\" x=\"5\" y=\"1367.5543451694691\"/></g></g><g class=\"nodes\"><g class=\"node\" transform=\"translate(0,297.47670898254745)\"><title>Iceland</title><line x1=\"0\" x2=\"0\" y1=\"0\" y2=\"15.0487963700092\" style=\"display: inline; stroke: rgb(0, 0, 0);\"/><rect class=\"node-body\" width=\"1\" height=\"15.0487963700092\" style=\"fill: none;\"/><text class=\"node-value\" dy=\".35em\" text-anchor=\"middle\" style=\"display: none;\" transform=\"translate(0.5,7.5243981850046) rotate(-90)\"/><text class=\"node-title\" dy=\".35em\" text-anchor=\"end\" transform=\"translate(-4,7.5243981850046)\" style=\"display: inline;\">Iceland</text><rect class=\"node-click-target\" x=\"-5\" y=\"-5\" width=\"10\" style=\"fill: none; visibility: hidden; pointer-events: all;\" height=\"20.0487963700092\"/></g><g class=\"node\" transform=\"translate(749,354.43158915797994)\"><title>ACRE (ND)</title><line x1=\"0\" x2=\"0\" y1=\"0\" y2=\"166.62000700896272\" style=\"display: inline; stroke: rgb(0, 0, 0);\"/><rect class=\"node-body\" width=\"1\" height=\"166.62000700896272\" style=\"fill: none;\"/><text class=\"node-value\" dy=\".35em\" text-anchor=\"middle\" style=\"display: none;\" transform=\"translate(0.5,83.31000350448136) rotate(-90)\"/><text class=\"node-title\" dy=\".35em\" text-anchor=\"start\" transform=\"translate(5,83.31000350448136)\" style=\"display: inline;\">ACRE (ND)</text><rect class=\"node-click-target\" x=\"-5\" y=\"-5\" width=\"10\" style=\"fill: none; visibility: hidden; pointer-events: all;\" height=\"171.62000700896272\"/></g><g class=\"node\" transform=\"translate(0,2067.918653422056)\"><title>India</title><line x1=\"0\" x2=\"0\" y1=\"0\" y2=\"5.58230037733847\" style=\"display: inline; stroke: rgb(0, 0, 0);\"/><rect class=\"node-body\" width=\"1\" height=\"5.58230037733847\" style=\"fill: none;\"/><text class=\"node-value\" dy=\".35em\" text-anchor=\"middle\" style=\"display: none;\" transform=\"translate(0.5,2.791150188669235) rotate(-90)\"/><text class=\"node-title\" dy=\".35em\" text-anchor=\"end\" transform=\"translate(-4,2.791150188669235)\" style=\"display: inline;\">India</text><rect class=\"node-click-target\" x=\"-5\" y=\"-5\" width=\"10\" style=\"fill: none; visibility: hidden; pointer-events: all;\" height=\"10.58230037733847\"/></g><g class=\"node\" transform=\"translate(0,432.9272572913743)\"><title>Lichtenstein</title><line x1=\"0\" x2=\"0\" y1=\"0\" y2=\"2.7911501886692918\" style=\"display: inline; stroke: rgb(0, 0, 0);\"/><rect class=\"node-body\" width=\"1\" height=\"2.7911501886692918\" style=\"fill: none;\"/><text class=\"node-value\" dy=\".35em\" text-anchor=\"middle\" style=\"display: none;\" transform=\"translate(0.5,1.3955750943346459) rotate(-90)\"/><text class=\"node-title\" dy=\".35em\" text-anchor=\"end\" transform=\"translate(-4,1.3955750943346459)\" style=\"display: inline;\">Lichtenstein</text><rect class=\"node-click-target\" x=\"-5\" y=\"-5\" width=\"10\" style=\"fill: none; visibility: hidden; pointer-events: all;\" height=\"7.791150188669292\"/></g><g class=\"node\" transform=\"translate(0,473.93669296329074)\"><title>Pakistan</title><line x1=\"0\" x2=\"0\" y1=\"0\" y2=\"1\" style=\"display: inline; stroke: rgb(0, 0, 0);\"/><rect class=\"node-body\" width=\"1\" height=\"1\" style=\"fill: none;\"/><text class=\"node-value\" dy=\".35em\" text-anchor=\"middle\" style=\"display: none;\" transform=\"translate(0.5,0.45805875874049207) rotate(0)\"/><text class=\"node-title\" dy=\".35em\" text-anchor=\"end\" transform=\"translate(-4,0.45805875874049207)\" style=\"display: inline;\">Pakistan</text><rect class=\"node-click-target\" x=\"-5\" y=\"-5\" width=\"10\" style=\"fill: none; visibility: hidden; pointer-events: all;\" height=\"6\"/></g><g class=\"node\" transform=\"translate(0,342.6545367326452)\"><title>Armenia</title><line x1=\"0\" x2=\"0\" y1=\"0\" y2=\"1\" style=\"display: inline; stroke: rgb(0, 0, 0);\"/><rect class=\"node-body\" width=\"1\" height=\"1\" style=\"fill: none;\"/><text class=\"node-value\" dy=\".35em\" text-anchor=\"middle\" style=\"display: none;\" transform=\"translate(0.5,0.47216957358321565) rotate(0)\"/><text class=\"node-title\" dy=\".35em\" text-anchor=\"end\" transform=\"translate(-4,0.47216957358321565)\" style=\"display: inline;\">Armenia</text><rect class=\"node-click-target\" x=\"-5\" y=\"-5\" width=\"10\" style=\"fill: none; visibility: hidden; pointer-events: all;\" height=\"6\"/></g><g class=\"node\" transform=\"translate(0,1507.0540085078294)\"><title>UK</title><line x1=\"0\" x2=\"0\" y1=\"0\" y2=\"58.67501654255784\" style=\"display: inline; stroke: rgb(0, 0, 0);\"/><rect class=\"node-body\" width=\"1\" height=\"58.67501654255784\" style=\"fill: none;\"/><text class=\"node-value\" dy=\".35em\" text-anchor=\"middle\" style=\"display: none;\" transform=\"translate(0.5,29.33750827127892) rotate(-90)\"/><text class=\"node-title\" dy=\".35em\" text-anchor=\"end\" transform=\"translate(-4,29.33750827127892)\" style=\"display: inline;\">UK</text><rect class=\"node-click-target\" x=\"-5\" y=\"-5\" width=\"10\" style=\"fill: none; visibility: hidden; pointer-events: all;\" height=\"63.67501654255784\"/></g><g class=\"node\" transform=\"translate(0,1952.970289341893)\"><title>Hungary</title><line x1=\"0\" x2=\"0\" y1=\"0\" y2=\"30.888668279686044\" style=\"display: inline; stroke: rgb(0, 0, 0);\"/><rect class=\"node-body\" width=\"1\" height=\"30.888668279686044\" style=\"fill: none;\"/><text class=\"node-value\" dy=\".35em\" text-anchor=\"middle\" style=\"display: none;\" transform=\"translate(0.5,15.444334139843022) rotate(-90)\"/><text class=\"node-title\" dy=\".35em\" text-anchor=\"end\" transform=\"translate(-4,15.444334139843022)\" style=\"display: inline;\">Hungary</text><rect class=\"node-click-target\" x=\"-5\" y=\"-5\" width=\"10\" style=\"fill: none; visibility: hidden; pointer-events: all;\" height=\"35.888668279686044\"/></g><g class=\"node\" transform=\"translate(0,1699.1659488071007)\"><title>Republic of Cyprus</title><line x1=\"0\" x2=\"0\" y1=\"0\" y2=\"2.667099069172764\" style=\"display: inline; stroke: rgb(0, 0, 0);\"/><rect class=\"node-body\" width=\"1\" height=\"2.667099069172764\" style=\"fill: none;\"/><text class=\"node-value\" dy=\".35em\" text-anchor=\"middle\" style=\"display: none;\" transform=\"translate(0.5,1.333549534586382) rotate(-90)\"/><text class=\"node-title\" dy=\".35em\" text-anchor=\"end\" transform=\"translate(-4,1.333549534586382)\" style=\"display: inline;\">Republic of Cyprus</text><rect class=\"node-click-target\" x=\"-5\" y=\"-5\" width=\"10\" style=\"fill: none; visibility: hidden; pointer-events: all;\" height=\"7.667099069172764\"/></g><g class=\"node\" transform=\"translate(0,1040.5503547137084)\"><title>Croatia</title><line x1=\"0\" x2=\"0\" y1=\"0\" y2=\"7.935550114185617\" style=\"display: inline; stroke: rgb(0, 0, 0);\"/><rect class=\"node-body\" width=\"1\" height=\"7.935550114185617\" style=\"fill: none;\"/><text class=\"node-value\" dy=\".35em\" text-anchor=\"middle\" style=\"display: none;\" transform=\"translate(0.5,3.9677750570928083) rotate(-90)\"/><text class=\"node-title\" dy=\".35em\" text-anchor=\"end\" transform=\"translate(-4,3.9677750570928083)\" style=\"display: inline;\">Croatia</text><rect class=\"node-click-target\" x=\"-5\" y=\"-5\" width=\"10\" style=\"fill: none; visibility: hidden; pointer-events: all;\" height=\"12.935550114185617\"/></g><g class=\"node\" transform=\"translate(749,1064.5813325993051)\"><title>EFA (CMC)</title><line x1=\"0\" x2=\"0\" y1=\"0\" y2=\"7.034656770344782\" style=\"display: inline; stroke: rgb(0, 0, 0);\"/><rect class=\"node-body\" width=\"1\" height=\"7.034656770344782\" style=\"fill: none;\"/><text class=\"node-value\" dy=\".35em\" text-anchor=\"middle\" style=\"display: none;\" transform=\"translate(0.5,3.517328385172391) rotate(-90)\"/><text class=\"node-title\" dy=\".35em\" text-anchor=\"start\" transform=\"translate(5,3.517328385172391)\" style=\"display: inline;\">EFA (CMC)</text><rect class=\"node-click-target\" x=\"-5\" y=\"-5\" width=\"10\" style=\"fill: none; visibility: hidden; pointer-events: all;\" height=\"12.034656770344782\"/></g><g class=\"node\" transform=\"translate(0,1998.5648399745203)\"><title>Czech Republic</title><line x1=\"0\" x2=\"0\" y1=\"0\" y2=\"54.647931094594924\" style=\"display: inline; stroke: rgb(0, 0, 0);\"/><rect class=\"node-body\" width=\"1\" height=\"54.647931094594924\" style=\"fill: none;\"/><text class=\"node-value\" dy=\".35em\" text-anchor=\"middle\" style=\"display: none;\" transform=\"translate(0.5,27.323965547297462) rotate(-90)\"/><text class=\"node-title\" dy=\".35em\" text-anchor=\"end\" transform=\"translate(-4,27.323965547297462)\" style=\"display: inline;\">Czech Republic</text><rect class=\"node-click-target\" x=\"-5\" y=\"-5\" width=\"10\" style=\"fill: none; visibility: hidden; pointer-events: all;\" height=\"59.647931094594924\"/></g><g class=\"node\" transform=\"translate(0,612.1945398882386)\"><title>France</title><line x1=\"0\" x2=\"0\" y1=\"0\" y2=\"39.36173034401054\" style=\"display: inline; stroke: rgb(0, 0, 0);\"/><rect class=\"node-body\" width=\"1\" height=\"39.36173034401054\" style=\"fill: none;\"/><text class=\"node-value\" dy=\".35em\" text-anchor=\"middle\" style=\"display: none;\" transform=\"translate(0.5,19.68086517200527) rotate(-90)\"/><text class=\"node-title\" dy=\".35em\" text-anchor=\"end\" transform=\"translate(-4,19.68086517200527)\" style=\"display: inline;\">France</text><rect class=\"node-click-target\" x=\"-5\" y=\"-5\" width=\"10\" style=\"fill: none; visibility: hidden; pointer-events: all;\" height=\"44.36173034401054\"/></g><g class=\"node\" transform=\"translate(0,2088.206836152336)\"><title>Lebanon</title><line x1=\"0\" x2=\"0\" y1=\"0\" y2=\"1.1242892517470864\" style=\"display: inline; stroke: rgb(0, 0, 0);\"/><rect class=\"node-body\" width=\"1\" height=\"1.1242892517470864\" style=\"fill: none;\"/><text class=\"node-value\" dy=\".35em\" text-anchor=\"middle\" style=\"display: none;\" transform=\"translate(0.5,0.5621446258735432) rotate(-90)\"/><text class=\"node-title\" dy=\".35em\" text-anchor=\"end\" transform=\"translate(-4,0.5621446258735432)\" style=\"display: inline;\">Lebanon</text><rect class=\"node-click-target\" x=\"-5\" y=\"-5\" width=\"10\" style=\"fill: none; visibility: hidden; pointer-events: all;\" height=\"6.124289251747086\"/></g><g class=\"node\" transform=\"translate(0,1810.9467135045659)\"><title>Estonia</title><line x1=\"0\" x2=\"0\" y1=\"0\" y2=\"11.155565181260727\" style=\"display: inline; stroke: rgb(0, 0, 0);\"/><rect class=\"node-body\" width=\"1\" height=\"11.155565181260727\" style=\"fill: none;\"/><text class=\"node-value\" dy=\".35em\" text-anchor=\"middle\" style=\"display: none;\" transform=\"translate(0.5,5.577782590630363) rotate(-90)\"/><text class=\"node-title\" dy=\".35em\" text-anchor=\"end\" transform=\"translate(-4,5.577782590630363)\" style=\"display: inline;\">Estonia</text><rect class=\"node-click-target\" x=\"-5\" y=\"-5\" width=\"10\" style=\"fill: none; visibility: hidden; pointer-events: all;\" height=\"16.155565181260727\"/></g><g class=\"node\" transform=\"translate(0,327.2313877054978)\"><title>Argentina</title><line x1=\"0\" x2=\"0\" y1=\"0\" y2=\"1\" style=\"display: inline; stroke: rgb(0, 0, 0);\"/><rect class=\"node-body\" width=\"1\" height=\"1\" style=\"fill: none;\"/><text class=\"node-value\" dy=\".35em\" text-anchor=\"middle\" style=\"display: none;\" transform=\"translate(0.5,0.3586333371031287) rotate(0)\"/><text class=\"node-title\" dy=\".35em\" text-anchor=\"end\" transform=\"translate(-4,0.3586333371031287)\" style=\"display: inline;\">Argentina</text><rect class=\"node-click-target\" x=\"-5\" y=\"-5\" width=\"10\" style=\"fill: none; visibility: hidden; pointer-events: all;\" height=\"6\"/></g><g class=\"node\" transform=\"translate(0,1580.4349074033285)\"><title>Bulgaria</title><line x1=\"0\" x2=\"0\" y1=\"0\" y2=\"5.300570981128203\" style=\"display: inline; stroke: rgb(0, 0, 0);\"/><rect class=\"node-body\" width=\"1\" height=\"5.300570981128203\" style=\"fill: none;\"/><text class=\"node-value\" dy=\".35em\" text-anchor=\"middle\" style=\"display: none;\" transform=\"translate(0.5,2.6502854905641016) rotate(-90)\"/><text class=\"node-title\" dy=\".35em\" text-anchor=\"end\" transform=\"translate(-4,2.6502854905641016)\" style=\"display: inline;\">Bulgaria</text><rect class=\"node-click-target\" x=\"-5\" y=\"-5\" width=\"10\" style=\"fill: none; visibility: hidden; pointer-events: all;\" height=\"10.300570981128203\"/></g><g class=\"node\" transform=\"translate(0,1224.3936231669716)\"><title>Ireland</title><line x1=\"0\" x2=\"0\" y1=\"0\" y2=\"2.5077678112916146\" style=\"display: inline; stroke: rgb(0, 0, 0);\"/><rect class=\"node-body\" width=\"1\" height=\"2.5077678112916146\" style=\"fill: none;\"/><text class=\"node-value\" dy=\".35em\" text-anchor=\"middle\" style=\"display: none;\" transform=\"translate(0.5,1.2538839056458073) rotate(-90)\"/><text class=\"node-title\" dy=\".35em\" text-anchor=\"end\" transform=\"translate(-4,1.2538839056458073)\" style=\"display: inline;\">Ireland</text><rect class=\"node-click-target\" x=\"-5\" y=\"-5\" width=\"10\" style=\"fill: none; visibility: hidden; pointer-events: all;\" height=\"7.507767811291615\"/></g><g class=\"node\" transform=\"translate(749,250)\"><title>ADDE (IDDE)</title><line x1=\"0\" x2=\"0\" y1=\"0\" y2=\"46.73928146567221\" style=\"display: inline; stroke: rgb(0, 0, 0);\"/><rect class=\"node-body\" width=\"1\" height=\"46.73928146567221\" style=\"fill: none;\"/><text class=\"node-value\" dy=\".35em\" text-anchor=\"middle\" style=\"display: none;\" transform=\"translate(0.5,23.369640732836103) rotate(-90)\"/><text class=\"node-title\" dy=\".35em\" text-anchor=\"start\" transform=\"translate(5,23.369640732836103)\" style=\"display: inline;\">ADDE (IDDE)</text><rect class=\"node-click-target\" x=\"-5\" y=\"-5\" width=\"10\" style=\"fill: none; visibility: hidden; pointer-events: all;\" height=\"51.73928146567221\"/></g><g class=\"node\" transform=\"translate(0,450.42428983298475)\"><title>Lithuania</title><line x1=\"0\" x2=\"0\" y1=\"0\" y2=\"8.806520777364824\" style=\"display: inline; stroke: rgb(0, 0, 0);\"/><rect class=\"node-body\" width=\"1\" height=\"8.806520777364824\" style=\"fill: none;\"/><text class=\"node-value\" dy=\".35em\" text-anchor=\"middle\" style=\"display: none;\" transform=\"translate(0.5,4.403260388682412) rotate(-90)\"/><text class=\"node-title\" dy=\".35em\" text-anchor=\"end\" transform=\"translate(-4,4.403260388682412)\" style=\"display: inline;\">Lithuania</text><rect class=\"node-click-target\" x=\"-5\" y=\"-5\" width=\"10\" style=\"fill: none; visibility: hidden; pointer-events: all;\" height=\"13.806520777364824\"/></g><g class=\"node\" transform=\"translate(0,1019.2739497527404)\"><title>Norway</title><line x1=\"0\" x2=\"0\" y1=\"0\" y2=\"6.570522608026863\" style=\"display: inline; stroke: rgb(0, 0, 0);\"/><rect class=\"node-body\" width=\"1\" height=\"6.570522608026863\" style=\"fill: none;\"/><text class=\"node-value\" dy=\".35em\" text-anchor=\"middle\" style=\"display: none;\" transform=\"translate(0.5,3.2852613040134315) rotate(-90)\"/><text class=\"node-title\" dy=\".35em\" text-anchor=\"end\" transform=\"translate(-4,3.2852613040134315)\" style=\"display: inline;\">Norway</text><rect class=\"node-click-target\" x=\"-5\" y=\"-5\" width=\"10\" style=\"fill: none; visibility: hidden; pointer-events: all;\" height=\"11.570522608026863\"/></g><g class=\"node\" transform=\"translate(0,1716.5389302292147)\"><title>Russia</title><line x1=\"0\" x2=\"0\" y1=\"0\" y2=\"1\" style=\"display: inline; stroke: rgb(0, 0, 0);\"/><rect class=\"node-body\" width=\"1\" height=\"1\" style=\"fill: none;\"/><text class=\"node-value\" dy=\".35em\" text-anchor=\"middle\" style=\"display: none;\" transform=\"translate(0.5,0.2667099069172991) rotate(0)\"/><text class=\"node-title\" dy=\".35em\" text-anchor=\"end\" transform=\"translate(-4,0.2667099069172991)\" style=\"display: inline;\">Russia</text><rect class=\"node-click-target\" x=\"-5\" y=\"-5\" width=\"10\" style=\"fill: none; visibility: hidden; pointer-events: all;\" height=\"6\"/></g><g class=\"node\" transform=\"translate(0,1731.7782323959905)\"><title>Sweden</title><line x1=\"0\" x2=\"0\" y1=\"0\" y2=\"49.223296588858375\" style=\"display: inline; stroke: rgb(0, 0, 0);\"/><rect class=\"node-body\" width=\"1\" height=\"49.223296588858375\" style=\"fill: none;\"/><text class=\"node-value\" dy=\".35em\" text-anchor=\"middle\" style=\"display: none;\" transform=\"translate(0.5,24.611648294429187) rotate(-90)\"/><text class=\"node-title\" dy=\".35em\" text-anchor=\"end\" transform=\"translate(-4,24.611648294429187)\" style=\"display: inline;\">Sweden</text><rect class=\"node-click-target\" x=\"-5\" y=\"-5\" width=\"10\" style=\"fill: none; visibility: hidden; pointer-events: all;\" height=\"54.223296588858375\"/></g><g class=\"node\" transform=\"translate(0,1099.4939878836187)\"><title>Austria</title><line x1=\"0\" x2=\"0\" y1=\"0\" y2=\"62.040724997564894\" style=\"display: inline; stroke: rgb(0, 0, 0);\"/><rect class=\"node-body\" width=\"1\" height=\"62.040724997564894\" style=\"fill: none;\"/><text class=\"node-value\" dy=\".35em\" text-anchor=\"middle\" style=\"display: none;\" transform=\"translate(0.5,31.020362498782447) rotate(-90)\"/><text class=\"node-title\" dy=\".35em\" text-anchor=\"end\" transform=\"translate(-4,31.020362498782447)\" style=\"display: inline;\">Austria</text><rect class=\"node-click-target\" x=\"-5\" y=\"-5\" width=\"10\" style=\"fill: none; visibility: hidden; pointer-events: all;\" height=\"67.0407249975649\"/></g><g class=\"node\" transform=\"translate(749,715.6048693066823)\"><title>ECPM (SALLUX)</title><line x1=\"0\" x2=\"0\" y1=\"0\" y2=\"52.876634621446556\" style=\"display: inline; stroke: rgb(0, 0, 0);\"/><rect class=\"node-body\" width=\"1\" height=\"52.876634621446556\" style=\"fill: none;\"/><text class=\"node-value\" dy=\".35em\" text-anchor=\"middle\" style=\"display: none;\" transform=\"translate(0.5,26.438317310723278) rotate(-90)\"/><text class=\"node-title\" dy=\".35em\" text-anchor=\"start\" transform=\"translate(5,26.438317310723278)\" style=\"display: inline;\">ECPM (SALLUX)</text><rect class=\"node-click-target\" x=\"-5\" y=\"-5\" width=\"10\" style=\"fill: none; visibility: hidden; pointer-events: all;\" height=\"57.876634621446556\"/></g><g class=\"node\" transform=\"translate(0,1600.4413607373979)\"><title>Finland</title><line x1=\"0\" x2=\"0\" y1=\"0\" y2=\"32.007240325463044\" style=\"display: inline; stroke: rgb(0, 0, 0);\"/><rect class=\"node-body\" width=\"1\" height=\"32.007240325463044\" style=\"fill: none;\"/><text class=\"node-value\" dy=\".35em\" text-anchor=\"middle\" style=\"display: none;\" transform=\"translate(0.5,16.003620162731522) rotate(-90)\"/><text class=\"node-title\" dy=\".35em\" text-anchor=\"end\" transform=\"translate(-4,16.003620162731522)\" style=\"display: inline;\">Finland</text><rect class=\"node-click-target\" x=\"-5\" y=\"-5\" width=\"10\" style=\"fill: none; visibility: hidden; pointer-events: all;\" height=\"37.007240325463044\"/></g><g class=\"node\" transform=\"translate(0,2164.2057139600774)\"><title>Slovenia</title><line x1=\"0\" x2=\"0\" y1=\"0\" y2=\"10.06983411873125\" style=\"display: inline; stroke: rgb(0, 0, 0);\"/><rect class=\"node-body\" width=\"1\" height=\"10.06983411873125\" style=\"fill: none;\"/><text class=\"node-value\" dy=\".35em\" text-anchor=\"middle\" style=\"display: none;\" transform=\"translate(0.5,5.034917059365625) rotate(-90)\"/><text class=\"node-title\" dy=\".35em\" text-anchor=\"end\" transform=\"translate(-4,5.034917059365625)\" style=\"display: inline;\">Slovenia</text><rect class=\"node-click-target\" x=\"-5\" y=\"-5\" width=\"10\" style=\"fill: none; visibility: hidden; pointer-events: all;\" height=\"15.06983411873125\"/></g><g class=\"node\" transform=\"translate(0,1795.70741133779)\"><title>Ukraine</title><line x1=\"0\" x2=\"0\" y1=\"0\" y2=\"1\" style=\"display: inline; stroke: rgb(0, 0, 0);\"/><rect class=\"node-body\" width=\"1\" height=\"1\" style=\"fill: none;\"/><text class=\"node-value\" dy=\".35em\" text-anchor=\"middle\" style=\"display: none;\" transform=\"translate(0.5,0.2667099069172991) rotate(0)\"/><text class=\"node-title\" dy=\".35em\" text-anchor=\"end\" transform=\"translate(-4,0.2667099069172991)\" style=\"display: inline;\">Ukraine</text><rect class=\"node-click-target\" x=\"-5\" y=\"-5\" width=\"10\" style=\"fill: none; visibility: hidden; pointer-events: all;\" height=\"6\"/></g><g class=\"node\" transform=\"translate(749,890.5478227366198)\"><title>EL (TE)</title><line x1=\"0\" x2=\"0\" y1=\"0\" y2=\"2.956609571853619\" style=\"display: inline; stroke: rgb(0, 0, 0);\"/><rect class=\"node-body\" width=\"1\" height=\"2.956609571853619\" style=\"fill: none;\"/><text class=\"node-value\" dy=\".35em\" text-anchor=\"middle\" style=\"display: none;\" transform=\"translate(0.5,1.4783047859268095) rotate(-90)\"/><text class=\"node-title\" dy=\".35em\" text-anchor=\"start\" transform=\"translate(5,1.4783047859268095)\" style=\"display: inline;\">EL (TE)</text><rect class=\"node-click-target\" x=\"-5\" y=\"-5\" width=\"10\" style=\"fill: none; visibility: hidden; pointer-events: all;\" height=\"7.956609571853619\"/></g><g class=\"node\" transform=\"translate(749,652.330261237036)\"><title>PES (FEPS)</title><line x1=\"0\" x2=\"0\" y1=\"0\" y2=\"5.5823003773385835\" style=\"display: inline; stroke: rgb(0, 0, 0);\"/><rect class=\"node-body\" width=\"1\" height=\"5.5823003773385835\" style=\"fill: none;\"/><text class=\"node-value\" dy=\".35em\" text-anchor=\"middle\" style=\"display: none;\" transform=\"translate(0.5,2.7911501886692918) rotate(-90)\"/><text class=\"node-title\" dy=\".35em\" text-anchor=\"start\" transform=\"translate(5,2.7911501886692918)\" style=\"display: inline;\">PES (FEPS)</text><rect class=\"node-click-target\" x=\"-5\" y=\"-5\" width=\"10\" style=\"fill: none; visibility: hidden; pointer-events: all;\" height=\"10.582300377338584\"/></g><g class=\"node\" transform=\"translate(0,250)\"><title>Bosnia</title><line x1=\"0\" x2=\"0\" y1=\"0\" y2=\"12.792771698067554\" style=\"display: inline; stroke: rgb(0, 0, 0);\"/><rect class=\"node-body\" width=\"1\" height=\"12.792771698067554\" style=\"fill: none;\"/><text class=\"node-value\" dy=\".35em\" text-anchor=\"middle\" style=\"display: none;\" transform=\"translate(0.5,6.396385849033777) rotate(-90)\"/><text class=\"node-title\" dy=\".35em\" text-anchor=\"end\" transform=\"translate(-4,6.396385849033777)\" style=\"display: inline;\">Bosnia</text><rect class=\"node-click-target\" x=\"-5\" y=\"-5\" width=\"10\" style=\"fill: none; visibility: hidden; pointer-events: all;\" height=\"17.792771698067554\"/></g><g class=\"node\" transform=\"translate(749,951.1967400007811)\"><title>EAF (EFF)</title><line x1=\"0\" x2=\"0\" y1=\"0\" y2=\"55.6922849062164\" style=\"display: inline; stroke: rgb(0, 0, 0);\"/><rect class=\"node-body\" width=\"1\" height=\"55.6922849062164\" style=\"fill: none;\"/><text class=\"node-value\" dy=\".35em\" text-anchor=\"middle\" style=\"display: none;\" transform=\"translate(0.5,27.8461424531082) rotate(-90)\"/><text class=\"node-title\" dy=\".35em\" text-anchor=\"start\" transform=\"translate(5,27.8461424531082)\" style=\"display: inline;\">EAF (EFF)</text><rect class=\"node-click-target\" x=\"-5\" y=\"-5\" width=\"10\" style=\"fill: none; visibility: hidden; pointer-events: all;\" height=\"60.6922849062164\"/></g><g class=\"node\" transform=\"translate(0,2188.98143043175)\"><title>Denmark</title><line x1=\"0\" x2=\"0\" y1=\"0\" y2=\"11.426813808512634\" style=\"display: inline; stroke: rgb(0, 0, 0);\"/><rect class=\"node-body\" width=\"1\" height=\"11.426813808512634\" style=\"fill: none;\"/><text class=\"node-value\" dy=\".35em\" text-anchor=\"middle\" style=\"display: none;\" transform=\"translate(0.5,5.713406904256317) rotate(-90)\"/><text class=\"node-title\" dy=\".35em\" text-anchor=\"end\" transform=\"translate(-4,5.713406904256317)\" style=\"display: inline;\">Denmark</text><rect class=\"node-click-target\" x=\"-5\" y=\"-5\" width=\"10\" style=\"fill: none; visibility: hidden; pointer-events: all;\" height=\"16.426813808512634\"/></g><g class=\"node\" transform=\"translate(0,1176.2405952341246)\"><title>Latvia</title><line x1=\"0\" x2=\"0\" y1=\"0\" y2=\"9.578537413160802\" style=\"display: inline; stroke: rgb(0, 0, 0);\"/><rect class=\"node-body\" width=\"1\" height=\"9.578537413160802\" style=\"fill: none;\"/><text class=\"node-value\" dy=\".35em\" text-anchor=\"middle\" style=\"display: none;\" transform=\"translate(0.5,4.789268706580401) rotate(-90)\"/><text class=\"node-title\" dy=\".35em\" text-anchor=\"end\" transform=\"translate(-4,4.789268706580401)\" style=\"display: inline;\">Latvia</text><rect class=\"node-click-target\" x=\"-5\" y=\"-5\" width=\"10\" style=\"fill: none; visibility: hidden; pointer-events: all;\" height=\"14.578537413160802\"/></g><g class=\"node\" transform=\"translate(0,815.6361232034822)\"><title>Netherlands</title><line x1=\"0\" x2=\"0\" y1=\"0\" y2=\"66.11887608886843\" style=\"display: inline; stroke: rgb(0, 0, 0);\"/><rect class=\"node-body\" width=\"1\" height=\"66.11887608886843\" style=\"fill: none;\"/><text class=\"node-value\" dy=\".35em\" text-anchor=\"middle\" style=\"display: none;\" transform=\"translate(0.5,33.059438044434216) rotate(-90)\"/><text class=\"node-title\" dy=\".35em\" text-anchor=\"end\" transform=\"translate(-4,33.059438044434216)\" style=\"display: inline;\">Netherlands</text><rect class=\"node-click-target\" x=\"-5\" y=\"-5\" width=\"10\" style=\"fill: none; visibility: hidden; pointer-events: all;\" height=\"71.11887608886843\"/></g><g class=\"node\" transform=\"translate(0,666.2621525851903)\"><title>Luxembourg</title><line x1=\"0\" x2=\"0\" y1=\"0\" y2=\"7.971835066638278\" style=\"display: inline; stroke: rgb(0, 0, 0);\"/><rect class=\"node-body\" width=\"1\" height=\"7.971835066638278\" style=\"fill: none;\"/><text class=\"node-value\" dy=\".35em\" text-anchor=\"middle\" style=\"display: none;\" transform=\"translate(0.5,3.985917533319139) rotate(-90)\"/><text class=\"node-title\" dy=\".35em\" text-anchor=\"end\" transform=\"translate(-4,3.985917533319139)\" style=\"display: inline;\">Luxembourg</text><rect class=\"node-click-target\" x=\"-5\" y=\"-5\" width=\"10\" style=\"fill: none; visibility: hidden; pointer-events: all;\" height=\"12.971835066638278\"/></g><g class=\"node\" transform=\"translate(0,402.7406754956733)\"><title>HongKong</title><line x1=\"0\" x2=\"0\" y1=\"0\" y2=\"1\" style=\"display: inline; stroke: rgb(0, 0, 0);\"/><rect class=\"node-body\" width=\"1\" height=\"1\" style=\"fill: none;\"/><text class=\"node-value\" dy=\".35em\" text-anchor=\"middle\" style=\"display: none;\" transform=\"translate(0.5,0.3486425700666871) rotate(0)\"/><text class=\"node-title\" dy=\".35em\" text-anchor=\"end\" transform=\"translate(-4,0.3486425700666871)\" style=\"display: inline;\">HongKong</text><rect class=\"node-click-target\" x=\"-5\" y=\"-5\" width=\"10\" style=\"fill: none; visibility: hidden; pointer-events: all;\" height=\"6\"/></g><g class=\"node\" transform=\"translate(0,1200.5250150002266)\"><title>Malta</title><line x1=\"0\" x2=\"0\" y1=\"0\" y2=\"9.162725813803718\" style=\"display: inline; stroke: rgb(0, 0, 0);\"/><rect class=\"node-body\" width=\"1\" height=\"9.162725813803718\" style=\"fill: none;\"/><text class=\"node-value\" dy=\".35em\" text-anchor=\"middle\" style=\"display: none;\" transform=\"translate(0.5,4.581362906901859) rotate(-90)\"/><text class=\"node-title\" dy=\".35em\" text-anchor=\"end\" transform=\"translate(-4,4.581362906901859)\" style=\"display: inline;\">Malta</text><rect class=\"node-click-target\" x=\"-5\" y=\"-5\" width=\"10\" style=\"fill: none; visibility: hidden; pointer-events: all;\" height=\"14.162725813803718\"/></g><g class=\"node\" transform=\"translate(749,2136.761410225383)\"><title>ALDE (ELF)</title><line x1=\"0\" x2=\"0\" y1=\"0\" y2=\"113.23858977461714\" style=\"display: inline; stroke: rgb(0, 0, 0);\"/><rect class=\"node-body\" width=\"1\" height=\"113.23858977461714\" style=\"fill: none;\"/><text class=\"node-value\" dy=\".35em\" text-anchor=\"middle\" style=\"display: none;\" transform=\"translate(0.5,56.61929488730857) rotate(-90)\"/><text class=\"node-title\" dy=\".35em\" text-anchor=\"start\" transform=\"translate(5,56.61929488730857)\" style=\"display: inline;\">ALDE (ELF)</text><rect class=\"node-click-target\" x=\"-5\" y=\"-5\" width=\"10\" style=\"fill: none; visibility: hidden; pointer-events: all;\" height=\"118.23858977461714\"/></g><g class=\"node\" transform=\"translate(0,387.8904999818119)\"><title>Guatemala</title><line x1=\"0\" x2=\"0\" y1=\"0\" y2=\"1\" style=\"display: inline; stroke: rgb(0, 0, 0);\"/><rect class=\"node-body\" width=\"1\" height=\"1\" style=\"fill: none;\"/><text class=\"node-value\" dy=\".35em\" text-anchor=\"middle\" style=\"display: none;\" transform=\"translate(0.5,0.07214658046012801) rotate(0)\"/><text class=\"node-title\" dy=\".35em\" text-anchor=\"end\" transform=\"translate(-4,0.07214658046012801)\" style=\"display: inline;\">Guatemala</text><rect class=\"node-click-target\" x=\"-5\" y=\"-5\" width=\"10\" style=\"fill: none; visibility: hidden; pointer-events: all;\" height=\"6\"/></g><g class=\"node\" transform=\"translate(0,489.55869283371294)\"><title>Tunesia</title><line x1=\"0\" x2=\"0\" y1=\"0\" y2=\"1\" style=\"display: inline; stroke: rgb(0, 0, 0);\"/><rect class=\"node-body\" width=\"1\" height=\"1\" style=\"fill: none;\"/><text class=\"node-value\" dy=\".35em\" text-anchor=\"middle\" style=\"display: none;\" transform=\"translate(0.5,0.031012779874089347) rotate(0)\"/><text class=\"node-title\" dy=\".35em\" text-anchor=\"end\" transform=\"translate(-4,0.031012779874089347)\" style=\"display: inline;\">Tunesia</text><rect class=\"node-click-target\" x=\"-5\" y=\"-5\" width=\"10\" style=\"fill: none; visibility: hidden; pointer-events: all;\" height=\"6\"/></g><g class=\"node\" transform=\"translate(0,2249.441769962267)\"><title>South-Korea</title><line x1=\"0\" x2=\"0\" y1=\"0\" y2=\"1\" style=\"display: inline; stroke: rgb(0, 0, 0);\"/><rect class=\"node-body\" width=\"1\" height=\"1\" style=\"fill: none;\"/><text class=\"node-value\" dy=\".35em\" text-anchor=\"middle\" style=\"display: none;\" transform=\"translate(0.5,0.27911501886683254) rotate(0)\"/><text class=\"node-title\" dy=\".35em\" text-anchor=\"end\" transform=\"translate(-4,0.27911501886683254)\" style=\"display: inline;\">South-Korea</text><rect class=\"node-click-target\" x=\"-5\" y=\"-5\" width=\"10\" style=\"fill: none; visibility: hidden; pointer-events: all;\" height=\"6\"/></g><g class=\"node\" transform=\"translate(0,754.9803261203654)\"><title>Belgium</title><line x1=\"0\" x2=\"0\" y1=\"0\" y2=\"45.94991473017569\" style=\"display: inline; stroke: rgb(0, 0, 0);\"/><rect class=\"node-body\" width=\"1\" height=\"45.94991473017569\" style=\"fill: none;\"/><text class=\"node-value\" dy=\".35em\" text-anchor=\"middle\" style=\"display: none;\" transform=\"translate(0.5,22.974957365087846) rotate(-90)\"/><text class=\"node-title\" dy=\".35em\" text-anchor=\"end\" transform=\"translate(-4,22.974957365087846)\" style=\"display: inline;\">Belgium</text><rect class=\"node-click-target\" x=\"-5\" y=\"-5\" width=\"10\" style=\"fill: none; visibility: hidden; pointer-events: all;\" height=\"50.94991473017569\"/></g><g class=\"node\" transform=\"translate(0,1836.8081610387678)\"><title>Greece</title><line x1=\"0\" x2=\"0\" y1=\"0\" y2=\"10.794861741101158\" style=\"display: inline; stroke: rgb(0, 0, 0);\"/><rect class=\"node-body\" width=\"1\" height=\"10.794861741101158\" style=\"fill: none;\"/><text class=\"node-value\" dy=\".35em\" text-anchor=\"middle\" style=\"display: none;\" transform=\"translate(0.5,5.397430870550579) rotate(-90)\"/><text class=\"node-title\" dy=\".35em\" text-anchor=\"end\" transform=\"translate(-4,5.397430870550579)\" style=\"display: inline;\">Greece</text><rect class=\"node-click-target\" x=\"-5\" y=\"-5\" width=\"10\" style=\"fill: none; visibility: hidden; pointer-events: all;\" height=\"15.794861741101158\"/></g><g class=\"node\" transform=\"translate(0,418.14384298874785)\"><title>Israel</title><line x1=\"0\" x2=\"0\" y1=\"0\" y2=\"1\" style=\"display: inline; stroke: rgb(0, 0, 0);\"/><rect class=\"node-body\" width=\"1\" height=\"1\" style=\"fill: none;\"/><text class=\"node-value\" dy=\".35em\" text-anchor=\"middle\" style=\"display: none;\" transform=\"translate(0.5,0.03876597484261879) rotate(0)\"/><text class=\"node-title\" dy=\".35em\" text-anchor=\"end\" transform=\"translate(-4,0.03876597484261879)\" style=\"display: inline;\">Israel</text><rect class=\"node-click-target\" x=\"-5\" y=\"-5\" width=\"10\" style=\"fill: none; visibility: hidden; pointer-events: all;\" height=\"6\"/></g><g class=\"node\" transform=\"translate(0,896.4608816452918)\"><title>USA</title><line x1=\"0\" x2=\"0\" y1=\"0\" y2=\"108.10718575450733\" style=\"display: inline; stroke: rgb(0, 0, 0);\"/><rect class=\"node-body\" width=\"1\" height=\"108.10718575450733\" style=\"fill: none;\"/><text class=\"node-value\" dy=\".35em\" text-anchor=\"middle\" style=\"display: none;\" transform=\"translate(0.5,54.053592877253664) rotate(-90)\"/><text class=\"node-title\" dy=\".35em\" text-anchor=\"end\" transform=\"translate(-4,54.053592877253664)\" style=\"display: inline;\">USA</text><rect class=\"node-click-target\" x=\"-5\" y=\"-5\" width=\"10\" style=\"fill: none; visibility: hidden; pointer-events: all;\" height=\"113.10718575450733\"/></g><g class=\"node\" transform=\"translate(749,1400.1796267939649)\"><title>EPP (WMCES)</title><line x1=\"0\" x2=\"0\" y1=\"0\" y2=\"535.9570329322737\" style=\"display: inline; stroke: rgb(0, 0, 0);\"/><rect class=\"node-body\" width=\"1\" height=\"535.9570329322737\" style=\"fill: none;\"/><text class=\"node-value\" dy=\".35em\" text-anchor=\"middle\" style=\"display: none;\" transform=\"translate(0.5,267.97851646613685) rotate(-90)\"/><text class=\"node-title\" dy=\".35em\" text-anchor=\"start\" transform=\"translate(5,267.97851646613685)\" style=\"display: inline;\">EPP (WMCES)</text><rect class=\"node-click-target\" x=\"-5\" y=\"-5\" width=\"10\" style=\"fill: none; visibility: hidden; pointer-events: all;\" height=\"540.9570329322737\"/></g><g class=\"node\" transform=\"translate(749,2054.758381320918)\"><title>EUD (OEIC)</title><line x1=\"0\" x2=\"0\" y1=\"0\" y2=\"24.310721212157205\" style=\"display: inline; stroke: rgb(0, 0, 0);\"/><rect class=\"node-body\" width=\"1\" height=\"24.310721212157205\" style=\"fill: none;\"/><text class=\"node-value\" dy=\".35em\" text-anchor=\"middle\" style=\"display: none;\" transform=\"translate(0.5,12.155360606078602) rotate(-90)\"/><text class=\"node-title\" dy=\".35em\" text-anchor=\"start\" transform=\"translate(5,12.155360606078602)\" style=\"display: inline;\">EUD (OEIC)</text><rect class=\"node-click-target\" x=\"-5\" y=\"-5\" width=\"10\" style=\"fill: none; visibility: hidden; pointer-events: all;\" height=\"29.310721212157205\"/></g><g class=\"node\" transform=\"translate(0,358.3047582327528)\"><title>Dominican Republic</title><line x1=\"0\" x2=\"0\" y1=\"0\" y2=\"1\" style=\"display: inline; stroke: rgb(0, 0, 0);\"/><rect class=\"node-body\" width=\"1\" height=\"1\" style=\"fill: none;\"/><text class=\"node-value\" dy=\".35em\" text-anchor=\"middle\" style=\"display: none;\" transform=\"translate(0.5,0.03542977504767464) rotate(0)\"/><text class=\"node-title\" dy=\".35em\" text-anchor=\"end\" transform=\"translate(-4,0.03542977504767464)\" style=\"display: inline;\">Dominican Republic</text><rect class=\"node-click-target\" x=\"-5\" y=\"-5\" width=\"10\" style=\"fill: none; visibility: hidden; pointer-events: all;\" height=\"6\"/></g><g class=\"node\" transform=\"translate(0,519.187546998714)\"><title>Georgia</title><line x1=\"0\" x2=\"0\" y1=\"0\" y2=\"4.389936523128995\" style=\"display: inline; stroke: rgb(0, 0, 0);\"/><rect class=\"node-body\" width=\"1\" height=\"4.389936523128995\" style=\"fill: none;\"/><text class=\"node-value\" dy=\".35em\" text-anchor=\"middle\" style=\"display: none;\" transform=\"translate(0.5,2.1949682615644974) rotate(-90)\"/><text class=\"node-title\" dy=\".35em\" text-anchor=\"end\" transform=\"translate(-4,2.1949682615644974)\" style=\"display: inline;\">Georgia</text><rect class=\"node-click-target\" x=\"-5\" y=\"-5\" width=\"10\" style=\"fill: none; visibility: hidden; pointer-events: all;\" height=\"9.389936523128995\"/></g><g class=\"node\" transform=\"translate(0,538.2833658747842)\"><title>Poland</title><line x1=\"0\" x2=\"0\" y1=\"0\" y2=\"59.20529166051324\" style=\"display: inline; stroke: rgb(0, 0, 0);\"/><rect class=\"node-body\" width=\"1\" height=\"59.20529166051324\" style=\"fill: none;\"/><text class=\"node-value\" dy=\".35em\" text-anchor=\"middle\" style=\"display: none;\" transform=\"translate(0.5,29.60264583025662) rotate(-90)\"/><text class=\"node-title\" dy=\".35em\" text-anchor=\"end\" transform=\"translate(-4,29.60264583025662)\" style=\"display: inline;\">Poland</text><rect class=\"node-click-target\" x=\"-5\" y=\"-5\" width=\"10\" style=\"fill: none; visibility: hidden; pointer-events: all;\" height=\"64.20529166051324\"/></g><g class=\"node\" transform=\"translate(0,688.9398700047697)\"><title>Romania</title><line x1=\"0\" x2=\"0\" y1=\"0\" y2=\"51.3345737626546\" style=\"display: inline; stroke: rgb(0, 0, 0);\"/><rect class=\"node-body\" width=\"1\" height=\"51.3345737626546\" style=\"fill: none;\"/><text class=\"node-value\" dy=\".35em\" text-anchor=\"middle\" style=\"display: none;\" transform=\"translate(0.5,25.6672868813273) rotate(-90)\"/><text class=\"node-title\" dy=\".35em\" text-anchor=\"end\" transform=\"translate(-4,25.6672868813273)\" style=\"display: inline;\">Romania</text><rect class=\"node-click-target\" x=\"-5\" y=\"-5\" width=\"10\" style=\"fill: none; visibility: hidden; pointer-events: all;\" height=\"56.3345737626546\"/></g><g class=\"node\" transform=\"translate(0,2131.113888001745)\"><title>Portugal</title><line x1=\"0\" x2=\"0\" y1=\"0\" y2=\"18.38594360539082\" style=\"display: inline; stroke: rgb(0, 0, 0);\"/><rect class=\"node-body\" width=\"1\" height=\"18.38594360539082\" style=\"fill: none;\"/><text class=\"node-value\" dy=\".35em\" text-anchor=\"middle\" style=\"display: none;\" transform=\"translate(0.5,9.19297180269541) rotate(-90)\"/><text class=\"node-title\" dy=\".35em\" text-anchor=\"end\" transform=\"translate(-4,9.19297180269541)\" style=\"display: inline;\">Portugal</text><rect class=\"node-click-target\" x=\"-5\" y=\"-5\" width=\"10\" style=\"fill: none; visibility: hidden; pointer-events: all;\" height=\"23.38594360539082\"/></g><g class=\"node\" transform=\"translate(0,1862.3089051328102)\"><title>Slovakia</title><line x1=\"0\" x2=\"0\" y1=\"0\" y2=\"75.95550185614161\" style=\"display: inline; stroke: rgb(0, 0, 0);\"/><rect class=\"node-body\" width=\"1\" height=\"75.95550185614161\" style=\"fill: none;\"/><text class=\"node-value\" dy=\".35em\" text-anchor=\"middle\" style=\"display: none;\" transform=\"translate(0.5,37.977750928070805) rotate(-90)\"/><text class=\"node-title\" dy=\".35em\" text-anchor=\"end\" transform=\"translate(-4,37.977750928070805)\" style=\"display: inline;\">Slovakia</text><rect class=\"node-click-target\" x=\"-5\" y=\"-5\" width=\"10\" style=\"fill: none; visibility: hidden; pointer-events: all;\" height=\"80.95550185614161\"/></g><g class=\"node\" transform=\"translate(0,1063.191787180835)\"><title>Spain</title><line x1=\"0\" x2=\"0\" y1=\"0\" y2=\"21.596318349842477\" style=\"display: inline; stroke: rgb(0, 0, 0);\"/><rect class=\"node-body\" width=\"1\" height=\"21.596318349842477\" style=\"fill: none;\"/><text class=\"node-value\" dy=\".35em\" text-anchor=\"middle\" style=\"display: none;\" transform=\"translate(0.5,10.798159174921238) rotate(-90)\"/><text class=\"node-title\" dy=\".35em\" text-anchor=\"end\" transform=\"translate(-4,10.798159174921238)\" style=\"display: inline;\">Spain</text><rect class=\"node-click-target\" x=\"-5\" y=\"-5\" width=\"10\" style=\"fill: none; visibility: hidden; pointer-events: all;\" height=\"26.596318349842477\"/></g><g class=\"node\" transform=\"translate(0,2215.114126593204)\"><title>Serbia</title><line x1=\"0\" x2=\"0\" y1=\"0\" y2=\"19.621761016121127\" style=\"display: inline; stroke: rgb(0, 0, 0);\"/><rect class=\"node-body\" width=\"1\" height=\"19.621761016121127\" style=\"fill: none;\"/><text class=\"node-value\" dy=\".35em\" text-anchor=\"middle\" style=\"display: none;\" transform=\"translate(0.5,9.810880508060563) rotate(-90)\"/><text class=\"node-title\" dy=\".35em\" text-anchor=\"end\" transform=\"translate(-4,9.810880508060563)\" style=\"display: inline;\">Serbia</text><rect class=\"node-click-target\" x=\"-5\" y=\"-5\" width=\"10\" style=\"fill: none; visibility: hidden; pointer-events: all;\" height=\"24.621761016121127\"/></g><g class=\"node\" transform=\"translate(0,277.4986540510087)\"><title>Monaco</title><line x1=\"0\" x2=\"0\" y1=\"0\" y2=\"5.2721725785975195\" style=\"display: inline; stroke: rgb(0, 0, 0);\"/><rect class=\"node-body\" width=\"1\" height=\"5.2721725785975195\" style=\"fill: none;\"/><text class=\"node-value\" dy=\".35em\" text-anchor=\"middle\" style=\"display: none;\" transform=\"translate(0.5,2.6360862892987598) rotate(-90)\"/><text class=\"node-title\" dy=\".35em\" text-anchor=\"end\" transform=\"translate(-4,2.6360862892987598)\" style=\"display: inline;\">Monaco</text><rect class=\"node-click-target\" x=\"-5\" y=\"-5\" width=\"10\" style=\"fill: none; visibility: hidden; pointer-events: all;\" height=\"10.27217257859752\"/></g><g class=\"node\" transform=\"translate(749,1993.8289674185462)\"><title>APF (Terra Nostra)</title><line x1=\"0\" x2=\"0\" y1=\"0\" y2=\"3.2371062100639847\" style=\"display: inline; stroke: rgb(0, 0, 0);\"/><rect class=\"node-body\" width=\"1\" height=\"3.2371062100639847\" style=\"fill: none;\"/><text class=\"node-value\" dy=\".35em\" text-anchor=\"middle\" style=\"display: none;\" transform=\"translate(0.5,1.6185531050319923) rotate(-90)\"/><text class=\"node-title\" dy=\".35em\" text-anchor=\"start\" transform=\"translate(5,1.6185531050319923)\" style=\"display: inline;\">APF (Terra Nostra)</text><rect class=\"node-click-target\" x=\"-5\" y=\"-5\" width=\"10\" style=\"fill: none; visibility: hidden; pointer-events: all;\" height=\"8.237106210063985\"/></g><g class=\"node\" transform=\"translate(0,1647.1544834158021)\"><title>Italy</title><line x1=\"0\" x2=\"0\" y1=\"0\" y2=\"37.305583038357554\" style=\"display: inline; stroke: rgb(0, 0, 0);\"/><rect class=\"node-body\" width=\"1\" height=\"37.305583038357554\" style=\"fill: none;\"/><text class=\"node-value\" dy=\".35em\" text-anchor=\"middle\" style=\"display: none;\" transform=\"translate(0.5,18.652791519178777) rotate(-90)\"/><text class=\"node-title\" dy=\".35em\" text-anchor=\"end\" transform=\"translate(-4,18.652791519178777)\" style=\"display: inline;\">Italy</text><rect class=\"node-click-target\" x=\"-5\" y=\"-5\" width=\"10\" style=\"fill: none; visibility: hidden; pointer-events: all;\" height=\"42.305583038357554\"/></g><g class=\"node\" transform=\"translate(749,826.1738116204365)\"><title>EDP (IED)</title><line x1=\"0\" x2=\"0\" y1=\"0\" y2=\"6.681703423875547\" style=\"display: inline; stroke: rgb(0, 0, 0);\"/><rect class=\"node-body\" width=\"1\" height=\"6.681703423875547\" style=\"fill: none;\"/><text class=\"node-value\" dy=\".35em\" text-anchor=\"middle\" style=\"display: none;\" transform=\"translate(0.5,3.3408517119377734) rotate(-90)\"/><text class=\"node-title\" dy=\".35em\" text-anchor=\"start\" transform=\"translate(5,3.3408517119377734)\" style=\"display: inline;\">EDP (IED)</text><rect class=\"node-click-target\" x=\"-5\" y=\"-5\" width=\"10\" style=\"fill: none; visibility: hidden; pointer-events: all;\" height=\"11.681703423875547\"/></g><g class=\"node\" transform=\"translate(0,2104.037007757024)\"><title>Switzerland</title><line x1=\"0\" x2=\"0\" y1=\"0\" y2=\"12.370997891779552\" style=\"display: inline; stroke: rgb(0, 0, 0);\"/><rect class=\"node-body\" width=\"1\" height=\"12.370997891779552\" style=\"fill: none;\"/><text class=\"node-value\" dy=\".35em\" text-anchor=\"middle\" style=\"display: none;\" transform=\"translate(0.5,6.185498945889776) rotate(-90)\"/><text class=\"node-title\" dy=\".35em\" text-anchor=\"end\" transform=\"translate(-4,6.185498945889776)\" style=\"display: inline;\">Switzerland</text><rect class=\"node-click-target\" x=\"-5\" y=\"-5\" width=\"10\" style=\"fill: none; visibility: hidden; pointer-events: all;\" height=\"17.370997891779552\"/></g><g class=\"node\" transform=\"translate(0,373.0815001357893)\"><title>Faroe Islands</title><line x1=\"0\" x2=\"0\" y1=\"0\" y2=\"1\" style=\"display: inline; stroke: rgb(0, 0, 0);\"/><rect class=\"node-body\" width=\"1\" height=\"1\" style=\"fill: none;\"/><text class=\"node-value\" dy=\".35em\" text-anchor=\"middle\" style=\"display: none;\" transform=\"translate(0.5,0.05155874654070658) rotate(0)\"/><text class=\"node-title\" dy=\".35em\" text-anchor=\"end\" transform=\"translate(-4,0.05155874654070658)\" style=\"display: inline;\">Faroe Islands</text><rect class=\"node-click-target\" x=\"-5\" y=\"-5\" width=\"10\" style=\"fill: none; visibility: hidden; pointer-events: all;\" height=\"6\"/></g><g class=\"node\" transform=\"translate(749,1129.3082970619575)\"><title>EGP (GEF)</title><line x1=\"0\" x2=\"0\" y1=\"0\" y2=\"213.1790220396997\" style=\"display: inline; stroke: rgb(0, 0, 0);\"/><rect class=\"node-body\" width=\"1\" height=\"213.1790220396997\" style=\"fill: none;\"/><text class=\"node-value\" dy=\".35em\" text-anchor=\"middle\" style=\"display: none;\" transform=\"translate(0.5,106.58951101984985) rotate(-90)\"/><text class=\"node-title\" dy=\".35em\" text-anchor=\"start\" transform=\"translate(5,106.58951101984985)\" style=\"display: inline;\">EGP (GEF)</text><rect class=\"node-click-target\" x=\"-5\" y=\"-5\" width=\"10\" style=\"fill: none; visibility: hidden; pointer-events: all;\" height=\"218.1790220396997\"/></g><g class=\"node\" transform=\"translate(0,1241.6072733312044)\"><title>Germany</title><line x1=\"0\" x2=\"0\" y1=\"0\" y2=\"250.74085282368378\" style=\"display: inline; stroke: rgb(0, 0, 0);\"/><rect class=\"node-body\" width=\"1\" height=\"250.74085282368378\" style=\"fill: none;\"/><text class=\"node-value\" dy=\".35em\" text-anchor=\"middle\" style=\"display: none;\" transform=\"translate(0.5,125.37042641184189) rotate(-90)\"/><text class=\"node-title\" dy=\".35em\" text-anchor=\"end\" transform=\"translate(-4,125.37042641184189)\" style=\"display: inline;\">Germany</text><rect class=\"node-click-target\" x=\"-5\" y=\"-5\" width=\"10\" style=\"fill: none; visibility: hidden; pointer-events: all;\" height=\"255.74085282368378\"/></g><g class=\"node\" transform=\"translate(749,578.7439038592504)\"><title>MENL (FENL)</title><line x1=\"0\" x2=\"0\" y1=\"0\" y2=\"15.894049685477853\" style=\"display: inline; stroke: rgb(0, 0, 0);\"/><rect class=\"node-body\" width=\"1\" height=\"15.894049685477853\" style=\"fill: none;\"/><text class=\"node-value\" dy=\".35em\" text-anchor=\"middle\" style=\"display: none;\" transform=\"translate(0.5,7.9470248427389265) rotate(-90)\"/><text class=\"node-title\" dy=\".35em\" text-anchor=\"start\" transform=\"translate(5,7.9470248427389265)\" style=\"display: inline;\">MENL (FENL)</text><rect class=\"node-click-target\" x=\"-5\" y=\"-5\" width=\"10\" style=\"fill: none; visibility: hidden; pointer-events: all;\" height=\"20.894049685477853\"/></g><g class=\"node\" transform=\"translate(0,504.32660074640233)\"><title>Albania</title><line x1=\"0\" x2=\"0\" y1=\"0\" y2=\"1\" style=\"display: inline; stroke: rgb(0, 0, 0);\"/><rect class=\"node-body\" width=\"1\" height=\"1\" style=\"fill: none;\"/><text class=\"node-value\" dy=\".35em\" text-anchor=\"middle\" style=\"display: none;\" transform=\"translate(0.5,0.077531949685266) rotate(0)\"/><text class=\"node-title\" dy=\".35em\" text-anchor=\"end\" transform=\"translate(-4,0.077531949685266)\" style=\"display: inline;\">Albania</text><rect class=\"node-click-target\" x=\"-5\" y=\"-5\" width=\"10\" style=\"fill: none; visibility: hidden; pointer-events: all;\" height=\"6\"/></g></g><g class=\"slice-titles\"/></g></svg>"
      }
     },
     "22688cff989c485f9befd14c56b88194": {
      "model_module": "jupyter-sankey-widget",
      "model_module_version": "^0.2.5",
      "model_name": "SankeyModel",
      "state": {
       "_model_module_version": "^0.2.5",
       "_view_module_version": "^0.2.5",
       "layout": "IPY_MODEL_7d5a166807fc49ce8014b8e3aab7be84",
       "links": [
        {
         "source": "Albania",
         "target": "ECPM (SALLUX)",
         "value": 1000
        },
        {
         "source": "Argentina",
         "target": "ACRE (ND)",
         "value": 4625.62
        },
        {
         "source": "Austria",
         "target": "ACRE (ND)",
         "value": 62000
        },
        {
         "source": "Belgium",
         "target": "ACRE (ND)",
         "value": 17000
        },
        {
         "source": "Belgium",
         "target": "ADDE (IDDE)",
         "value": 24000
        },
        {
         "source": "Belgium",
         "target": "EUD (OEIC)",
         "value": 3000
        },
        {
         "source": "Czech Republic",
         "target": "ACRE (ND)",
         "value": 96068
        },
        {
         "source": "Czech Republic",
         "target": "ALDE (ELF)",
         "value": 12000
        },
        {
         "source": "Czech Republic",
         "target": "EUD (OEIC)",
         "value": 21944
        },
        {
         "source": "Denmark",
         "target": "ALDE (ELF)",
         "value": 3000
        },
        {
         "source": "Denmark",
         "target": "EUD (OEIC)",
         "value": 2681
        },
        {
         "source": "Faroe Islands",
         "target": "ACRE (ND)",
         "value": 665
        },
        {
         "source": "Finland",
         "target": "ACRE (ND)",
         "value": 1300
        },
        {
         "source": "Finland",
         "target": "EUD (OEIC)",
         "value": 3200
        },
        {
         "source": "France",
         "target": "ACRE (ND)",
         "value": 1237
        },
        {
         "source": "France",
         "target": "ECPM (SALLUX)",
         "value": 3000
        },
        {
         "source": "Georgia",
         "target": "ECPM (SALLUX)",
         "value": 796
        },
        {
         "source": "Germany",
         "target": "ACRE (ND)",
         "value": 9750
        },
        {
         "source": "Germany",
         "target": "ALDE (ELF)",
         "value": 48000
        },
        {
         "source": "Germany",
         "target": "APF (Terra Nostra)",
         "value": 1406.5
        },
        {
         "source": "Germany",
         "target": "EAF (EFF)",
         "value": 5000
        },
        {
         "source": "Germany",
         "target": "EPP (WMCES)",
         "value": 24000
        },
        {
         "source": "Hungary",
         "target": "ACRE (ND)",
         "value": 4200
        },
        {
         "source": "Hungary",
         "target": "ALDE (ELF)",
         "value": 1200
        },
        {
         "source": "Hungary",
         "target": "EPP (WMCES)",
         "value": 8681.47
        },
        {
         "source": "Iceland",
         "target": "ACRE (ND)",
         "value": 47200
        },
        {
         "source": "Iceland",
         "target": "ADDE (IDDE)",
         "value": 32000
        },
        {
         "source": "India",
         "target": "ALDE (ELF)",
         "value": 12000
        },
        {
         "source": "India",
         "target": "EAF (EFF)",
         "value": 24000
        },
        {
         "source": "Italy",
         "target": "APF (Terra Nostra)",
         "value": 750
        },
        {
         "source": "Italy",
         "target": "EDP (IED)",
         "value": 25000
        },
        {
         "source": "Latvia",
         "target": "ACRE (ND)",
         "value": 15871.55
        },
        {
         "source": "Latvia",
         "target": "EAF (EFF)",
         "value": 29000
        },
        {
         "source": "Lichtenstein",
         "target": "ACRE (ND)",
         "value": 12000
        },
        {
         "source": "Lithuania",
         "target": "ACRE (ND)",
         "value": 3000
        },
        {
         "source": "Lithuania",
         "target": "ADDE (IDDE)",
         "value": 8000
        },
        {
         "source": "Luxembourg",
         "target": "ACRE (ND)",
         "value": 20000
        },
        {
         "source": "Malta",
         "target": "EAF (EFF)",
         "value": 48000
        },
        {
         "source": "Malta",
         "target": "ECPM (SALLUX)",
         "value": 600
        },
        {
         "source": "Malta",
         "target": "EUD (OEIC)",
         "value": 7340
        },
        {
         "source": "Monaco",
         "target": "ADDE (IDDE)",
         "value": 34000
        },
        {
         "source": "Netherlands",
         "target": "ACRE (ND)",
         "value": 27000
        },
        {
         "source": "Netherlands",
         "target": "ADDE (IDDE)",
         "value": 37000
        },
        {
         "source": "Netherlands",
         "target": "ALDE (ELF)",
         "value": 4000
        },
        {
         "source": "Netherlands",
         "target": "ECPM (SALLUX)",
         "value": 6000
        },
        {
         "source": "Netherlands",
         "target": "EPP (WMCES)",
         "value": 12000
        },
        {
         "source": "Norway",
         "target": "ECPM (SALLUX)",
         "value": 4310
        },
        {
         "source": "Pakistan",
         "target": "ACRE (ND)",
         "value": 5908
        },
        {
         "source": "Poland",
         "target": "ACRE (ND)",
         "value": 205354.8
        },
        {
         "source": "Poland",
         "target": "ADDE (IDDE)",
         "value": 5590
        },
        {
         "source": "Serbia",
         "target": "ALDE (ELF)",
         "value": 2000
        },
        {
         "source": "Slovakia",
         "target": "ACRE (ND)",
         "value": 10600
        },
        {
         "source": "Slovakia",
         "target": "EUD (OEIC)",
         "value": 2207
        },
        {
         "source": "South-Korea",
         "target": "ALDE (ELF)",
         "value": 3600
        },
        {
         "source": "Sweden",
         "target": "ACRE (ND)",
         "value": 12000
        },
        {
         "source": "Sweden",
         "target": "ADDE (IDDE)",
         "value": 12000
        },
        {
         "source": "Sweden",
         "target": "EAF (EFF)",
         "value": 61200
        },
        {
         "source": "Sweden",
         "target": "EPP (WMCES)",
         "value": 10134.09
        },
        {
         "source": "Sweden",
         "target": "EUD (OEIC)",
         "value": 1536.73
        },
        {
         "source": "Switzerland",
         "target": "ALDE (ELF)",
         "value": 48000
        },
        {
         "source": "Switzerland",
         "target": "APF (Terra Nostra)",
         "value": 1000
        },
        {
         "source": "Switzerland",
         "target": "EUD (OEIC)",
         "value": 2199
        },
        {
         "source": "UK",
         "target": "ACRE (ND)",
         "value": 77261.17
        },
        {
         "source": "UK",
         "target": "ALDE (ELF)",
         "value": 82998
        },
        {
         "source": "UK",
         "target": "EAF (EFF)",
         "value": 11600
        },
        {
         "source": "UK",
         "target": "ECPM (SALLUX)",
         "value": 10000
        },
        {
         "source": "UK",
         "target": "EPP (WMCES)",
         "value": 10000
        },
        {
         "source": "USA",
         "target": "ACRE (ND)",
         "value": 73673.3
        },
        {
         "source": "USA",
         "target": "ALDE (ELF)",
         "value": 131580
        },
        {
         "source": "USA",
         "target": "APF (Terra Nostra)",
         "value": 4580
        },
        {
         "source": "USA",
         "target": "EAF (EFF)",
         "value": 20000
        },
        {
         "source": "USA",
         "target": "ECPM (SALLUX)",
         "value": 805
        },
        {
         "source": "USA",
         "target": "EPP (WMCES)",
         "value": 258000
        },
        {
         "source": "USA",
         "target": "PES (FEPS)",
         "value": 36000
        }
       ],
       "margins": {
        "bottom": 0,
        "left": 150,
        "right": 100,
        "top": 0
       },
       "nodes": [
        {
         "id": "Iceland"
        },
        {
         "id": "ACRE (ND)"
        },
        {
         "id": "India"
        },
        {
         "id": "Lichtenstein"
        },
        {
         "id": "Pakistan"
        },
        {
         "id": "UK"
        },
        {
         "id": "Hungary"
        },
        {
         "id": "Czech Republic"
        },
        {
         "id": "France"
        },
        {
         "id": "Lithuania"
        },
        {
         "id": "Argentina"
        },
        {
         "id": "ADDE (IDDE)"
        },
        {
         "id": "Norway"
        },
        {
         "id": "Sweden"
        },
        {
         "id": "Austria"
        },
        {
         "id": "ECPM (SALLUX)"
        },
        {
         "id": "Finland"
        },
        {
         "id": "PES (FEPS)"
        },
        {
         "id": "Denmark"
        },
        {
         "id": "EAF (EFF)"
        },
        {
         "id": "Latvia"
        },
        {
         "id": "Netherlands"
        },
        {
         "id": "Luxembourg"
        },
        {
         "id": "Malta"
        },
        {
         "id": "ALDE (ELF)"
        },
        {
         "id": "South-Korea"
        },
        {
         "id": "Belgium"
        },
        {
         "id": "USA"
        },
        {
         "id": "EPP (WMCES)"
        },
        {
         "id": "EUD (OEIC)"
        },
        {
         "id": "Georgia"
        },
        {
         "id": "Poland"
        },
        {
         "id": "Slovakia"
        },
        {
         "id": "Serbia"
        },
        {
         "id": "Monaco"
        },
        {
         "id": "APF (Terra Nostra)"
        },
        {
         "id": "Italy"
        },
        {
         "id": "EDP (IED)"
        },
        {
         "id": "Switzerland"
        },
        {
         "id": "Faroe Islands"
        },
        {
         "id": "Germany"
        },
        {
         "id": "Albania"
        }
       ],
       "order": [],
       "png": "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",
       "scale": 0.000668930960507852,
       "svg": "<?xml version=\"1.0\" standalone=\"no\"?><!DOCTYPE svg PUBLIC \"-//W3C//DTD SVG 1.1//EN\" \"http://www.w3.org/Graphics/SVG/1.1/DTD/svg11.dtd\"><svg xmlns=\"http://www.w3.org/2000/svg\" width=\"1000\" height=\"2500\" viewBox=\"0 0 1000 2500\"><g class=\"sankey\" transform=\"translate(150,0)\"><g class=\"groups\"/><g class=\"links\"><g class=\"link\" style=\"opacity: 0.8;\"><path d=\"M1,1755.575312160219 A465.59630878095135 465.59630878095135 0.3090717302002841 0 1 142.62251634534815,1777.636971094669 L607.9858326199438,1926.2294742698623 A463.59630878095135 463.59630878095135 0.3090717302002841 0 0 749,1948.1963658768295 L749,1950.1963658768295 A465.59630878095135 465.59630878095135 0.3090717302002841 0 1 607.3774836546519,1928.1347069423796 L142.01416738005608,1779.5422037671863 A463.59630878095135 463.59630878095135 0.3090717302002841 0 0 1,1757.575312160219 Z\" style=\"fill: rgb(31, 119, 180);\"/><title>Malta → ECPM (SALLUX)\n600</title><text class=\"label\" dy=\"0.35em\" x=\"5\" y=\"1756.575312160219\"/></g><g class=\"link\" style=\"opacity: 0.8;\"><path d=\"M1,716.766893470635 A999 999 0.08288496492582764 0 0 83.70730527967656,713.3373337978749 L666.1271145295734,664.952637935743 A1001 1001 0.08288496492582764 0 1 749,661.516212277652 L749,663.516212277652 A999 999 0.08288496492582764 0 0 666.2926947203234,666.9457719504121 L83.87288547042665,715.3304678125439 A1001 1001 0.08288496492582764 0 1 1,718.766893470635 Z\" style=\"fill: rgb(31, 119, 180);\"/><title>Faroe Islands → ACRE (ND)\n665</title><text class=\"label\" dy=\"0.35em\" x=\"5\" y=\"717.766893470635\"/></g><g class=\"link\" style=\"opacity: 0.8;\"><path d=\"M1,2232.025876877113 A467.59335545882175 467.59335545882175 0.30618521332885806 0 0 141.9436146274948,2210.2782834986056 L607.4535384202032,2063.1183082682146 A469.59335545882175 469.59335545882175 0.30618521332885806 0 1 749,2041.2776956321636 L749,2043.2776956321636 A467.59335545882175 467.59335545882175 0.30618521332885806 0 0 608.0563853725051,2065.0252890106713 L142.54646157979676,2212.185264241062 A469.59335545882175 469.59335545882175 0.30618521332885806 0 1 1,2234.025876877113 Z\" style=\"fill: rgb(31, 119, 180);\"/><title>Italy → APF (Terra Nostra)\n750</title><text class=\"label\" dy=\"0.35em\" x=\"5\" y=\"2233.025876877113\"/></g><g class=\"link\" style=\"opacity: 0.8;\"><path d=\"M1,2180.2386040306583 A397.86635289393246 397.86635289393246 0.3665046092568016 0 0 143.57715067771113,2153.8145627676768 L605.7061405599587,1976.4275700643677 A399.86635289393246 399.86635289393246 0.3665046092568016 0 1 749,1949.8707000709808 L749,1951.8707000709808 A397.86635289393246 397.86635289393246 0.3665046092568016 0 0 606.4228493222889,1978.2947413339623 L144.29385944004127,2155.681734037271 A399.86635289393246 399.86635289393246 0.3665046092568016 0 1 1,2182.2386040306583 Z\" style=\"fill: rgb(31, 119, 180);\"/><title>Georgia → ECPM (SALLUX)\n796</title><text class=\"label\" dy=\"0.35em\" x=\"5\" y=\"2181.2386040306583\"/></g><g class=\"link\" style=\"opacity: 0.8;\"><path d=\"M1,2103.5018786846613 A564.255763277513 564.255763277513 0.2502252109461587 0 0 140.7222323971376,2085.9290803565323 L608.7825232775389,1966.3013748465962 A566.255763277513 566.255763277513 0.2502252109461587 0 1 749,1948.6662898765865 L749,1950.6662898765865 A564.255763277513 564.255763277513 0.2502252109461587 0 0 609.2777676028624,1968.239088204716 L141.21747672246113,2087.8667937146515 A566.255763277513 566.255763277513 0.2502252109461587 0 1 1,2105.5018786846613 Z\" style=\"fill: rgb(31, 119, 180);\"/><title>USA → ECPM (SALLUX)\n805</title><text class=\"label\" dy=\"0.35em\" x=\"5\" y=\"2104.5018786846613\"/></g><g class=\"link\" style=\"opacity: 0.8;\"><path d=\"M1,2155.4443556410256 A436.9874474862899 436.9874474862899 0.3298594491637856 0 0 142.54462952705205,2131.885435366674 L606.8075503566437,1972.9367445853914 A438.9874474862899 438.9874474862899 0.3298594491637856 0 1 749,1949.270000068445 L749,1951.270000068445 A436.9874474862899 436.9874474862899 0.3298594491637856 0 0 607.455370472948,1974.8289203427962 L143.19244964335638,2133.777611124079 A438.9874474862899 438.9874474862899 0.3298594491637856 0 1 1,2157.4443556410256 Z\" style=\"fill: rgb(31, 119, 180);\"/><title>Albania → ECPM (SALLUX)\n1.00k</title><text class=\"label\" dy=\"0.35em\" x=\"5\" y=\"2156.4443556410256\"/></g><g class=\"link\" style=\"opacity: 0.8;\"><path d=\"M1,1645.552916684832 A273.8659128285513 273.8659128285513 0.5935409003812369 0 1 154.17315222039153,1692.393448447115 L596.9454473938385,1991.130214570096 A271.8659128285513 271.8659128285513 0.5935409003812369 0 0 749,2037.6286772425933 L749,2039.6286772425933 A273.8659128285513 273.8659128285513 0.5935409003812369 0 1 595.8268477796084,1992.7881454803105 L153.05455260616148,1694.0513793573293 A271.8659128285513 271.8659128285513 0.5935409003812369 0 0 1,1647.552916684832 Z\" style=\"fill: rgb(31, 119, 180);\"/><title>Switzerland → APF (Terra Nostra)\n1.00k</title><text class=\"label\" dy=\"0.35em\" x=\"5\" y=\"1646.552916684832\"/></g><g class=\"link\" style=\"opacity: 0.8;\"><path d=\"M1,1108.259838477707 A323.6128974176998 323.6128974176998 0.4722276912659902 0 1 148.20221898167537,1143.6769446319854 L602.7075236160782,1375.8253361398044 A321.6128974176998 321.6128974176998 0.4722276912659902 0 0 749,1411.023556665995 L749,1413.023556665995 A323.6128974176998 323.6128974176998 0.4722276912659902 0 1 601.7977810183246,1377.6064505117167 L147.29247638392175,1145.4580590038977 A321.6128974176998 321.6128974176998 0.4722276912659902 0 0 1,1110.259838477707 Z\" style=\"fill: rgb(31, 119, 180);\"/><title>Hungary → ALDE (ELF)\n1.20k</title><text class=\"label\" dy=\"0.35em\" x=\"5\" y=\"1109.259838477707\"/></g><g class=\"link\" style=\"opacity: 0.8;\"><path d=\"M1,1297.1933528327695 A242.23562294613492 242.23562294613492 0.757135078003276 0 0 167.37760508046142,1231.016213214738 L533.6130284263235,884.918873966633 A313.5902647979521 313.5902647979521 0.757135078003276 0 1 749,799.2481270963257 L749,801.2481270963257 A311.5902647979521 311.5902647979521 0.757135078003276 0 0 534.9867124704532,886.3724874458302 L168.7512891245911,1232.469826693935 A244.23562294613492 244.23562294613492 0.757135078003276 0 1 1,1299.1933528327695 Z\" style=\"fill: rgb(31, 119, 180);\"/><title>France → ACRE (ND)\n1.24k</title><text class=\"label\" dy=\"0.35em\" x=\"5\" y=\"1298.1933528327695\"/></g><g class=\"link\" style=\"opacity: 0.8;\"><path d=\"M1,839.5561465386527 A573.8554934164171 573.8554934164171 0.2457994897039053 0 0 140.63732572597982,822.307825720915 L608.876010550041,704.8397064276982 A575.8554934164171 575.8554934164171 0.2457994897039053 0 1 749,687.5312717972824 L749,689.5312717972824 A573.8554934164171 573.8554934164171 0.2457994897039053 0 0 609.3626742740203,706.7795926150201 L141.12398944995905,824.247711908237 A575.8554934164171 575.8554934164171 0.2457994897039053 0 1 1,841.5561465386527 Z\" style=\"fill: rgb(31, 119, 180);\"/><title>Finland → ACRE (ND)\n1.30k</title><text class=\"label\" dy=\"0.35em\" x=\"5\" y=\"840.5561465386527\"/></g><g class=\"link\" style=\"opacity: 0.8;\"><path d=\"M1,1382.307614422497 A227.40282893146184 227.40282893146184 0.8876356744993106 0 1 177.36941399579368,1466.1629724155543 L574.1817488883669,1953.7059330389172 A225.40282893146184 225.40282893146184 0.8876356744993106 0 0 749,2036.8237860643621 L749,2038.8237860643621 A227.40282893146184 227.40282893146184 0.8876356744993106 0 1 572.6305860042064,1954.9684280713047 L175.81825111163315,1467.4254674479419 A225.40282893146184 225.40282893146184 0.8876356744993106 0 0 1,1384.307614422497 Z\" style=\"fill: rgb(31, 119, 180);\"/><title>Germany → APF (Terra Nostra)\n1.41k</title><text class=\"label\" dy=\"0.35em\" x=\"5\" y=\"1383.307614422497\"/></g><g class=\"link\" style=\"opacity: 0.8;\"><path d=\"M1,915.6539525116847 A1001 1001 0.13039068173434099 0 1 131.15153935484702,924.1512689870688 L619.108503680827,988.1393579869 A999 999 0.13039068173434099 0 0 749,996.6196968069886 L749,998.6196968069886 A1001 1001 0.13039068173434099 0 1 618.848460645153,990.1223803316045 L130.891496319173,926.1342913317733 A999 999 0.13039068173434099 0 0 1,917.6539525116847 Z\" style=\"fill: rgb(31, 119, 180);\"/><title>Sweden → EUD (OEIC)\n1.54k</title><text class=\"label\" dy=\"0.35em\" x=\"5\" y=\"916.6539525116847\"/></g><g class=\"link\" style=\"opacity: 0.8;\"><path d=\"M1,1407.640519468079 A1001 1001 0.05986677146000363 0 1 60.890848164250094,1409.4337909548212 L689.2288138700441,1447.0953605040104 A999 999 0.05986677146000363 0 0 749,1448.8850490307393 L749,1450.8850490307393 A1001 1001 0.05986677146000363 0 1 689.1091518357499,1449.091777543997 L60.771186129955886,1411.430207994808 A999 999 0.05986677146000363 0 0 1,1409.640519468079 Z\" style=\"fill: rgb(31, 119, 180);\"/><title>Serbia → ALDE (ELF)\n2.00k</title><text class=\"label\" dy=\"0.35em\" x=\"5\" y=\"1408.640519468079\"/></g><g class=\"link\" style=\"opacity: 0.8;\"><path d=\"M1,1612.374275509123 A229.04104541237993 229.04104541237993 0.8319944574724523 0 0 170.32452808233833,1537.570076126767 L578.1969200906084,1089.7989885283407 A231.04104541237993 231.04104541237993 0.8319944574724523 0 1 749,1014.3415944380434 L749,1016.3415944380434 A229.04104541237993 229.04104541237993 0.8319944574724523 0 0 579.6754719176616,1091.1457938203996 L171.80307990939164,1538.9168814188258 A231.04104541237993 231.04104541237993 0.8319944574724523 0 1 1,1614.374275509123 Z\" style=\"fill: rgb(31, 119, 180);\"/><title>Switzerland → EUD (OEIC)\n2.20k</title><text class=\"label\" dy=\"0.35em\" x=\"5\" y=\"1613.374275509123\"/></g><g class=\"link\" style=\"opacity: 0.8;\"><path d=\"M1,874.1539126200083 A711.5595942340173 711.5595942340173 0.1968986954907741 0 1 140.20161740369699,887.9026686903625 L610.1896403870254,981.6574362887139 A709.5595942340173 709.5595942340173 0.1968986954907741 0 0 749,995.3675483545975 L749,997.3675483545975 A711.5595942340173 711.5595942340173 0.1968986954907741 0 1 609.798382596303,983.6187922842433 L139.8103596129745,889.8640246858919 A709.5595942340173 709.5595942340173 0.1968986954907741 0 0 1,876.1539126200083 Z\" style=\"fill: rgb(31, 119, 180);\"/><title>Slovakia → EUD (OEIC)\n2.21k</title><text class=\"label\" dy=\"0.35em\" x=\"5\" y=\"875.1539126200083\"/></g><g class=\"link\" style=\"opacity: 0.8;\"><path d=\"M1,1215.4730583844414 A443.32304586548116 443.32304586548116 0.324645159554932 0 0 142.4078606712172,1192.3156226488675 L606.9541943268704,1035.9713106891304 A445.32304586548116 445.32304586548116 0.324645159554932 0 1 749,1012.7094028944043 L749,1014.7094028944043 A443.32304586548116 443.32304586548116 0.324645159554932 0 0 607.5921393287828,1037.8668386299782 L143.04580567312954,1194.2111505897153 A445.32304586548116 445.32304586548116 0.324645159554932 0 1 1,1217.4730583844414 Z\" style=\"fill: rgb(31, 119, 180);\"/><title>Denmark → EUD (OEIC)\n2.68k</title><text class=\"label\" dy=\"0.35em\" x=\"5\" y=\"1216.4730583844414\"/></g><g class=\"link\" style=\"opacity: 0.8;\"><path d=\"M1,691.3441326576457 A325.64756471666175 325.64756471666175 0.46850353370437947 0 1 148.04667135632653,726.4342799007263 L602.8594991338056,956.6081057708487 A323.6407718351382 323.6407718351382 0.46850353370437947 0 0 749,991.4820110845285 L749,993.488803966052 A325.64756471666175 325.64756471666175 0.46850353370437947 0 1 601.9533286436734,958.3986567229714 L147.14050086619446,728.224830852849 A323.6407718351382 323.6407718351382 0.46850353370437947 0 0 1,693.3509255391692 Z\" style=\"fill: rgb(31, 119, 180);\"/><title>Belgium → EUD (OEIC)\n3.00k</title><text class=\"label\" dy=\"0.35em\" x=\"5\" y=\"692.3475290984074\"/></g><g class=\"link\" style=\"opacity: 0.8;\"><path d=\"M1,1217.3697603370022 A455.1065978748048 455.1065978748048 0.3169300719912629 0 1 142.83442564617548,1240.0355979557937 L607.79099335911,1392.5347464933632 A453.0998049932812 453.0998049932812 0.3169300719912629 0 0 749,1415.100639084331 L749,1417.1074319658549 A455.1065978748048 455.1065978748048 0.3169300719912629 0 1 607.1655743538245,1394.4415943470633 L142.20900664088998,1241.9424458094938 A453.0998049932812 453.0998049932812 0.3169300719912629 0 0 1,1219.376553218526 Z\" style=\"fill: rgb(31, 119, 180);\"/><title>Denmark → ALDE (ELF)\n3.00k</title><text class=\"label\" dy=\"0.35em\" x=\"5\" y=\"1218.373156777764\"/></g><g class=\"link\" style=\"opacity: 0.8;\"><path d=\"M1,1298.6070866318435 A228.04514894807724 228.04514894807724 0.8755618629103229 0 1 176.11667565753103,1380.5743800870166 L575.1412944870241,1858.9211118291767 A226.40696122032287 226.40696122032287 0.8755618629103229 0 0 749,1940.2995841020752 L749,1942.306376983599 A228.41375410184642 228.41375410184642 0.8755618629103229 0 1 573.6002711424511,1860.2065941203089 L174.57565231295806,1381.8598623781488 A226.0383560665537 226.0383560665537 0.8755618629103229 0 0 1,1300.6138795133672 Z\" style=\"fill: rgb(31, 119, 180);\"/><title>France → ECPM (SALLUX)\n3.00k</title><text class=\"label\" dy=\"0.35em\" x=\"5\" y=\"1299.6104830726053\"/></g><g class=\"link\" style=\"opacity: 0.8;\"><path d=\"M1,379.4615291877452 A973.0887199390941 973.0887199390941 0.14272422669635088 0 1 139.41230140382075,389.35572480020954 L610.8731451494903,457.10525903914805 A971.0819270575705 971.0819270575705 0.14272422669635088 0 0 749,466.9790499331971 L749,468.9858428147206 A973.0887199390941 973.0887199390941 0.14272422669635088 0 1 610.5876985961793,459.0916472022563 L139.12685485050972,391.3421129633178 A971.0819270575705 971.0819270575705 0.14272422669635088 0 0 1,381.46832206926877 Z\" style=\"fill: rgb(31, 119, 180);\"/><title>Lithuania → ACRE (ND)\n3.00k</title><text class=\"label\" dy=\"0.35em\" x=\"5\" y=\"380.464925628507\"/></g><g class=\"link\" style=\"opacity: 0.8;\"><path d=\"M1,840.9909516629829 A574.2845212351956 574.2845212351956 0.24654467275370084 0 1 141.15676735177328,858.3564555394257 L609.365650773958,976.1880279950748 A572.1439421615705 572.1439421615705 0.24654467275370084 0 0 749,993.488803966052 L749,995.6293830396771 A574.2845212351956 574.2845212351956 0.24654467275370084 0 1 608.8432326482267,978.2638791632343 L140.63434922604205,860.4323067075852 A572.1439421615705 572.1439421615705 0.24654467275370084 0 0 1,843.1315307366079 Z\" style=\"fill: rgb(31, 119, 180);\"/><title>Finland → EUD (OEIC)\n3.20k</title><text class=\"label\" dy=\"0.35em\" x=\"5\" y=\"842.0612411997954\"/></g><g class=\"link\" style=\"opacity: 0.8;\"><path d=\"M1,1433.5029988156837 A1001.2040757289142 1001.2040757289142 0.023531541190577432 0 1 24.557700693323643,1433.780186108568 L725.4989615922613,1450.2774594045818 A998.7959242710858 998.7959242710858 0.023531541190577432 0 0 749,1450.5539799912472 L749,1452.9621314490755 A1001.2040757289142 1001.2040757289142 0.023531541190577432 0 1 725.4422993066763,1452.6849441561912 L24.50103840773875,1436.1876708601774 A998.7959242710858 998.7959242710858 0.023531541190577432 0 0 1,1435.911150273512 Z\" style=\"fill: rgb(31, 119, 180);\"/><title>South-Korea → ALDE (ELF)\n3.60k</title><text class=\"label\" dy=\"0.35em\" x=\"5\" y=\"1434.7070745445978\"/></g><g class=\"link\" style=\"opacity: 0.8;\"><path d=\"M1,1184.6934984397053 A404.0264369863109 404.0264369863109 0.3625411054250969 0 1 144.2885034778238,1210.9557675183926 L606.6604454768645,1386.3365718602668 A401.3507131442795 401.3507131442795 0.3625411054250969 0 0 749,1412.4249152422997 L749,1415.100639084331 A404.0264369863109 404.0264369863109 0.3625411054250969 0 1 605.7114965221762,1388.8383700056438 L143.3395545231355,1213.4575656637696 A401.3507131442795 401.3507131442795 0.3625411054250969 0 0 1,1187.3692222817367 Z\" style=\"fill: rgb(31, 119, 180);\"/><title>Netherlands → ALDE (ELF)\n4.00k</title><text class=\"label\" dy=\"0.35em\" x=\"5\" y=\"1186.031360360721\"/></g><g class=\"link\" style=\"opacity: 0.8;\"><path d=\"M1,1100.2416658015493 A301.2474875968287 301.2474875968287 0.5234807104490935 0 0 151.59294097074468,1059.8999368862478 L576.7894167032683,814.479567115428 A344.4916157511195 344.4916157511195 0.5234807104490935 0 1 749,768.3467761431583 L749,771.1562861772912 A341.6821057169866 341.6821057169866 0.5234807104490935 0 0 578.1938844453965,816.9128400128267 L152.99740871287287,1062.3332097836465 A304.05699763096163 304.05699763096163 0.5234807104490935 0 1 1,1103.0511758356822 Z\" style=\"fill: rgb(31, 119, 180);\"/><title>Hungary → ACRE (ND)\n4.20k</title><text class=\"label\" dy=\"0.35em\" x=\"5\" y=\"1101.6464208186158\"/></g><g class=\"link\" style=\"opacity: 0.8;\"><path d=\"M1,2205.6983869400374 A366.4296655830873 366.4296655830873 0.40251769784183944 0 0 144.54371306441627,2176.412462599486 L604.3268756657384,1980.6532824911546 A369.3127580228761 369.3127580228761 0.40251769784183944 0 1 749,1951.136934593263 L749,1954.020027033052 A366.4296655830873 366.4296655830873 0.40251769784183944 0 0 605.4562869355838,1983.3059513736039 L145.6731243342617,2179.0651314819347 A369.3127580228761 369.3127580228761 0.40251769784183944 0 1 1,2208.5814793798263 Z\" style=\"fill: rgb(31, 119, 180);\"/><title>Norway → ECPM (SALLUX)\n4.31k</title><text class=\"label\" dy=\"0.35em\" x=\"5\" y=\"2207.139933159932\"/></g><g class=\"link\" style=\"opacity: 0.8;\"><path d=\"M1,2104.771123396266 A998.468148100437 998.468148100437 0.1014470812593471 0 0 102.1180280092038,2099.6376556441223 L647.5717010150407,2044.1123620286933 A1001.531851899563 1001.531851899563 0.1014470812593471 0 1 749,2038.9631427228471 L749,2042.026846521973 A998.468148100437 998.468148100437 0.1014470812593471 0 0 647.8819719907962,2047.1603142741167 L102.42829898495931,2102.6856078895457 A1001.531851899563 1001.531851899563 0.1014470812593471 0 1 1,2107.8348271953923 Z\" style=\"fill: rgb(31, 119, 180);\"/><title>USA → APF (Terra Nostra)\n4.58k</title><text class=\"label\" dy=\"0.35em\" x=\"5\" y=\"2106.302975295829\"/></g><g class=\"link\" style=\"opacity: 0.8;\"><path d=\"M1,570.9629265215991 A1001.5471102147721 1001.5471102147721 0.050712676845553695 0 1 51.76936717833467,572.2505277408945 L698.3874817721701,605.0704031719666 A998.4528897852279 998.4528897852279 0.050712676845553695 0 0 749,606.3540264236185 L749,609.4482468531628 A1001.5471102147721 1001.5471102147721 0.050712676845553695 0 1 698.2306328216653,608.1606456338674 L51.61251822782993,575.3407702027953 A998.4528897852279 998.4528897852279 0.050712676845553695 0 0 1,574.0571469511434 Z\" style=\"fill: rgb(31, 119, 180);\"/><title>Argentina → ACRE (ND)\n4.63k</title><text class=\"label\" dy=\"0.35em\" x=\"5\" y=\"572.5100367363713\"/></g><g class=\"link\" style=\"opacity: 0.8;\"><path d=\"M1,1379.4925339219806 A271.18223783730457 271.18223783730457 0.6048349049116766 0 1 155.20134641249203,1427.6013513725813 L596.7005121972373,1732.791300430527 A267.8375830347653 267.8375830347653 0.6048349049116766 0 0 749,1780.3067626945422 L749,1783.6514174970816 A271.18223783730457 271.18223783730457 0.6048349049116766 0 1 594.798653587508,1735.5426000464809 L153.29948780276263,1430.3526509885353 A267.8375830347653 267.8375830347653 0.6048349049116766 0 0 1,1382.83718872452 Z\" style=\"fill: rgb(31, 119, 180);\"/><title>Germany → EAF (EFF)\n5.00k</title><text class=\"label\" dy=\"0.35em\" x=\"5\" y=\"1381.1648613232503\"/></g><g class=\"link\" style=\"opacity: 0.8;\"><path d=\"M1,405.6618704563656 A804.6048404840446 804.6048404840446 0.1727773437696638 0 0 139.32686017819842,393.6821803956444 L610.030278964321,311.53625560250157 A808.3441645532835 808.3441645532835 0.1727773437696638 0 1 749,299.50089107758106 L749,303.24021514682 A804.6048404840446 804.6048404840446 0.1727773437696638 0 0 610.6731398218017,315.21990520754116 L139.969721035679,397.365830000684 A808.3441645532835 808.3441645532835 0.1727773437696638 0 1 1,409.4011945256045 Z\" style=\"fill: rgb(31, 119, 180);\"/><title>Poland → ADDE (IDDE)\n5.59k</title><text class=\"label\" dy=\"0.35em\" x=\"5\" y=\"407.53153249098506\"/></g><g class=\"link\" style=\"opacity: 0.8;\"><path d=\"M1,811.9757489125454 A673.73258289164 673.73258289164 0.20745802510673017 0 0 139.77078799396185,797.5293418576019 L609.4151972323615,698.6755707099497 A677.6846270063204 677.6846270063204 0.20745802510673017 0 1 749,684.144422558272 L749,688.0964666729524 A673.73258289164 673.73258289164 0.20745802510673017 0 0 610.2292120060382,702.5428737278959 L140.58480276763845,801.3966448755481 A677.6846270063204 677.6846270063204 0.20745802510673017 0 1 1,815.9277930272258 Z\" style=\"fill: rgb(31, 119, 180);\"/><title>Pakistan → ACRE (ND)\n5.91k</title><text class=\"label\" dy=\"0.35em\" x=\"5\" y=\"813.9517709698856\"/></g><g class=\"link\" style=\"opacity: 0.8;\"><path d=\"M1,1187.3692222817367 A226.40696122032287 226.40696122032287 0.9721517449555119 0 1 188.03483214232278,1286.190590057839 L565.2807917918274,1839.2164673114657 A222.39337545727577 222.39337545727577 0.9721517449555119 0 0 749,1936.285998339028 L749,1940.2995841020752 A226.40696122032287 226.40696122032287 0.9721517449555119 0 1 561.9651678576772,1841.4782163259729 L184.71920820817252,1288.4523390723461 A222.39337545727577 222.39337545727577 0.9721517449555119 0 0 1,1191.3828080447838 Z\" style=\"fill: rgb(31, 119, 180);\"/><title>Netherlands → ECPM (SALLUX)\n6.00k</title><text class=\"label\" dy=\"0.35em\" x=\"5\" y=\"1189.3760151632603\"/></g><g class=\"link\" style=\"opacity: 0.8;\"><path d=\"M1,1719.3559935175622 A222.37159153507008 222.37159153507008 0.9325657575023587 0 0 179.59801006488925,1629.4678934925735 L566.4585551018616,1107.9499086577293 A227.2815447851977 227.2815447851977 0.9325657575023587 0 1 749,1016.0770840291218 L749,1020.9870372792495 A222.37159153507008 222.37159153507008 0.9325657575023587 0 0 570.4019899351107,1110.8751373042383 L183.5414448981383,1632.3931221390824 A227.2815447851977 227.2815447851977 0.9325657575023587 0 1 1,1724.26594676769 Z\" style=\"fill: rgb(31, 119, 180);\"/><title>Malta → EUD (OEIC)\n7.34k</title><text class=\"label\" dy=\"0.35em\" x=\"5\" y=\"1721.810970142626\"/></g><g class=\"link\" style=\"opacity: 0.8;\"><path d=\"M1,374.1100815036824 A997.3242761579686 997.3242761579686 0.12837341471156005 0 0 128.6785627090976,365.9035417343376 L620.6363390083797,302.4000178557836 A1002.6757238420314 1002.6757238420314 0.12837341471156005 0 1 749,294.14944339351825 L749,299.50089107758106 A997.3242761579686 997.3242761579686 0.12837341471156005 0 0 621.3214372909025,307.7074308469259 L129.36366099162035,371.2109547254799 A1002.6757238420314 1002.6757238420314 0.12837341471156005 0 1 1,379.4615291877452 Z\" style=\"fill: rgb(31, 119, 180);\"/><title>Lithuania → ADDE (IDDE)\n8.00k</title><text class=\"label\" dy=\"0.35em\" x=\"5\" y=\"376.7858053457138\"/></g><g class=\"link\" style=\"opacity: 0.8;\"><path d=\"M1,1103.0511758356822 A1002.90365203286 1002.90365203286 0.010918580333740824 0 1 11.950066519276435,1103.1109560200518 L738.1133397368363,1111.0399431423755 A997.09634796714 997.09634796714 0.010918580333740824 0 0 749,1111.0993771701558 L749,1116.9066812358758 A1002.90365203286 1002.90365203286 0.010918580333740824 0 1 738.0499334807236,1116.8469010515062 L11.886660263163593,1108.9179139291825 A997.09634796714 997.09634796714 0.010918580333740824 0 0 1,1108.8584799014022 Z\" style=\"fill: rgb(31, 119, 180);\"/><title>Hungary → EPP (WMCES)\n8.68k</title><text class=\"label\" dy=\"0.35em\" x=\"5\" y=\"1105.9548278685422\"/></g><g class=\"link\" style=\"opacity: 0.8;\"><path d=\"M1,1324.8074279004638 A235.47967443221975 235.47967443221975 0.7895373719065016 0 0 168.1970628573313,1255.1463870489904 L527.3460538500668,893.0118360311247 A312.176530998878 312.176530998878 0.7895373719065016 0 1 749,800.6618608953999 L749,807.1839377603513 A305.6544541339264 305.6544541339264 0.7895373719065016 0 0 531.9769082886886,897.6045121356018 L172.82791729595309,1259.7390631534674 A242.0017512971713 242.0017512971713 0.7895373719065016 0 1 1,1331.3295047654153 Z\" style=\"fill: rgb(31, 119, 180);\"/><title>Germany → ACRE (ND)\n9.75k</title><text class=\"label\" dy=\"0.35em\" x=\"5\" y=\"1328.0684663329396\"/></g><g class=\"link\" style=\"opacity: 0.8;\"><path d=\"M1,1581.7559279258694 A290.19797648790393 290.19797648790393 0.5519320398197212 0 1 153.1604811486581,1624.8465319331392 L600.3469470573532,1900.2090479631602 A283.5086668828254 283.5086668828254 0.5519320398197212 0 0 749,1942.3063769835987 L749,1948.9956865886772 A290.19797648790393 290.19797648790393 0.5519320398197212 0 1 596.8395188513418,1905.9050825814074 L149.65305294264675,1630.5425665513865 A283.5086668828254 283.5086668828254 0.5519320398197212 0 0 1,1588.445237530948 Z\" style=\"fill: rgb(31, 119, 180);\"/><title>UK → ECPM (SALLUX)\n10.0k</title><text class=\"label\" dy=\"0.35em\" x=\"5\" y=\"1585.1005827284087\"/></g><g class=\"link\" style=\"opacity: 0.8;\"><path d=\"M1,1511.7870873186691 A278.6124251308409 278.6124251308409 0.5757429217324996 0 0 152.6927901591361,1466.871433348717 L575.686970817553,1192.3055197230708 A318.32207263533917 318.32207263533917 0.5757429217324996 0 1 749,1140.9881958141584 L749,1147.677505419237 A311.63276303026066 311.63276303026066 0.5757429217324996 0 0 579.3290195802961,1197.9164326436564 L156.33483892187934,1472.4823462693025 A285.3017347359194 285.3017347359194 0.5757429217324996 0 1 1,1518.4763969237476 Z\" style=\"fill: rgb(31, 119, 180);\"/><title>UK → EPP (WMCES)\n10.0k</title><text class=\"label\" dy=\"0.35em\" x=\"5\" y=\"1515.1317421212084\"/></g><g class=\"link\" style=\"opacity: 0.8;\"><path d=\"M1,917.1679356491553 A479.89682258958254 479.89682258958254 0.30063409719784184 0 1 143.10988972617395,938.6918319291749 L608.8975498504236,1083.1005201756664 A473.11781603200956 473.11781603200956 0.30063409719784184 0 0 749,1104.3203706125828 L749,1111.099377170156 A479.89682258958254 479.89682258958254 0.30063409719784184 0 1 606.890110273826,1089.5754808901363 L141.10245014957644,945.1667926436448 A473.11781603200956 473.11781603200956 0.30063409719784184 0 0 1,923.9469422067283 Z\" style=\"fill: rgb(31, 119, 180);\"/><title>Sweden → EPP (WMCES)\n10.1k</title><text class=\"label\" dy=\"0.35em\" x=\"5\" y=\"920.5574389279418\"/></g><g class=\"link\" style=\"opacity: 0.8;\"><path d=\"M1,867.3250791237048 A493.7516285233909 493.7516285233909 0.28700845405961406 0 0 140.77334364553357,847.1281814136046 L607.2193993792199,709.4530182319415 A500.84229670477407 500.84229670477407 0.28700845405961406 0 1 749,688.9660769216126 L749,696.0567451029959 A493.7516285233909 493.7516285233909 0.28700845405961406 0 0 609.2266563544664,716.2536428130961 L142.78060062078012,853.9288059947592 A500.84229670477407 500.84229670477407 0.28700845405961406 0 1 1,874.4157473050881 Z\" style=\"fill: rgb(31, 119, 180);\"/><title>Slovakia → ACRE (ND)\n10.6k</title><text class=\"label\" dy=\"0.35em\" x=\"5\" y=\"870.8704132143964\"/></g><g class=\"link\" style=\"opacity: 0.8;\"><path d=\"M1,1573.9963287839782 A435.6312490068474 435.6312490068474 0.33516880375087643 0 1 144.2915704011102,1598.2371173238266 L608.2607835662866,1759.842413413425 A427.87164986495634 427.87164986495634 0.33516880375087643 0 0 749,1783.6514174970814 L749,1791.4110166389726 A435.6312490068474 435.6312490068474 0.33516880375087643 0 1 605.7084295988898,1767.1702280991242 L141.73921643371332,1605.5649320095258 A427.87164986495634 427.87164986495634 0.33516880375087643 0 0 1,1581.7559279258694 Z\" style=\"fill: rgb(31, 119, 180);\"/><title>UK → EAF (EFF)\n11.6k</title><text class=\"label\" dy=\"0.35em\" x=\"5\" y=\"1577.8761283549238\"/></g><g class=\"link\" style=\"opacity: 0.8;\"><path d=\"M1,1068.0209458883583 A304.4452947326189 304.4452947326189 0.5180187583435625 0 1 151.74907254569132,1107.9635854141814 L602.2256601358785,1364.7055365665258 A296.4181232065247 296.4181232065247 0.5180187583435625 0 0 749,1403.595026563596 L749,1411.6221980896903 A304.4452947326189 304.4452947326189 0.5180187583435625 0 1 598.2509274543087,1371.6795585638672 L147.77433986412154,1114.9376074115228 A296.4181232065247 296.4181232065247 0.5180187583435625 0 0 1,1076.0481174144525 Z\" style=\"fill: rgb(31, 119, 180);\"/><title>Czech Republic → ALDE (ELF)\n12.0k</title><text class=\"label\" dy=\"0.35em\" x=\"5\" y=\"1072.0345316514054\"/></g><g class=\"link\" style=\"opacity: 0.8;\"><path d=\"M1,1671.0809305521827 A658.7163786796094 658.7163786796094 0.21169228328181955 0 0 139.4059981950217,1656.376234378736 L608.907375020354,1555.474638214251 A666.7435502057036 666.7435502057036 0.21169228328181955 0 1 749,1540.590749413683 L749,1548.6179209397772 A658.7163786796094 658.7163786796094 0.21169228328181955 0 0 610.5940018049782,1563.322617113224 L141.09262497964596,1664.224213277709 A666.7435502057036 666.7435502057036 0.21169228328181955 0 1 1,1679.108102078277 Z\" style=\"fill: rgb(31, 119, 180);\"/><title>India → ALDE (ELF)\n12.0k</title><text class=\"label\" dy=\"0.35em\" x=\"5\" y=\"1675.0945163152298\"/></g><g class=\"link\" style=\"opacity: 0.8;\"><path d=\"M1,742.1828614021006 A995.9864142369529 995.9864142369529 0.12734292157878646 0 0 127.48930889591516,734.1182011920629 L621.4912481034467,670.8682893150336 A1004.0135857630471 1004.0135857630471 0.12734292157878646 0 1 749,662.7386318220208 L749,670.765803348115 A995.9864142369529 995.9864142369529 0.12734292157878646 0 0 622.5106911040848,678.8304635581527 L128.50875189655338,742.080375435182 A1004.0135857630471 1004.0135857630471 0.12734292157878646 0 1 1,750.2100329281948 Z\" style=\"fill: rgb(31, 119, 180);\"/><title>Lichtenstein → ACRE (ND)\n12.0k</title><text class=\"label\" dy=\"0.35em\" x=\"5\" y=\"746.1964471651477\"/></g><g class=\"link\" style=\"opacity: 0.8;\"><path d=\"M1,1176.666326913611 A995.9864142369529 995.9864142369529 0.09067231428762001 0 0 91.18469943324355,1172.5748956928637 L658.088455259399,1121.0310874246818 A1004.0135857630471 1004.0135857630471 0.09067231428762001 0 1 749,1116.9066812358758 L749,1124.93385276197 A995.9864142369529 995.9864142369529 0.09067231428762001 0 0 658.8153005667565,1129.0252839827174 L91.911544740601,1180.5690922508993 A1004.0135857630471 1004.0135857630471 0.09067231428762001 0 1 1,1184.6934984397053 Z\" style=\"fill: rgb(31, 119, 180);\"/><title>Netherlands → EPP (WMCES)\n12.0k</title><text class=\"label\" dy=\"0.35em\" x=\"5\" y=\"1180.6799126766582\"/></g><g class=\"link\" style=\"opacity: 0.8;\"><path d=\"M1,908.1127978481198 A423.5656521418294 423.5656521418294 0.338823984849169 0 0 141.78397549423156,884.031480716279 L605.5479679395594,720.5944374442382 A431.5928236679236 431.5928236679236 0.338823984849169 0 1 749,696.0567451029958 L749,704.08391662909 A423.5656521418294 423.5656521418294 0.338823984849169 0 0 608.2160245057685,728.1652337609308 L144.45203206044064,891.6022770329716 A431.5928236679236 431.5928236679236 0.338823984849169 0 1 1,916.139969374214 Z\" style=\"fill: rgb(31, 119, 180);\"/><title>Sweden → ACRE (ND)\n12.0k</title><text class=\"label\" dy=\"0.35em\" x=\"5\" y=\"912.126383611167\"/></g><g class=\"link\" style=\"opacity: 0.8;\"><path d=\"M1,900.0856263220256 A227.60729669382278 227.60729669382278 0.8194147665354754 0 0 167.3232231110204,827.8542188846495 L569.6458940031771,397.18506118171825 A245.4395871683259 245.4395871683259 0.8194147665354754 0 1 749,319.2945581990084 L749,327.3217297251026 A237.41241564223168 237.41241564223168 0.8194147665354754 0 0 575.5117210661863,402.66480164785406 L173.18905017402966,833.3339593507853 A235.63446821991698 235.63446821991698 0.8194147665354754 0 1 1,908.1127978481198 Z\" style=\"fill: rgb(31, 119, 180);\"/><title>Sweden → ADDE (IDDE)\n12.0k</title><text class=\"label\" dy=\"0.35em\" x=\"5\" y=\"904.0992120850727\"/></g><g class=\"link\" style=\"opacity: 0.8;\"><path d=\"M1,1243.5701016056225 A247.55907476194054 247.55907476194054 0.6999008128403988 0 0 160.4631533570965,1185.3704686954131 L540.5421990337136,865.2987439593111 A323.62096978327463 323.62096978327463 0.6999008128403988 0 1 749,789.2174221110032 L749,799.8343932972515 A313.0039985970262 313.0039985970262 0.6999008128403988 0 0 547.381034192912,873.4197297883185 L167.30198851629498,1193.4914545244208 A258.1760459481889 258.1760459481889 0.6999008128403988 0 1 1,1254.187072791871 Z\" style=\"fill: rgb(31, 119, 180);\"/><title>Latvia → ACRE (ND)\n15.9k</title><text class=\"label\" dy=\"0.35em\" x=\"5\" y=\"1248.8785871987468\"/></g><g class=\"link\" style=\"opacity: 0.8;\"><path d=\"M1,679.9723063290122 A994.3140868356833 994.3140868356833 0.041070939972758236 0 0 41.825934233910786,679.1338087122122 L707.7071454639846,651.7700537973581 A1005.6859131643167 1005.6859131643167 0.041070939972758236 0 1 749,650.9219664046497 L749,662.2937927332831 A994.3140868356833 994.3140868356833 0.041070939972758236 0 0 708.1740657660893,663.1322903500832 L42.292854536015454,690.4960452649373 A1005.6859131643167 1005.6859131643167 0.041070939972758236 0 1 1,691.3441326576457 Z\" style=\"fill: rgb(31, 119, 180);\"/><title>Belgium → ACRE (ND)\n17.0k</title><text class=\"label\" dy=\"0.35em\" x=\"5\" y=\"685.6582194933289\"/></g><g class=\"link\" style=\"opacity: 0.8;\"><path d=\"M1,774.4035813152916 A818.6537267960555 818.6537267960555 0.16872086875134773 0 0 138.4695771184997,762.7789988281213 L609.2838648252052,682.5803573183218 A832.0323460062125 832.0323460062125 0.16872086875134773 0 1 749,670.765803348115 L749,684.144422558272 A818.6537267960555 818.6537267960555 0.16872086875134773 0 0 611.5304228815003,695.7690050454423 L140.71613517479486,775.9676465552418 A832.0323460062125 832.0323460062125 0.16872086875134773 0 1 1,787.7822005254486 Z\" style=\"fill: rgb(31, 119, 180);\"/><title>Luxembourg → ACRE (ND)\n20.0k</title><text class=\"label\" dy=\"0.35em\" x=\"5\" y=\"781.0928909203701\"/></g><g class=\"link\" style=\"opacity: 0.8;\"><path d=\"M1,2090.8540147629 A465.51244674777956 465.51244674777956 0.4149921323627799 0 0 188.68657939405617,2051.3410820905037 L596.4462563136436,1871.6905978828622 A378.37370531895544 378.37370531895544 0.4149921323627799 0 1 749,1839.5740457955378 L749,1852.9526650056948 A364.99508610879843 364.99508610879843 0.4149921323627799 0 0 601.84028453805,1883.933633106396 L194.08060761846255,2063.584117314038 A478.8910659579366 478.8910659579366 0.4149921323627799 0 1 1,2104.232633973057 Z\" style=\"fill: rgb(31, 119, 180);\"/><title>USA → EAF (EFF)\n20.0k</title><text class=\"label\" dy=\"0.35em\" x=\"5\" y=\"2097.5433243679786\"/></g><g class=\"link\" style=\"opacity: 0.8;\"><path d=\"M1,1053.341924890974 A992.6604895013079 992.6604895013079 0.08281261090316971 0 0 83.11087997401727,1049.9400723531594 L665.6749009208606,1001.5858375617654 A1007.3395104986921 1007.3395104986921 0.08281261090316971 0 1 749,998.1336799444592 L749,1012.8127009418434 A992.6604895013079 992.6604895013079 0.08281261090316971 0 0 666.8891200259827,1016.214553479658 L84.32509907913932,1064.5687882710522 A1007.3395104986921 1007.3395104986921 0.08281261090316971 0 1 1,1068.0209458883583 Z\" style=\"fill: rgb(31, 119, 180);\"/><title>Czech Republic → EUD (OEIC)\n21.9k</title><text class=\"label\" dy=\"0.35em\" x=\"5\" y=\"1060.6814353896661\"/></g><g class=\"link\" style=\"opacity: 0.8;\"><path d=\"M1,663.9179632768238 A278.76308996277294 278.76308996277294 0.5521027574962369 0 0 147.20530982941762,622.5003339895756 L594.3745288057245,347.04314167365123 A294.81743301496135 294.81743301496135 0.5521027574962369 0 1 749,303.24021514681993 L749,319.29455819900835 A278.76308996277294 278.76308996277294 0.5521027574962369 0 0 602.7946901705824,360.71218748625665 L155.62547119427558,636.169379802181 A294.81743301496135 294.81743301496135 0.5521027574962369 0 1 1,679.9723063290122 Z\" style=\"fill: rgb(31, 119, 180);\"/><title>Belgium → ADDE (IDDE)\n24.0k</title><text class=\"label\" dy=\"0.35em\" x=\"5\" y=\"671.945134802918\"/></g><g class=\"link\" style=\"opacity: 0.8;\"><path d=\"M1,1331.3295047654153 A429.5570212522569 429.5570212522569 0.3301973672681986 0 0 140.2751612622016,1308.124134134267 L604.5195432661195,1149.006505179549 A445.6113643044453 445.6113643044453 0.3301973672681986 0 1 749,1124.93385276197 L749,1140.9881958141584 A429.5570212522569 429.5570212522569 0.3301973672681986 0 0 609.7248387377984,1164.1935664453067 L145.4804567338805,1323.3111954000246 A445.6113643044453 445.6113643044453 0.3301973672681986 0 1 1,1347.3838478176037 Z\" style=\"fill: rgb(31, 119, 180);\"/><title>Germany → EPP (WMCES)\n24.0k</title><text class=\"label\" dy=\"0.35em\" x=\"5\" y=\"1339.3566762915095\"/></g><g class=\"link\" style=\"opacity: 0.8;\"><path d=\"M1,1679.108102078277 A772.1871403792878 772.1871403792878 0.1826361753413035 0 1 141.24658425362105,1691.950870402083 L611.669246194422,1778.8352589886529 A756.1327973270994 756.1327973270994 0.1826361753413035 0 0 749,1791.4110166389726 L749,1807.465359691161 A772.1871403792878 772.1871403792878 0.1826361753413035 0 1 608.7534157463789,1794.622591367355 L138.3307538055779,1707.738202780785 A756.1327973270994 756.1327973270994 0.1826361753413035 0 0 1,1695.1624451304654 Z\" style=\"fill: rgb(31, 119, 180);\"/><title>India → EAF (EFF)\n24.0k</title><text class=\"label\" dy=\"0.35em\" x=\"5\" y=\"1687.1352736043712\"/></g><g class=\"link\" style=\"opacity: 0.8;\"><path d=\"M1,2233.276725987304 A0 0 0 0 0 1,2233.276725987304 L749,2233.2767259873035 A0 0 0 0 1 749,2233.2767259873035 L749,2250 A0 0 0 0 0 749,2250 L1,2250.0000000000005 A0 0 0 0 1 1,2250.0000000000005 Z\" style=\"fill: rgb(31, 119, 180);\"/><title>Italy → EDP (IED)\n25.0k</title><text class=\"label\" dy=\"0.35em\" x=\"5\" y=\"2241.638362993652\"/></g><g class=\"link\" style=\"opacity: 0.8;\"><path d=\"M1,1158.6051909798991 A265.69752328724155 265.69752328724155 0.6071494027361433 0 0 152.58804909304183,1111.1191184763868 L554.0605697229411,832.2224980278583 A341.6821057169866 341.6821057169866 0.6071494027361433 0 1 749,771.1562861772912 L749,789.2174221110032 A323.62096978327463 323.62096978327463 0.6071494027361433 0 0 564.3649652126791,847.0557062043482 L162.89244458277994,1125.9523266528765 A283.7586592209535 283.7586592209535 0.6071494027361433 0 1 1,1176.6663269136113 Z\" style=\"fill: rgb(31, 119, 180);\"/><title>Netherlands → ACRE (ND)\n27.0k</title><text class=\"label\" dy=\"0.35em\" x=\"5\" y=\"1167.6357589467552\"/></g><g class=\"link\" style=\"opacity: 0.8;\"><path d=\"M1,1254.1870727918708 A251.3325738814991 251.3325738814991 0.739492188058823 0 1 170.37624401231835,1319.832407859878 L583.6865912073738,1696.8370672357448 A245.30384866695613 245.30384866695613 0.739492188058823 0 0 749,1760.9077648398145 L749,1780.3067626945424 A264.70284652168385 264.70284652168385 0.739492188058823 0 1 570.61335782782,1711.1692578140007 L157.30301063276448,1334.164598438134 A231.93357602677136 231.93357602677136 0.739492188058823 0 0 1,1273.5860706465987 Z\" style=\"fill: rgb(31, 119, 180);\"/><title>Latvia → EAF (EFF)\n29.0k</title><text class=\"label\" dy=\"0.35em\" x=\"5\" y=\"1263.8865717192348\"/></g><g class=\"link\" style=\"opacity: 0.8;\"><path d=\"M1,296.93720104436375 A989.2971046318744 989.2971046318744 0.03386533317312801 0 0 34.49647256695393,296.36996222952894 L714.778751752602,273.3231650300764 A1010.7028953681256 1010.7028953681256 0.03386533317312801 0 1 749,272.743652657267 L749,294.1494433935182 A989.2971046318744 989.2971046318744 0.03386533317312801 0 0 715.5035274330461,294.716682208353 L35.22124824739789,317.76347940780556 A1010.7028953681256 1010.7028953681256 0.03386533317312801 0 1 1,318.34299178061497 Z\" style=\"fill: rgb(31, 119, 180);\"/><title>Iceland → ADDE (IDDE)\n32.0k</title><text class=\"label\" dy=\"0.35em\" x=\"5\" y=\"307.64009641248936\"/></g><g class=\"link\" style=\"opacity: 0.8;\"><path d=\"M1,249.99999999999997 A0 0 0 0 0 1,249.99999999999997 L749,249.99999999999997 A0 0 0 0 0 749,249.99999999999997 L749,272.7436526572669 A0 0 0 0 0 749,272.7436526572669 L1,272.7436526572669 A0 0 0 0 0 1,272.7436526572669 Z\" style=\"fill: rgb(31, 119, 180);\"/><title>Monaco → ADDE (IDDE)\n34.0k</title><text class=\"label\" dy=\"0.35em\" x=\"5\" y=\"261.37182632863346\"/></g><g class=\"link\" style=\"opacity: 0.8;\"><path d=\"M1,2107.834827195392 A1012.0407572891413 1012.0407572891413 0.024926009931923954 0 1 26.223525857156993,2108.149204400613 L724.3766680592144,2125.5549814775422 A987.9592427108587 987.9592427108587 0.024926009931923954 0 0 749,2125.8618780756874 L749,2149.94339265397 A1012.0407572891413 1012.0407572891413 0.024926009931923954 0 1 723.776474142843,2149.6290154487488 L25.623331940785626,2132.2232383718197 A987.9592427108587 987.9592427108587 0.024926009931923954 0 0 1,2131.9163417736745 Z\" style=\"fill: rgb(31, 119, 180);\"/><title>USA → PES (FEPS)\n36.0k</title><text class=\"label\" dy=\"0.35em\" x=\"5\" y=\"2119.875584484533\"/></g><g class=\"link\" style=\"opacity: 0.8;\"><path d=\"M1,1133.8547454411087 A212.66197010344115 212.66197010344115 1.0189300539481914 0 0 182.09178195542654,1032.6866318342709 L546.8320365127736,440.26419059708746 A237.41241564223168 237.41241564223168 1.0189300539481914 0 1 749,327.3217297251026 L749,352.0721752638931 A212.66197010344115 212.66197010344115 1.0189300539481914 0 0 567.9082180445735,453.2402888707311 L203.16796348722636,1045.6627301079143 A237.41241564223168 237.41241564223168 1.0189300539481914 0 1 1,1158.6051909798994 Z\" style=\"fill: rgb(31, 119, 180);\"/><title>Netherlands → ADDE (IDDE)\n37.0k</title><text class=\"label\" dy=\"0.35em\" x=\"5\" y=\"1146.229968210504\"/></g><g class=\"link\" style=\"opacity: 0.8;\"><path d=\"M1,318.342991780615 A750.2758903681265 750.2758903681265 0.19026057193863877 0 1 142.8882534258912,331.8817273863154 L613.0827696232873,422.4365178464136 A718.702349032156 718.702349032156 0.19026057193863877 0 0 749,435.40550859722646 L749,466.9790499331971 A750.2758903681265 750.2758903681265 0.19026057193863877 0 1 607.1117465741088,453.4403143274967 L136.91723037671267,362.8855238673985 A718.702349032156 718.702349032156 0.19026057193863877 0 0 1,349.91653311658564 Z\" style=\"fill: rgb(31, 119, 180);\"/><title>Iceland → ACRE (ND)\n47.2k</title><text class=\"label\" dy=\"0.35em\" x=\"5\" y=\"334.12976244860033\"/></g><g class=\"link\" style=\"opacity: 0.8;\"><path d=\"M1,1347.3838478176037 A1016.0543430521884 1016.0543430521884 0.10864114365314625 0 1 111.1682895342745,1353.374145367574 L642.3131768375792,1411.3064358888014 A983.9456569478116 983.9456569478116 0.10864114365314625 0 0 749,1417.1074319658546 L749,1449.2161180702315 A1016.0543430521884 1016.0543430521884 0.10864114365314625 0 1 638.8317104657256,1443.225820520261 L107.68682316242077,1385.2935299990338 A983.9456569478116 983.9456569478116 0.10864114365314625 0 0 1,1379.4925339219806 Z\" style=\"fill: rgb(31, 119, 180);\"/><title>Germany → ALDE (ELF)\n48.0k</title><text class=\"label\" dy=\"0.35em\" x=\"5\" y=\"1363.4381908697922\"/></g><g class=\"link\" style=\"opacity: 0.8;\"><path d=\"M1,1724.26594676769 A1016.0543430521884 1016.0543430521884 0.13493004898583139 0 1 137.68064234457498,1733.5011253005052 L616.6386500944527,1798.522025241938 A983.9456569478116 983.9456569478116 0.13493004898583139 0 0 749,1807.465359691161 L749,1839.5740457955378 A1016.0543430521884 1016.0543430521884 0.13493004898583139 0 1 612.3193576554249,1830.3388672627225 L133.3613499055473,1765.3179673212896 A983.9456569478116 983.9456569478116 0.13493004898583139 0 0 1,1756.3746328720667 Z\" style=\"fill: rgb(31, 119, 180);\"/><title>Malta → EAF (EFF)\n48.0k</title><text class=\"label\" dy=\"0.35em\" x=\"5\" y=\"1740.3202898198783\"/></g><g class=\"link\" style=\"opacity: 0.8;\"><path d=\"M1,1614.1097651002012 A794.3313820609031 794.3313820609031 0.171920310097891 0 0 136.8899745659338,1602.3997853400876 L607.6170427361538,1520.6653871584201 A826.44006816528 826.44006816528 0.171920310097891 0 1 749,1508.482063309306 L749,1540.590749413683 A794.3313820609031 794.3313820609031 0.171920310097891 0 0 613.1100254340662,1552.3007291737965 L142.38295726384615,1634.035127355464 A826.44006816528 826.44006816528 0.171920310097891 0 1 1,1646.218451204578 Z\" style=\"fill: rgb(31, 119, 180);\"/><title>Switzerland → ALDE (ELF)\n48.0k</title><text class=\"label\" dy=\"0.35em\" x=\"5\" y=\"1630.1641081523896\"/></g><g class=\"link\" style=\"opacity: 0.8;\"><path d=\"M1,923.9469422067283 A245.30384866695613 245.30384866695613 1.0106520022497159 0 1 208.81613159026247,1038.9187778389753 L575.8661462886679,1624.1849175897478 A204.3652738838756 204.3652738838756 1.0106520022497159 0 0 749,1719.9691900567339 L749,1760.9077648398145 A245.30384866695613 245.30384866695613 1.0106520022497159 0 1 541.1838684097376,1645.9359292075674 L174.13385371133208,1060.669789456795 A204.3652738838756 204.3652738838756 1.0106520022497159 0 0 1,964.8855169898089 Z\" style=\"fill: rgb(31, 119, 180);\"/><title>Sweden → EAF (EFF)\n61.2k</title><text class=\"label\" dy=\"0.35em\" x=\"5\" y=\"944.4162295982686\"/></g><g class=\"link\" style=\"opacity: 0.8;\"><path d=\"M1,598.2506953382402 A1020.7368597757434 1020.7368597757434 0.015281007567578886 0 1 16.597280644135104,598.3698687390346 L734.0364549136685,609.3339156055199 A979.2631402242566 979.2631402242566 0.015281007567578886 0 0 749,609.4482468531628 L749,650.9219664046495 A1020.7368597757434 1020.7368597757434 0.015281007567578886 0 1 733.4027193558649,650.8027930038552 L15.963545086331486,639.8387461373699 A979.2631402242566 979.2631402242566 0.015281007567578886 0 0 1,639.724414889727 Z\" style=\"fill: rgb(31, 119, 180);\"/><title>Austria → ACRE (ND)\n62.0k</title><text class=\"label\" dy=\"0.35em\" x=\"5\" y=\"618.9875551139836\"/></g><g class=\"link\" style=\"opacity: 0.8;\"><path d=\"M1,1780.9695398354681 A155.6279718203474 155.6279718203474 1.0694056206176397 0 0 137.47249876868173,1700.1434576486522 L526.2880929596292,990.7678528419792 A253.97206547586595 253.97206547586595 1.0694056206176397 0 1 749,858.8663264184119 L749,908.1486777511949 A204.6897141430828 204.6897141430828 1.0694056206176397 0 0 569.5045247675623,1014.4551949190916 L180.68893057661487,1723.8307997257643 A204.91032315313055 204.91032315313055 1.0694056206176397 0 1 1,1830.2518911682512 Z\" style=\"fill: rgb(31, 119, 180);\"/><title>USA → ACRE (ND)\n73.7k</title><text class=\"label\" dy=\"0.35em\" x=\"5\" y=\"1805.6107155018597\"/></g><g class=\"link\" style=\"opacity: 0.8;\"><path d=\"M1,1460.1046986606086 A200.63564154045298 200.63564154045298 0.920020878028219 0 0 160.62857911769933,1381.0148402029658 L505.81695515421575,927.6718397542064 A305.6544541339264 305.6544541339264 0.920020878028219 0 1 749,807.1839377603515 L749,858.866326418412 A253.97206547586597 253.97206547586597 0.920020878028219 0 0 546.9362009848799,958.9812140647899 L201.74782494836344,1412.3242145135496 A252.31803019851338 252.31803019851338 0.920020878028219 0 1 1,1511.7870873186691 Z\" style=\"fill: rgb(31, 119, 180);\"/><title>UK → ACRE (ND)\n77.3k</title><text class=\"label\" dy=\"0.35em\" x=\"5\" y=\"1485.9458929896389\"/></g><g class=\"link\" style=\"opacity: 0.8;\"><path d=\"M1,1518.4763969237476 A972.2400340698847 972.2400340698847 0.10091461358886678 0 0 98.9467852125292,1513.530067534474 L645.4599470239903,1458.1909218161195 A1027.7599659301154 1027.7599659301154 0.10091461358886678 0 1 749,1452.9621314490755 L749,1508.4820633093063 A972.2400340698847 972.2400340698847 0.10091461358886678 0 0 651.0532147874708,1513.42839269858 L104.5400529760097,1568.7675384169345 A1027.7599659301154 1027.7599659301154 0.10091461358886678 0 1 1,1573.9963287839785 Z\" style=\"fill: rgb(31, 119, 180);\"/><title>UK → ALDE (ELF)\n83.0k</title><text class=\"label\" dy=\"0.35em\" x=\"5\" y=\"1546.236362853863\"/></g><g class=\"link\" style=\"opacity: 0.8;\"><path d=\"M1,989.0790653769056 A305.09864466262763 305.09864466262763 0.45481159666611015 0 0 135.02772046039362,958.0638990984428 L569.4369914249962,745.6363398836551 A408.7544752651878 408.7544752651878 0.45481159666611015 0 1 749,704.08391662909 L749,768.3467761431584 A344.4916157511195 344.4916157511195 0.45481159666611015 0 0 597.6672203087107,803.3664818382525 L163.25794934410825,1015.7940410530402 A369.3615041766959 369.3615041766959 0.45481159666611015 0 1 1,1053.341924890974 Z\" style=\"fill: rgb(31, 119, 180);\"/><title>Czech Republic → ACRE (ND)\n96.1k</title><text class=\"label\" dy=\"0.35em\" x=\"5\" y=\"1021.2104951339398\"/></g><g class=\"link\" style=\"opacity: 0.8;\"><path d=\"M1,2002.8360789792769 A377.49451096415635 377.49451096415635 0.7587019522138518 0 0 260.7086710877626,1899.3005283903854 L544.731134257527,1630.051819138996 A296.91105520539236 296.91105520539236 0.7587019522138518 0 1 749,1548.6179209397772 L749,1636.6358567234004 A208.89311942176917 208.89311942176917 0.7587019522138518 0 0 605.2857131197964,1693.9290451152642 L321.2632499500319,1963.1777543666535 A465.51244674777956 465.51244674777956 0.7587019522138518 0 1 1,2090.8540147629 Z\" style=\"fill: rgb(31, 119, 180);\"/><title>USA → ALDE (ELF)\n132k</title><text class=\"label\" dy=\"0.35em\" x=\"5\" y=\"2046.8450468710885\"/></g><g class=\"link\" style=\"opacity: 0.8;\"><path d=\"M1,409.4011945256044 A1068.6840918044488 1068.6840918044488 0.09036631144281992 0 1 97.44165609242548,413.7617006447364 L664.954912007771,465.1858342362503 A931.3159081955511 931.3159081955511 0.09036631144281992 0 0 749,468.9858428147206 L749,606.3540264236185 A1068.6840918044488 1068.6840918044488 0.09036631144281992 0 1 652.5583439075746,601.9935203044864 L85.045087992229,550.5693867129726 A931.3159081955511 931.3159081955511 0.09036631144281992 0 0 1,546.7693781345023 Z\" style=\"fill: rgb(31, 119, 180);\"/><title>Poland → ACRE (ND)\n205k</title><text class=\"label\" dy=\"0.35em\" x=\"5\" y=\"478.08528633005335\"/></g><g class=\"link\" style=\"opacity: 0.8;\"><path d=\"M1,1830.2518911682512 A204.91032315313055 204.91032315313055 0.9582493132455847 0 0 168.65481085396306,1743.1554251467937 L494.02635524764656,1280.1359972061764 A311.63276303026066 311.63276303026066 0.9582493132455847 0 1 749,1147.677505419237 L749,1320.2616932302628 A139.0485752192349 139.0485752192349 0.9582493132455847 0 0 635.2323663387491,1379.3638376247345 L309.8608219450656,1842.3832655653518 A377.49451096415635 377.49451096415635 0.9582493132455847 0 1 1,2002.836078979277 Z\" style=\"fill: rgb(31, 119, 180);\"/><title>USA → EPP (WMCES)\n258k</title><text class=\"label\" dy=\"0.35em\" x=\"5\" y=\"1916.5439850737641\"/></g></g><g class=\"nodes\"><g class=\"node\" transform=\"translate(0,296.93720104436375)\"><title>Iceland</title><line x1=\"0\" x2=\"0\" y1=\"0\" y2=\"52.979332072221894\" style=\"display: inline; stroke: rgb(0, 0, 0);\"/><rect class=\"node-body\" width=\"1\" height=\"52.979332072221894\" style=\"fill: none;\"/><text class=\"node-value\" dy=\".35em\" text-anchor=\"middle\" style=\"display: none;\" transform=\"translate(0.5,26.489666036110947) rotate(-90)\"/><text class=\"node-title\" dy=\".35em\" text-anchor=\"end\" transform=\"translate(-4,26.489666036110947)\" style=\"display: inline;\">Iceland</text><rect class=\"node-click-target\" x=\"-5\" y=\"-5\" width=\"10\" style=\"fill: none; visibility: hidden; pointer-events: all;\" height=\"57.979332072221894\"/></g><g class=\"node\" transform=\"translate(749,435.40550859722646)\"><title>ACRE (ND)</title><line x1=\"0\" x2=\"0\" y1=\"0\" y2=\"472.7431691539688\" style=\"display: inline; stroke: rgb(0, 0, 0);\"/><rect class=\"node-body\" width=\"1\" height=\"472.7431691539688\" style=\"fill: none;\"/><text class=\"node-value\" dy=\".35em\" text-anchor=\"middle\" style=\"display: none;\" transform=\"translate(0.5,236.3715845769844) rotate(-90)\"/><text class=\"node-title\" dy=\".35em\" text-anchor=\"start\" transform=\"translate(5,236.3715845769844)\" style=\"display: inline;\">ACRE (ND)</text><rect class=\"node-click-target\" x=\"-5\" y=\"-5\" width=\"10\" style=\"fill: none; visibility: hidden; pointer-events: all;\" height=\"477.7431691539688\"/></g><g class=\"node\" transform=\"translate(0,1671.0809305521827)\"><title>India</title><line x1=\"0\" x2=\"0\" y1=\"0\" y2=\"24.081514578282622\" style=\"display: inline; stroke: rgb(0, 0, 0);\"/><rect class=\"node-body\" width=\"1\" height=\"24.081514578282622\" style=\"fill: none;\"/><text class=\"node-value\" dy=\".35em\" text-anchor=\"middle\" style=\"display: none;\" transform=\"translate(0.5,12.040757289141311) rotate(-90)\"/><text class=\"node-title\" dy=\".35em\" text-anchor=\"end\" transform=\"translate(-4,12.040757289141311)\" style=\"display: inline;\">India</text><rect class=\"node-click-target\" x=\"-5\" y=\"-5\" width=\"10\" style=\"fill: none; visibility: hidden; pointer-events: all;\" height=\"29.081514578282622\"/></g><g class=\"node\" transform=\"translate(0,742.1828614021006)\"><title>Lichtenstein</title><line x1=\"0\" x2=\"0\" y1=\"0\" y2=\"8.027171526094207\" style=\"display: inline; stroke: rgb(0, 0, 0);\"/><rect class=\"node-body\" width=\"1\" height=\"8.027171526094207\" style=\"fill: none;\"/><text class=\"node-value\" dy=\".35em\" text-anchor=\"middle\" style=\"display: none;\" transform=\"translate(0.5,4.013585763047104) rotate(-90)\"/><text class=\"node-title\" dy=\".35em\" text-anchor=\"end\" transform=\"translate(-4,4.013585763047104)\" style=\"display: inline;\">Lichtenstein</text><rect class=\"node-click-target\" x=\"-5\" y=\"-5\" width=\"10\" style=\"fill: none; visibility: hidden; pointer-events: all;\" height=\"13.027171526094207\"/></g><g class=\"node\" transform=\"translate(0,811.9757489125454)\"><title>Pakistan</title><line x1=\"0\" x2=\"0\" y1=\"0\" y2=\"3.9520441146803478\" style=\"display: inline; stroke: rgb(0, 0, 0);\"/><rect class=\"node-body\" width=\"1\" height=\"3.9520441146803478\" style=\"fill: none;\"/><text class=\"node-value\" dy=\".35em\" text-anchor=\"middle\" style=\"display: none;\" transform=\"translate(0.5,1.9760220573401739) rotate(-90)\"/><text class=\"node-title\" dy=\".35em\" text-anchor=\"end\" transform=\"translate(-4,1.9760220573401739)\" style=\"display: inline;\">Pakistan</text><rect class=\"node-click-target\" x=\"-5\" y=\"-5\" width=\"10\" style=\"fill: none; visibility: hidden; pointer-events: all;\" height=\"8.952044114680348\"/></g><g class=\"node\" transform=\"translate(0,1460.1046986606086)\"><title>UK</title><line x1=\"0\" x2=\"0\" y1=\"0\" y2=\"128.3405388703393\" style=\"display: inline; stroke: rgb(0, 0, 0);\"/><rect class=\"node-body\" width=\"1\" height=\"128.3405388703393\" style=\"fill: none;\"/><text class=\"node-value\" dy=\".35em\" text-anchor=\"middle\" style=\"display: none;\" transform=\"translate(0.5,64.17026943516964) rotate(-90)\"/><text class=\"node-title\" dy=\".35em\" text-anchor=\"end\" transform=\"translate(-4,64.17026943516964)\" style=\"display: inline;\">UK</text><rect class=\"node-click-target\" x=\"-5\" y=\"-5\" width=\"10\" style=\"fill: none; visibility: hidden; pointer-events: all;\" height=\"133.3405388703393\"/></g><g class=\"node\" transform=\"translate(0,1100.2416658015493)\"><title>Hungary</title><line x1=\"0\" x2=\"0\" y1=\"0\" y2=\"9.419531252462548\" style=\"display: inline; stroke: rgb(0, 0, 0);\"/><rect class=\"node-body\" width=\"1\" height=\"9.419531252462548\" style=\"fill: none;\"/><text class=\"node-value\" dy=\".35em\" text-anchor=\"middle\" style=\"display: none;\" transform=\"translate(0.5,4.709765626231274) rotate(-90)\"/><text class=\"node-title\" dy=\".35em\" text-anchor=\"end\" transform=\"translate(-4,4.709765626231274)\" style=\"display: inline;\">Hungary</text><rect class=\"node-click-target\" x=\"-5\" y=\"-5\" width=\"10\" style=\"fill: none; visibility: hidden; pointer-events: all;\" height=\"14.419531252462548\"/></g><g class=\"node\" transform=\"translate(0,989.0790653769056)\"><title>Czech Republic</title><line x1=\"0\" x2=\"0\" y1=\"0\" y2=\"86.96905203754682\" style=\"display: inline; stroke: rgb(0, 0, 0);\"/><rect class=\"node-body\" width=\"1\" height=\"86.96905203754682\" style=\"fill: none;\"/><text class=\"node-value\" dy=\".35em\" text-anchor=\"middle\" style=\"display: none;\" transform=\"translate(0.5,43.48452601877341) rotate(-90)\"/><text class=\"node-title\" dy=\".35em\" text-anchor=\"end\" transform=\"translate(-4,43.48452601877341)\" style=\"display: inline;\">Czech Republic</text><rect class=\"node-click-target\" x=\"-5\" y=\"-5\" width=\"10\" style=\"fill: none; visibility: hidden; pointer-events: all;\" height=\"91.96905203754682\"/></g><g class=\"node\" transform=\"translate(0,1297.7796190336953)\"><title>France</title><line x1=\"0\" x2=\"0\" y1=\"0\" y2=\"2.834260479671684\" style=\"display: inline; stroke: rgb(0, 0, 0);\"/><rect class=\"node-body\" width=\"1\" height=\"2.834260479671684\" style=\"fill: none;\"/><text class=\"node-value\" dy=\".35em\" text-anchor=\"middle\" style=\"display: none;\" transform=\"translate(0.5,1.417130239835842) rotate(-90)\"/><text class=\"node-title\" dy=\".35em\" text-anchor=\"end\" transform=\"translate(-4,1.417130239835842)\" style=\"display: inline;\">France</text><rect class=\"node-click-target\" x=\"-5\" y=\"-5\" width=\"10\" style=\"fill: none; visibility: hidden; pointer-events: all;\" height=\"7.834260479671684\"/></g><g class=\"node\" transform=\"translate(0,374.1100815036824)\"><title>Lithuania</title><line x1=\"0\" x2=\"0\" y1=\"0\" y2=\"7.358240565586357\" style=\"display: inline; stroke: rgb(0, 0, 0);\"/><rect class=\"node-body\" width=\"1\" height=\"7.358240565586357\" style=\"fill: none;\"/><text class=\"node-value\" dy=\".35em\" text-anchor=\"middle\" style=\"display: none;\" transform=\"translate(0.5,3.6791202827931784) rotate(-90)\"/><text class=\"node-title\" dy=\".35em\" text-anchor=\"end\" transform=\"translate(-4,3.6791202827931784)\" style=\"display: inline;\">Lithuania</text><rect class=\"node-click-target\" x=\"-5\" y=\"-5\" width=\"10\" style=\"fill: none; visibility: hidden; pointer-events: all;\" height=\"12.358240565586357\"/></g><g class=\"node\" transform=\"translate(0,570.9629265215991)\"><title>Argentina</title><line x1=\"0\" x2=\"0\" y1=\"0\" y2=\"3.0942204295442934\" style=\"display: inline; stroke: rgb(0, 0, 0);\"/><rect class=\"node-body\" width=\"1\" height=\"3.0942204295442934\" style=\"fill: none;\"/><text class=\"node-value\" dy=\".35em\" text-anchor=\"middle\" style=\"display: none;\" transform=\"translate(0.5,1.5471102147721467) rotate(-90)\"/><text class=\"node-title\" dy=\".35em\" text-anchor=\"end\" transform=\"translate(-4,1.5471102147721467)\" style=\"display: inline;\">Argentina</text><rect class=\"node-click-target\" x=\"-5\" y=\"-5\" width=\"10\" style=\"fill: none; visibility: hidden; pointer-events: all;\" height=\"8.094220429544293\"/></g><g class=\"node\" transform=\"translate(749,250)\"><title>ADDE (IDDE)</title><line x1=\"0\" x2=\"0\" y1=\"0\" y2=\"102.07217526389314\" style=\"display: inline; stroke: rgb(0, 0, 0);\"/><rect class=\"node-body\" width=\"1\" height=\"102.07217526389314\" style=\"fill: none;\"/><text class=\"node-value\" dy=\".35em\" text-anchor=\"middle\" style=\"display: none;\" transform=\"translate(0.5,51.03608763194657) rotate(-90)\"/><text class=\"node-title\" dy=\".35em\" text-anchor=\"start\" transform=\"translate(5,51.03608763194657)\" style=\"display: inline;\">ADDE (IDDE)</text><rect class=\"node-click-target\" x=\"-5\" y=\"-5\" width=\"10\" style=\"fill: none; visibility: hidden; pointer-events: all;\" height=\"107.07217526389314\"/></g><g class=\"node\" transform=\"translate(0,2205.6983869400374)\"><title>Norway</title><line x1=\"0\" x2=\"0\" y1=\"0\" y2=\"2.883092439788925\" style=\"display: inline; stroke: rgb(0, 0, 0);\"/><rect class=\"node-body\" width=\"1\" height=\"2.883092439788925\" style=\"fill: none;\"/><text class=\"node-value\" dy=\".35em\" text-anchor=\"middle\" style=\"display: none;\" transform=\"translate(0.5,1.4415462198944624) rotate(-90)\"/><text class=\"node-title\" dy=\".35em\" text-anchor=\"end\" transform=\"translate(-4,1.4415462198944624)\" style=\"display: inline;\">Norway</text><rect class=\"node-click-target\" x=\"-5\" y=\"-5\" width=\"10\" style=\"fill: none; visibility: hidden; pointer-events: all;\" height=\"7.883092439788925\"/></g><g class=\"node\" transform=\"translate(0,900.0856263220256)\"><title>Sweden</title><line x1=\"0\" x2=\"0\" y1=\"0\" y2=\"64.79989066778319\" style=\"display: inline; stroke: rgb(0, 0, 0);\"/><rect class=\"node-body\" width=\"1\" height=\"64.79989066778319\" style=\"fill: none;\"/><text class=\"node-value\" dy=\".35em\" text-anchor=\"middle\" style=\"display: none;\" transform=\"translate(0.5,32.399945333891594) rotate(-90)\"/><text class=\"node-title\" dy=\".35em\" text-anchor=\"end\" transform=\"translate(-4,32.399945333891594)\" style=\"display: inline;\">Sweden</text><rect class=\"node-click-target\" x=\"-5\" y=\"-5\" width=\"10\" style=\"fill: none; visibility: hidden; pointer-events: all;\" height=\"69.79989066778319\"/></g><g class=\"node\" transform=\"translate(0,598.2506953382402)\"><title>Austria</title><line x1=\"0\" x2=\"0\" y1=\"0\" y2=\"41.47371955148685\" style=\"display: inline; stroke: rgb(0, 0, 0);\"/><rect class=\"node-body\" width=\"1\" height=\"41.47371955148685\" style=\"fill: none;\"/><text class=\"node-value\" dy=\".35em\" text-anchor=\"middle\" style=\"display: none;\" transform=\"translate(0.5,20.736859775743426) rotate(-90)\"/><text class=\"node-title\" dy=\".35em\" text-anchor=\"end\" transform=\"translate(-4,20.736859775743426)\" style=\"display: inline;\">Austria</text><rect class=\"node-click-target\" x=\"-5\" y=\"-5\" width=\"10\" style=\"fill: none; visibility: hidden; pointer-events: all;\" height=\"46.47371955148685\"/></g><g class=\"node\" transform=\"translate(749,1936.285998339028)\"><title>ECPM (SALLUX)</title><line x1=\"0\" x2=\"0\" y1=\"0\" y2=\"17.734028694023664\" style=\"display: inline; stroke: rgb(0, 0, 0);\"/><rect class=\"node-body\" width=\"1\" height=\"17.734028694023664\" style=\"fill: none;\"/><text class=\"node-value\" dy=\".35em\" text-anchor=\"middle\" style=\"display: none;\" transform=\"translate(0.5,8.867014347011832) rotate(-90)\"/><text class=\"node-title\" dy=\".35em\" text-anchor=\"start\" transform=\"translate(5,8.867014347011832)\" style=\"display: inline;\">ECPM (SALLUX)</text><rect class=\"node-click-target\" x=\"-5\" y=\"-5\" width=\"10\" style=\"fill: none; visibility: hidden; pointer-events: all;\" height=\"22.734028694023664\"/></g><g class=\"node\" transform=\"translate(0,840.1213414143226)\"><title>Finland</title><line x1=\"0\" x2=\"0\" y1=\"0\" y2=\"3.0101893222853278\" style=\"display: inline; stroke: rgb(0, 0, 0);\"/><rect class=\"node-body\" width=\"1\" height=\"3.0101893222853278\" style=\"fill: none;\"/><text class=\"node-value\" dy=\".35em\" text-anchor=\"middle\" style=\"display: none;\" transform=\"translate(0.5,1.5050946611426639) rotate(-90)\"/><text class=\"node-title\" dy=\".35em\" text-anchor=\"end\" transform=\"translate(-4,1.5050946611426639)\" style=\"display: inline;\">Finland</text><rect class=\"node-click-target\" x=\"-5\" y=\"-5\" width=\"10\" style=\"fill: none; visibility: hidden; pointer-events: all;\" height=\"8.010189322285328\"/></g><g class=\"node\" transform=\"translate(749,2125.8618780756874)\"><title>PES (FEPS)</title><line x1=\"0\" x2=\"0\" y1=\"0\" y2=\"24.081514578282622\" style=\"display: inline; stroke: rgb(0, 0, 0);\"/><rect class=\"node-body\" width=\"1\" height=\"24.081514578282622\" style=\"fill: none;\"/><text class=\"node-value\" dy=\".35em\" text-anchor=\"middle\" style=\"display: none;\" transform=\"translate(0.5,12.040757289141311) rotate(-90)\"/><text class=\"node-title\" dy=\".35em\" text-anchor=\"start\" transform=\"translate(5,12.040757289141311)\" style=\"display: inline;\">PES (FEPS)</text><rect class=\"node-click-target\" x=\"-5\" y=\"-5\" width=\"10\" style=\"fill: none; visibility: hidden; pointer-events: all;\" height=\"29.081514578282622\"/></g><g class=\"node\" transform=\"translate(0,1215.5763564318806)\"><title>Denmark</title><line x1=\"0\" x2=\"0\" y1=\"0\" y2=\"3.800196786645074\" style=\"display: inline; stroke: rgb(0, 0, 0);\"/><rect class=\"node-body\" width=\"1\" height=\"3.800196786645074\" style=\"fill: none;\"/><text class=\"node-value\" dy=\".35em\" text-anchor=\"middle\" style=\"display: none;\" transform=\"translate(0.5,1.900098393322537) rotate(-90)\"/><text class=\"node-title\" dy=\".35em\" text-anchor=\"end\" transform=\"translate(-4,1.900098393322537)\" style=\"display: inline;\">Denmark</text><rect class=\"node-click-target\" x=\"-5\" y=\"-5\" width=\"10\" style=\"fill: none; visibility: hidden; pointer-events: all;\" height=\"8.800196786645074\"/></g><g class=\"node\" transform=\"translate(749,1719.9691900567339)\"><title>EAF (EFF)</title><line x1=\"0\" x2=\"0\" y1=\"0\" y2=\"132.98347494896097\" style=\"display: inline; stroke: rgb(0, 0, 0);\"/><rect class=\"node-body\" width=\"1\" height=\"132.98347494896097\" style=\"fill: none;\"/><text class=\"node-value\" dy=\".35em\" text-anchor=\"middle\" style=\"display: none;\" transform=\"translate(0.5,66.49173747448049) rotate(-90)\"/><text class=\"node-title\" dy=\".35em\" text-anchor=\"start\" transform=\"translate(5,66.49173747448049)\" style=\"display: inline;\">EAF (EFF)</text><rect class=\"node-click-target\" x=\"-5\" y=\"-5\" width=\"10\" style=\"fill: none; visibility: hidden; pointer-events: all;\" height=\"137.98347494896097\"/></g><g class=\"node\" transform=\"translate(0,1243.5701016056225)\"><title>Latvia</title><line x1=\"0\" x2=\"0\" y1=\"0\" y2=\"30.015969040976188\" style=\"display: inline; stroke: rgb(0, 0, 0);\"/><rect class=\"node-body\" width=\"1\" height=\"30.015969040976188\" style=\"fill: none;\"/><text class=\"node-value\" dy=\".35em\" text-anchor=\"middle\" style=\"display: none;\" transform=\"translate(0.5,15.007984520488094) rotate(-90)\"/><text class=\"node-title\" dy=\".35em\" text-anchor=\"end\" transform=\"translate(-4,15.007984520488094)\" style=\"display: inline;\">Latvia</text><rect class=\"node-click-target\" x=\"-5\" y=\"-5\" width=\"10\" style=\"fill: none; visibility: hidden; pointer-events: all;\" height=\"35.01596904097619\"/></g><g class=\"node\" transform=\"translate(0,1133.8547454411087)\"><title>Netherlands</title><line x1=\"0\" x2=\"0\" y1=\"0\" y2=\"57.52806260367515\" style=\"display: inline; stroke: rgb(0, 0, 0);\"/><rect class=\"node-body\" width=\"1\" height=\"57.52806260367515\" style=\"fill: none;\"/><text class=\"node-value\" dy=\".35em\" text-anchor=\"middle\" style=\"display: none;\" transform=\"translate(0.5,28.764031301837576) rotate(-90)\"/><text class=\"node-title\" dy=\".35em\" text-anchor=\"end\" transform=\"translate(-4,28.764031301837576)\" style=\"display: inline;\">Netherlands</text><rect class=\"node-click-target\" x=\"-5\" y=\"-5\" width=\"10\" style=\"fill: none; visibility: hidden; pointer-events: all;\" height=\"62.52806260367515\"/></g><g class=\"node\" transform=\"translate(0,774.4035813152916)\"><title>Luxembourg</title><line x1=\"0\" x2=\"0\" y1=\"0\" y2=\"13.378619210157012\" style=\"display: inline; stroke: rgb(0, 0, 0);\"/><rect class=\"node-body\" width=\"1\" height=\"13.378619210157012\" style=\"fill: none;\"/><text class=\"node-value\" dy=\".35em\" text-anchor=\"middle\" style=\"display: none;\" transform=\"translate(0.5,6.689309605078506) rotate(-90)\"/><text class=\"node-title\" dy=\".35em\" text-anchor=\"end\" transform=\"translate(-4,6.689309605078506)\" style=\"display: inline;\">Luxembourg</text><rect class=\"node-click-target\" x=\"-5\" y=\"-5\" width=\"10\" style=\"fill: none; visibility: hidden; pointer-events: all;\" height=\"18.378619210157012\"/></g><g class=\"node\" transform=\"translate(0,1719.3559935175622)\"><title>Malta</title><line x1=\"0\" x2=\"0\" y1=\"0\" y2=\"37.41999793080913\" style=\"display: inline; stroke: rgb(0, 0, 0);\"/><rect class=\"node-body\" width=\"1\" height=\"37.41999793080913\" style=\"fill: none;\"/><text class=\"node-value\" dy=\".35em\" text-anchor=\"middle\" style=\"display: none;\" transform=\"translate(0.5,18.709998965404566) rotate(-90)\"/><text class=\"node-title\" dy=\".35em\" text-anchor=\"end\" transform=\"translate(-4,18.709998965404566)\" style=\"display: inline;\">Malta</text><rect class=\"node-click-target\" x=\"-5\" y=\"-5\" width=\"10\" style=\"fill: none; visibility: hidden; pointer-events: all;\" height=\"42.41999793080913\"/></g><g class=\"node\" transform=\"translate(749,1403.595026563596)\"><title>ALDE (ELF)</title><line x1=\"0\" x2=\"0\" y1=\"0\" y2=\"233.0408301598045\" style=\"display: inline; stroke: rgb(0, 0, 0);\"/><rect class=\"node-body\" width=\"1\" height=\"233.0408301598045\" style=\"fill: none;\"/><text class=\"node-value\" dy=\".35em\" text-anchor=\"middle\" style=\"display: none;\" transform=\"translate(0.5,116.52041507990225) rotate(-90)\"/><text class=\"node-title\" dy=\".35em\" text-anchor=\"start\" transform=\"translate(5,116.52041507990225)\" style=\"display: inline;\">ALDE (ELF)</text><rect class=\"node-click-target\" x=\"-5\" y=\"-5\" width=\"10\" style=\"fill: none; visibility: hidden; pointer-events: all;\" height=\"238.0408301598045\"/></g><g class=\"node\" transform=\"translate(0,1433.5029988156837)\"><title>South-Korea</title><line x1=\"0\" x2=\"0\" y1=\"0\" y2=\"2.408151457828353\" style=\"display: inline; stroke: rgb(0, 0, 0);\"/><rect class=\"node-body\" width=\"1\" height=\"2.408151457828353\" style=\"fill: none;\"/><text class=\"node-value\" dy=\".35em\" text-anchor=\"middle\" style=\"display: none;\" transform=\"translate(0.5,1.2040757289141766) rotate(-90)\"/><text class=\"node-title\" dy=\".35em\" text-anchor=\"end\" transform=\"translate(-4,1.2040757289141766)\" style=\"display: inline;\">South-Korea</text><rect class=\"node-click-target\" x=\"-5\" y=\"-5\" width=\"10\" style=\"fill: none; visibility: hidden; pointer-events: all;\" height=\"7.408151457828353\"/></g><g class=\"node\" transform=\"translate(0,663.9179632768238)\"><title>Belgium</title><line x1=\"0\" x2=\"0\" y1=\"0\" y2=\"29.43296226234554\" style=\"display: inline; stroke: rgb(0, 0, 0);\"/><rect class=\"node-body\" width=\"1\" height=\"29.43296226234554\" style=\"fill: none;\"/><text class=\"node-value\" dy=\".35em\" text-anchor=\"middle\" style=\"display: none;\" transform=\"translate(0.5,14.71648113117277) rotate(-90)\"/><text class=\"node-title\" dy=\".35em\" text-anchor=\"end\" transform=\"translate(-4,14.71648113117277)\" style=\"display: inline;\">Belgium</text><rect class=\"node-click-target\" x=\"-5\" y=\"-5\" width=\"10\" style=\"fill: none; visibility: hidden; pointer-events: all;\" height=\"34.43296226234554\"/></g><g class=\"node\" transform=\"translate(0,1780.9695398354681)\"><title>USA</title><line x1=\"0\" x2=\"0\" y1=\"0\" y2=\"350.94680193820636\" style=\"display: inline; stroke: rgb(0, 0, 0);\"/><rect class=\"node-body\" width=\"1\" height=\"350.94680193820636\" style=\"fill: none;\"/><text class=\"node-value\" dy=\".35em\" text-anchor=\"middle\" style=\"display: none;\" transform=\"translate(0.5,175.47340096910318) rotate(-90)\"/><text class=\"node-title\" dy=\".35em\" text-anchor=\"end\" transform=\"translate(-4,175.47340096910318)\" style=\"display: inline;\">USA</text><rect class=\"node-click-target\" x=\"-5\" y=\"-5\" width=\"10\" style=\"fill: none; visibility: hidden; pointer-events: all;\" height=\"355.94680193820636\"/></g><g class=\"node\" transform=\"translate(749,1104.3203706125828)\"><title>EPP (WMCES)</title><line x1=\"0\" x2=\"0\" y1=\"0\" y2=\"215.94132261768004\" style=\"display: inline; stroke: rgb(0, 0, 0);\"/><rect class=\"node-body\" width=\"1\" height=\"215.94132261768004\" style=\"fill: none;\"/><text class=\"node-value\" dy=\".35em\" text-anchor=\"middle\" style=\"display: none;\" transform=\"translate(0.5,107.97066130884002) rotate(-90)\"/><text class=\"node-title\" dy=\".35em\" text-anchor=\"start\" transform=\"translate(5,107.97066130884002)\" style=\"display: inline;\">EPP (WMCES)</text><rect class=\"node-click-target\" x=\"-5\" y=\"-5\" width=\"10\" style=\"fill: none; visibility: hidden; pointer-events: all;\" height=\"220.94132261768004\"/></g><g class=\"node\" transform=\"translate(749,991.4820110845285)\"><title>EUD (OEIC)</title><line x1=\"0\" x2=\"0\" y1=\"0\" y2=\"29.50502619472104\" style=\"display: inline; stroke: rgb(0, 0, 0);\"/><rect class=\"node-body\" width=\"1\" height=\"29.50502619472104\" style=\"fill: none;\"/><text class=\"node-value\" dy=\".35em\" text-anchor=\"middle\" style=\"display: none;\" transform=\"translate(0.5,14.75251309736052) rotate(-90)\"/><text class=\"node-title\" dy=\".35em\" text-anchor=\"start\" transform=\"translate(5,14.75251309736052)\" style=\"display: inline;\">EUD (OEIC)</text><rect class=\"node-click-target\" x=\"-5\" y=\"-5\" width=\"10\" style=\"fill: none; visibility: hidden; pointer-events: all;\" height=\"34.50502619472104\"/></g><g class=\"node\" transform=\"translate(0,2180.9723695083762)\"><title>Georgia</title><line x1=\"0\" x2=\"0\" y1=\"0\" y2=\"1\" style=\"display: inline; stroke: rgb(0, 0, 0);\"/><rect class=\"node-body\" width=\"1\" height=\"1\" style=\"fill: none;\"/><text class=\"node-value\" dy=\".35em\" text-anchor=\"middle\" style=\"display: none;\" transform=\"translate(0.5,0.2662345222820477) rotate(0)\"/><text class=\"node-title\" dy=\".35em\" text-anchor=\"end\" transform=\"translate(-4,0.2662345222820477)\" style=\"display: inline;\">Georgia</text><rect class=\"node-click-target\" x=\"-5\" y=\"-5\" width=\"10\" style=\"fill: none; visibility: hidden; pointer-events: all;\" height=\"6\"/></g><g class=\"node\" transform=\"translate(0,405.6618704563656)\"><title>Poland</title><line x1=\"0\" x2=\"0\" y1=\"0\" y2=\"141.1075076781367\" style=\"display: inline; stroke: rgb(0, 0, 0);\"/><rect class=\"node-body\" width=\"1\" height=\"141.1075076781367\" style=\"fill: none;\"/><text class=\"node-value\" dy=\".35em\" text-anchor=\"middle\" style=\"display: none;\" transform=\"translate(0.5,70.55375383906835) rotate(-90)\"/><text class=\"node-title\" dy=\".35em\" text-anchor=\"end\" transform=\"translate(-4,70.55375383906835)\" style=\"display: inline;\">Poland</text><rect class=\"node-click-target\" x=\"-5\" y=\"-5\" width=\"10\" style=\"fill: none; visibility: hidden; pointer-events: all;\" height=\"146.1075076781367\"/></g><g class=\"node\" transform=\"translate(0,867.3250791237048)\"><title>Slovakia</title><line x1=\"0\" x2=\"0\" y1=\"0\" y2=\"8.566998811224039\" style=\"display: inline; stroke: rgb(0, 0, 0);\"/><rect class=\"node-body\" width=\"1\" height=\"8.566998811224039\" style=\"fill: none;\"/><text class=\"node-value\" dy=\".35em\" text-anchor=\"middle\" style=\"display: none;\" transform=\"translate(0.5,4.2834994056120195) rotate(-90)\"/><text class=\"node-title\" dy=\".35em\" text-anchor=\"end\" transform=\"translate(-4,4.2834994056120195)\" style=\"display: inline;\">Slovakia</text><rect class=\"node-click-target\" x=\"-5\" y=\"-5\" width=\"10\" style=\"fill: none; visibility: hidden; pointer-events: all;\" height=\"13.566998811224039\"/></g><g class=\"node\" transform=\"translate(0,1407.9715885075711)\"><title>Serbia</title><line x1=\"0\" x2=\"0\" y1=\"0\" y2=\"1.3378619210157012\" style=\"display: inline; stroke: rgb(0, 0, 0);\"/><rect class=\"node-body\" width=\"1\" height=\"1.3378619210157012\" style=\"fill: none;\"/><text class=\"node-value\" dy=\".35em\" text-anchor=\"middle\" style=\"display: none;\" transform=\"translate(0.5,0.6689309605078506) rotate(-90)\"/><text class=\"node-title\" dy=\".35em\" text-anchor=\"end\" transform=\"translate(-4,0.6689309605078506)\" style=\"display: inline;\">Serbia</text><rect class=\"node-click-target\" x=\"-5\" y=\"-5\" width=\"10\" style=\"fill: none; visibility: hidden; pointer-events: all;\" height=\"6.337861921015701\"/></g><g class=\"node\" transform=\"translate(0,250)\"><title>Monaco</title><line x1=\"0\" x2=\"0\" y1=\"0\" y2=\"22.743652657266978\" style=\"display: inline; stroke: rgb(0, 0, 0);\"/><rect class=\"node-body\" width=\"1\" height=\"22.743652657266978\" style=\"fill: none;\"/><text class=\"node-value\" dy=\".35em\" text-anchor=\"middle\" style=\"display: none;\" transform=\"translate(0.5,11.371826328633489) rotate(-90)\"/><text class=\"node-title\" dy=\".35em\" text-anchor=\"end\" transform=\"translate(-4,11.371826328633489)\" style=\"display: inline;\">Monaco</text><rect class=\"node-click-target\" x=\"-5\" y=\"-5\" width=\"10\" style=\"fill: none; visibility: hidden; pointer-events: all;\" height=\"27.743652657266978\"/></g><g class=\"node\" transform=\"translate(749,2037.353360366385)\"><title>APF (Terra Nostra)</title><line x1=\"0\" x2=\"0\" y1=\"0\" y2=\"5.175184375968911\" style=\"display: inline; stroke: rgb(0, 0, 0);\"/><rect class=\"node-body\" width=\"1\" height=\"5.175184375968911\" style=\"fill: none;\"/><text class=\"node-value\" dy=\".35em\" text-anchor=\"middle\" style=\"display: none;\" transform=\"translate(0.5,2.5875921879844554) rotate(-90)\"/><text class=\"node-title\" dy=\".35em\" text-anchor=\"start\" transform=\"translate(5,2.5875921879844554)\" style=\"display: inline;\">APF (Terra Nostra)</text><rect class=\"node-click-target\" x=\"-5\" y=\"-5\" width=\"10\" style=\"fill: none; visibility: hidden; pointer-events: all;\" height=\"10.175184375968911\"/></g><g class=\"node\" transform=\"translate(0,2232.775027766923)\"><title>Italy</title><line x1=\"0\" x2=\"0\" y1=\"0\" y2=\"17.224972233077096\" style=\"display: inline; stroke: rgb(0, 0, 0);\"/><rect class=\"node-body\" width=\"1\" height=\"17.224972233077096\" style=\"fill: none;\"/><text class=\"node-value\" dy=\".35em\" text-anchor=\"middle\" style=\"display: none;\" transform=\"translate(0.5,8.612486116538548) rotate(-90)\"/><text class=\"node-title\" dy=\".35em\" text-anchor=\"end\" transform=\"translate(-4,8.612486116538548)\" style=\"display: inline;\">Italy</text><rect class=\"node-click-target\" x=\"-5\" y=\"-5\" width=\"10\" style=\"fill: none; visibility: hidden; pointer-events: all;\" height=\"22.224972233077096\"/></g><g class=\"node\" transform=\"translate(749,2233.2767259873035)\"><title>EDP (IED)</title><line x1=\"0\" x2=\"0\" y1=\"0\" y2=\"16.723274012696493\" style=\"display: inline; stroke: rgb(0, 0, 0);\"/><rect class=\"node-body\" width=\"1\" height=\"16.723274012696493\" style=\"fill: none;\"/><text class=\"node-value\" dy=\".35em\" text-anchor=\"middle\" style=\"display: none;\" transform=\"translate(0.5,8.361637006348246) rotate(-90)\"/><text class=\"node-title\" dy=\".35em\" text-anchor=\"start\" transform=\"translate(5,8.361637006348246)\" style=\"display: inline;\">EDP (IED)</text><rect class=\"node-click-target\" x=\"-5\" y=\"-5\" width=\"10\" style=\"fill: none; visibility: hidden; pointer-events: all;\" height=\"21.723274012696493\"/></g><g class=\"node\" transform=\"translate(0,1612.6387859180445)\"><title>Switzerland</title><line x1=\"0\" x2=\"0\" y1=\"0\" y2=\"34.248596247041405\" style=\"display: inline; stroke: rgb(0, 0, 0);\"/><rect class=\"node-body\" width=\"1\" height=\"34.248596247041405\" style=\"fill: none;\"/><text class=\"node-value\" dy=\".35em\" text-anchor=\"middle\" style=\"display: none;\" transform=\"translate(0.5,17.124298123520703) rotate(-90)\"/><text class=\"node-title\" dy=\".35em\" text-anchor=\"end\" transform=\"translate(-4,17.124298123520703)\" style=\"display: inline;\">Switzerland</text><rect class=\"node-click-target\" x=\"-5\" y=\"-5\" width=\"10\" style=\"fill: none; visibility: hidden; pointer-events: all;\" height=\"39.248596247041405\"/></g><g class=\"node\" transform=\"translate(0,717.544473926266)\"><title>Faroe Islands</title><line x1=\"0\" x2=\"0\" y1=\"0\" y2=\"1\" style=\"display: inline; stroke: rgb(0, 0, 0);\"/><rect class=\"node-body\" width=\"1\" height=\"1\" style=\"fill: none;\"/><text class=\"node-value\" dy=\".35em\" text-anchor=\"middle\" style=\"display: none;\" transform=\"translate(0.5,0.22241954436884726) rotate(0)\"/><text class=\"node-title\" dy=\".35em\" text-anchor=\"end\" transform=\"translate(-4,0.22241954436884726)\" style=\"display: inline;\">Faroe Islands</text><rect class=\"node-click-target\" x=\"-5\" y=\"-5\" width=\"10\" style=\"fill: none; visibility: hidden; pointer-events: all;\" height=\"6\"/></g><g class=\"node\" transform=\"translate(0,1324.8074279004638)\"><title>Germany</title><line x1=\"0\" x2=\"0\" y1=\"0\" y2=\"58.97061222001048\" style=\"display: inline; stroke: rgb(0, 0, 0);\"/><rect class=\"node-body\" width=\"1\" height=\"58.97061222001048\" style=\"fill: none;\"/><text class=\"node-value\" dy=\".35em\" text-anchor=\"middle\" style=\"display: none;\" transform=\"translate(0.5,29.48530611000524) rotate(-90)\"/><text class=\"node-title\" dy=\".35em\" text-anchor=\"end\" transform=\"translate(-4,29.48530611000524)\" style=\"display: inline;\">Germany</text><rect class=\"node-click-target\" x=\"-5\" y=\"-5\" width=\"10\" style=\"fill: none; visibility: hidden; pointer-events: all;\" height=\"63.97061222001048\"/></g><g class=\"node\" transform=\"translate(0,2156.1098901607716)\"><title>Albania</title><line x1=\"0\" x2=\"0\" y1=\"0\" y2=\"1\" style=\"display: inline; stroke: rgb(0, 0, 0);\"/><rect class=\"node-body\" width=\"1\" height=\"1\" style=\"fill: none;\"/><text class=\"node-value\" dy=\".35em\" text-anchor=\"middle\" style=\"display: none;\" transform=\"translate(0.5,0.334465480254039) rotate(0)\"/><text class=\"node-title\" dy=\".35em\" text-anchor=\"end\" transform=\"translate(-4,0.334465480254039)\" style=\"display: inline;\">Albania</text><rect class=\"node-click-target\" x=\"-5\" y=\"-5\" width=\"10\" style=\"fill: none; visibility: hidden; pointer-events: all;\" height=\"6\"/></g></g><g class=\"slice-titles\"/></g></svg>"
      }
     },
     "2ca41e3121434b7fa7e66488b2b879be": {
      "model_module": "jupyter-sankey-widget",
      "model_module_version": "^0.2.5",
      "model_name": "SankeyModel",
      "state": {
       "_model_module_version": "^0.2.5",
       "_view_module_version": "^0.2.5",
       "layout": "IPY_MODEL_e29fbe77736b4f599f99e6da8e8e6c5b",
       "links": [
        {
         "source": "Albania",
         "target": "ECPM (SALLUX)",
         "value": 1000
        },
        {
         "source": "Argentina",
         "target": "ACRE (ND)",
         "value": 4625.62
        },
        {
         "source": "Austria",
         "target": "ACRE (ND)",
         "value": 62000
        },
        {
         "source": "Belgium",
         "target": "ACRE (ND)",
         "value": 17000
        },
        {
         "source": "Belgium",
         "target": "ADDE (IDDE)",
         "value": 24000
        },
        {
         "source": "Belgium",
         "target": "EUD (OEIC)",
         "value": 3000
        },
        {
         "source": "Czech Republic",
         "target": "ACRE (ND)",
         "value": 96068
        },
        {
         "source": "Czech Republic",
         "target": "ALDE (ELF)",
         "value": 12000
        },
        {
         "source": "Czech Republic",
         "target": "EUD (OEIC)",
         "value": 21944
        },
        {
         "source": "Denmark",
         "target": "ALDE (ELF)",
         "value": 3000
        },
        {
         "source": "Denmark",
         "target": "EUD (OEIC)",
         "value": 2681
        },
        {
         "source": "Faroe Islands",
         "target": "ACRE (ND)",
         "value": 665
        },
        {
         "source": "Finland",
         "target": "ACRE (ND)",
         "value": 1300
        },
        {
         "source": "Finland",
         "target": "EUD (OEIC)",
         "value": 3200
        },
        {
         "source": "France",
         "target": "ACRE (ND)",
         "value": 1237
        },
        {
         "source": "France",
         "target": "ECPM (SALLUX)",
         "value": 3000
        },
        {
         "source": "Georgia",
         "target": "ECPM (SALLUX)",
         "value": 796
        },
        {
         "source": "Germany",
         "target": "ACRE (ND)",
         "value": 9750
        },
        {
         "source": "Germany",
         "target": "ALDE (ELF)",
         "value": 48000
        },
        {
         "source": "Germany",
         "target": "APF (Terra Nostra)",
         "value": 1406.5
        },
        {
         "source": "Germany",
         "target": "EAF (EFF)",
         "value": 5000
        },
        {
         "source": "Germany",
         "target": "EPP (WMCES)",
         "value": 24000
        },
        {
         "source": "Hungary",
         "target": "ACRE (ND)",
         "value": 4200
        },
        {
         "source": "Hungary",
         "target": "ALDE (ELF)",
         "value": 1200
        },
        {
         "source": "Hungary",
         "target": "EPP (WMCES)",
         "value": 8681.47
        },
        {
         "source": "Iceland",
         "target": "ACRE (ND)",
         "value": 47200
        },
        {
         "source": "Iceland",
         "target": "ADDE (IDDE)",
         "value": 32000
        },
        {
         "source": "India",
         "target": "ALDE (ELF)",
         "value": 12000
        },
        {
         "source": "India",
         "target": "EAF (EFF)",
         "value": 24000
        },
        {
         "source": "Italy",
         "target": "APF (Terra Nostra)",
         "value": 750
        },
        {
         "source": "Italy",
         "target": "EDP (IED)",
         "value": 25000
        },
        {
         "source": "Latvia",
         "target": "ACRE (ND)",
         "value": 15871.55
        },
        {
         "source": "Latvia",
         "target": "EAF (EFF)",
         "value": 29000
        },
        {
         "source": "Lichtenstein",
         "target": "ACRE (ND)",
         "value": 12000
        },
        {
         "source": "Lithuania",
         "target": "ACRE (ND)",
         "value": 3000
        },
        {
         "source": "Lithuania",
         "target": "ADDE (IDDE)",
         "value": 8000
        },
        {
         "source": "Luxembourg",
         "target": "ACRE (ND)",
         "value": 20000
        },
        {
         "source": "Malta",
         "target": "EAF (EFF)",
         "value": 48000
        },
        {
         "source": "Malta",
         "target": "ECPM (SALLUX)",
         "value": 600
        },
        {
         "source": "Malta",
         "target": "EUD (OEIC)",
         "value": 7340
        },
        {
         "source": "Monaco",
         "target": "ADDE (IDDE)",
         "value": 34000
        },
        {
         "source": "Netherlands",
         "target": "ACRE (ND)",
         "value": 27000
        },
        {
         "source": "Netherlands",
         "target": "ADDE (IDDE)",
         "value": 37000
        },
        {
         "source": "Netherlands",
         "target": "ALDE (ELF)",
         "value": 4000
        },
        {
         "source": "Netherlands",
         "target": "ECPM (SALLUX)",
         "value": 6000
        },
        {
         "source": "Netherlands",
         "target": "EPP (WMCES)",
         "value": 12000
        },
        {
         "source": "Norway",
         "target": "ECPM (SALLUX)",
         "value": 4310
        },
        {
         "source": "Pakistan",
         "target": "ACRE (ND)",
         "value": 5908
        },
        {
         "source": "Poland",
         "target": "ACRE (ND)",
         "value": 205354.8
        },
        {
         "source": "Poland",
         "target": "ADDE (IDDE)",
         "value": 5590
        },
        {
         "source": "Serbia",
         "target": "ALDE (ELF)",
         "value": 2000
        },
        {
         "source": "Slovakia",
         "target": "ACRE (ND)",
         "value": 10600
        },
        {
         "source": "Slovakia",
         "target": "EUD (OEIC)",
         "value": 2207
        },
        {
         "source": "South-Korea",
         "target": "ALDE (ELF)",
         "value": 3600
        },
        {
         "source": "Sweden",
         "target": "ACRE (ND)",
         "value": 12000
        },
        {
         "source": "Sweden",
         "target": "ADDE (IDDE)",
         "value": 12000
        },
        {
         "source": "Sweden",
         "target": "EAF (EFF)",
         "value": 61200
        },
        {
         "source": "Sweden",
         "target": "EPP (WMCES)",
         "value": 10134.09
        },
        {
         "source": "Sweden",
         "target": "EUD (OEIC)",
         "value": 1536.73
        },
        {
         "source": "Switzerland",
         "target": "ALDE (ELF)",
         "value": 48000
        },
        {
         "source": "Switzerland",
         "target": "APF (Terra Nostra)",
         "value": 1000
        },
        {
         "source": "Switzerland",
         "target": "EUD (OEIC)",
         "value": 2199
        },
        {
         "source": "UK",
         "target": "ACRE (ND)",
         "value": 77261.17
        },
        {
         "source": "UK",
         "target": "ALDE (ELF)",
         "value": 82998
        },
        {
         "source": "UK",
         "target": "EAF (EFF)",
         "value": 11600
        },
        {
         "source": "UK",
         "target": "ECPM (SALLUX)",
         "value": 10000
        },
        {
         "source": "UK",
         "target": "EPP (WMCES)",
         "value": 10000
        },
        {
         "source": "USA",
         "target": "ACRE (ND)",
         "value": 73673.3
        },
        {
         "source": "USA",
         "target": "ALDE (ELF)",
         "value": 131580
        },
        {
         "source": "USA",
         "target": "APF (Terra Nostra)",
         "value": 4580
        },
        {
         "source": "USA",
         "target": "EAF (EFF)",
         "value": 20000
        },
        {
         "source": "USA",
         "target": "ECPM (SALLUX)",
         "value": 805
        },
        {
         "source": "USA",
         "target": "EPP (WMCES)",
         "value": 258000
        },
        {
         "source": "USA",
         "target": "PES (FEPS)",
         "value": 36000
        }
       ],
       "margins": {
        "bottom": 0,
        "left": 150,
        "right": 100,
        "top": 0
       },
       "nodes": [
        {
         "id": "Iceland"
        },
        {
         "id": "ACRE (ND)"
        },
        {
         "id": "India"
        },
        {
         "id": "Lichtenstein"
        },
        {
         "id": "Pakistan"
        },
        {
         "id": "UK"
        },
        {
         "id": "Hungary"
        },
        {
         "id": "Czech Republic"
        },
        {
         "id": "France"
        },
        {
         "id": "Lithuania"
        },
        {
         "id": "Argentina"
        },
        {
         "id": "ADDE (IDDE)"
        },
        {
         "id": "Norway"
        },
        {
         "id": "Sweden"
        },
        {
         "id": "Austria"
        },
        {
         "id": "ECPM (SALLUX)"
        },
        {
         "id": "Finland"
        },
        {
         "id": "PES (FEPS)"
        },
        {
         "id": "Denmark"
        },
        {
         "id": "EAF (EFF)"
        },
        {
         "id": "Latvia"
        },
        {
         "id": "Netherlands"
        },
        {
         "id": "Luxembourg"
        },
        {
         "id": "Malta"
        },
        {
         "id": "ALDE (ELF)"
        },
        {
         "id": "South-Korea"
        },
        {
         "id": "Belgium"
        },
        {
         "id": "USA"
        },
        {
         "id": "EPP (WMCES)"
        },
        {
         "id": "EUD (OEIC)"
        },
        {
         "id": "Georgia"
        },
        {
         "id": "Poland"
        },
        {
         "id": "Slovakia"
        },
        {
         "id": "Serbia"
        },
        {
         "id": "Monaco"
        },
        {
         "id": "APF (Terra Nostra)"
        },
        {
         "id": "Italy"
        },
        {
         "id": "EDP (IED)"
        },
        {
         "id": "Switzerland"
        },
        {
         "id": "Faroe Islands"
        },
        {
         "id": "Germany"
        },
        {
         "id": "Albania"
        }
       ],
       "order": [],
       "png": "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",
       "scale": 0.000668930960507852,
       "svg": "<?xml version=\"1.0\" standalone=\"no\"?><!DOCTYPE svg PUBLIC \"-//W3C//DTD SVG 1.1//EN\" \"http://www.w3.org/Graphics/SVG/1.1/DTD/svg11.dtd\"><svg xmlns=\"http://www.w3.org/2000/svg\" width=\"1000\" height=\"2500\" viewBox=\"0 0 1000 2500\"><g class=\"sankey\" transform=\"translate(150,0)\"><g class=\"groups\"/><g class=\"links\"><g class=\"link\" style=\"opacity: 0.8;\"><path d=\"M1,1755.575312160219 A465.59630878095135 465.59630878095135 0.3090717302002841 0 1 142.62251634534815,1777.636971094669 L607.9858326199438,1926.2294742698623 A463.59630878095135 463.59630878095135 0.3090717302002841 0 0 749,1948.1963658768295 L749,1950.1963658768295 A465.59630878095135 465.59630878095135 0.3090717302002841 0 1 607.3774836546519,1928.1347069423796 L142.01416738005608,1779.5422037671863 A463.59630878095135 463.59630878095135 0.3090717302002841 0 0 1,1757.575312160219 Z\" style=\"fill: rgb(31, 119, 180);\"/><title>Malta → ECPM (SALLUX)\n600</title><text class=\"label\" dy=\"0.35em\" x=\"5\" y=\"1756.575312160219\"/></g><g class=\"link\" style=\"opacity: 0.8;\"><path d=\"M1,716.766893470635 A999 999 0.08288496492582764 0 0 83.70730527967656,713.3373337978749 L666.1271145295734,664.952637935743 A1001 1001 0.08288496492582764 0 1 749,661.516212277652 L749,663.516212277652 A999 999 0.08288496492582764 0 0 666.2926947203234,666.9457719504121 L83.87288547042665,715.3304678125439 A1001 1001 0.08288496492582764 0 1 1,718.766893470635 Z\" style=\"fill: rgb(31, 119, 180);\"/><title>Faroe Islands → ACRE (ND)\n665</title><text class=\"label\" dy=\"0.35em\" x=\"5\" y=\"717.766893470635\"/></g><g class=\"link\" style=\"opacity: 0.8;\"><path d=\"M1,2232.025876877113 A467.59335545882175 467.59335545882175 0.30618521332885806 0 0 141.9436146274948,2210.2782834986056 L607.4535384202032,2063.1183082682146 A469.59335545882175 469.59335545882175 0.30618521332885806 0 1 749,2041.2776956321636 L749,2043.2776956321636 A467.59335545882175 467.59335545882175 0.30618521332885806 0 0 608.0563853725051,2065.0252890106713 L142.54646157979676,2212.185264241062 A469.59335545882175 469.59335545882175 0.30618521332885806 0 1 1,2234.025876877113 Z\" style=\"fill: rgb(31, 119, 180);\"/><title>Italy → APF (Terra Nostra)\n750</title><text class=\"label\" dy=\"0.35em\" x=\"5\" y=\"2233.025876877113\"/></g><g class=\"link\" style=\"opacity: 0.8;\"><path d=\"M1,2180.2386040306583 A397.86635289393246 397.86635289393246 0.3665046092568016 0 0 143.57715067771113,2153.8145627676768 L605.7061405599587,1976.4275700643677 A399.86635289393246 399.86635289393246 0.3665046092568016 0 1 749,1949.8707000709808 L749,1951.8707000709808 A397.86635289393246 397.86635289393246 0.3665046092568016 0 0 606.4228493222889,1978.2947413339623 L144.29385944004127,2155.681734037271 A399.86635289393246 399.86635289393246 0.3665046092568016 0 1 1,2182.2386040306583 Z\" style=\"fill: rgb(31, 119, 180);\"/><title>Georgia → ECPM (SALLUX)\n796</title><text class=\"label\" dy=\"0.35em\" x=\"5\" y=\"2181.2386040306583\"/></g><g class=\"link\" style=\"opacity: 0.8;\"><path d=\"M1,2103.5018786846613 A564.255763277513 564.255763277513 0.2502252109461587 0 0 140.7222323971376,2085.9290803565323 L608.7825232775389,1966.3013748465962 A566.255763277513 566.255763277513 0.2502252109461587 0 1 749,1948.6662898765865 L749,1950.6662898765865 A564.255763277513 564.255763277513 0.2502252109461587 0 0 609.2777676028624,1968.239088204716 L141.21747672246113,2087.8667937146515 A566.255763277513 566.255763277513 0.2502252109461587 0 1 1,2105.5018786846613 Z\" style=\"fill: rgb(31, 119, 180);\"/><title>USA → ECPM (SALLUX)\n805</title><text class=\"label\" dy=\"0.35em\" x=\"5\" y=\"2104.5018786846613\"/></g><g class=\"link\" style=\"opacity: 0.8;\"><path d=\"M1,2155.4443556410256 A436.9874474862899 436.9874474862899 0.3298594491637856 0 0 142.54462952705205,2131.885435366674 L606.8075503566437,1972.9367445853914 A438.9874474862899 438.9874474862899 0.3298594491637856 0 1 749,1949.270000068445 L749,1951.270000068445 A436.9874474862899 436.9874474862899 0.3298594491637856 0 0 607.455370472948,1974.8289203427962 L143.19244964335638,2133.777611124079 A438.9874474862899 438.9874474862899 0.3298594491637856 0 1 1,2157.4443556410256 Z\" style=\"fill: rgb(31, 119, 180);\"/><title>Albania → ECPM (SALLUX)\n1.00k</title><text class=\"label\" dy=\"0.35em\" x=\"5\" y=\"2156.4443556410256\"/></g><g class=\"link\" style=\"opacity: 0.8;\"><path d=\"M1,1645.552916684832 A273.8659128285513 273.8659128285513 0.5935409003812369 0 1 154.17315222039153,1692.393448447115 L596.9454473938385,1991.130214570096 A271.8659128285513 271.8659128285513 0.5935409003812369 0 0 749,2037.6286772425933 L749,2039.6286772425933 A273.8659128285513 273.8659128285513 0.5935409003812369 0 1 595.8268477796084,1992.7881454803105 L153.05455260616148,1694.0513793573293 A271.8659128285513 271.8659128285513 0.5935409003812369 0 0 1,1647.552916684832 Z\" style=\"fill: rgb(31, 119, 180);\"/><title>Switzerland → APF (Terra Nostra)\n1.00k</title><text class=\"label\" dy=\"0.35em\" x=\"5\" y=\"1646.552916684832\"/></g><g class=\"link\" style=\"opacity: 0.8;\"><path d=\"M1,1108.259838477707 A323.6128974176998 323.6128974176998 0.4722276912659902 0 1 148.20221898167537,1143.6769446319854 L602.7075236160782,1375.8253361398044 A321.6128974176998 321.6128974176998 0.4722276912659902 0 0 749,1411.023556665995 L749,1413.023556665995 A323.6128974176998 323.6128974176998 0.4722276912659902 0 1 601.7977810183246,1377.6064505117167 L147.29247638392175,1145.4580590038977 A321.6128974176998 321.6128974176998 0.4722276912659902 0 0 1,1110.259838477707 Z\" style=\"fill: rgb(31, 119, 180);\"/><title>Hungary → ALDE (ELF)\n1.20k</title><text class=\"label\" dy=\"0.35em\" x=\"5\" y=\"1109.259838477707\"/></g><g class=\"link\" style=\"opacity: 0.8;\"><path d=\"M1,1297.1933528327695 A242.23562294613492 242.23562294613492 0.757135078003276 0 0 167.37760508046142,1231.016213214738 L533.6130284263235,884.918873966633 A313.5902647979521 313.5902647979521 0.757135078003276 0 1 749,799.2481270963257 L749,801.2481270963257 A311.5902647979521 311.5902647979521 0.757135078003276 0 0 534.9867124704532,886.3724874458302 L168.7512891245911,1232.469826693935 A244.23562294613492 244.23562294613492 0.757135078003276 0 1 1,1299.1933528327695 Z\" style=\"fill: rgb(31, 119, 180);\"/><title>France → ACRE (ND)\n1.24k</title><text class=\"label\" dy=\"0.35em\" x=\"5\" y=\"1298.1933528327695\"/></g><g class=\"link\" style=\"opacity: 0.8;\"><path d=\"M1,839.5561465386527 A573.8554934164171 573.8554934164171 0.2457994897039053 0 0 140.63732572597982,822.307825720915 L608.876010550041,704.8397064276982 A575.8554934164171 575.8554934164171 0.2457994897039053 0 1 749,687.5312717972824 L749,689.5312717972824 A573.8554934164171 573.8554934164171 0.2457994897039053 0 0 609.3626742740203,706.7795926150201 L141.12398944995905,824.247711908237 A575.8554934164171 575.8554934164171 0.2457994897039053 0 1 1,841.5561465386527 Z\" style=\"fill: rgb(31, 119, 180);\"/><title>Finland → ACRE (ND)\n1.30k</title><text class=\"label\" dy=\"0.35em\" x=\"5\" y=\"840.5561465386527\"/></g><g class=\"link\" style=\"opacity: 0.8;\"><path d=\"M1,1382.307614422497 A227.40282893146184 227.40282893146184 0.8876356744993106 0 1 177.36941399579368,1466.1629724155543 L574.1817488883669,1953.7059330389172 A225.40282893146184 225.40282893146184 0.8876356744993106 0 0 749,2036.8237860643621 L749,2038.8237860643621 A227.40282893146184 227.40282893146184 0.8876356744993106 0 1 572.6305860042064,1954.9684280713047 L175.81825111163315,1467.4254674479419 A225.40282893146184 225.40282893146184 0.8876356744993106 0 0 1,1384.307614422497 Z\" style=\"fill: rgb(31, 119, 180);\"/><title>Germany → APF (Terra Nostra)\n1.41k</title><text class=\"label\" dy=\"0.35em\" x=\"5\" y=\"1383.307614422497\"/></g><g class=\"link\" style=\"opacity: 0.8;\"><path d=\"M1,915.6539525116847 A1001 1001 0.13039068173434099 0 1 131.15153935484702,924.1512689870688 L619.108503680827,988.1393579869 A999 999 0.13039068173434099 0 0 749,996.6196968069886 L749,998.6196968069886 A1001 1001 0.13039068173434099 0 1 618.848460645153,990.1223803316045 L130.891496319173,926.1342913317733 A999 999 0.13039068173434099 0 0 1,917.6539525116847 Z\" style=\"fill: rgb(31, 119, 180);\"/><title>Sweden → EUD (OEIC)\n1.54k</title><text class=\"label\" dy=\"0.35em\" x=\"5\" y=\"916.6539525116847\"/></g><g class=\"link\" style=\"opacity: 0.8;\"><path d=\"M1,1407.640519468079 A1001 1001 0.05986677146000363 0 1 60.890848164250094,1409.4337909548212 L689.2288138700441,1447.0953605040104 A999 999 0.05986677146000363 0 0 749,1448.8850490307393 L749,1450.8850490307393 A1001 1001 0.05986677146000363 0 1 689.1091518357499,1449.091777543997 L60.771186129955886,1411.430207994808 A999 999 0.05986677146000363 0 0 1,1409.640519468079 Z\" style=\"fill: rgb(31, 119, 180);\"/><title>Serbia → ALDE (ELF)\n2.00k</title><text class=\"label\" dy=\"0.35em\" x=\"5\" y=\"1408.640519468079\"/></g><g class=\"link\" style=\"opacity: 0.8;\"><path d=\"M1,1612.374275509123 A229.04104541237993 229.04104541237993 0.8319944574724523 0 0 170.32452808233833,1537.570076126767 L578.1969200906084,1089.7989885283407 A231.04104541237993 231.04104541237993 0.8319944574724523 0 1 749,1014.3415944380434 L749,1016.3415944380434 A229.04104541237993 229.04104541237993 0.8319944574724523 0 0 579.6754719176616,1091.1457938203996 L171.80307990939164,1538.9168814188258 A231.04104541237993 231.04104541237993 0.8319944574724523 0 1 1,1614.374275509123 Z\" style=\"fill: rgb(31, 119, 180);\"/><title>Switzerland → EUD (OEIC)\n2.20k</title><text class=\"label\" dy=\"0.35em\" x=\"5\" y=\"1613.374275509123\"/></g><g class=\"link\" style=\"opacity: 0.8;\"><path d=\"M1,874.1539126200083 A711.5595942340173 711.5595942340173 0.1968986954907741 0 1 140.20161740369699,887.9026686903625 L610.1896403870254,981.6574362887139 A709.5595942340173 709.5595942340173 0.1968986954907741 0 0 749,995.3675483545975 L749,997.3675483545975 A711.5595942340173 711.5595942340173 0.1968986954907741 0 1 609.798382596303,983.6187922842433 L139.8103596129745,889.8640246858919 A709.5595942340173 709.5595942340173 0.1968986954907741 0 0 1,876.1539126200083 Z\" style=\"fill: rgb(31, 119, 180);\"/><title>Slovakia → EUD (OEIC)\n2.21k</title><text class=\"label\" dy=\"0.35em\" x=\"5\" y=\"875.1539126200083\"/></g><g class=\"link\" style=\"opacity: 0.8;\"><path d=\"M1,1215.4730583844414 A443.32304586548116 443.32304586548116 0.324645159554932 0 0 142.4078606712172,1192.3156226488675 L606.9541943268704,1035.9713106891304 A445.32304586548116 445.32304586548116 0.324645159554932 0 1 749,1012.7094028944043 L749,1014.7094028944043 A443.32304586548116 443.32304586548116 0.324645159554932 0 0 607.5921393287828,1037.8668386299782 L143.04580567312954,1194.2111505897153 A445.32304586548116 445.32304586548116 0.324645159554932 0 1 1,1217.4730583844414 Z\" style=\"fill: rgb(31, 119, 180);\"/><title>Denmark → EUD (OEIC)\n2.68k</title><text class=\"label\" dy=\"0.35em\" x=\"5\" y=\"1216.4730583844414\"/></g><g class=\"link\" style=\"opacity: 0.8;\"><path d=\"M1,691.3441326576457 A325.64756471666175 325.64756471666175 0.46850353370437947 0 1 148.04667135632653,726.4342799007263 L602.8594991338056,956.6081057708487 A323.6407718351382 323.6407718351382 0.46850353370437947 0 0 749,991.4820110845285 L749,993.488803966052 A325.64756471666175 325.64756471666175 0.46850353370437947 0 1 601.9533286436734,958.3986567229714 L147.14050086619446,728.224830852849 A323.6407718351382 323.6407718351382 0.46850353370437947 0 0 1,693.3509255391692 Z\" style=\"fill: rgb(31, 119, 180);\"/><title>Belgium → EUD (OEIC)\n3.00k</title><text class=\"label\" dy=\"0.35em\" x=\"5\" y=\"692.3475290984074\"/></g><g class=\"link\" style=\"opacity: 0.8;\"><path d=\"M1,1217.3697603370022 A455.1065978748048 455.1065978748048 0.3169300719912629 0 1 142.83442564617548,1240.0355979557937 L607.79099335911,1392.5347464933632 A453.0998049932812 453.0998049932812 0.3169300719912629 0 0 749,1415.100639084331 L749,1417.1074319658549 A455.1065978748048 455.1065978748048 0.3169300719912629 0 1 607.1655743538245,1394.4415943470633 L142.20900664088998,1241.9424458094938 A453.0998049932812 453.0998049932812 0.3169300719912629 0 0 1,1219.376553218526 Z\" style=\"fill: rgb(31, 119, 180);\"/><title>Denmark → ALDE (ELF)\n3.00k</title><text class=\"label\" dy=\"0.35em\" x=\"5\" y=\"1218.373156777764\"/></g><g class=\"link\" style=\"opacity: 0.8;\"><path d=\"M1,1298.6070866318435 A228.04514894807724 228.04514894807724 0.8755618629103229 0 1 176.11667565753103,1380.5743800870166 L575.1412944870241,1858.9211118291767 A226.40696122032287 226.40696122032287 0.8755618629103229 0 0 749,1940.2995841020752 L749,1942.306376983599 A228.41375410184642 228.41375410184642 0.8755618629103229 0 1 573.6002711424511,1860.2065941203089 L174.57565231295806,1381.8598623781488 A226.0383560665537 226.0383560665537 0.8755618629103229 0 0 1,1300.6138795133672 Z\" style=\"fill: rgb(31, 119, 180);\"/><title>France → ECPM (SALLUX)\n3.00k</title><text class=\"label\" dy=\"0.35em\" x=\"5\" y=\"1299.6104830726053\"/></g><g class=\"link\" style=\"opacity: 0.8;\"><path d=\"M1,379.4615291877452 A973.0887199390941 973.0887199390941 0.14272422669635088 0 1 139.41230140382075,389.35572480020954 L610.8731451494903,457.10525903914805 A971.0819270575705 971.0819270575705 0.14272422669635088 0 0 749,466.9790499331971 L749,468.9858428147206 A973.0887199390941 973.0887199390941 0.14272422669635088 0 1 610.5876985961793,459.0916472022563 L139.12685485050972,391.3421129633178 A971.0819270575705 971.0819270575705 0.14272422669635088 0 0 1,381.46832206926877 Z\" style=\"fill: rgb(31, 119, 180);\"/><title>Lithuania → ACRE (ND)\n3.00k</title><text class=\"label\" dy=\"0.35em\" x=\"5\" y=\"380.464925628507\"/></g><g class=\"link\" style=\"opacity: 0.8;\"><path d=\"M1,840.9909516629829 A574.2845212351956 574.2845212351956 0.24654467275370084 0 1 141.15676735177328,858.3564555394257 L609.365650773958,976.1880279950748 A572.1439421615705 572.1439421615705 0.24654467275370084 0 0 749,993.488803966052 L749,995.6293830396771 A574.2845212351956 574.2845212351956 0.24654467275370084 0 1 608.8432326482267,978.2638791632343 L140.63434922604205,860.4323067075852 A572.1439421615705 572.1439421615705 0.24654467275370084 0 0 1,843.1315307366079 Z\" style=\"fill: rgb(31, 119, 180);\"/><title>Finland → EUD (OEIC)\n3.20k</title><text class=\"label\" dy=\"0.35em\" x=\"5\" y=\"842.0612411997954\"/></g><g class=\"link\" style=\"opacity: 0.8;\"><path d=\"M1,1433.5029988156837 A1001.2040757289142 1001.2040757289142 0.023531541190577432 0 1 24.557700693323643,1433.780186108568 L725.4989615922613,1450.2774594045818 A998.7959242710858 998.7959242710858 0.023531541190577432 0 0 749,1450.5539799912472 L749,1452.9621314490755 A1001.2040757289142 1001.2040757289142 0.023531541190577432 0 1 725.4422993066763,1452.6849441561912 L24.50103840773875,1436.1876708601774 A998.7959242710858 998.7959242710858 0.023531541190577432 0 0 1,1435.911150273512 Z\" style=\"fill: rgb(31, 119, 180);\"/><title>South-Korea → ALDE (ELF)\n3.60k</title><text class=\"label\" dy=\"0.35em\" x=\"5\" y=\"1434.7070745445978\"/></g><g class=\"link\" style=\"opacity: 0.8;\"><path d=\"M1,1184.6934984397053 A404.0264369863109 404.0264369863109 0.3625411054250969 0 1 144.2885034778238,1210.9557675183926 L606.6604454768645,1386.3365718602668 A401.3507131442795 401.3507131442795 0.3625411054250969 0 0 749,1412.4249152422997 L749,1415.100639084331 A404.0264369863109 404.0264369863109 0.3625411054250969 0 1 605.7114965221762,1388.8383700056438 L143.3395545231355,1213.4575656637696 A401.3507131442795 401.3507131442795 0.3625411054250969 0 0 1,1187.3692222817367 Z\" style=\"fill: rgb(31, 119, 180);\"/><title>Netherlands → ALDE (ELF)\n4.00k</title><text class=\"label\" dy=\"0.35em\" x=\"5\" y=\"1186.031360360721\"/></g><g class=\"link\" style=\"opacity: 0.8;\"><path d=\"M1,1100.2416658015493 A301.2474875968287 301.2474875968287 0.5234807104490935 0 0 151.59294097074468,1059.8999368862478 L576.7894167032683,814.479567115428 A344.4916157511195 344.4916157511195 0.5234807104490935 0 1 749,768.3467761431583 L749,771.1562861772912 A341.6821057169866 341.6821057169866 0.5234807104490935 0 0 578.1938844453965,816.9128400128267 L152.99740871287287,1062.3332097836465 A304.05699763096163 304.05699763096163 0.5234807104490935 0 1 1,1103.0511758356822 Z\" style=\"fill: rgb(31, 119, 180);\"/><title>Hungary → ACRE (ND)\n4.20k</title><text class=\"label\" dy=\"0.35em\" x=\"5\" y=\"1101.6464208186158\"/></g><g class=\"link\" style=\"opacity: 0.8;\"><path d=\"M1,2205.6983869400374 A366.4296655830873 366.4296655830873 0.40251769784183944 0 0 144.54371306441627,2176.412462599486 L604.3268756657384,1980.6532824911546 A369.3127580228761 369.3127580228761 0.40251769784183944 0 1 749,1951.136934593263 L749,1954.020027033052 A366.4296655830873 366.4296655830873 0.40251769784183944 0 0 605.4562869355838,1983.3059513736039 L145.6731243342617,2179.0651314819347 A369.3127580228761 369.3127580228761 0.40251769784183944 0 1 1,2208.5814793798263 Z\" style=\"fill: rgb(31, 119, 180);\"/><title>Norway → ECPM (SALLUX)\n4.31k</title><text class=\"label\" dy=\"0.35em\" x=\"5\" y=\"2207.139933159932\"/></g><g class=\"link\" style=\"opacity: 0.8;\"><path d=\"M1,2104.771123396266 A998.468148100437 998.468148100437 0.1014470812593471 0 0 102.1180280092038,2099.6376556441223 L647.5717010150407,2044.1123620286933 A1001.531851899563 1001.531851899563 0.1014470812593471 0 1 749,2038.9631427228471 L749,2042.026846521973 A998.468148100437 998.468148100437 0.1014470812593471 0 0 647.8819719907962,2047.1603142741167 L102.42829898495931,2102.6856078895457 A1001.531851899563 1001.531851899563 0.1014470812593471 0 1 1,2107.8348271953923 Z\" style=\"fill: rgb(31, 119, 180);\"/><title>USA → APF (Terra Nostra)\n4.58k</title><text class=\"label\" dy=\"0.35em\" x=\"5\" y=\"2106.302975295829\"/></g><g class=\"link\" style=\"opacity: 0.8;\"><path d=\"M1,570.9629265215991 A1001.5471102147721 1001.5471102147721 0.050712676845553695 0 1 51.76936717833467,572.2505277408945 L698.3874817721701,605.0704031719666 A998.4528897852279 998.4528897852279 0.050712676845553695 0 0 749,606.3540264236185 L749,609.4482468531628 A1001.5471102147721 1001.5471102147721 0.050712676845553695 0 1 698.2306328216653,608.1606456338674 L51.61251822782993,575.3407702027953 A998.4528897852279 998.4528897852279 0.050712676845553695 0 0 1,574.0571469511434 Z\" style=\"fill: rgb(31, 119, 180);\"/><title>Argentina → ACRE (ND)\n4.63k</title><text class=\"label\" dy=\"0.35em\" x=\"5\" y=\"572.5100367363713\"/></g><g class=\"link\" style=\"opacity: 0.8;\"><path d=\"M1,1379.4925339219806 A271.18223783730457 271.18223783730457 0.6048349049116766 0 1 155.20134641249203,1427.6013513725813 L596.7005121972373,1732.791300430527 A267.8375830347653 267.8375830347653 0.6048349049116766 0 0 749,1780.3067626945422 L749,1783.6514174970816 A271.18223783730457 271.18223783730457 0.6048349049116766 0 1 594.798653587508,1735.5426000464809 L153.29948780276263,1430.3526509885353 A267.8375830347653 267.8375830347653 0.6048349049116766 0 0 1,1382.83718872452 Z\" style=\"fill: rgb(31, 119, 180);\"/><title>Germany → EAF (EFF)\n5.00k</title><text class=\"label\" dy=\"0.35em\" x=\"5\" y=\"1381.1648613232503\"/></g><g class=\"link\" style=\"opacity: 0.8;\"><path d=\"M1,405.6618704563656 A804.6048404840446 804.6048404840446 0.1727773437696638 0 0 139.32686017819842,393.6821803956444 L610.030278964321,311.53625560250157 A808.3441645532835 808.3441645532835 0.1727773437696638 0 1 749,299.50089107758106 L749,303.24021514682 A804.6048404840446 804.6048404840446 0.1727773437696638 0 0 610.6731398218017,315.21990520754116 L139.969721035679,397.365830000684 A808.3441645532835 808.3441645532835 0.1727773437696638 0 1 1,409.4011945256045 Z\" style=\"fill: rgb(31, 119, 180);\"/><title>Poland → ADDE (IDDE)\n5.59k</title><text class=\"label\" dy=\"0.35em\" x=\"5\" y=\"407.53153249098506\"/></g><g class=\"link\" style=\"opacity: 0.8;\"><path d=\"M1,811.9757489125454 A673.73258289164 673.73258289164 0.20745802510673017 0 0 139.77078799396185,797.5293418576019 L609.4151972323615,698.6755707099497 A677.6846270063204 677.6846270063204 0.20745802510673017 0 1 749,684.144422558272 L749,688.0964666729524 A673.73258289164 673.73258289164 0.20745802510673017 0 0 610.2292120060382,702.5428737278959 L140.58480276763845,801.3966448755481 A677.6846270063204 677.6846270063204 0.20745802510673017 0 1 1,815.9277930272258 Z\" style=\"fill: rgb(31, 119, 180);\"/><title>Pakistan → ACRE (ND)\n5.91k</title><text class=\"label\" dy=\"0.35em\" x=\"5\" y=\"813.9517709698856\"/></g><g class=\"link\" style=\"opacity: 0.8;\"><path d=\"M1,1187.3692222817367 A226.40696122032287 226.40696122032287 0.9721517449555119 0 1 188.03483214232278,1286.190590057839 L565.2807917918274,1839.2164673114657 A222.39337545727577 222.39337545727577 0.9721517449555119 0 0 749,1936.285998339028 L749,1940.2995841020752 A226.40696122032287 226.40696122032287 0.9721517449555119 0 1 561.9651678576772,1841.4782163259729 L184.71920820817252,1288.4523390723461 A222.39337545727577 222.39337545727577 0.9721517449555119 0 0 1,1191.3828080447838 Z\" style=\"fill: rgb(31, 119, 180);\"/><title>Netherlands → ECPM (SALLUX)\n6.00k</title><text class=\"label\" dy=\"0.35em\" x=\"5\" y=\"1189.3760151632603\"/></g><g class=\"link\" style=\"opacity: 0.8;\"><path d=\"M1,1719.3559935175622 A222.37159153507008 222.37159153507008 0.9325657575023587 0 0 179.59801006488925,1629.4678934925735 L566.4585551018616,1107.9499086577293 A227.2815447851977 227.2815447851977 0.9325657575023587 0 1 749,1016.0770840291218 L749,1020.9870372792495 A222.37159153507008 222.37159153507008 0.9325657575023587 0 0 570.4019899351107,1110.8751373042383 L183.5414448981383,1632.3931221390824 A227.2815447851977 227.2815447851977 0.9325657575023587 0 1 1,1724.26594676769 Z\" style=\"fill: rgb(31, 119, 180);\"/><title>Malta → EUD (OEIC)\n7.34k</title><text class=\"label\" dy=\"0.35em\" x=\"5\" y=\"1721.810970142626\"/></g><g class=\"link\" style=\"opacity: 0.8;\"><path d=\"M1,374.1100815036824 A997.3242761579686 997.3242761579686 0.12837341471156005 0 0 128.6785627090976,365.9035417343376 L620.6363390083797,302.4000178557836 A1002.6757238420314 1002.6757238420314 0.12837341471156005 0 1 749,294.14944339351825 L749,299.50089107758106 A997.3242761579686 997.3242761579686 0.12837341471156005 0 0 621.3214372909025,307.7074308469259 L129.36366099162035,371.2109547254799 A1002.6757238420314 1002.6757238420314 0.12837341471156005 0 1 1,379.4615291877452 Z\" style=\"fill: rgb(31, 119, 180);\"/><title>Lithuania → ADDE (IDDE)\n8.00k</title><text class=\"label\" dy=\"0.35em\" x=\"5\" y=\"376.7858053457138\"/></g><g class=\"link\" style=\"opacity: 0.8;\"><path d=\"M1,1103.0511758356822 A1002.90365203286 1002.90365203286 0.010918580333740824 0 1 11.950066519276435,1103.1109560200518 L738.1133397368363,1111.0399431423755 A997.09634796714 997.09634796714 0.010918580333740824 0 0 749,1111.0993771701558 L749,1116.9066812358758 A1002.90365203286 1002.90365203286 0.010918580333740824 0 1 738.0499334807236,1116.8469010515062 L11.886660263163593,1108.9179139291825 A997.09634796714 997.09634796714 0.010918580333740824 0 0 1,1108.8584799014022 Z\" style=\"fill: rgb(31, 119, 180);\"/><title>Hungary → EPP (WMCES)\n8.68k</title><text class=\"label\" dy=\"0.35em\" x=\"5\" y=\"1105.9548278685422\"/></g><g class=\"link\" style=\"opacity: 0.8;\"><path d=\"M1,1324.8074279004638 A235.47967443221975 235.47967443221975 0.7895373719065016 0 0 168.1970628573313,1255.1463870489904 L527.3460538500668,893.0118360311247 A312.176530998878 312.176530998878 0.7895373719065016 0 1 749,800.6618608953999 L749,807.1839377603513 A305.6544541339264 305.6544541339264 0.7895373719065016 0 0 531.9769082886886,897.6045121356018 L172.82791729595309,1259.7390631534674 A242.0017512971713 242.0017512971713 0.7895373719065016 0 1 1,1331.3295047654153 Z\" style=\"fill: rgb(31, 119, 180);\"/><title>Germany → ACRE (ND)\n9.75k</title><text class=\"label\" dy=\"0.35em\" x=\"5\" y=\"1328.0684663329396\"/></g><g class=\"link\" style=\"opacity: 0.8;\"><path d=\"M1,1581.7559279258694 A290.19797648790393 290.19797648790393 0.5519320398197212 0 1 153.1604811486581,1624.8465319331392 L600.3469470573532,1900.2090479631602 A283.5086668828254 283.5086668828254 0.5519320398197212 0 0 749,1942.3063769835987 L749,1948.9956865886772 A290.19797648790393 290.19797648790393 0.5519320398197212 0 1 596.8395188513418,1905.9050825814074 L149.65305294264675,1630.5425665513865 A283.5086668828254 283.5086668828254 0.5519320398197212 0 0 1,1588.445237530948 Z\" style=\"fill: rgb(31, 119, 180);\"/><title>UK → ECPM (SALLUX)\n10.0k</title><text class=\"label\" dy=\"0.35em\" x=\"5\" y=\"1585.1005827284087\"/></g><g class=\"link\" style=\"opacity: 0.8;\"><path d=\"M1,1511.7870873186691 A278.6124251308409 278.6124251308409 0.5757429217324996 0 0 152.6927901591361,1466.871433348717 L575.686970817553,1192.3055197230708 A318.32207263533917 318.32207263533917 0.5757429217324996 0 1 749,1140.9881958141584 L749,1147.677505419237 A311.63276303026066 311.63276303026066 0.5757429217324996 0 0 579.3290195802961,1197.9164326436564 L156.33483892187934,1472.4823462693025 A285.3017347359194 285.3017347359194 0.5757429217324996 0 1 1,1518.4763969237476 Z\" style=\"fill: rgb(31, 119, 180);\"/><title>UK → EPP (WMCES)\n10.0k</title><text class=\"label\" dy=\"0.35em\" x=\"5\" y=\"1515.1317421212084\"/></g><g class=\"link\" style=\"opacity: 0.8;\"><path d=\"M1,917.1679356491553 A479.89682258958254 479.89682258958254 0.30063409719784184 0 1 143.10988972617395,938.6918319291749 L608.8975498504236,1083.1005201756664 A473.11781603200956 473.11781603200956 0.30063409719784184 0 0 749,1104.3203706125828 L749,1111.099377170156 A479.89682258958254 479.89682258958254 0.30063409719784184 0 1 606.890110273826,1089.5754808901363 L141.10245014957644,945.1667926436448 A473.11781603200956 473.11781603200956 0.30063409719784184 0 0 1,923.9469422067283 Z\" style=\"fill: rgb(31, 119, 180);\"/><title>Sweden → EPP (WMCES)\n10.1k</title><text class=\"label\" dy=\"0.35em\" x=\"5\" y=\"920.5574389279418\"/></g><g class=\"link\" style=\"opacity: 0.8;\"><path d=\"M1,867.3250791237048 A493.7516285233909 493.7516285233909 0.28700845405961406 0 0 140.77334364553357,847.1281814136046 L607.2193993792199,709.4530182319415 A500.84229670477407 500.84229670477407 0.28700845405961406 0 1 749,688.9660769216126 L749,696.0567451029959 A493.7516285233909 493.7516285233909 0.28700845405961406 0 0 609.2266563544664,716.2536428130961 L142.78060062078012,853.9288059947592 A500.84229670477407 500.84229670477407 0.28700845405961406 0 1 1,874.4157473050881 Z\" style=\"fill: rgb(31, 119, 180);\"/><title>Slovakia → ACRE (ND)\n10.6k</title><text class=\"label\" dy=\"0.35em\" x=\"5\" y=\"870.8704132143964\"/></g><g class=\"link\" style=\"opacity: 0.8;\"><path d=\"M1,1573.9963287839782 A435.6312490068474 435.6312490068474 0.33516880375087643 0 1 144.2915704011102,1598.2371173238266 L608.2607835662866,1759.842413413425 A427.87164986495634 427.87164986495634 0.33516880375087643 0 0 749,1783.6514174970814 L749,1791.4110166389726 A435.6312490068474 435.6312490068474 0.33516880375087643 0 1 605.7084295988898,1767.1702280991242 L141.73921643371332,1605.5649320095258 A427.87164986495634 427.87164986495634 0.33516880375087643 0 0 1,1581.7559279258694 Z\" style=\"fill: rgb(31, 119, 180);\"/><title>UK → EAF (EFF)\n11.6k</title><text class=\"label\" dy=\"0.35em\" x=\"5\" y=\"1577.8761283549238\"/></g><g class=\"link\" style=\"opacity: 0.8;\"><path d=\"M1,1068.0209458883583 A304.4452947326189 304.4452947326189 0.5180187583435625 0 1 151.74907254569132,1107.9635854141814 L602.2256601358785,1364.7055365665258 A296.4181232065247 296.4181232065247 0.5180187583435625 0 0 749,1403.595026563596 L749,1411.6221980896903 A304.4452947326189 304.4452947326189 0.5180187583435625 0 1 598.2509274543087,1371.6795585638672 L147.77433986412154,1114.9376074115228 A296.4181232065247 296.4181232065247 0.5180187583435625 0 0 1,1076.0481174144525 Z\" style=\"fill: rgb(31, 119, 180);\"/><title>Czech Republic → ALDE (ELF)\n12.0k</title><text class=\"label\" dy=\"0.35em\" x=\"5\" y=\"1072.0345316514054\"/></g><g class=\"link\" style=\"opacity: 0.8;\"><path d=\"M1,1671.0809305521827 A658.7163786796094 658.7163786796094 0.21169228328181955 0 0 139.4059981950217,1656.376234378736 L608.907375020354,1555.474638214251 A666.7435502057036 666.7435502057036 0.21169228328181955 0 1 749,1540.590749413683 L749,1548.6179209397772 A658.7163786796094 658.7163786796094 0.21169228328181955 0 0 610.5940018049782,1563.322617113224 L141.09262497964596,1664.224213277709 A666.7435502057036 666.7435502057036 0.21169228328181955 0 1 1,1679.108102078277 Z\" style=\"fill: rgb(31, 119, 180);\"/><title>India → ALDE (ELF)\n12.0k</title><text class=\"label\" dy=\"0.35em\" x=\"5\" y=\"1675.0945163152298\"/></g><g class=\"link\" style=\"opacity: 0.8;\"><path d=\"M1,742.1828614021006 A995.9864142369529 995.9864142369529 0.12734292157878646 0 0 127.48930889591516,734.1182011920629 L621.4912481034467,670.8682893150336 A1004.0135857630471 1004.0135857630471 0.12734292157878646 0 1 749,662.7386318220208 L749,670.765803348115 A995.9864142369529 995.9864142369529 0.12734292157878646 0 0 622.5106911040848,678.8304635581527 L128.50875189655338,742.080375435182 A1004.0135857630471 1004.0135857630471 0.12734292157878646 0 1 1,750.2100329281948 Z\" style=\"fill: rgb(31, 119, 180);\"/><title>Lichtenstein → ACRE (ND)\n12.0k</title><text class=\"label\" dy=\"0.35em\" x=\"5\" y=\"746.1964471651477\"/></g><g class=\"link\" style=\"opacity: 0.8;\"><path d=\"M1,1176.666326913611 A995.9864142369529 995.9864142369529 0.09067231428762001 0 0 91.18469943324355,1172.5748956928637 L658.088455259399,1121.0310874246818 A1004.0135857630471 1004.0135857630471 0.09067231428762001 0 1 749,1116.9066812358758 L749,1124.93385276197 A995.9864142369529 995.9864142369529 0.09067231428762001 0 0 658.8153005667565,1129.0252839827174 L91.911544740601,1180.5690922508993 A1004.0135857630471 1004.0135857630471 0.09067231428762001 0 1 1,1184.6934984397053 Z\" style=\"fill: rgb(31, 119, 180);\"/><title>Netherlands → EPP (WMCES)\n12.0k</title><text class=\"label\" dy=\"0.35em\" x=\"5\" y=\"1180.6799126766582\"/></g><g class=\"link\" style=\"opacity: 0.8;\"><path d=\"M1,908.1127978481198 A423.5656521418294 423.5656521418294 0.338823984849169 0 0 141.78397549423156,884.031480716279 L605.5479679395594,720.5944374442382 A431.5928236679236 431.5928236679236 0.338823984849169 0 1 749,696.0567451029958 L749,704.08391662909 A423.5656521418294 423.5656521418294 0.338823984849169 0 0 608.2160245057685,728.1652337609308 L144.45203206044064,891.6022770329716 A431.5928236679236 431.5928236679236 0.338823984849169 0 1 1,916.139969374214 Z\" style=\"fill: rgb(31, 119, 180);\"/><title>Sweden → ACRE (ND)\n12.0k</title><text class=\"label\" dy=\"0.35em\" x=\"5\" y=\"912.126383611167\"/></g><g class=\"link\" style=\"opacity: 0.8;\"><path d=\"M1,900.0856263220256 A227.60729669382278 227.60729669382278 0.8194147665354754 0 0 167.3232231110204,827.8542188846495 L569.6458940031771,397.18506118171825 A245.4395871683259 245.4395871683259 0.8194147665354754 0 1 749,319.2945581990084 L749,327.3217297251026 A237.41241564223168 237.41241564223168 0.8194147665354754 0 0 575.5117210661863,402.66480164785406 L173.18905017402966,833.3339593507853 A235.63446821991698 235.63446821991698 0.8194147665354754 0 1 1,908.1127978481198 Z\" style=\"fill: rgb(31, 119, 180);\"/><title>Sweden → ADDE (IDDE)\n12.0k</title><text class=\"label\" dy=\"0.35em\" x=\"5\" y=\"904.0992120850727\"/></g><g class=\"link\" style=\"opacity: 0.8;\"><path d=\"M1,1243.5701016056225 A247.55907476194054 247.55907476194054 0.6999008128403988 0 0 160.4631533570965,1185.3704686954131 L540.5421990337136,865.2987439593111 A323.62096978327463 323.62096978327463 0.6999008128403988 0 1 749,789.2174221110032 L749,799.8343932972515 A313.0039985970262 313.0039985970262 0.6999008128403988 0 0 547.381034192912,873.4197297883185 L167.30198851629498,1193.4914545244208 A258.1760459481889 258.1760459481889 0.6999008128403988 0 1 1,1254.187072791871 Z\" style=\"fill: rgb(31, 119, 180);\"/><title>Latvia → ACRE (ND)\n15.9k</title><text class=\"label\" dy=\"0.35em\" x=\"5\" y=\"1248.8785871987468\"/></g><g class=\"link\" style=\"opacity: 0.8;\"><path d=\"M1,679.9723063290122 A994.3140868356833 994.3140868356833 0.041070939972758236 0 0 41.825934233910786,679.1338087122122 L707.7071454639846,651.7700537973581 A1005.6859131643167 1005.6859131643167 0.041070939972758236 0 1 749,650.9219664046497 L749,662.2937927332831 A994.3140868356833 994.3140868356833 0.041070939972758236 0 0 708.1740657660893,663.1322903500832 L42.292854536015454,690.4960452649373 A1005.6859131643167 1005.6859131643167 0.041070939972758236 0 1 1,691.3441326576457 Z\" style=\"fill: rgb(31, 119, 180);\"/><title>Belgium → ACRE (ND)\n17.0k</title><text class=\"label\" dy=\"0.35em\" x=\"5\" y=\"685.6582194933289\"/></g><g class=\"link\" style=\"opacity: 0.8;\"><path d=\"M1,774.4035813152916 A818.6537267960555 818.6537267960555 0.16872086875134773 0 0 138.4695771184997,762.7789988281213 L609.2838648252052,682.5803573183218 A832.0323460062125 832.0323460062125 0.16872086875134773 0 1 749,670.765803348115 L749,684.144422558272 A818.6537267960555 818.6537267960555 0.16872086875134773 0 0 611.5304228815003,695.7690050454423 L140.71613517479486,775.9676465552418 A832.0323460062125 832.0323460062125 0.16872086875134773 0 1 1,787.7822005254486 Z\" style=\"fill: rgb(31, 119, 180);\"/><title>Luxembourg → ACRE (ND)\n20.0k</title><text class=\"label\" dy=\"0.35em\" x=\"5\" y=\"781.0928909203701\"/></g><g class=\"link\" style=\"opacity: 0.8;\"><path d=\"M1,2090.8540147629 A465.51244674777956 465.51244674777956 0.4149921323627799 0 0 188.68657939405617,2051.3410820905037 L596.4462563136436,1871.6905978828622 A378.37370531895544 378.37370531895544 0.4149921323627799 0 1 749,1839.5740457955378 L749,1852.9526650056948 A364.99508610879843 364.99508610879843 0.4149921323627799 0 0 601.84028453805,1883.933633106396 L194.08060761846255,2063.584117314038 A478.8910659579366 478.8910659579366 0.4149921323627799 0 1 1,2104.232633973057 Z\" style=\"fill: rgb(31, 119, 180);\"/><title>USA → EAF (EFF)\n20.0k</title><text class=\"label\" dy=\"0.35em\" x=\"5\" y=\"2097.5433243679786\"/></g><g class=\"link\" style=\"opacity: 0.8;\"><path d=\"M1,1053.341924890974 A992.6604895013079 992.6604895013079 0.08281261090316971 0 0 83.11087997401727,1049.9400723531594 L665.6749009208606,1001.5858375617654 A1007.3395104986921 1007.3395104986921 0.08281261090316971 0 1 749,998.1336799444592 L749,1012.8127009418434 A992.6604895013079 992.6604895013079 0.08281261090316971 0 0 666.8891200259827,1016.214553479658 L84.32509907913932,1064.5687882710522 A1007.3395104986921 1007.3395104986921 0.08281261090316971 0 1 1,1068.0209458883583 Z\" style=\"fill: rgb(31, 119, 180);\"/><title>Czech Republic → EUD (OEIC)\n21.9k</title><text class=\"label\" dy=\"0.35em\" x=\"5\" y=\"1060.6814353896661\"/></g><g class=\"link\" style=\"opacity: 0.8;\"><path d=\"M1,663.9179632768238 A278.76308996277294 278.76308996277294 0.5521027574962369 0 0 147.20530982941762,622.5003339895756 L594.3745288057245,347.04314167365123 A294.81743301496135 294.81743301496135 0.5521027574962369 0 1 749,303.24021514681993 L749,319.29455819900835 A278.76308996277294 278.76308996277294 0.5521027574962369 0 0 602.7946901705824,360.71218748625665 L155.62547119427558,636.169379802181 A294.81743301496135 294.81743301496135 0.5521027574962369 0 1 1,679.9723063290122 Z\" style=\"fill: rgb(31, 119, 180);\"/><title>Belgium → ADDE (IDDE)\n24.0k</title><text class=\"label\" dy=\"0.35em\" x=\"5\" y=\"671.945134802918\"/></g><g class=\"link\" style=\"opacity: 0.8;\"><path d=\"M1,1331.3295047654153 A429.5570212522569 429.5570212522569 0.3301973672681986 0 0 140.2751612622016,1308.124134134267 L604.5195432661195,1149.006505179549 A445.6113643044453 445.6113643044453 0.3301973672681986 0 1 749,1124.93385276197 L749,1140.9881958141584 A429.5570212522569 429.5570212522569 0.3301973672681986 0 0 609.7248387377984,1164.1935664453067 L145.4804567338805,1323.3111954000246 A445.6113643044453 445.6113643044453 0.3301973672681986 0 1 1,1347.3838478176037 Z\" style=\"fill: rgb(31, 119, 180);\"/><title>Germany → EPP (WMCES)\n24.0k</title><text class=\"label\" dy=\"0.35em\" x=\"5\" y=\"1339.3566762915095\"/></g><g class=\"link\" style=\"opacity: 0.8;\"><path d=\"M1,1679.108102078277 A772.1871403792878 772.1871403792878 0.1826361753413035 0 1 141.24658425362105,1691.950870402083 L611.669246194422,1778.8352589886529 A756.1327973270994 756.1327973270994 0.1826361753413035 0 0 749,1791.4110166389726 L749,1807.465359691161 A772.1871403792878 772.1871403792878 0.1826361753413035 0 1 608.7534157463789,1794.622591367355 L138.3307538055779,1707.738202780785 A756.1327973270994 756.1327973270994 0.1826361753413035 0 0 1,1695.1624451304654 Z\" style=\"fill: rgb(31, 119, 180);\"/><title>India → EAF (EFF)\n24.0k</title><text class=\"label\" dy=\"0.35em\" x=\"5\" y=\"1687.1352736043712\"/></g><g class=\"link\" style=\"opacity: 0.8;\"><path d=\"M1,2233.276725987304 A0 0 0 0 0 1,2233.276725987304 L749,2233.2767259873035 A0 0 0 0 1 749,2233.2767259873035 L749,2250 A0 0 0 0 0 749,2250 L1,2250.0000000000005 A0 0 0 0 1 1,2250.0000000000005 Z\" style=\"fill: rgb(31, 119, 180);\"/><title>Italy → EDP (IED)\n25.0k</title><text class=\"label\" dy=\"0.35em\" x=\"5\" y=\"2241.638362993652\"/></g><g class=\"link\" style=\"opacity: 0.8;\"><path d=\"M1,1158.6051909798991 A265.69752328724155 265.69752328724155 0.6071494027361433 0 0 152.58804909304183,1111.1191184763868 L554.0605697229411,832.2224980278583 A341.6821057169866 341.6821057169866 0.6071494027361433 0 1 749,771.1562861772912 L749,789.2174221110032 A323.62096978327463 323.62096978327463 0.6071494027361433 0 0 564.3649652126791,847.0557062043482 L162.89244458277994,1125.9523266528765 A283.7586592209535 283.7586592209535 0.6071494027361433 0 1 1,1176.6663269136113 Z\" style=\"fill: rgb(31, 119, 180);\"/><title>Netherlands → ACRE (ND)\n27.0k</title><text class=\"label\" dy=\"0.35em\" x=\"5\" y=\"1167.6357589467552\"/></g><g class=\"link\" style=\"opacity: 0.8;\"><path d=\"M1,1254.1870727918708 A251.3325738814991 251.3325738814991 0.739492188058823 0 1 170.37624401231835,1319.832407859878 L583.6865912073738,1696.8370672357448 A245.30384866695613 245.30384866695613 0.739492188058823 0 0 749,1760.9077648398145 L749,1780.3067626945424 A264.70284652168385 264.70284652168385 0.739492188058823 0 1 570.61335782782,1711.1692578140007 L157.30301063276448,1334.164598438134 A231.93357602677136 231.93357602677136 0.739492188058823 0 0 1,1273.5860706465987 Z\" style=\"fill: rgb(31, 119, 180);\"/><title>Latvia → EAF (EFF)\n29.0k</title><text class=\"label\" dy=\"0.35em\" x=\"5\" y=\"1263.8865717192348\"/></g><g class=\"link\" style=\"opacity: 0.8;\"><path d=\"M1,296.93720104436375 A989.2971046318744 989.2971046318744 0.03386533317312801 0 0 34.49647256695393,296.36996222952894 L714.778751752602,273.3231650300764 A1010.7028953681256 1010.7028953681256 0.03386533317312801 0 1 749,272.743652657267 L749,294.1494433935182 A989.2971046318744 989.2971046318744 0.03386533317312801 0 0 715.5035274330461,294.716682208353 L35.22124824739789,317.76347940780556 A1010.7028953681256 1010.7028953681256 0.03386533317312801 0 1 1,318.34299178061497 Z\" style=\"fill: rgb(31, 119, 180);\"/><title>Iceland → ADDE (IDDE)\n32.0k</title><text class=\"label\" dy=\"0.35em\" x=\"5\" y=\"307.64009641248936\"/></g><g class=\"link\" style=\"opacity: 0.8;\"><path d=\"M1,249.99999999999997 A0 0 0 0 0 1,249.99999999999997 L749,249.99999999999997 A0 0 0 0 0 749,249.99999999999997 L749,272.7436526572669 A0 0 0 0 0 749,272.7436526572669 L1,272.7436526572669 A0 0 0 0 0 1,272.7436526572669 Z\" style=\"fill: rgb(31, 119, 180);\"/><title>Monaco → ADDE (IDDE)\n34.0k</title><text class=\"label\" dy=\"0.35em\" x=\"5\" y=\"261.37182632863346\"/></g><g class=\"link\" style=\"opacity: 0.8;\"><path d=\"M1,2107.834827195392 A1012.0407572891413 1012.0407572891413 0.024926009931923954 0 1 26.223525857156993,2108.149204400613 L724.3766680592144,2125.5549814775422 A987.9592427108587 987.9592427108587 0.024926009931923954 0 0 749,2125.8618780756874 L749,2149.94339265397 A1012.0407572891413 1012.0407572891413 0.024926009931923954 0 1 723.776474142843,2149.6290154487488 L25.623331940785626,2132.2232383718197 A987.9592427108587 987.9592427108587 0.024926009931923954 0 0 1,2131.9163417736745 Z\" style=\"fill: rgb(31, 119, 180);\"/><title>USA → PES (FEPS)\n36.0k</title><text class=\"label\" dy=\"0.35em\" x=\"5\" y=\"2119.875584484533\"/></g><g class=\"link\" style=\"opacity: 0.8;\"><path d=\"M1,1133.8547454411087 A212.66197010344115 212.66197010344115 1.0189300539481914 0 0 182.09178195542654,1032.6866318342709 L546.8320365127736,440.26419059708746 A237.41241564223168 237.41241564223168 1.0189300539481914 0 1 749,327.3217297251026 L749,352.0721752638931 A212.66197010344115 212.66197010344115 1.0189300539481914 0 0 567.9082180445735,453.2402888707311 L203.16796348722636,1045.6627301079143 A237.41241564223168 237.41241564223168 1.0189300539481914 0 1 1,1158.6051909798994 Z\" style=\"fill: rgb(31, 119, 180);\"/><title>Netherlands → ADDE (IDDE)\n37.0k</title><text class=\"label\" dy=\"0.35em\" x=\"5\" y=\"1146.229968210504\"/></g><g class=\"link\" style=\"opacity: 0.8;\"><path d=\"M1,318.342991780615 A750.2758903681265 750.2758903681265 0.19026057193863877 0 1 142.8882534258912,331.8817273863154 L613.0827696232873,422.4365178464136 A718.702349032156 718.702349032156 0.19026057193863877 0 0 749,435.40550859722646 L749,466.9790499331971 A750.2758903681265 750.2758903681265 0.19026057193863877 0 1 607.1117465741088,453.4403143274967 L136.91723037671267,362.8855238673985 A718.702349032156 718.702349032156 0.19026057193863877 0 0 1,349.91653311658564 Z\" style=\"fill: rgb(31, 119, 180);\"/><title>Iceland → ACRE (ND)\n47.2k</title><text class=\"label\" dy=\"0.35em\" x=\"5\" y=\"334.12976244860033\"/></g><g class=\"link\" style=\"opacity: 0.8;\"><path d=\"M1,1347.3838478176037 A1016.0543430521884 1016.0543430521884 0.10864114365314625 0 1 111.1682895342745,1353.374145367574 L642.3131768375792,1411.3064358888014 A983.9456569478116 983.9456569478116 0.10864114365314625 0 0 749,1417.1074319658546 L749,1449.2161180702315 A1016.0543430521884 1016.0543430521884 0.10864114365314625 0 1 638.8317104657256,1443.225820520261 L107.68682316242077,1385.2935299990338 A983.9456569478116 983.9456569478116 0.10864114365314625 0 0 1,1379.4925339219806 Z\" style=\"fill: rgb(31, 119, 180);\"/><title>Germany → ALDE (ELF)\n48.0k</title><text class=\"label\" dy=\"0.35em\" x=\"5\" y=\"1363.4381908697922\"/></g><g class=\"link\" style=\"opacity: 0.8;\"><path d=\"M1,1724.26594676769 A1016.0543430521884 1016.0543430521884 0.13493004898583139 0 1 137.68064234457498,1733.5011253005052 L616.6386500944527,1798.522025241938 A983.9456569478116 983.9456569478116 0.13493004898583139 0 0 749,1807.465359691161 L749,1839.5740457955378 A1016.0543430521884 1016.0543430521884 0.13493004898583139 0 1 612.3193576554249,1830.3388672627225 L133.3613499055473,1765.3179673212896 A983.9456569478116 983.9456569478116 0.13493004898583139 0 0 1,1756.3746328720667 Z\" style=\"fill: rgb(31, 119, 180);\"/><title>Malta → EAF (EFF)\n48.0k</title><text class=\"label\" dy=\"0.35em\" x=\"5\" y=\"1740.3202898198783\"/></g><g class=\"link\" style=\"opacity: 0.8;\"><path d=\"M1,1614.1097651002012 A794.3313820609031 794.3313820609031 0.171920310097891 0 0 136.8899745659338,1602.3997853400876 L607.6170427361538,1520.6653871584201 A826.44006816528 826.44006816528 0.171920310097891 0 1 749,1508.482063309306 L749,1540.590749413683 A794.3313820609031 794.3313820609031 0.171920310097891 0 0 613.1100254340662,1552.3007291737965 L142.38295726384615,1634.035127355464 A826.44006816528 826.44006816528 0.171920310097891 0 1 1,1646.218451204578 Z\" style=\"fill: rgb(31, 119, 180);\"/><title>Switzerland → ALDE (ELF)\n48.0k</title><text class=\"label\" dy=\"0.35em\" x=\"5\" y=\"1630.1641081523896\"/></g><g class=\"link\" style=\"opacity: 0.8;\"><path d=\"M1,923.9469422067283 A245.30384866695613 245.30384866695613 1.0106520022497159 0 1 208.81613159026247,1038.9187778389753 L575.8661462886679,1624.1849175897478 A204.3652738838756 204.3652738838756 1.0106520022497159 0 0 749,1719.9691900567339 L749,1760.9077648398145 A245.30384866695613 245.30384866695613 1.0106520022497159 0 1 541.1838684097376,1645.9359292075674 L174.13385371133208,1060.669789456795 A204.3652738838756 204.3652738838756 1.0106520022497159 0 0 1,964.8855169898089 Z\" style=\"fill: rgb(31, 119, 180);\"/><title>Sweden → EAF (EFF)\n61.2k</title><text class=\"label\" dy=\"0.35em\" x=\"5\" y=\"944.4162295982686\"/></g><g class=\"link\" style=\"opacity: 0.8;\"><path d=\"M1,598.2506953382402 A1020.7368597757434 1020.7368597757434 0.015281007567578886 0 1 16.597280644135104,598.3698687390346 L734.0364549136685,609.3339156055199 A979.2631402242566 979.2631402242566 0.015281007567578886 0 0 749,609.4482468531628 L749,650.9219664046495 A1020.7368597757434 1020.7368597757434 0.015281007567578886 0 1 733.4027193558649,650.8027930038552 L15.963545086331486,639.8387461373699 A979.2631402242566 979.2631402242566 0.015281007567578886 0 0 1,639.724414889727 Z\" style=\"fill: rgb(31, 119, 180);\"/><title>Austria → ACRE (ND)\n62.0k</title><text class=\"label\" dy=\"0.35em\" x=\"5\" y=\"618.9875551139836\"/></g><g class=\"link\" style=\"opacity: 0.8;\"><path d=\"M1,1780.9695398354681 A155.6279718203474 155.6279718203474 1.0694056206176397 0 0 137.47249876868173,1700.1434576486522 L526.2880929596292,990.7678528419792 A253.97206547586595 253.97206547586595 1.0694056206176397 0 1 749,858.8663264184119 L749,908.1486777511949 A204.6897141430828 204.6897141430828 1.0694056206176397 0 0 569.5045247675623,1014.4551949190916 L180.68893057661487,1723.8307997257643 A204.91032315313055 204.91032315313055 1.0694056206176397 0 1 1,1830.2518911682512 Z\" style=\"fill: rgb(31, 119, 180);\"/><title>USA → ACRE (ND)\n73.7k</title><text class=\"label\" dy=\"0.35em\" x=\"5\" y=\"1805.6107155018597\"/></g><g class=\"link\" style=\"opacity: 0.8;\"><path d=\"M1,1460.1046986606086 A200.63564154045298 200.63564154045298 0.920020878028219 0 0 160.62857911769933,1381.0148402029658 L505.81695515421575,927.6718397542064 A305.6544541339264 305.6544541339264 0.920020878028219 0 1 749,807.1839377603515 L749,858.866326418412 A253.97206547586597 253.97206547586597 0.920020878028219 0 0 546.9362009848799,958.9812140647899 L201.74782494836344,1412.3242145135496 A252.31803019851338 252.31803019851338 0.920020878028219 0 1 1,1511.7870873186691 Z\" style=\"fill: rgb(31, 119, 180);\"/><title>UK → ACRE (ND)\n77.3k</title><text class=\"label\" dy=\"0.35em\" x=\"5\" y=\"1485.9458929896389\"/></g><g class=\"link\" style=\"opacity: 0.8;\"><path d=\"M1,1518.4763969237476 A972.2400340698847 972.2400340698847 0.10091461358886678 0 0 98.9467852125292,1513.530067534474 L645.4599470239903,1458.1909218161195 A1027.7599659301154 1027.7599659301154 0.10091461358886678 0 1 749,1452.9621314490755 L749,1508.4820633093063 A972.2400340698847 972.2400340698847 0.10091461358886678 0 0 651.0532147874708,1513.42839269858 L104.5400529760097,1568.7675384169345 A1027.7599659301154 1027.7599659301154 0.10091461358886678 0 1 1,1573.9963287839785 Z\" style=\"fill: rgb(31, 119, 180);\"/><title>UK → ALDE (ELF)\n83.0k</title><text class=\"label\" dy=\"0.35em\" x=\"5\" y=\"1546.236362853863\"/></g><g class=\"link\" style=\"opacity: 0.8;\"><path d=\"M1,989.0790653769056 A305.09864466262763 305.09864466262763 0.45481159666611015 0 0 135.02772046039362,958.0638990984428 L569.4369914249962,745.6363398836551 A408.7544752651878 408.7544752651878 0.45481159666611015 0 1 749,704.08391662909 L749,768.3467761431584 A344.4916157511195 344.4916157511195 0.45481159666611015 0 0 597.6672203087107,803.3664818382525 L163.25794934410825,1015.7940410530402 A369.3615041766959 369.3615041766959 0.45481159666611015 0 1 1,1053.341924890974 Z\" style=\"fill: rgb(31, 119, 180);\"/><title>Czech Republic → ACRE (ND)\n96.1k</title><text class=\"label\" dy=\"0.35em\" x=\"5\" y=\"1021.2104951339398\"/></g><g class=\"link\" style=\"opacity: 0.8;\"><path d=\"M1,2002.8360789792769 A377.49451096415635 377.49451096415635 0.7587019522138518 0 0 260.7086710877626,1899.3005283903854 L544.731134257527,1630.051819138996 A296.91105520539236 296.91105520539236 0.7587019522138518 0 1 749,1548.6179209397772 L749,1636.6358567234004 A208.89311942176917 208.89311942176917 0.7587019522138518 0 0 605.2857131197964,1693.9290451152642 L321.2632499500319,1963.1777543666535 A465.51244674777956 465.51244674777956 0.7587019522138518 0 1 1,2090.8540147629 Z\" style=\"fill: rgb(31, 119, 180);\"/><title>USA → ALDE (ELF)\n132k</title><text class=\"label\" dy=\"0.35em\" x=\"5\" y=\"2046.8450468710885\"/></g><g class=\"link\" style=\"opacity: 0.8;\"><path d=\"M1,409.4011945256044 A1068.6840918044488 1068.6840918044488 0.09036631144281992 0 1 97.44165609242548,413.7617006447364 L664.954912007771,465.1858342362503 A931.3159081955511 931.3159081955511 0.09036631144281992 0 0 749,468.9858428147206 L749,606.3540264236185 A1068.6840918044488 1068.6840918044488 0.09036631144281992 0 1 652.5583439075746,601.9935203044864 L85.045087992229,550.5693867129726 A931.3159081955511 931.3159081955511 0.09036631144281992 0 0 1,546.7693781345023 Z\" style=\"fill: rgb(31, 119, 180);\"/><title>Poland → ACRE (ND)\n205k</title><text class=\"label\" dy=\"0.35em\" x=\"5\" y=\"478.08528633005335\"/></g><g class=\"link\" style=\"opacity: 0.8;\"><path d=\"M1,1830.2518911682512 A204.91032315313055 204.91032315313055 0.9582493132455847 0 0 168.65481085396306,1743.1554251467937 L494.02635524764656,1280.1359972061764 A311.63276303026066 311.63276303026066 0.9582493132455847 0 1 749,1147.677505419237 L749,1320.2616932302628 A139.0485752192349 139.0485752192349 0.9582493132455847 0 0 635.2323663387491,1379.3638376247345 L309.8608219450656,1842.3832655653518 A377.49451096415635 377.49451096415635 0.9582493132455847 0 1 1,2002.836078979277 Z\" style=\"fill: rgb(31, 119, 180);\"/><title>USA → EPP (WMCES)\n258k</title><text class=\"label\" dy=\"0.35em\" x=\"5\" y=\"1916.5439850737641\"/></g></g><g class=\"nodes\"><g class=\"node\" transform=\"translate(0,296.93720104436375)\"><title>Iceland</title><line x1=\"0\" x2=\"0\" y1=\"0\" y2=\"52.979332072221894\" style=\"display: inline; stroke: rgb(0, 0, 0);\"/><rect class=\"node-body\" width=\"1\" height=\"52.979332072221894\" style=\"fill: none;\"/><text class=\"node-value\" dy=\".35em\" text-anchor=\"middle\" style=\"display: none;\" transform=\"translate(0.5,26.489666036110947) rotate(-90)\"/><text class=\"node-title\" dy=\".35em\" text-anchor=\"end\" transform=\"translate(-4,26.489666036110947)\" style=\"display: inline;\">Iceland</text><rect class=\"node-click-target\" x=\"-5\" y=\"-5\" width=\"10\" style=\"fill: none; visibility: hidden; pointer-events: all;\" height=\"57.979332072221894\"/></g><g class=\"node\" transform=\"translate(749,435.40550859722646)\"><title>ACRE (ND)</title><line x1=\"0\" x2=\"0\" y1=\"0\" y2=\"472.7431691539688\" style=\"display: inline; stroke: rgb(0, 0, 0);\"/><rect class=\"node-body\" width=\"1\" height=\"472.7431691539688\" style=\"fill: none;\"/><text class=\"node-value\" dy=\".35em\" text-anchor=\"middle\" style=\"display: none;\" transform=\"translate(0.5,236.3715845769844) rotate(-90)\"/><text class=\"node-title\" dy=\".35em\" text-anchor=\"start\" transform=\"translate(5,236.3715845769844)\" style=\"display: inline;\">ACRE (ND)</text><rect class=\"node-click-target\" x=\"-5\" y=\"-5\" width=\"10\" style=\"fill: none; visibility: hidden; pointer-events: all;\" height=\"477.7431691539688\"/></g><g class=\"node\" transform=\"translate(0,1671.0809305521827)\"><title>India</title><line x1=\"0\" x2=\"0\" y1=\"0\" y2=\"24.081514578282622\" style=\"display: inline; stroke: rgb(0, 0, 0);\"/><rect class=\"node-body\" width=\"1\" height=\"24.081514578282622\" style=\"fill: none;\"/><text class=\"node-value\" dy=\".35em\" text-anchor=\"middle\" style=\"display: none;\" transform=\"translate(0.5,12.040757289141311) rotate(-90)\"/><text class=\"node-title\" dy=\".35em\" text-anchor=\"end\" transform=\"translate(-4,12.040757289141311)\" style=\"display: inline;\">India</text><rect class=\"node-click-target\" x=\"-5\" y=\"-5\" width=\"10\" style=\"fill: none; visibility: hidden; pointer-events: all;\" height=\"29.081514578282622\"/></g><g class=\"node\" transform=\"translate(0,742.1828614021006)\"><title>Lichtenstein</title><line x1=\"0\" x2=\"0\" y1=\"0\" y2=\"8.027171526094207\" style=\"display: inline; stroke: rgb(0, 0, 0);\"/><rect class=\"node-body\" width=\"1\" height=\"8.027171526094207\" style=\"fill: none;\"/><text class=\"node-value\" dy=\".35em\" text-anchor=\"middle\" style=\"display: none;\" transform=\"translate(0.5,4.013585763047104) rotate(-90)\"/><text class=\"node-title\" dy=\".35em\" text-anchor=\"end\" transform=\"translate(-4,4.013585763047104)\" style=\"display: inline;\">Lichtenstein</text><rect class=\"node-click-target\" x=\"-5\" y=\"-5\" width=\"10\" style=\"fill: none; visibility: hidden; pointer-events: all;\" height=\"13.027171526094207\"/></g><g class=\"node\" transform=\"translate(0,811.9757489125454)\"><title>Pakistan</title><line x1=\"0\" x2=\"0\" y1=\"0\" y2=\"3.9520441146803478\" style=\"display: inline; stroke: rgb(0, 0, 0);\"/><rect class=\"node-body\" width=\"1\" height=\"3.9520441146803478\" style=\"fill: none;\"/><text class=\"node-value\" dy=\".35em\" text-anchor=\"middle\" style=\"display: none;\" transform=\"translate(0.5,1.9760220573401739) rotate(-90)\"/><text class=\"node-title\" dy=\".35em\" text-anchor=\"end\" transform=\"translate(-4,1.9760220573401739)\" style=\"display: inline;\">Pakistan</text><rect class=\"node-click-target\" x=\"-5\" y=\"-5\" width=\"10\" style=\"fill: none; visibility: hidden; pointer-events: all;\" height=\"8.952044114680348\"/></g><g class=\"node\" transform=\"translate(0,1460.1046986606086)\"><title>UK</title><line x1=\"0\" x2=\"0\" y1=\"0\" y2=\"128.3405388703393\" style=\"display: inline; stroke: rgb(0, 0, 0);\"/><rect class=\"node-body\" width=\"1\" height=\"128.3405388703393\" style=\"fill: none;\"/><text class=\"node-value\" dy=\".35em\" text-anchor=\"middle\" style=\"display: none;\" transform=\"translate(0.5,64.17026943516964) rotate(-90)\"/><text class=\"node-title\" dy=\".35em\" text-anchor=\"end\" transform=\"translate(-4,64.17026943516964)\" style=\"display: inline;\">UK</text><rect class=\"node-click-target\" x=\"-5\" y=\"-5\" width=\"10\" style=\"fill: none; visibility: hidden; pointer-events: all;\" height=\"133.3405388703393\"/></g><g class=\"node\" transform=\"translate(0,1100.2416658015493)\"><title>Hungary</title><line x1=\"0\" x2=\"0\" y1=\"0\" y2=\"9.419531252462548\" style=\"display: inline; stroke: rgb(0, 0, 0);\"/><rect class=\"node-body\" width=\"1\" height=\"9.419531252462548\" style=\"fill: none;\"/><text class=\"node-value\" dy=\".35em\" text-anchor=\"middle\" style=\"display: none;\" transform=\"translate(0.5,4.709765626231274) rotate(-90)\"/><text class=\"node-title\" dy=\".35em\" text-anchor=\"end\" transform=\"translate(-4,4.709765626231274)\" style=\"display: inline;\">Hungary</text><rect class=\"node-click-target\" x=\"-5\" y=\"-5\" width=\"10\" style=\"fill: none; visibility: hidden; pointer-events: all;\" height=\"14.419531252462548\"/></g><g class=\"node\" transform=\"translate(0,989.0790653769056)\"><title>Czech Republic</title><line x1=\"0\" x2=\"0\" y1=\"0\" y2=\"86.96905203754682\" style=\"display: inline; stroke: rgb(0, 0, 0);\"/><rect class=\"node-body\" width=\"1\" height=\"86.96905203754682\" style=\"fill: none;\"/><text class=\"node-value\" dy=\".35em\" text-anchor=\"middle\" style=\"display: none;\" transform=\"translate(0.5,43.48452601877341) rotate(-90)\"/><text class=\"node-title\" dy=\".35em\" text-anchor=\"end\" transform=\"translate(-4,43.48452601877341)\" style=\"display: inline;\">Czech Republic</text><rect class=\"node-click-target\" x=\"-5\" y=\"-5\" width=\"10\" style=\"fill: none; visibility: hidden; pointer-events: all;\" height=\"91.96905203754682\"/></g><g class=\"node\" transform=\"translate(0,1297.7796190336953)\"><title>France</title><line x1=\"0\" x2=\"0\" y1=\"0\" y2=\"2.834260479671684\" style=\"display: inline; stroke: rgb(0, 0, 0);\"/><rect class=\"node-body\" width=\"1\" height=\"2.834260479671684\" style=\"fill: none;\"/><text class=\"node-value\" dy=\".35em\" text-anchor=\"middle\" style=\"display: none;\" transform=\"translate(0.5,1.417130239835842) rotate(-90)\"/><text class=\"node-title\" dy=\".35em\" text-anchor=\"end\" transform=\"translate(-4,1.417130239835842)\" style=\"display: inline;\">France</text><rect class=\"node-click-target\" x=\"-5\" y=\"-5\" width=\"10\" style=\"fill: none; visibility: hidden; pointer-events: all;\" height=\"7.834260479671684\"/></g><g class=\"node\" transform=\"translate(0,374.1100815036824)\"><title>Lithuania</title><line x1=\"0\" x2=\"0\" y1=\"0\" y2=\"7.358240565586357\" style=\"display: inline; stroke: rgb(0, 0, 0);\"/><rect class=\"node-body\" width=\"1\" height=\"7.358240565586357\" style=\"fill: none;\"/><text class=\"node-value\" dy=\".35em\" text-anchor=\"middle\" style=\"display: none;\" transform=\"translate(0.5,3.6791202827931784) rotate(-90)\"/><text class=\"node-title\" dy=\".35em\" text-anchor=\"end\" transform=\"translate(-4,3.6791202827931784)\" style=\"display: inline;\">Lithuania</text><rect class=\"node-click-target\" x=\"-5\" y=\"-5\" width=\"10\" style=\"fill: none; visibility: hidden; pointer-events: all;\" height=\"12.358240565586357\"/></g><g class=\"node\" transform=\"translate(0,570.9629265215991)\"><title>Argentina</title><line x1=\"0\" x2=\"0\" y1=\"0\" y2=\"3.0942204295442934\" style=\"display: inline; stroke: rgb(0, 0, 0);\"/><rect class=\"node-body\" width=\"1\" height=\"3.0942204295442934\" style=\"fill: none;\"/><text class=\"node-value\" dy=\".35em\" text-anchor=\"middle\" style=\"display: none;\" transform=\"translate(0.5,1.5471102147721467) rotate(-90)\"/><text class=\"node-title\" dy=\".35em\" text-anchor=\"end\" transform=\"translate(-4,1.5471102147721467)\" style=\"display: inline;\">Argentina</text><rect class=\"node-click-target\" x=\"-5\" y=\"-5\" width=\"10\" style=\"fill: none; visibility: hidden; pointer-events: all;\" height=\"8.094220429544293\"/></g><g class=\"node\" transform=\"translate(749,250)\"><title>ADDE (IDDE)</title><line x1=\"0\" x2=\"0\" y1=\"0\" y2=\"102.07217526389314\" style=\"display: inline; stroke: rgb(0, 0, 0);\"/><rect class=\"node-body\" width=\"1\" height=\"102.07217526389314\" style=\"fill: none;\"/><text class=\"node-value\" dy=\".35em\" text-anchor=\"middle\" style=\"display: none;\" transform=\"translate(0.5,51.03608763194657) rotate(-90)\"/><text class=\"node-title\" dy=\".35em\" text-anchor=\"start\" transform=\"translate(5,51.03608763194657)\" style=\"display: inline;\">ADDE (IDDE)</text><rect class=\"node-click-target\" x=\"-5\" y=\"-5\" width=\"10\" style=\"fill: none; visibility: hidden; pointer-events: all;\" height=\"107.07217526389314\"/></g><g class=\"node\" transform=\"translate(0,2205.6983869400374)\"><title>Norway</title><line x1=\"0\" x2=\"0\" y1=\"0\" y2=\"2.883092439788925\" style=\"display: inline; stroke: rgb(0, 0, 0);\"/><rect class=\"node-body\" width=\"1\" height=\"2.883092439788925\" style=\"fill: none;\"/><text class=\"node-value\" dy=\".35em\" text-anchor=\"middle\" style=\"display: none;\" transform=\"translate(0.5,1.4415462198944624) rotate(-90)\"/><text class=\"node-title\" dy=\".35em\" text-anchor=\"end\" transform=\"translate(-4,1.4415462198944624)\" style=\"display: inline;\">Norway</text><rect class=\"node-click-target\" x=\"-5\" y=\"-5\" width=\"10\" style=\"fill: none; visibility: hidden; pointer-events: all;\" height=\"7.883092439788925\"/></g><g class=\"node\" transform=\"translate(0,900.0856263220256)\"><title>Sweden</title><line x1=\"0\" x2=\"0\" y1=\"0\" y2=\"64.79989066778319\" style=\"display: inline; stroke: rgb(0, 0, 0);\"/><rect class=\"node-body\" width=\"1\" height=\"64.79989066778319\" style=\"fill: none;\"/><text class=\"node-value\" dy=\".35em\" text-anchor=\"middle\" style=\"display: none;\" transform=\"translate(0.5,32.399945333891594) rotate(-90)\"/><text class=\"node-title\" dy=\".35em\" text-anchor=\"end\" transform=\"translate(-4,32.399945333891594)\" style=\"display: inline;\">Sweden</text><rect class=\"node-click-target\" x=\"-5\" y=\"-5\" width=\"10\" style=\"fill: none; visibility: hidden; pointer-events: all;\" height=\"69.79989066778319\"/></g><g class=\"node\" transform=\"translate(0,598.2506953382402)\"><title>Austria</title><line x1=\"0\" x2=\"0\" y1=\"0\" y2=\"41.47371955148685\" style=\"display: inline; stroke: rgb(0, 0, 0);\"/><rect class=\"node-body\" width=\"1\" height=\"41.47371955148685\" style=\"fill: none;\"/><text class=\"node-value\" dy=\".35em\" text-anchor=\"middle\" style=\"display: none;\" transform=\"translate(0.5,20.736859775743426) rotate(-90)\"/><text class=\"node-title\" dy=\".35em\" text-anchor=\"end\" transform=\"translate(-4,20.736859775743426)\" style=\"display: inline;\">Austria</text><rect class=\"node-click-target\" x=\"-5\" y=\"-5\" width=\"10\" style=\"fill: none; visibility: hidden; pointer-events: all;\" height=\"46.47371955148685\"/></g><g class=\"node\" transform=\"translate(749,1936.285998339028)\"><title>ECPM (SALLUX)</title><line x1=\"0\" x2=\"0\" y1=\"0\" y2=\"17.734028694023664\" style=\"display: inline; stroke: rgb(0, 0, 0);\"/><rect class=\"node-body\" width=\"1\" height=\"17.734028694023664\" style=\"fill: none;\"/><text class=\"node-value\" dy=\".35em\" text-anchor=\"middle\" style=\"display: none;\" transform=\"translate(0.5,8.867014347011832) rotate(-90)\"/><text class=\"node-title\" dy=\".35em\" text-anchor=\"start\" transform=\"translate(5,8.867014347011832)\" style=\"display: inline;\">ECPM (SALLUX)</text><rect class=\"node-click-target\" x=\"-5\" y=\"-5\" width=\"10\" style=\"fill: none; visibility: hidden; pointer-events: all;\" height=\"22.734028694023664\"/></g><g class=\"node\" transform=\"translate(0,840.1213414143226)\"><title>Finland</title><line x1=\"0\" x2=\"0\" y1=\"0\" y2=\"3.0101893222853278\" style=\"display: inline; stroke: rgb(0, 0, 0);\"/><rect class=\"node-body\" width=\"1\" height=\"3.0101893222853278\" style=\"fill: none;\"/><text class=\"node-value\" dy=\".35em\" text-anchor=\"middle\" style=\"display: none;\" transform=\"translate(0.5,1.5050946611426639) rotate(-90)\"/><text class=\"node-title\" dy=\".35em\" text-anchor=\"end\" transform=\"translate(-4,1.5050946611426639)\" style=\"display: inline;\">Finland</text><rect class=\"node-click-target\" x=\"-5\" y=\"-5\" width=\"10\" style=\"fill: none; visibility: hidden; pointer-events: all;\" height=\"8.010189322285328\"/></g><g class=\"node\" transform=\"translate(749,2125.8618780756874)\"><title>PES (FEPS)</title><line x1=\"0\" x2=\"0\" y1=\"0\" y2=\"24.081514578282622\" style=\"display: inline; stroke: rgb(0, 0, 0);\"/><rect class=\"node-body\" width=\"1\" height=\"24.081514578282622\" style=\"fill: none;\"/><text class=\"node-value\" dy=\".35em\" text-anchor=\"middle\" style=\"display: none;\" transform=\"translate(0.5,12.040757289141311) rotate(-90)\"/><text class=\"node-title\" dy=\".35em\" text-anchor=\"start\" transform=\"translate(5,12.040757289141311)\" style=\"display: inline;\">PES (FEPS)</text><rect class=\"node-click-target\" x=\"-5\" y=\"-5\" width=\"10\" style=\"fill: none; visibility: hidden; pointer-events: all;\" height=\"29.081514578282622\"/></g><g class=\"node\" transform=\"translate(0,1215.5763564318806)\"><title>Denmark</title><line x1=\"0\" x2=\"0\" y1=\"0\" y2=\"3.800196786645074\" style=\"display: inline; stroke: rgb(0, 0, 0);\"/><rect class=\"node-body\" width=\"1\" height=\"3.800196786645074\" style=\"fill: none;\"/><text class=\"node-value\" dy=\".35em\" text-anchor=\"middle\" style=\"display: none;\" transform=\"translate(0.5,1.900098393322537) rotate(-90)\"/><text class=\"node-title\" dy=\".35em\" text-anchor=\"end\" transform=\"translate(-4,1.900098393322537)\" style=\"display: inline;\">Denmark</text><rect class=\"node-click-target\" x=\"-5\" y=\"-5\" width=\"10\" style=\"fill: none; visibility: hidden; pointer-events: all;\" height=\"8.800196786645074\"/></g><g class=\"node\" transform=\"translate(749,1719.9691900567339)\"><title>EAF (EFF)</title><line x1=\"0\" x2=\"0\" y1=\"0\" y2=\"132.98347494896097\" style=\"display: inline; stroke: rgb(0, 0, 0);\"/><rect class=\"node-body\" width=\"1\" height=\"132.98347494896097\" style=\"fill: none;\"/><text class=\"node-value\" dy=\".35em\" text-anchor=\"middle\" style=\"display: none;\" transform=\"translate(0.5,66.49173747448049) rotate(-90)\"/><text class=\"node-title\" dy=\".35em\" text-anchor=\"start\" transform=\"translate(5,66.49173747448049)\" style=\"display: inline;\">EAF (EFF)</text><rect class=\"node-click-target\" x=\"-5\" y=\"-5\" width=\"10\" style=\"fill: none; visibility: hidden; pointer-events: all;\" height=\"137.98347494896097\"/></g><g class=\"node\" transform=\"translate(0,1243.5701016056225)\"><title>Latvia</title><line x1=\"0\" x2=\"0\" y1=\"0\" y2=\"30.015969040976188\" style=\"display: inline; stroke: rgb(0, 0, 0);\"/><rect class=\"node-body\" width=\"1\" height=\"30.015969040976188\" style=\"fill: none;\"/><text class=\"node-value\" dy=\".35em\" text-anchor=\"middle\" style=\"display: none;\" transform=\"translate(0.5,15.007984520488094) rotate(-90)\"/><text class=\"node-title\" dy=\".35em\" text-anchor=\"end\" transform=\"translate(-4,15.007984520488094)\" style=\"display: inline;\">Latvia</text><rect class=\"node-click-target\" x=\"-5\" y=\"-5\" width=\"10\" style=\"fill: none; visibility: hidden; pointer-events: all;\" height=\"35.01596904097619\"/></g><g class=\"node\" transform=\"translate(0,1133.8547454411087)\"><title>Netherlands</title><line x1=\"0\" x2=\"0\" y1=\"0\" y2=\"57.52806260367515\" style=\"display: inline; stroke: rgb(0, 0, 0);\"/><rect class=\"node-body\" width=\"1\" height=\"57.52806260367515\" style=\"fill: none;\"/><text class=\"node-value\" dy=\".35em\" text-anchor=\"middle\" style=\"display: none;\" transform=\"translate(0.5,28.764031301837576) rotate(-90)\"/><text class=\"node-title\" dy=\".35em\" text-anchor=\"end\" transform=\"translate(-4,28.764031301837576)\" style=\"display: inline;\">Netherlands</text><rect class=\"node-click-target\" x=\"-5\" y=\"-5\" width=\"10\" style=\"fill: none; visibility: hidden; pointer-events: all;\" height=\"62.52806260367515\"/></g><g class=\"node\" transform=\"translate(0,774.4035813152916)\"><title>Luxembourg</title><line x1=\"0\" x2=\"0\" y1=\"0\" y2=\"13.378619210157012\" style=\"display: inline; stroke: rgb(0, 0, 0);\"/><rect class=\"node-body\" width=\"1\" height=\"13.378619210157012\" style=\"fill: none;\"/><text class=\"node-value\" dy=\".35em\" text-anchor=\"middle\" style=\"display: none;\" transform=\"translate(0.5,6.689309605078506) rotate(-90)\"/><text class=\"node-title\" dy=\".35em\" text-anchor=\"end\" transform=\"translate(-4,6.689309605078506)\" style=\"display: inline;\">Luxembourg</text><rect class=\"node-click-target\" x=\"-5\" y=\"-5\" width=\"10\" style=\"fill: none; visibility: hidden; pointer-events: all;\" height=\"18.378619210157012\"/></g><g class=\"node\" transform=\"translate(0,1719.3559935175622)\"><title>Malta</title><line x1=\"0\" x2=\"0\" y1=\"0\" y2=\"37.41999793080913\" style=\"display: inline; stroke: rgb(0, 0, 0);\"/><rect class=\"node-body\" width=\"1\" height=\"37.41999793080913\" style=\"fill: none;\"/><text class=\"node-value\" dy=\".35em\" text-anchor=\"middle\" style=\"display: none;\" transform=\"translate(0.5,18.709998965404566) rotate(-90)\"/><text class=\"node-title\" dy=\".35em\" text-anchor=\"end\" transform=\"translate(-4,18.709998965404566)\" style=\"display: inline;\">Malta</text><rect class=\"node-click-target\" x=\"-5\" y=\"-5\" width=\"10\" style=\"fill: none; visibility: hidden; pointer-events: all;\" height=\"42.41999793080913\"/></g><g class=\"node\" transform=\"translate(749,1403.595026563596)\"><title>ALDE (ELF)</title><line x1=\"0\" x2=\"0\" y1=\"0\" y2=\"233.0408301598045\" style=\"display: inline; stroke: rgb(0, 0, 0);\"/><rect class=\"node-body\" width=\"1\" height=\"233.0408301598045\" style=\"fill: none;\"/><text class=\"node-value\" dy=\".35em\" text-anchor=\"middle\" style=\"display: none;\" transform=\"translate(0.5,116.52041507990225) rotate(-90)\"/><text class=\"node-title\" dy=\".35em\" text-anchor=\"start\" transform=\"translate(5,116.52041507990225)\" style=\"display: inline;\">ALDE (ELF)</text><rect class=\"node-click-target\" x=\"-5\" y=\"-5\" width=\"10\" style=\"fill: none; visibility: hidden; pointer-events: all;\" height=\"238.0408301598045\"/></g><g class=\"node\" transform=\"translate(0,1433.5029988156837)\"><title>South-Korea</title><line x1=\"0\" x2=\"0\" y1=\"0\" y2=\"2.408151457828353\" style=\"display: inline; stroke: rgb(0, 0, 0);\"/><rect class=\"node-body\" width=\"1\" height=\"2.408151457828353\" style=\"fill: none;\"/><text class=\"node-value\" dy=\".35em\" text-anchor=\"middle\" style=\"display: none;\" transform=\"translate(0.5,1.2040757289141766) rotate(-90)\"/><text class=\"node-title\" dy=\".35em\" text-anchor=\"end\" transform=\"translate(-4,1.2040757289141766)\" style=\"display: inline;\">South-Korea</text><rect class=\"node-click-target\" x=\"-5\" y=\"-5\" width=\"10\" style=\"fill: none; visibility: hidden; pointer-events: all;\" height=\"7.408151457828353\"/></g><g class=\"node\" transform=\"translate(0,663.9179632768238)\"><title>Belgium</title><line x1=\"0\" x2=\"0\" y1=\"0\" y2=\"29.43296226234554\" style=\"display: inline; stroke: rgb(0, 0, 0);\"/><rect class=\"node-body\" width=\"1\" height=\"29.43296226234554\" style=\"fill: none;\"/><text class=\"node-value\" dy=\".35em\" text-anchor=\"middle\" style=\"display: none;\" transform=\"translate(0.5,14.71648113117277) rotate(-90)\"/><text class=\"node-title\" dy=\".35em\" text-anchor=\"end\" transform=\"translate(-4,14.71648113117277)\" style=\"display: inline;\">Belgium</text><rect class=\"node-click-target\" x=\"-5\" y=\"-5\" width=\"10\" style=\"fill: none; visibility: hidden; pointer-events: all;\" height=\"34.43296226234554\"/></g><g class=\"node\" transform=\"translate(0,1780.9695398354681)\"><title>USA</title><line x1=\"0\" x2=\"0\" y1=\"0\" y2=\"350.94680193820636\" style=\"display: inline; stroke: rgb(0, 0, 0);\"/><rect class=\"node-body\" width=\"1\" height=\"350.94680193820636\" style=\"fill: none;\"/><text class=\"node-value\" dy=\".35em\" text-anchor=\"middle\" style=\"display: none;\" transform=\"translate(0.5,175.47340096910318) rotate(-90)\"/><text class=\"node-title\" dy=\".35em\" text-anchor=\"end\" transform=\"translate(-4,175.47340096910318)\" style=\"display: inline;\">USA</text><rect class=\"node-click-target\" x=\"-5\" y=\"-5\" width=\"10\" style=\"fill: none; visibility: hidden; pointer-events: all;\" height=\"355.94680193820636\"/></g><g class=\"node\" transform=\"translate(749,1104.3203706125828)\"><title>EPP (WMCES)</title><line x1=\"0\" x2=\"0\" y1=\"0\" y2=\"215.94132261768004\" style=\"display: inline; stroke: rgb(0, 0, 0);\"/><rect class=\"node-body\" width=\"1\" height=\"215.94132261768004\" style=\"fill: none;\"/><text class=\"node-value\" dy=\".35em\" text-anchor=\"middle\" style=\"display: none;\" transform=\"translate(0.5,107.97066130884002) rotate(-90)\"/><text class=\"node-title\" dy=\".35em\" text-anchor=\"start\" transform=\"translate(5,107.97066130884002)\" style=\"display: inline;\">EPP (WMCES)</text><rect class=\"node-click-target\" x=\"-5\" y=\"-5\" width=\"10\" style=\"fill: none; visibility: hidden; pointer-events: all;\" height=\"220.94132261768004\"/></g><g class=\"node\" transform=\"translate(749,991.4820110845285)\"><title>EUD (OEIC)</title><line x1=\"0\" x2=\"0\" y1=\"0\" y2=\"29.50502619472104\" style=\"display: inline; stroke: rgb(0, 0, 0);\"/><rect class=\"node-body\" width=\"1\" height=\"29.50502619472104\" style=\"fill: none;\"/><text class=\"node-value\" dy=\".35em\" text-anchor=\"middle\" style=\"display: none;\" transform=\"translate(0.5,14.75251309736052) rotate(-90)\"/><text class=\"node-title\" dy=\".35em\" text-anchor=\"start\" transform=\"translate(5,14.75251309736052)\" style=\"display: inline;\">EUD (OEIC)</text><rect class=\"node-click-target\" x=\"-5\" y=\"-5\" width=\"10\" style=\"fill: none; visibility: hidden; pointer-events: all;\" height=\"34.50502619472104\"/></g><g class=\"node\" transform=\"translate(0,2180.9723695083762)\"><title>Georgia</title><line x1=\"0\" x2=\"0\" y1=\"0\" y2=\"1\" style=\"display: inline; stroke: rgb(0, 0, 0);\"/><rect class=\"node-body\" width=\"1\" height=\"1\" style=\"fill: none;\"/><text class=\"node-value\" dy=\".35em\" text-anchor=\"middle\" style=\"display: none;\" transform=\"translate(0.5,0.2662345222820477) rotate(0)\"/><text class=\"node-title\" dy=\".35em\" text-anchor=\"end\" transform=\"translate(-4,0.2662345222820477)\" style=\"display: inline;\">Georgia</text><rect class=\"node-click-target\" x=\"-5\" y=\"-5\" width=\"10\" style=\"fill: none; visibility: hidden; pointer-events: all;\" height=\"6\"/></g><g class=\"node\" transform=\"translate(0,405.6618704563656)\"><title>Poland</title><line x1=\"0\" x2=\"0\" y1=\"0\" y2=\"141.1075076781367\" style=\"display: inline; stroke: rgb(0, 0, 0);\"/><rect class=\"node-body\" width=\"1\" height=\"141.1075076781367\" style=\"fill: none;\"/><text class=\"node-value\" dy=\".35em\" text-anchor=\"middle\" style=\"display: none;\" transform=\"translate(0.5,70.55375383906835) rotate(-90)\"/><text class=\"node-title\" dy=\".35em\" text-anchor=\"end\" transform=\"translate(-4,70.55375383906835)\" style=\"display: inline;\">Poland</text><rect class=\"node-click-target\" x=\"-5\" y=\"-5\" width=\"10\" style=\"fill: none; visibility: hidden; pointer-events: all;\" height=\"146.1075076781367\"/></g><g class=\"node\" transform=\"translate(0,867.3250791237048)\"><title>Slovakia</title><line x1=\"0\" x2=\"0\" y1=\"0\" y2=\"8.566998811224039\" style=\"display: inline; stroke: rgb(0, 0, 0);\"/><rect class=\"node-body\" width=\"1\" height=\"8.566998811224039\" style=\"fill: none;\"/><text class=\"node-value\" dy=\".35em\" text-anchor=\"middle\" style=\"display: none;\" transform=\"translate(0.5,4.2834994056120195) rotate(-90)\"/><text class=\"node-title\" dy=\".35em\" text-anchor=\"end\" transform=\"translate(-4,4.2834994056120195)\" style=\"display: inline;\">Slovakia</text><rect class=\"node-click-target\" x=\"-5\" y=\"-5\" width=\"10\" style=\"fill: none; visibility: hidden; pointer-events: all;\" height=\"13.566998811224039\"/></g><g class=\"node\" transform=\"translate(0,1407.9715885075711)\"><title>Serbia</title><line x1=\"0\" x2=\"0\" y1=\"0\" y2=\"1.3378619210157012\" style=\"display: inline; stroke: rgb(0, 0, 0);\"/><rect class=\"node-body\" width=\"1\" height=\"1.3378619210157012\" style=\"fill: none;\"/><text class=\"node-value\" dy=\".35em\" text-anchor=\"middle\" style=\"display: none;\" transform=\"translate(0.5,0.6689309605078506) rotate(-90)\"/><text class=\"node-title\" dy=\".35em\" text-anchor=\"end\" transform=\"translate(-4,0.6689309605078506)\" style=\"display: inline;\">Serbia</text><rect class=\"node-click-target\" x=\"-5\" y=\"-5\" width=\"10\" style=\"fill: none; visibility: hidden; pointer-events: all;\" height=\"6.337861921015701\"/></g><g class=\"node\" transform=\"translate(0,250)\"><title>Monaco</title><line x1=\"0\" x2=\"0\" y1=\"0\" y2=\"22.743652657266978\" style=\"display: inline; stroke: rgb(0, 0, 0);\"/><rect class=\"node-body\" width=\"1\" height=\"22.743652657266978\" style=\"fill: none;\"/><text class=\"node-value\" dy=\".35em\" text-anchor=\"middle\" style=\"display: none;\" transform=\"translate(0.5,11.371826328633489) rotate(-90)\"/><text class=\"node-title\" dy=\".35em\" text-anchor=\"end\" transform=\"translate(-4,11.371826328633489)\" style=\"display: inline;\">Monaco</text><rect class=\"node-click-target\" x=\"-5\" y=\"-5\" width=\"10\" style=\"fill: none; visibility: hidden; pointer-events: all;\" height=\"27.743652657266978\"/></g><g class=\"node\" transform=\"translate(749,2037.353360366385)\"><title>APF (Terra Nostra)</title><line x1=\"0\" x2=\"0\" y1=\"0\" y2=\"5.175184375968911\" style=\"display: inline; stroke: rgb(0, 0, 0);\"/><rect class=\"node-body\" width=\"1\" height=\"5.175184375968911\" style=\"fill: none;\"/><text class=\"node-value\" dy=\".35em\" text-anchor=\"middle\" style=\"display: none;\" transform=\"translate(0.5,2.5875921879844554) rotate(-90)\"/><text class=\"node-title\" dy=\".35em\" text-anchor=\"start\" transform=\"translate(5,2.5875921879844554)\" style=\"display: inline;\">APF (Terra Nostra)</text><rect class=\"node-click-target\" x=\"-5\" y=\"-5\" width=\"10\" style=\"fill: none; visibility: hidden; pointer-events: all;\" height=\"10.175184375968911\"/></g><g class=\"node\" transform=\"translate(0,2232.775027766923)\"><title>Italy</title><line x1=\"0\" x2=\"0\" y1=\"0\" y2=\"17.224972233077096\" style=\"display: inline; stroke: rgb(0, 0, 0);\"/><rect class=\"node-body\" width=\"1\" height=\"17.224972233077096\" style=\"fill: none;\"/><text class=\"node-value\" dy=\".35em\" text-anchor=\"middle\" style=\"display: none;\" transform=\"translate(0.5,8.612486116538548) rotate(-90)\"/><text class=\"node-title\" dy=\".35em\" text-anchor=\"end\" transform=\"translate(-4,8.612486116538548)\" style=\"display: inline;\">Italy</text><rect class=\"node-click-target\" x=\"-5\" y=\"-5\" width=\"10\" style=\"fill: none; visibility: hidden; pointer-events: all;\" height=\"22.224972233077096\"/></g><g class=\"node\" transform=\"translate(749,2233.2767259873035)\"><title>EDP (IED)</title><line x1=\"0\" x2=\"0\" y1=\"0\" y2=\"16.723274012696493\" style=\"display: inline; stroke: rgb(0, 0, 0);\"/><rect class=\"node-body\" width=\"1\" height=\"16.723274012696493\" style=\"fill: none;\"/><text class=\"node-value\" dy=\".35em\" text-anchor=\"middle\" style=\"display: none;\" transform=\"translate(0.5,8.361637006348246) rotate(-90)\"/><text class=\"node-title\" dy=\".35em\" text-anchor=\"start\" transform=\"translate(5,8.361637006348246)\" style=\"display: inline;\">EDP (IED)</text><rect class=\"node-click-target\" x=\"-5\" y=\"-5\" width=\"10\" style=\"fill: none; visibility: hidden; pointer-events: all;\" height=\"21.723274012696493\"/></g><g class=\"node\" transform=\"translate(0,1612.6387859180445)\"><title>Switzerland</title><line x1=\"0\" x2=\"0\" y1=\"0\" y2=\"34.248596247041405\" style=\"display: inline; stroke: rgb(0, 0, 0);\"/><rect class=\"node-body\" width=\"1\" height=\"34.248596247041405\" style=\"fill: none;\"/><text class=\"node-value\" dy=\".35em\" text-anchor=\"middle\" style=\"display: none;\" transform=\"translate(0.5,17.124298123520703) rotate(-90)\"/><text class=\"node-title\" dy=\".35em\" text-anchor=\"end\" transform=\"translate(-4,17.124298123520703)\" style=\"display: inline;\">Switzerland</text><rect class=\"node-click-target\" x=\"-5\" y=\"-5\" width=\"10\" style=\"fill: none; visibility: hidden; pointer-events: all;\" height=\"39.248596247041405\"/></g><g class=\"node\" transform=\"translate(0,717.544473926266)\"><title>Faroe Islands</title><line x1=\"0\" x2=\"0\" y1=\"0\" y2=\"1\" style=\"display: inline; stroke: rgb(0, 0, 0);\"/><rect class=\"node-body\" width=\"1\" height=\"1\" style=\"fill: none;\"/><text class=\"node-value\" dy=\".35em\" text-anchor=\"middle\" style=\"display: none;\" transform=\"translate(0.5,0.22241954436884726) rotate(0)\"/><text class=\"node-title\" dy=\".35em\" text-anchor=\"end\" transform=\"translate(-4,0.22241954436884726)\" style=\"display: inline;\">Faroe Islands</text><rect class=\"node-click-target\" x=\"-5\" y=\"-5\" width=\"10\" style=\"fill: none; visibility: hidden; pointer-events: all;\" height=\"6\"/></g><g class=\"node\" transform=\"translate(0,1324.8074279004638)\"><title>Germany</title><line x1=\"0\" x2=\"0\" y1=\"0\" y2=\"58.97061222001048\" style=\"display: inline; stroke: rgb(0, 0, 0);\"/><rect class=\"node-body\" width=\"1\" height=\"58.97061222001048\" style=\"fill: none;\"/><text class=\"node-value\" dy=\".35em\" text-anchor=\"middle\" style=\"display: none;\" transform=\"translate(0.5,29.48530611000524) rotate(-90)\"/><text class=\"node-title\" dy=\".35em\" text-anchor=\"end\" transform=\"translate(-4,29.48530611000524)\" style=\"display: inline;\">Germany</text><rect class=\"node-click-target\" x=\"-5\" y=\"-5\" width=\"10\" style=\"fill: none; visibility: hidden; pointer-events: all;\" height=\"63.97061222001048\"/></g><g class=\"node\" transform=\"translate(0,2156.1098901607716)\"><title>Albania</title><line x1=\"0\" x2=\"0\" y1=\"0\" y2=\"1\" style=\"display: inline; stroke: rgb(0, 0, 0);\"/><rect class=\"node-body\" width=\"1\" height=\"1\" style=\"fill: none;\"/><text class=\"node-value\" dy=\".35em\" text-anchor=\"middle\" style=\"display: none;\" transform=\"translate(0.5,0.334465480254039) rotate(0)\"/><text class=\"node-title\" dy=\".35em\" text-anchor=\"end\" transform=\"translate(-4,0.334465480254039)\" style=\"display: inline;\">Albania</text><rect class=\"node-click-target\" x=\"-5\" y=\"-5\" width=\"10\" style=\"fill: none; visibility: hidden; pointer-events: all;\" height=\"6\"/></g></g><g class=\"slice-titles\"/></g></svg>"
      }
     },
     "705f1878551c450aafd010bcd8faea99": {
      "model_module": "@jupyter-widgets/base",
      "model_module_version": "1.1.0",
      "model_name": "LayoutModel",
      "state": {
       "height": "2500",
       "width": "1000"
      }
     },
     "7d5a166807fc49ce8014b8e3aab7be84": {
      "model_module": "@jupyter-widgets/base",
      "model_module_version": "1.1.0",
      "model_name": "LayoutModel",
      "state": {
       "height": "2500",
       "width": "1000"
      }
     },
     "80e63329574947b8aa7c40b730e544cf": {
      "model_module": "@jupyter-widgets/base",
      "model_module_version": "1.1.0",
      "model_name": "LayoutModel",
      "state": {
       "height": "2500",
       "width": "1000"
      }
     },
     "e29fbe77736b4f599f99e6da8e8e6c5b": {
      "model_module": "@jupyter-widgets/base",
      "model_module_version": "1.1.0",
      "model_name": "LayoutModel",
      "state": {
       "height": "2500",
       "width": "1000"
      }
     },
     "f4fb7668cad74dc7ac58b75daa76a096": {
      "model_module": "jupyter-sankey-widget",
      "model_module_version": "^0.2.5",
      "model_name": "SankeyModel",
      "state": {
       "_model_module_version": "^0.2.5",
       "_view_module_version": "^0.2.5",
       "layout": "IPY_MODEL_80e63329574947b8aa7c40b730e544cf",
       "links": [
        {
         "source": "Albania",
         "target": "ECPM (SALLUX)",
         "value": 1000
        },
        {
         "source": "Argentina",
         "target": "ACRE (ND)",
         "value": 4625.62
        },
        {
         "source": "Armenia",
         "target": "ACRE (ND)",
         "value": 6090
        },
        {
         "source": "Austria",
         "target": "ACRE (ND)",
         "value": 74000
        },
        {
         "source": "Austria",
         "target": "ALDE (ELF)",
         "value": 1200
        },
        {
         "source": "Austria",
         "target": "EAF (EFF)",
         "value": 47240
        },
        {
         "source": "Austria",
         "target": "EGP (GEF)",
         "value": 91680
        },
        {
         "source": "Austria",
         "target": "EL (TE)",
         "value": 19067.04
        },
        {
         "source": "Austria",
         "target": "EPP (WMCES)",
         "value": 147910.76
        },
        {
         "source": "Austria",
         "target": "MENL (FENL)",
         "value": 19000
        },
        {
         "source": "Belgium",
         "target": "ACRE (ND)",
         "value": 17000
        },
        {
         "source": "Belgium",
         "target": "ADDE (IDDE)",
         "value": 32000
        },
        {
         "source": "Belgium",
         "target": "EAF (EFF)",
         "value": 1117
        },
        {
         "source": "Belgium",
         "target": "ECPM (SALLUX)",
         "value": 2000
        },
        {
         "source": "Belgium",
         "target": "EFA (CMC)",
         "value": 4022.84
        },
        {
         "source": "Belgium",
         "target": "EGP (GEF)",
         "value": 179505.91999999998
        },
        {
         "source": "Belgium",
         "target": "EPP (WMCES)",
         "value": 37615.14
        },
        {
         "source": "Belgium",
         "target": "EUD (OEIC)",
         "value": 11668
        },
        {
         "source": "Belgium",
         "target": "MENL (FENL)",
         "value": 11400
        },
        {
         "source": "Bosnia",
         "target": "ADDE (IDDE)",
         "value": 82500
        },
        {
         "source": "Bulgaria",
         "target": "EAF (EFF)",
         "value": 3000
        },
        {
         "source": "Bulgaria",
         "target": "EGP (GEF)",
         "value": 6880
        },
        {
         "source": "Bulgaria",
         "target": "EPP (WMCES)",
         "value": 24303.14
        },
        {
         "source": "Croatia",
         "target": "ACRE (ND)",
         "value": 1310
        },
        {
         "source": "Croatia",
         "target": "ECPM (SALLUX)",
         "value": 6500
        },
        {
         "source": "Croatia",
         "target": "EFA (CMC)",
         "value": 814.95
        },
        {
         "source": "Croatia",
         "target": "EGP (GEF)",
         "value": 6010
        },
        {
         "source": "Croatia",
         "target": "EPP (WMCES)",
         "value": 36541.05
        },
        {
         "source": "Czech Republic",
         "target": "ACRE (ND)",
         "value": 112233
        },
        {
         "source": "Czech Republic",
         "target": "ALDE (ELF)",
         "value": 12000
        },
        {
         "source": "Czech Republic",
         "target": "EGP (GEF)",
         "value": 5831.290000000001
        },
        {
         "source": "Czech Republic",
         "target": "EPP (WMCES)",
         "value": 184809.72000000003
        },
        {
         "source": "Czech Republic",
         "target": "EUD (OEIC)",
         "value": 37548
        },
        {
         "source": "Denmark",
         "target": "ALDE (ELF)",
         "value": 3000
        },
        {
         "source": "Denmark",
         "target": "EGP (GEF)",
         "value": 64660
        },
        {
         "source": "Denmark",
         "target": "EUD (OEIC)",
         "value": 6031
        },
        {
         "source": "Dominican Republic",
         "target": "ACRE (ND)",
         "value": 456.97
        },
        {
         "source": "Estonia",
         "target": "EGP (GEF)",
         "value": 575
        },
        {
         "source": "Estonia",
         "target": "EPP (WMCES)",
         "value": 71366.73
        },
        {
         "source": "Faroe Islands",
         "target": "ACRE (ND)",
         "value": 665
        },
        {
         "source": "Finland",
         "target": "ACRE (ND)",
         "value": 14785
        },
        {
         "source": "Finland",
         "target": "ADDE (IDDE)",
         "value": 12000
        },
        {
         "source": "Finland",
         "target": "ALDE (ELF)",
         "value": 17000
        },
        {
         "source": "Finland",
         "target": "EFA (CMC)",
         "value": 760
        },
        {
         "source": "Finland",
         "target": "EGP (GEF)",
         "value": 84438.47
        },
        {
         "source": "Finland",
         "target": "EPP (WMCES)",
         "value": 74229.76
        },
        {
         "source": "Finland",
         "target": "EUD (OEIC)",
         "value": 3200
        },
        {
         "source": "France",
         "target": "ACRE (ND)",
         "value": 1237
        },
        {
         "source": "France",
         "target": "EAF (EFF)",
         "value": 8500
        },
        {
         "source": "France",
         "target": "ECPM (SALLUX)",
         "value": 28300
        },
        {
         "source": "France",
         "target": "EDP (IED)",
         "value": 6545
        },
        {
         "source": "France",
         "target": "EGP (GEF)",
         "value": 173260
        },
        {
         "source": "France",
         "target": "MENL (FENL)",
         "value": 36000
        },
        {
         "source": "Georgia",
         "target": "ACRE (ND)",
         "value": 2514.5
        },
        {
         "source": "Georgia",
         "target": "ECPM (SALLUX)",
         "value": 21796
        },
        {
         "source": "Georgia",
         "target": "EGP (GEF)",
         "value": 4000
        },
        {
         "source": "Germany",
         "target": "ACRE (ND)",
         "value": 35121
        },
        {
         "source": "Germany",
         "target": "ALDE (ELF)",
         "value": 305500
        },
        {
         "source": "Germany",
         "target": "APF (Terra Nostra)",
         "value": 1406.5
        },
        {
         "source": "Germany",
         "target": "EAF (EFF)",
         "value": 29000
        },
        {
         "source": "Germany",
         "target": "ECPM (SALLUX)",
         "value": 2000
        },
        {
         "source": "Germany",
         "target": "EFA (CMC)",
         "value": 8228.23
        },
        {
         "source": "Germany",
         "target": "EGP (GEF)",
         "value": 239994.78999999998
        },
        {
         "source": "Germany",
         "target": "EPP (WMCES)",
         "value": 995765.7799999998
        },
        {
         "source": "Greece",
         "target": "EGP (GEF)",
         "value": 47550
        },
        {
         "source": "Greece",
         "target": "EPP (WMCES)",
         "value": 22065.57
        },
        {
         "source": "Guatemala",
         "target": "ACRE (ND)",
         "value": 930.54
        },
        {
         "source": "HongKong",
         "target": "ACRE (ND)",
         "value": 4496.76
        },
        {
         "source": "Hungary",
         "target": "ACRE (ND)",
         "value": 8500
        },
        {
         "source": "Hungary",
         "target": "ALDE (ELF)",
         "value": 1200
        },
        {
         "source": "Hungary",
         "target": "EGP (GEF)",
         "value": 22760
        },
        {
         "source": "Hungary",
         "target": "EPP (WMCES)",
         "value": 166739.61
        },
        {
         "source": "Iceland",
         "target": "ACRE (ND)",
         "value": 51400
        },
        {
         "source": "Iceland",
         "target": "ADDE (IDDE)",
         "value": 45649
        },
        {
         "source": "India",
         "target": "ALDE (ELF)",
         "value": 12000
        },
        {
         "source": "India",
         "target": "EAF (EFF)",
         "value": 24000
        },
        {
         "source": "Ireland",
         "target": "ECPM (SALLUX)",
         "value": 5000
        },
        {
         "source": "Ireland",
         "target": "EGP (GEF)",
         "value": 2150
        },
        {
         "source": "Ireland",
         "target": "EPP (WMCES)",
         "value": 9022.48
        },
        {
         "source": "Israel",
         "target": "ACRE (ND)",
         "value": 500
        },
        {
         "source": "Italy",
         "target": "ACRE (ND)",
         "value": 34000
        },
        {
         "source": "Italy",
         "target": "ALDE (ELF)",
         "value": 8000
        },
        {
         "source": "Italy",
         "target": "APF (Terra Nostra)",
         "value": 750
        },
        {
         "source": "Italy",
         "target": "EDP (IED)",
         "value": 36545
        },
        {
         "source": "Italy",
         "target": "EGP (GEF)",
         "value": 5450
        },
        {
         "source": "Italy",
         "target": "EPP (WMCES)",
         "value": 133037
        },
        {
         "source": "Italy",
         "target": "MENL (FENL)",
         "value": 22800
        },
        {
         "source": "Latvia",
         "target": "ACRE (ND)",
         "value": 19651.55
        },
        {
         "source": "Latvia",
         "target": "EAF (EFF)",
         "value": 29000
        },
        {
         "source": "Latvia",
         "target": "EGP (GEF)",
         "value": 7660
        },
        {
         "source": "Latvia",
         "target": "EUD (OEIC)",
         "value": 5460
        },
        {
         "source": "Lebanon",
         "target": "EPP (WMCES)",
         "value": 7250.49
        },
        {
         "source": "Lichtenstein",
         "target": "ACRE (ND)",
         "value": 18000
        },
        {
         "source": "Lithuania",
         "target": "ACRE (ND)",
         "value": 3683.55
        },
        {
         "source": "Lithuania",
         "target": "ADDE (IDDE)",
         "value": 12000
        },
        {
         "source": "Lithuania",
         "target": "EPP (WMCES)",
         "value": 41109.3
        },
        {
         "source": "Luxembourg",
         "target": "ACRE (ND)",
         "value": 20800
        },
        {
         "source": "Luxembourg",
         "target": "EGP (GEF)",
         "value": 30610
        },
        {
         "source": "Malta",
         "target": "EAF (EFF)",
         "value": 48000
        },
        {
         "source": "Malta",
         "target": "ECPM (SALLUX)",
         "value": 600
        },
        {
         "source": "Malta",
         "target": "EGP (GEF)",
         "value": 2150
        },
        {
         "source": "Malta",
         "target": "EUD (OEIC)",
         "value": 8340
        },
        {
         "source": "Monaco",
         "target": "ADDE (IDDE)",
         "value": 34000
        },
        {
         "source": "Netherlands",
         "target": "ACRE (ND)",
         "value": 32100
        },
        {
         "source": "Netherlands",
         "target": "ADDE (IDDE)",
         "value": 37000
        },
        {
         "source": "Netherlands",
         "target": "ALDE (ELF)",
         "value": 74000
        },
        {
         "source": "Netherlands",
         "target": "ECPM (SALLUX)",
         "value": 131110
        },
        {
         "source": "Netherlands",
         "target": "EGP (GEF)",
         "value": 102570
        },
        {
         "source": "Netherlands",
         "target": "EPP (WMCES)",
         "value": 49617.61
        },
        {
         "source": "Norway",
         "target": "ECPM (SALLUX)",
         "value": 12810
        },
        {
         "source": "Norway",
         "target": "EGP (GEF)",
         "value": 29563
        },
        {
         "source": "Pakistan",
         "target": "ACRE (ND)",
         "value": 5908
        },
        {
         "source": "Poland",
         "target": "ACRE (ND)",
         "value": 294250.26
        },
        {
         "source": "Poland",
         "target": "ADDE (IDDE)",
         "value": 25590
        },
        {
         "source": "Poland",
         "target": "EAF (EFF)",
         "value": 23815
        },
        {
         "source": "Poland",
         "target": "ECPM (SALLUX)",
         "value": 8000
        },
        {
         "source": "Poland",
         "target": "EGP (GEF)",
         "value": 6240.3
        },
        {
         "source": "Poland",
         "target": "EPP (WMCES)",
         "value": 14416.66
        },
        {
         "source": "Poland",
         "target": "MENL (FENL)",
         "value": 9500
        },
        {
         "source": "Portugal",
         "target": "ALDE (ELF)",
         "value": 1000
        },
        {
         "source": "Portugal",
         "target": "APF (Terra Nostra)",
         "value": 4000
        },
        {
         "source": "Portugal",
         "target": "EGP (GEF)",
         "value": 8600
        },
        {
         "source": "Portugal",
         "target": "EPP (WMCES)",
         "value": 104970.11
        },
        {
         "source": "Republic of Cyprus",
         "target": "EGP (GEF)",
         "value": 17200
        },
        {
         "source": "Romania",
         "target": "ACRE (ND)",
         "value": 12671.23
        },
        {
         "source": "Romania",
         "target": "ECPM (SALLUX)",
         "value": 13889
        },
        {
         "source": "Romania",
         "target": "EGP (GEF)",
         "value": 4240
        },
        {
         "source": "Romania",
         "target": "EPP (WMCES)",
         "value": 296454.09
        },
        {
         "source": "Romania",
         "target": "MENL (FENL)",
         "value": 3800
        },
        {
         "source": "Russia",
         "target": "EGP (GEF)",
         "value": 3440
        },
        {
         "source": "Serbia",
         "target": "ALDE (ELF)",
         "value": 2000
        },
        {
         "source": "Serbia",
         "target": "EPP (WMCES)",
         "value": 124539.84
        },
        {
         "source": "Slovakia",
         "target": "ACRE (ND)",
         "value": 10600
        },
        {
         "source": "Slovakia",
         "target": "APF (Terra Nostra)",
         "value": 4244
        },
        {
         "source": "Slovakia",
         "target": "ECPM (SALLUX)",
         "value": 2750
        },
        {
         "source": "Slovakia",
         "target": "EGP (GEF)",
         "value": 2150
        },
        {
         "source": "Slovakia",
         "target": "EPP (WMCES)",
         "value": 467882.56
        },
        {
         "source": "Slovakia",
         "target": "EUD (OEIC)",
         "value": 2207
        },
        {
         "source": "Slovenia",
         "target": "EPP (WMCES)",
         "value": 57289.9
        },
        {
         "source": "Slovenia",
         "target": "EUD (OEIC)",
         "value": 7650
        },
        {
         "source": "South-Korea",
         "target": "ALDE (ELF)",
         "value": 3600
        },
        {
         "source": "Spain",
         "target": "ACRE (ND)",
         "value": 1323.07
        },
        {
         "source": "Spain",
         "target": "ECPM (SALLUX)",
         "value": 10000
        },
        {
         "source": "Spain",
         "target": "EFA (CMC)",
         "value": 24717.32
        },
        {
         "source": "Spain",
         "target": "EGP (GEF)",
         "value": 82010
        },
        {
         "source": "Spain",
         "target": "EPP (WMCES)",
         "value": 21223.28
        },
        {
         "source": "Sweden",
         "target": "ACRE (ND)",
         "value": 12000
        },
        {
         "source": "Sweden",
         "target": "ADDE (IDDE)",
         "value": 18000
        },
        {
         "source": "Sweden",
         "target": "ALDE (ELF)",
         "value": 20500
        },
        {
         "source": "Sweden",
         "target": "APF (Terra Nostra)",
         "value": 2895.45
        },
        {
         "source": "Sweden",
         "target": "EAF (EFF)",
         "value": 79500
        },
        {
         "source": "Sweden",
         "target": "EFA (CMC)",
         "value": 750
        },
        {
         "source": "Sweden",
         "target": "EGP (GEF)",
         "value": 106533
        },
        {
         "source": "Sweden",
         "target": "EPP (WMCES)",
         "value": 25409.61
        },
        {
         "source": "Sweden",
         "target": "EUD (OEIC)",
         "value": 51850.73
        },
        {
         "source": "Switzerland",
         "target": "ACRE (ND)",
         "value": 586
        },
        {
         "source": "Switzerland",
         "target": "ALDE (ELF)",
         "value": 48000
        },
        {
         "source": "Switzerland",
         "target": "APF (Terra Nostra)",
         "value": 3000
        },
        {
         "source": "Switzerland",
         "target": "ECPM (SALLUX)",
         "value": 4395
        },
        {
         "source": "Switzerland",
         "target": "EGP (GEF)",
         "value": 8600
        },
        {
         "source": "Switzerland",
         "target": "EPP (WMCES)",
         "value": 13000
        },
        {
         "source": "Switzerland",
         "target": "EUD (OEIC)",
         "value": 2199
        },
        {
         "source": "Tunesia",
         "target": "ACRE (ND)",
         "value": 400
        },
        {
         "source": "UK",
         "target": "ACRE (ND)",
         "value": 164493.88
        },
        {
         "source": "UK",
         "target": "ALDE (ELF)",
         "value": 88890.49
        },
        {
         "source": "UK",
         "target": "EAF (EFF)",
         "value": 20600
        },
        {
         "source": "UK",
         "target": "ECPM (SALLUX)",
         "value": 40308
        },
        {
         "source": "UK",
         "target": "EFA (CMC)",
         "value": 6072.84
        },
        {
         "source": "UK",
         "target": "EGP (GEF)",
         "value": 25030
        },
        {
         "source": "UK",
         "target": "EPP (WMCES)",
         "value": 12372.29
        },
        {
         "source": "UK",
         "target": "EUD (OEIC)",
         "value": 20625
        },
        {
         "source": "USA",
         "target": "ACRE (ND)",
         "value": 108191.88
        },
        {
         "source": "USA",
         "target": "ADDE (IDDE)",
         "value": 2680.49
        },
        {
         "source": "USA",
         "target": "ALDE (ELF)",
         "value": 132380
        },
        {
         "source": "USA",
         "target": "APF (Terra Nostra)",
         "value": 4580
        },
        {
         "source": "USA",
         "target": "EAF (EFF)",
         "value": 45385
        },
        {
         "source": "USA",
         "target": "ECPM (SALLUX)",
         "value": 50541
        },
        {
         "source": "USA",
         "target": "EPP (WMCES)",
         "value": 317419.93
        },
        {
         "source": "USA",
         "target": "PES (FEPS)",
         "value": 36000
        },
        {
         "source": "Ukraine",
         "target": "EGP (GEF)",
         "value": 3440
        }
       ],
       "margins": {
        "bottom": 0,
        "left": 150,
        "right": 100,
        "top": 0
       },
       "nodes": [
        {
         "id": "Iceland"
        },
        {
         "id": "ACRE (ND)"
        },
        {
         "id": "India"
        },
        {
         "id": "Lichtenstein"
        },
        {
         "id": "Pakistan"
        },
        {
         "id": "Armenia"
        },
        {
         "id": "UK"
        },
        {
         "id": "Hungary"
        },
        {
         "id": "Republic of Cyprus"
        },
        {
         "id": "Croatia"
        },
        {
         "id": "EFA (CMC)"
        },
        {
         "id": "Czech Republic"
        },
        {
         "id": "France"
        },
        {
         "id": "Lebanon"
        },
        {
         "id": "Estonia"
        },
        {
         "id": "Argentina"
        },
        {
         "id": "Bulgaria"
        },
        {
         "id": "Ireland"
        },
        {
         "id": "ADDE (IDDE)"
        },
        {
         "id": "Lithuania"
        },
        {
         "id": "Norway"
        },
        {
         "id": "Russia"
        },
        {
         "id": "Sweden"
        },
        {
         "id": "Austria"
        },
        {
         "id": "ECPM (SALLUX)"
        },
        {
         "id": "Finland"
        },
        {
         "id": "Slovenia"
        },
        {
         "id": "Ukraine"
        },
        {
         "id": "EL (TE)"
        },
        {
         "id": "PES (FEPS)"
        },
        {
         "id": "Bosnia"
        },
        {
         "id": "EAF (EFF)"
        },
        {
         "id": "Denmark"
        },
        {
         "id": "Latvia"
        },
        {
         "id": "Netherlands"
        },
        {
         "id": "Luxembourg"
        },
        {
         "id": "HongKong"
        },
        {
         "id": "Malta"
        },
        {
         "id": "ALDE (ELF)"
        },
        {
         "id": "Guatemala"
        },
        {
         "id": "Tunesia"
        },
        {
         "id": "South-Korea"
        },
        {
         "id": "Belgium"
        },
        {
         "id": "Greece"
        },
        {
         "id": "Israel"
        },
        {
         "id": "USA"
        },
        {
         "id": "EPP (WMCES)"
        },
        {
         "id": "EUD (OEIC)"
        },
        {
         "id": "Dominican Republic"
        },
        {
         "id": "Georgia"
        },
        {
         "id": "Poland"
        },
        {
         "id": "Romania"
        },
        {
         "id": "Portugal"
        },
        {
         "id": "Slovakia"
        },
        {
         "id": "Spain"
        },
        {
         "id": "Serbia"
        },
        {
         "id": "Monaco"
        },
        {
         "id": "APF (Terra Nostra)"
        },
        {
         "id": "Italy"
        },
        {
         "id": "EDP (IED)"
        },
        {
         "id": "Switzerland"
        },
        {
         "id": "Faroe Islands"
        },
        {
         "id": "EGP (GEF)"
        },
        {
         "id": "Germany"
        },
        {
         "id": "MENL (FENL)"
        },
        {
         "id": "Albania"
        }
       ],
       "order": [],
       "png": "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",
       "scale": 0.00015506389937051588,
       "svg": "<?xml version=\"1.0\" standalone=\"no\"?><!DOCTYPE svg PUBLIC \"-//W3C//DTD SVG 1.1//EN\" \"http://www.w3.org/Graphics/SVG/1.1/DTD/svg11.dtd\"><svg xmlns=\"http://www.w3.org/2000/svg\" width=\"1000\" height=\"2500\" viewBox=\"0 0 1000 2500\"><g class=\"sankey\" transform=\"translate(150,0)\"><g class=\"groups\"/><g class=\"links\"><g class=\"link\" style=\"opacity: 0.8;\"><path d=\"M1,488.58970561358706 A715.6785073105095 715.6785073105095 0.195156779974631 0 0 139.78462033370823,475.00418002631585 L609.8275389838734,382.0895238431742 A717.6785073105095 717.6785073105095 0.195156779974631 0 1 749,368.4660328134634 L749,370.4660328134634 A715.6785073105095 715.6785073105095 0.195156779974631 0 0 610.2153796662917,384.0515584007346 L140.17246101612653,476.96621458387625 A717.6785073105095 717.6785073105095 0.195156779974631 0 1 1,490.58970561358706 Z\" style=\"fill: rgb(31, 119, 180);\"/><title>Tunesia → ACRE (ND)\n400</title><text class=\"label\" dy=\"0.35em\" x=\"5\" y=\"489.58970561358706\"/></g><g class=\"link\" style=\"opacity: 0.8;\"><path d=\"M1,357.34018800780046 A1001 1001 0.00777958181278704 0 1 8.78728284386178,357.3704790625648 L741.2282761628193,363.06867864886834 A999 999 0.00777958181278704 0 0 749,363.0989091820448 L749,365.0989091820448 A1001 1001 0.00777958181278704 0 1 741.2127171561382,365.06861812728044 L8.771723837180739,359.3704185409769 A999 999 0.00777958181278704 0 0 1,359.34018800780046 Z\" style=\"fill: rgb(31, 119, 180);\"/><title>Dominican Republic → ACRE (ND)\n457</title><text class=\"label\" dy=\"0.35em\" x=\"5\" y=\"358.34018800780046\"/></g><g class=\"link\" style=\"opacity: 0.8;\"><path d=\"M1,417.1826089635905 A999 999 0.07917995900713115 0 0 80.01815168092263,414.052646521168 L669.8236538212176,367.2540293595686 A1001 1001 0.07917995900713115 0 1 749,364.1178007260702 L749,366.1178007260702 A999 999 0.07917995900713115 0 0 669.9818483190774,369.24776316849267 L80.17634617878234,416.04638033009206 A1001 1001 0.07917995900713115 0 1 1,419.1826089635905 Z\" style=\"fill: rgb(31, 119, 180);\"/><title>Israel → ACRE (ND)\n500</title><text class=\"label\" dy=\"0.35em\" x=\"5\" y=\"418.1826089635905\"/></g><g class=\"link\" style=\"opacity: 0.8;\"><path d=\"M1,1809.9912943756349 A243.1099323814838 243.1099323814838 0.7189931852352902 0 0 161.11886481550215,1749.81410469683 L586.1033494075907,1377.8302147068073 A247.32746985386257 247.32746985386257 0.7189931852352902 0 1 749,1316.6090547139697 L749,1318.6090547139697 A245.32746985386257 245.32746985386257 0.7189931852352902 0 0 587.4206042251706,1379.335153159224 L162.43611963308194,1751.319043149247 A245.1099323814838 245.1099323814838 0.7189931852352902 0 1 1,1811.9912943756349 Z\" style=\"fill: rgb(31, 119, 180);\"/><title>Estonia → EGP (GEF)\n575</title><text class=\"label\" dy=\"0.35em\" x=\"5\" y=\"1810.9912943756349\"/></g><g class=\"link\" style=\"opacity: 0.8;\"><path d=\"M1,2103.0824414795397 A289.4756908282556 289.4756908282556 1.4127478182412072 0 0 286.86775597734686,1859.1677172013026 L461.15717139973674,765.6061040449223 A291.4756908282556 291.4756908282556 1.4127478182412072 0 1 749,520.006162444427 L749,522.006162444427 A289.4756908282556 289.4756908282556 1.4127478182412072 0 0 463.13224402265314,765.920886722664 L288.84282860026326,1859.4824998790443 A291.4756908282556 291.4756908282556 1.4127478182412072 0 1 1,2105.0824414795397 Z\" style=\"fill: rgb(31, 119, 180);\"/><title>Switzerland → ACRE (ND)\n586</title><text class=\"label\" dy=\"0.35em\" x=\"5\" y=\"2104.0824414795397\"/></g><g class=\"link\" style=\"opacity: 0.8;\"><path d=\"M1,1199.5715341700377 A255.57583211992983 255.57583211992983 0.660601238062436 0 0 157.81921302199868,1145.8043747848433 L581.8565172570777,816.2982369117638 A272.40179224374134 272.40179224374134 0.660601238062436 0 1 749,758.991290245895 L749,760.991290245895 A270.40179224374134 270.40179224374134 0.660601238062436 0 0 583.0837006861307,817.8774838308545 L159.04639645105163,1147.3836217039343 A257.5758321199298 257.5758321199298 0.660601238062436 0 1 1,1201.5715341700377 Z\" style=\"fill: rgb(31, 119, 180);\"/><title>Malta → ECPM (SALLUX)\n600</title><text class=\"label\" dy=\"0.35em\" x=\"5\" y=\"1200.5715341700377\"/></g><g class=\"link\" style=\"opacity: 0.8;\"><path d=\"M1,372.13305888233003 A999 999 0.012158490651653642 0 0 13.146032900070505,372.0592192589569 L736.8296507177471,363.2598851540802 A1001 1001 0.012158490651653642 0 1 749,363.1858977036332 L749,365.1858977036332 A999 999 0.012158490651653642 0 0 736.8539670999295,365.25973732700635 L13.170349282252829,374.059071431883 A1001 1001 0.012158490651653642 0 1 1,374.13305888233003 Z\" style=\"fill: rgb(31, 119, 180);\"/><title>Faroe Islands → ACRE (ND)\n665</title><text class=\"label\" dy=\"0.35em\" x=\"5\" y=\"373.13305888233003\"/></g><g class=\"link\" style=\"opacity: 0.8;\"><path d=\"M1,1682.1614062969315 A317.03904436092614 317.03904436092614 0.4847718134034884 0 1 148.742247927131,1718.6902301190555 L602.1897650255635,1957.5170199751192 A315.03904436092614 315.03904436092614 0.4847718134034884 0 0 749,1993.8154064143916 L749,1995.8154064143916 A317.03904436092614 317.03904436092614 0.4847718134034884 0 1 601.2577520728689,1959.2865825922677 L147.8102349744365,1720.459792736204 A315.03904436092614 315.03904436092614 0.4847718134034884 0 0 1,1684.1614062969315 Z\" style=\"fill: rgb(31, 119, 180);\"/><title>Italy → APF (Terra Nostra)\n750</title><text class=\"label\" dy=\"0.35em\" x=\"5\" y=\"1683.1614062969315\"/></g><g class=\"link\" style=\"opacity: 0.8;\"><path d=\"M1,1747.8158783393258 A288.6862083628306 288.6862083628306 0.9518171948052816 0 0 236.1266004318982,1626.6265614946549 L564.5154441618959,1165.6451561315291 A226.50838666732997 226.50838666732997 0.9518171948052816 0 1 749,1070.5578404073858 L749,1072.5578404073858 A224.50838666732997 224.50838666732997 0.9518171948052816 0 0 566.1443865472306,1166.8055641223925 L237.75554281723296,1627.7869694855183 A290.6862083628306 290.6862083628306 0.9518171948052816 0 1 1,1749.8158783393258 Z\" style=\"fill: rgb(31, 119, 180);\"/><title>Sweden → EFA (CMC)\n750</title><text class=\"label\" dy=\"0.35em\" x=\"5\" y=\"1748.8158783393258\"/></g><g class=\"link\" style=\"opacity: 0.8;\"><path d=\"M1,1603.6536715637978 A262.68096920508924 262.68096920508924 0.7761548504635115 0 0 185.01869901811912,1528.4251229731246 L582.0065355852083,1138.709242155764 A238.37797635485865 238.37797635485865 0.7761548504635115 0 1 749,1070.440767163361 L749,1072.440767163361 A236.37797635485865 236.37797635485865 0.7761548504635115 0 0 583.4076169012625,1140.1364671365586 L186.41978033417323,1529.8523479539192 A264.68096920508924 264.68096920508924 0.7761548504635115 0 1 1,1605.6536715637978 Z\" style=\"fill: rgb(31, 119, 180);\"/><title>Finland → EFA (CMC)\n760</title><text class=\"label\" dy=\"0.35em\" x=\"5\" y=\"1604.6536715637978\"/></g><g class=\"link\" style=\"opacity: 0.8;\"><path d=\"M1,1040.824588430188 A1001 1001 0.032766109075905936 0 1 33.79300659008399,1041.3618861175119 L716.2725139026035,1063.7320903531738 A999 999 0.032766109075905936 0 0 749,1064.2683145186447 L749,1066.2683145186447 A1001 1001 0.032766109075905936 0 1 716.206993409916,1065.7310168313209 L33.72748609739651,1043.360812595659 A999 999 0.032766109075905936 0 0 1,1042.824588430188 Z\" style=\"fill: rgb(31, 119, 180);\"/><title>Croatia → EFA (CMC)\n815</title><text class=\"label\" dy=\"0.35em\" x=\"5\" y=\"1041.824588430188\"/></g><g class=\"link\" style=\"opacity: 0.8;\"><path d=\"M1,386.962646562272 A999 999 0.033072615840054276 0 0 34.033520456340376,386.4163443000593 L715.9003463695728,363.8569989910695 A1001 1001 0.033072615840054276 0 1 749,363.30960303063404 L749,365.30960303063404 A999 999 0.033072615840054276 0 0 715.9664795436597,365.8559052928468 L34.09965363042715,388.4152506018366 A1001 1001 0.033072615840054276 0 1 1,388.962646562272 Z\" style=\"fill: rgb(31, 119, 180);\"/><title>Guatemala → ACRE (ND)\n931</title><text class=\"label\" dy=\"0.35em\" x=\"5\" y=\"387.962646562272\"/></g><g class=\"link\" style=\"opacity: 0.8;\"><path d=\"M1,503.4041326960876 A429.91953172656366 429.91953172656366 0.33764054348828676 0 1 143.41590817719916,527.6778671338695 L607.2466153774077,690.5215890407527 A427.91953172656366 427.91953172656366 0.33764054348828676 0 0 749,714.6824012563676 L749,716.6824012563676 A429.91953172656366 429.91953172656366 0.33764054348828676 0 1 606.5840918228008,692.4086668185856 L142.75338462259228,529.5649449117025 A427.91953172656366 427.91953172656366 0.33764054348828676 0 0 1,505.4041326960876 Z\" style=\"fill: rgb(31, 119, 180);\"/><title>Albania → ECPM (SALLUX)\n1.00k</title><text class=\"label\" dy=\"0.35em\" x=\"5\" y=\"504.4041326960876\"/></g><g class=\"link\" style=\"opacity: 0.8;\"><path d=\"M1,2148.422299657451 A862.1839722640549 862.1839722640549 0.16152402843914104 0 1 139.65865384281426,2159.6450626155097 L610.6629913241185,2236.3921888946816 A860.1839722640549 860.1839722640549 0.16152402843914104 0 0 749,2247.588918515729 L749,2249.588918515729 A862.1839722640549 862.1839722640549 0.16152402843914104 0 1 610.3413461571857,2238.36615555767 L139.33700867588152,2161.619029278498 A860.1839722640549 860.1839722640549 0.16152402843914104 0 0 1,2150.422299657451 Z\" style=\"fill: rgb(31, 119, 180);\"/><title>Portugal → ALDE (ELF)\n1.00k</title><text class=\"label\" dy=\"0.35em\" x=\"5\" y=\"2149.422299657451\"/></g><g class=\"link\" style=\"opacity: 0.8;\"><path d=\"M1,763.742916628884 A467.86907547875427 467.86907547875427 0.3074234321193543 0 1 142.57899498664193,785.6782975207449 L608.026212762307,933.4526193805314 A465.86907547875427 465.86907547875427 0.3074234321193543 0 0 749,955.2942330967378 L749,957.2942330967378 A467.86907547875427 467.86907547875427 0.3074234321193543 0 1 607.421005013358,935.3588522048769 L141.97378723769305,787.5845303450905 A465.86907547875427 465.86907547875427 0.3074234321193543 0 0 1,765.742916628884 Z\" style=\"fill: rgb(31, 119, 180);\"/><title>Belgium → EAF (EFF)\n1.12k</title><text class=\"label\" dy=\"0.35em\" x=\"5\" y=\"764.742916628884\"/></g><g class=\"link\" style=\"opacity: 0.8;\"><path d=\"M1,1160.4416745415613 A235.42011281146952 235.42011281146952 1.1966406803217897 0 1 220.13293807473764,1309.8188622115747 L486.88513838376343,1989.1796963012803 A281.59669118392077 281.59669118392077 1.1966406803217897 0 0 749,2167.856536117092 L749,2169.856536117092 A283.59669118392077 283.59669118392077 1.1966406803217897 0 1 485.0235052763983,1989.9106697437264 L218.2713049673725,1310.5498356540209 A233.42011281146952 233.42011281146952 1.1966406803217897 0 0 1,1162.4416745415613 Z\" style=\"fill: rgb(31, 119, 180);\"/><title>Austria → ALDE (ELF)\n1.20k</title><text class=\"label\" dy=\"0.35em\" x=\"5\" y=\"1161.4416745415613\"/></g><g class=\"link\" style=\"opacity: 0.8;\"><path d=\"M1,1982.765919281957 A370.10652682701806 370.10652682701806 0.40093355449747214 0 1 145.44444733619872,2012.1164588780853 L605.3361087300482,2207.061813776721 A368.10652682701806 368.10652682701806 0.40093355449747214 0 0 749,2236.253747471744 L749,2238.253747471744 A370.10652682701806 370.10652682701806 0.40093355449747214 0 1 604.5555526638013,2208.903207875616 L144.66389126995182,2013.9578529769801 A368.10652682701806 368.10652682701806 0.40093355449747214 0 0 1,1984.765919281957 Z\" style=\"fill: rgb(31, 119, 180);\"/><title>Hungary → ALDE (ELF)\n1.20k</title><text class=\"label\" dy=\"0.35em\" x=\"5\" y=\"1983.765919281957\"/></g><g class=\"link\" style=\"opacity: 0.8;\"><path d=\"M1,611.2904469099993 A455.2134226977915 455.2134226977915 0.31531598077818224 0 0 142.1693705398402,588.84771294427 L607.2103956818885,437.1517905913819 A457.2134226977915 457.2134226977915 0.31531598077818224 0 1 749,414.61045349645343 L749,416.61045349645343 A455.2134226977915 455.2134226977915 0.31531598077818224 0 0 607.8306294601598,439.0531874621827 L142.78960431811157,590.7491098150709 A457.2134226977915 457.2134226977915 0.31531598077818224 0 1 1,613.2904469099993 Z\" style=\"fill: rgb(31, 119, 180);\"/><title>France → ACRE (ND)\n1.24k</title><text class=\"label\" dy=\"0.35em\" x=\"5\" y=\"612.2904469099993\"/></g><g class=\"link\" style=\"opacity: 0.8;\"><path d=\"M1,1039.651921567796 A229.2785136354781 229.2785136354781 0.9213066181328489 0 0 183.59569240019246,949.0364885694811 L456.6495202982355,589.4710401569382 A367.0934542077343 367.0934542077343 0.9213066181328489 0 1 749,444.3883990649485 L749,446.3883990649485 A365.0934542077343 365.0934542077343 0.9213066181328489 0 0 458.2423053307702,590.6806003415234 L185.18847743272713,950.2460487540662 A231.2785136354781 231.2785136354781 0.9213066181328489 0 1 1,1041.651921567796 Z\" style=\"fill: rgb(31, 119, 180);\"/><title>Croatia → ACRE (ND)\n1.31k</title><text class=\"label\" dy=\"0.35em\" x=\"5\" y=\"1040.651921567796\"/></g><g class=\"link\" style=\"opacity: 0.8;\"><path d=\"M1,1062.294367377505 A227.52276962721547 227.52276962721547 0.9489535254764355 0 0 185.93195032476666,967.311344422437 L450.7900439722578,597.7563615033143 A366.8893071569765 366.8893071569765 0.9489535254764355 0 1 749,444.5925461157062 L749,446.5925461157062 A364.8893071569765 364.8893071569765 0.9489535254764355 0 0 452.4156566582124,598.9214294821309 L187.5575630107213,968.4764124012535 A229.52276962721547 229.52276962721547 0.9489535254764355 0 1 1,1064.294367377505 Z\" style=\"fill: rgb(31, 119, 180);\"/><title>Spain → ACRE (ND)\n1.32k</title><text class=\"label\" dy=\"0.35em\" x=\"5\" y=\"1063.294367377505\"/></g><g class=\"link\" style=\"opacity: 0.8;\"><path d=\"M1,1443.8670562099633 A249.31466469996622 249.31466469996622 0.7878890295725892 0 1 177.73066271428834,1517.3292972956244 L583.0403777647563,1924.6632030398816 A234.11991408759465 234.11991408759465 0.7878890295725892 0 0 749,1993.6482087648956 L749,1995.6482087648956 A236.11991408759465 236.11991408759465 0.7878890295725892 0 1 581.6226459764799,1926.073889601989 L176.31293092601211,1518.7399838577319 A247.31466469996622 247.31466469996622 0.7878890295725892 0 0 1,1445.8670562099633 Z\" style=\"fill: rgb(31, 119, 180);\"/><title>Germany → APF (Terra Nostra)\n1.41k</title><text class=\"label\" dy=\"0.35em\" x=\"5\" y=\"1444.8670562099633\"/></g><g class=\"link\" style=\"opacity: 0.8;\"><path d=\"M1,763.501249541715 A999 999 0.05386327942538727 0 0 54.78340079959506,762.0524240678293 L695.1089247243297,727.5289979269949 A1001 1001 0.05386327942538727 0 1 749,726.0772719016098 L749,728.0772719016098 A999 999 0.05386327942538727 0 0 695.216599200405,729.5260973754955 L54.89107527567032,764.0495235163299 A1001 1001 0.05386327942538727 0 1 1,765.501249541715 Z\" style=\"fill: rgb(31, 119, 180);\"/><title>Belgium → ECPM (SALLUX)\n2.00k</title><text class=\"label\" dy=\"0.35em\" x=\"5\" y=\"764.501249541715\"/></g><g class=\"link\" style=\"opacity: 0.8;\"><path d=\"M1,1246.2083364403668 A244.53715516052273 244.53715516052273 0.720732106771937 0 0 162.37860237180567,1185.3975183971015 L569.8772433115261,827.4653777193497 A271.42488967770703 271.42488967770703 0.720732106771937 0 1 749,759.9681928119293 L749,761.9681928119293 A269.42488967770703 269.42488967770703 0.720732106771937 0 0 571.1971131060844,828.9680232947973 L163.69847216636404,1186.9001639725493 A246.53715516052273 246.53715516052273 0.720732106771937 0 1 1,1248.2083364403668 Z\" style=\"fill: rgb(31, 119, 180);\"/><title>Germany → ECPM (SALLUX)\n2.00k</title><text class=\"label\" dy=\"0.35em\" x=\"5\" y=\"1247.2083364403668\"/></g><g class=\"link\" style=\"opacity: 0.8;\"><path d=\"M1,2233.5808237099545 A1001 1001 0.02020330037310214 0 1 21.22212791902593,2233.785107520868 L728.8182759329601,2248.082830411445 A999 999 0.02020330037310214 0 0 749,2248.286706062896 L749,2250.286706062896 A1001 1001 0.02020330037310214 0 1 728.7778720809741,2250.0824222519823 L21.181724067039866,2235.7846993614057 A999 999 0.02020330037310214 0 0 1,2235.5808237099545 Z\" style=\"fill: rgb(31, 119, 180);\"/><title>Serbia → ALDE (ELF)\n2.00k</title><text class=\"label\" dy=\"0.35em\" x=\"5\" y=\"2234.5808237099545\"/></g><g class=\"link\" style=\"opacity: 0.8;\"><path d=\"M1,1224.3356363556475 A1001 1001 0.021621339308877108 0 1 22.641274404048428,1224.569602138774 L727.4019649054502,1239.8098470820012 A999 999 0.021621339308877108 0 0 749,1240.0433454010254 L749,1242.0433454010254 A1001 1001 0.021621339308877108 0 1 727.3587255959516,1241.809379617899 L22.598035094549832,1226.5691346746717 A999 999 0.021621339308877108 0 0 1,1226.3356363556475 Z\" style=\"fill: rgb(31, 119, 180);\"/><title>Ireland → EGP (GEF)\n2.15k</title><text class=\"label\" dy=\"0.35em\" x=\"5\" y=\"1225.3356363556475\"/></g><g class=\"link\" style=\"opacity: 0.8;\"><path d=\"M1,1207.2278142014572 A1001 1001 0.046255215746140665 0 1 47.28496204807471,1208.29846555316 L702.8075153985749,1238.641445829216 A999 999 0.046255215746140665 0 0 749,1239.7099580173788 L749,1241.7099580173788 A1001 1001 0.046255215746140665 0 1 702.7150379519253,1240.639306665676 L47.192484601425214,1210.29632638962 A999 999 0.046255215746140665 0 0 1,1209.2278142014572 Z\" style=\"fill: rgb(31, 119, 180);\"/><title>Malta → EGP (GEF)\n2.15k</title><text class=\"label\" dy=\"0.35em\" x=\"5\" y=\"1208.2278142014572\"/></g><g class=\"link\" style=\"opacity: 0.8;\"><path d=\"M1,1863.5457018812301 A266.304297706148 266.304297706148 0.7866323090935716 0 0 189.53782781723785,1785.3144390809991 L579.2670768503733,1394.6220355351732 A239.7429068759022 239.7429068759022 0.7866323090935716 0 1 749,1324.19361769193 L749,1326.19361769193 A237.7429068759022 237.7429068759022 0.7866323090935716 0 0 580.6830346808795,1396.0345026754028 L190.95378564774407,1786.7269062212288 A268.304297706148 268.304297706148 0.7866323090935716 0 1 1,1865.5457018812301 Z\" style=\"fill: rgb(31, 119, 180);\"/><title>Slovakia → EGP (GEF)\n2.15k</title><text class=\"label\" dy=\"0.35em\" x=\"5\" y=\"1864.5457018812301\"/></g><g class=\"link\" style=\"opacity: 0.8;\"><path d=\"M1,2107.794445721661 A999 999 0.045548297816103034 0 0 46.48701745654543,2106.758338476758 L703.4219174434414,2076.81536210211 A1001 1001 0.045548297816103034 0 1 749,2075.7771805684292 L749,2077.7771805684292 A999 999 0.045548297816103034 0 0 703.5129825434545,2078.813287813332 L46.57808255655853,2108.75626418798 A1001 1001 0.045548297816103034 0 1 1,2109.794445721661 Z\" style=\"fill: rgb(31, 119, 180);\"/><title>Switzerland → EUD (OEIC)\n2.20k</title><text class=\"label\" dy=\"0.35em\" x=\"5\" y=\"2108.794445721661\"/></g><g class=\"link\" style=\"opacity: 0.8;\"><path d=\"M1,1937.0932939759964 A654.1834321460065 654.1834321460065 0.21492142668005676 0 1 140.5181345351793,1952.1439910581882 L609.9084067915477,2054.6085521131463 A652.1834321460065 652.1834321460065 0.21492142668005676 0 0 749,2069.6132355045515 L749,2071.6132355045515 A654.1834321460065 654.1834321460065 0.21492142668005676 0 1 609.4818654648208,2056.5625384223595 L140.09159320845234,1954.0979773674019 A652.1834321460065 652.1834321460065 0.21492142668005676 0 0 1,1939.0932939759964 Z\" style=\"fill: rgb(31, 119, 180);\"/><title>Slovakia → EUD (OEIC)\n2.21k</title><text class=\"label\" dy=\"0.35em\" x=\"5\" y=\"1938.0932939759964\"/></g><g class=\"link\" style=\"opacity: 0.8;\"><path d=\"M1,518.3825010861975 A582.1144001266193 582.1144001266193 0.2421190820664325 0 0 140.5680024151903,501.4034365532812 L608.9524767126759,385.72940004782504 A584.1144001266193 584.1144001266193 0.2421190820664325 0 1 749,368.6919996808211 L749,370.6919996808211 A582.1144001266193 582.1144001266193 0.2421190820664325 0 0 609.4319975848098,387.6710642137374 L141.04752328732414,503.34510071919357 A584.1144001266193 584.1144001266193 0.2421190820664325 0 1 1,520.3825010861975 Z\" style=\"fill: rgb(31, 119, 180);\"/><title>Georgia → ACRE (ND)\n2.51k</title><text class=\"label\" dy=\"0.35em\" x=\"5\" y=\"519.3825010861975\"/></g><g class=\"link\" style=\"opacity: 0.8;\"><path d=\"M1,895.6687052611037 A228.4867338511376 228.4867338511376 0.8670192615739626 0 0 175.19908219893307,815.0361810457082 L536.6642991367195,389.16457960447894 A278.5083030164225 278.5083030164225 0.8670192615739626 0 1 749,290.87954086874487 L749,292.87954086874487 A276.5083030164225 276.5083030164225 0.8670192615739626 0 0 538.189106107022,390.45878349232544 L176.72388916923558,816.3303849335546 A230.4867338511376 230.4867338511376 0.8670192615739626 0 1 1,897.6687052611037 Z\" style=\"fill: rgb(31, 119, 180);\"/><title>USA → ADDE (IDDE)\n2.68k</title><text class=\"label\" dy=\"0.35em\" x=\"5\" y=\"896.6687052611037\"/></g><g class=\"link\" style=\"opacity: 0.8;\"><path d=\"M1,1863.1657953277722 A265.92439115269025 265.92439115269025 1.249113702080929 0 0 253.2837402375492,1681.3169429582608 L497.7770007788771,947.6710439850783 A264.8062972608753 264.8062972608753 1.249113702080929 0 1 749,766.5867852287611 L749,768.5867852287611 A262.8062972608753 262.8062972608753 1.249113702080929 0 0 499.674410333104,948.3033706281421 L255.18114979177616,1681.9492696013244 A267.92439115269025 267.92439115269025 1.249113702080929 0 1 1,1865.1657953277722 Z\" style=\"fill: rgb(31, 119, 180);\"/><title>Slovakia → ECPM (SALLUX)\n2.75k</title><text class=\"label\" dy=\"0.35em\" x=\"5\" y=\"1864.1657953277722\"/></g><g class=\"link\" style=\"opacity: 0.8;\"><path d=\"M1,1768.5580527850293 A406.94061490392255 406.94061490392255 0.3592410011147307 0 1 144.06558375269742,1794.5355424341806 L606.6375438217594,1968.2482277515662 A404.94061490392255 404.94061490392255 0.3592410011147307 0 0 749,1994.098045260372 L749,1996.098045260372 A406.94061490392255 406.94061490392255 0.3592410011147307 0 1 605.9344162473026,1970.1205556112207 L143.3624561782405,1796.407870293835 A404.94061490392255 404.94061490392255 0.3592410011147307 0 0 1,1770.5580527850293 Z\" style=\"fill: rgb(31, 119, 180);\"/><title>Sweden → APF (Terra Nostra)\n2.90k</title><text class=\"label\" dy=\"0.35em\" x=\"5\" y=\"1769.5580527850293\"/></g><g class=\"link\" style=\"opacity: 0.8;\"><path d=\"M1,1579.6675032523842 A229.74129826099454 229.74129826099454 0.8360259586886357 0 0 171.46453333147062,1503.9486286923923 L560.5689627331053,1073.3067560263798 A253.95541399913063 253.95541399913063 0.8360259586886357 0 1 749,989.6073154730933 L749,991.6073154730933 A251.95541399913063 251.95541399913063 0.8360259586886357 0 0 562.0529321771869,1074.6475896062966 L172.94850277555216,1505.289462272309 A231.74129826099454 231.74129826099454 0.8360259586886357 0 1 1,1581.6675032523842 Z\" style=\"fill: rgb(31, 119, 180);\"/><title>Bulgaria → EAF (EFF)\n3.00k</title><text class=\"label\" dy=\"0.35em\" x=\"5\" y=\"1580.6675032523842\"/></g><g class=\"link\" style=\"opacity: 0.8;\"><path d=\"M1,2199.1756483912072 A1001 1001 0.07194955252061241 0 1 72.95937874606118,2201.765488281405 L677.1843962364484,2245.3143809295475 A999 999 0.07194955252061241 0 0 749,2247.89904631447 L749,2249.89904631447 A1001 1001 0.07194955252061241 0 1 677.0406212539389,2247.3092064242724 L72.81560376355155,2203.76031377613 A999 999 0.07194955252061241 0 0 1,2201.1756483912072 Z\" style=\"fill: rgb(31, 119, 180);\"/><title>Denmark → ALDE (ELF)\n3.00k</title><text class=\"label\" dy=\"0.35em\" x=\"5\" y=\"2200.1756483912072\"/></g><g class=\"link\" style=\"opacity: 0.8;\"><path d=\"M1,2107.3913571152475 A763.9725157641636 763.9725157641636 0.182436105360257 0 0 139.60431470025702,2094.71295738654 L610.0328337263154,2007.9248126328728 A765.9725157641636 765.9725157641636 0.182436105360257 0 1 749,1995.2132221820723 L749,1997.2132221820723 A763.9725157641636 763.9725157641636 0.182436105360257 0 0 610.395685299743,2009.8916219107798 L139.96716627368465,2096.6797666644466 A765.9725157641636 765.9725157641636 0.182436105360257 0 1 1,2109.3913571152475 Z\" style=\"fill: rgb(31, 119, 180);\"/><title>Switzerland → APF (Terra Nostra)\n3.00k</title><text class=\"label\" dy=\"0.35em\" x=\"5\" y=\"2108.3913571152475\"/></g><g class=\"link\" style=\"opacity: 0.8;\"><path d=\"M1,1628.5644125345693 A259.8959283384821 259.8959283384821 0.6460441407295936 0 1 157.46579112519126,1680.9408242619882 L592.0648973320598,2008.6203316425167 A260.67547355539864 260.67547355539864 0.6460441407295936 0 0 749,2061.153843873596 L749,2063.153843873596 A262.67547355539864 262.67547355539864 0.6460441407295936 0 1 590.860832365552,2010.2172748338758 L156.2617261586835,1682.5377674533472 A257.8959283384821 257.8959283384821 0.6460441407295936 0 0 1,1630.5644125345693 Z\" style=\"fill: rgb(31, 119, 180);\"/><title>Finland → EUD (OEIC)\n3.20k</title><text class=\"label\" dy=\"0.35em\" x=\"5\" y=\"1629.5644125345693\"/></g><g class=\"link\" style=\"opacity: 0.8;\"><path d=\"M1,1715.8056401361318 A262.95677739043185 262.95677739043185 0.6250008753458236 0 0 154.85548001825862,1666.0969765566138 L593.8420905266156,1349.374382980759 A265.1827796898468 265.1827796898468 0.6250008753458236 0 1 749,1299.2449217305095 L749,1301.2449217305095 A263.1827796898468 263.1827796898468 0.6250008753458236 0 0 595.0122864922424,1350.9963081954438 L156.02567598388544,1667.7189017712985 A264.95677739043185 264.95677739043185 0.6250008753458236 0 1 1,1717.8056401361318 Z\" style=\"fill: rgb(31, 119, 180);\"/><title>Russia → EGP (GEF)\n3.44k</title><text class=\"label\" dy=\"0.35em\" x=\"5\" y=\"1716.8056401361318\"/></g><g class=\"link\" style=\"opacity: 0.8;\"><path d=\"M1,1794.9741212447072 A246.12993748437304 246.12993748437304 0.7008295926612443 0 0 159.71737578823615,1736.963137480998 L588.992920265869,1374.7801327279149 A248.12993748437304 248.12993748437304 0.7008295926612443 0 1 749,1316.2977639359833 L749,1318.2977639359833 A246.12993748437304 246.12993748437304 0.7008295926612443 0 0 590.2826242117638,1376.3087476996925 L161.00707973413108,1738.4917524527757 A248.12993748437304 248.12993748437304 0.7008295926612443 0 1 1,1796.9741212447072 Z\" style=\"fill: rgb(31, 119, 180);\"/><title>Ukraine → EGP (GEF)\n3.44k</title><text class=\"label\" dy=\"0.35em\" x=\"5\" y=\"1795.9741212447072\"/></g><g class=\"link\" style=\"opacity: 0.8;\"><path d=\"M1,2248.7208849811336 A0 0 0 0 0 1,2248.7208849811336 L749,2248.7208849811336 A0 0 0 0 0 749,2248.7208849811336 L749,2250.7208849811336 A0 0 0 0 0 749,2250.7208849811336 L1,2250.7208849811336 A0 0 0 0 0 1,2250.7208849811336 Z\" style=\"fill: rgb(31, 119, 180);\"/><title>South-Korea → ALDE (ELF)\n3.60k</title><text class=\"label\" dy=\"0.35em\" x=\"5\" y=\"2249.7208849811336\"/></g><g class=\"link\" style=\"opacity: 0.8;\"><path d=\"M1,451.5706494386941 A999 999 0.13727350993909315 0 0 137.7059424682562,442.1728348111122 L612.0203719612367,376.6499387741259 A1001 1001 0.13727350993909315 0 1 749,367.2333097028452 L749,369.2333097028452 A999 999 0.13727350993909315 0 0 612.2940575317438,378.6311243304271 L137.97962803876325,444.15402036741335 A1001 1001 0.13727350993909315 0 1 1,453.5706494386941 Z\" style=\"fill: rgb(31, 119, 180);\"/><title>Lithuania → ACRE (ND)\n3.68k</title><text class=\"label\" dy=\"0.35em\" x=\"5\" y=\"452.5706494386941\"/></g><g class=\"link\" style=\"opacity: 0.8;\"><path d=\"M1,690.1993417471944 A813.2556393546944 813.2556393546944 0.17108077337593408 0 0 139.45469377797392,678.3269020623334 L610.2048113343723,596.9955696871735 A815.2556393546944 815.2556393546944 0.17108077337593408 0 1 749,585.0939326894129 L749,587.0939326894129 A813.2556393546944 813.2556393546944 0.17108077337593408 0 0 610.5453062220262,598.9663723742739 L139.79518866562776,680.2977047494337 A815.2556393546944 815.2556393546944 0.17108077337593408 0 1 1,692.1993417471944 Z\" style=\"fill: rgb(31, 119, 180);\"/><title>Romania → MENL (FENL)\n3.80k</title><text class=\"label\" dy=\"0.35em\" x=\"5\" y=\"691.1993417471944\"/></g><g class=\"link\" style=\"opacity: 0.8;\"><path d=\"M1,522.267355723102 A230.3635649961826 230.3635649961826 0.8404392921267517 0 1 172.6061723817424,598.9471750653016 L578.8837001368096,1052.6043342273204 A228.3635649961826 228.3635649961826 0.8404392921267517 0 0 749,1128.6184248606985 L749,1130.6184248606985 A230.3635649961826 230.3635649961826 0.8404392921267517 0 1 577.3938276182577,1053.938605518499 L171.11629986319036,600.2814463564802 A228.3635649961826 228.3635649961826 0.8404392921267517 0 0 1,524.267355723102 Z\" style=\"fill: rgb(31, 119, 180);\"/><title>Georgia → EGP (GEF)\n4.00k</title><text class=\"label\" dy=\"0.35em\" x=\"5\" y=\"523.267355723102\"/></g><g class=\"link\" style=\"opacity: 0.8;\"><path d=\"M1,2148.034639909025 A572.9734020514687 572.9734020514687 0.24619940768014126 0 0 140.6449286893678,2130.757029950474 L608.8676318302325,2013.0938643817915 A574.9734020514687 574.9734020514687 0.24619940768014126 0 1 749,1995.755945829869 L749,1997.755945829869 A572.9734020514687 572.9734020514687 0.24619940768014126 0 0 609.3550713106322,2015.0335557884198 L141.13236816976737,2132.6967213571024 A574.9734020514687 574.9734020514687 0.24619940768014126 0 1 1,2150.034639909025 Z\" style=\"fill: rgb(31, 119, 180);\"/><title>Portugal → APF (Terra Nostra)\n4.00k</title><text class=\"label\" dy=\"0.35em\" x=\"5\" y=\"2149.034639909025\"/></g><g class=\"link\" style=\"opacity: 0.8;\"><path d=\"M1,764.1414184451543 A325.9463997757579 325.9463997757579 0.4679552564240672 0 1 148.0221364644537,799.1831140372126 L602.8799881582794,1029.066550715598 A323.9463997757579 323.9463997757579 0.4679552564240672 0 0 749,1063.893231227777 L749,1065.893231227777 A325.9463997757579 325.9463997757579 0.4679552564240672 0 1 601.9778635355464,1030.8515356357186 L147.1200118417206,800.9680989573335 A323.9463997757579 323.9463997757579 0.4679552564240672 0 0 1,766.1414184451543 Z\" style=\"fill: rgb(31, 119, 180);\"/><title>Belgium → EFA (CMC)\n4.02k</title><text class=\"label\" dy=\"0.35em\" x=\"5\" y=\"765.1414184451543\"/></g><g class=\"link\" style=\"opacity: 0.8;\"><path d=\"M1,692.976381121021 A250.32794353369425 250.32794353369425 0.6976427230793163 0 1 161.81391372240432,751.4633372013258 L576.5417703460471,1099.1158938248498 A268.4538481493412 268.4538481493412 0.6976427230793163 0 0 749,1161.8378105420138 L749,1163.8378105420138 A270.4538481493412 270.4538481493412 0.6976427230793163 0 1 575.2569444376622,1100.6486111455395 L160.52908781401942,752.9960545220157 A248.32794353369425 248.32794353369425 0.6976427230793163 0 0 1,694.976381121021 Z\" style=\"fill: rgb(31, 119, 180);\"/><title>Romania → EGP (GEF)\n4.24k</title><text class=\"label\" dy=\"0.35em\" x=\"5\" y=\"693.976381121021\"/></g><g class=\"link\" style=\"opacity: 0.8;\"><path d=\"M1,1936.593135368577 A1001 1001 0.08771067165042856 0 1 88.68585108824556,1940.4410950462748 L661.4893454174253,1990.8113092919787 A999 999 0.08771067165042856 0 0 749,1994.6515807385524 L749,1996.6515807385524 A1001 1001 0.08771067165042856 0 1 661.3141489117545,1992.8036210608545 L88.51065458257474,1942.4334068151506 A999 999 0.08771067165042856 0 0 1,1938.593135368577 Z\" style=\"fill: rgb(31, 119, 180);\"/><title>Slovakia → APF (Terra Nostra)\n4.24k</title><text class=\"label\" dy=\"0.35em\" x=\"5\" y=\"1937.593135368577\"/></g><g class=\"link\" style=\"opacity: 0.8;\"><path d=\"M1,2103.468628120922 A289.8618774696379 289.8618774696379 1.3452423535169546 0 0 283.5197811989832,1878.4332980026743 L491.44108427478017,972.2940163103589 A264.2523314803741 264.2523314803741 1.3452423535169546 0 1 749,767.1407510092622 L749,769.1407510092622 A262.2523314803741 262.2523314803741 1.3452423535169546 0 0 493.39042499985413,972.7413089858725 L285.46912192405716,1878.8805906781877 A291.8618774696379 291.8618774696379 1.3452423535169546 0 1 1,2105.468628120922 Z\" style=\"fill: rgb(31, 119, 180);\"/><title>Switzerland → ECPM (SALLUX)\n4.40k</title><text class=\"label\" dy=\"0.35em\" x=\"5\" y=\"2104.468628120922\"/></g><g class=\"link\" style=\"opacity: 0.8;\"><path d=\"M1,402.08931806574 A999 999 0.05532236571501592 0 0 56.238856274487915,400.56095613746305 L693.6505554246623,365.26181389307794 A1001 1001 0.05532236571501592 0 1 749,363.7303921811608 L749,365.7303921811608 A999 999 0.05532236571501592 0 0 693.761143725512,367.25875410943775 L56.34944457533774,402.55789635382285 A1001 1001 0.05532236571501592 0 1 1,404.08931806574 Z\" style=\"fill: rgb(31, 119, 180);\"/><title>HongKong → ACRE (ND)\n4.50k</title><text class=\"label\" dy=\"0.35em\" x=\"5\" y=\"403.08931806574\"/></g><g class=\"link\" style=\"opacity: 0.8;\"><path d=\"M1,982.6856120715718 A258.3370179058776 258.3370179058776 1.1772318869234841 0 1 239.5866435486013,1141.9548332889472 L533.2329214533406,1849.1481107989014 A233.6284328617607 233.6284328617607 1.1772318869234841 0 0 749,1993.1840637481048 L749,1995.1840637481048 A235.6284328617607 235.6284328617607 1.1772318869234841 0 1 531.3858253965493,1849.9150763502696 L237.73954749180987,1142.7217988403154 A256.3370179058776 256.3370179058776 1.1772318869234841 0 0 1,984.6856120715718 Z\" style=\"fill: rgb(31, 119, 180);\"/><title>USA → APF (Terra Nostra)\n4.58k</title><text class=\"label\" dy=\"0.35em\" x=\"5\" y=\"983.6856120715718\"/></g><g class=\"link\" style=\"opacity: 0.8;\"><path d=\"M1,326.59002104260094 A1001 1001 0.050372545038486205 0 1 51.401596493216886,327.85971787532424 L698.699105997279,360.49334694681295 A999 999 0.050372545038486205 0 0 749,361.7605069227276 L749,363.7605069227276 A1001 1001 0.050372545038486205 0 1 698.5984035067831,362.4908100900043 L51.30089400272095,329.8571810185156 A999 999 0.050372545038486205 0 0 1,328.59002104260094 Z\" style=\"fill: rgb(31, 119, 180);\"/><title>Argentina → ACRE (ND)\n4.63k</title><text class=\"label\" dy=\"0.35em\" x=\"5\" y=\"327.59002104260094\"/></g><g class=\"link\" style=\"opacity: 0.8;\"><path d=\"M1,1223.781282915398 A249.38891475356945 249.38891475356945 0.692342859024011 0 0 160.19550697590122,1166.3601294152454 L575.3915534210417,822.0453096941949 A271.96761332550386 271.96761332550386 0.692342859024011 0 1 749,759.4254691641324 L749,761.4254691641324 A269.96761332550386 269.96761332550386 0.692342859024011 0 0 576.6682381296079,823.5848148597963 L161.47219168446745,1167.8996345808469 A251.38891475356945 251.38891475356945 0.692342859024011 0 1 1,1225.781282915398 Z\" style=\"fill: rgb(31, 119, 180);\"/><title>Ireland → ECPM (SALLUX)\n5.00k</title><text class=\"label\" dy=\"0.35em\" x=\"5\" y=\"1224.781282915398\"/></g><g class=\"link\" style=\"opacity: 0.8;\"><path d=\"M1,1661.0514722283276 A283.60500786096424 283.60500786096424 0.5581037944483613 0 0 151.19116402359248,1618.0174824328317 L597.7496786282608,1339.2260317732619 A285.60500786096424 285.60500786096424 0.5581037944483613 0 1 749,1295.8885636286348 L749,1297.8885636286348 A283.60500786096424 283.60500786096424 0.5581037944483613 0 0 598.8088359764075,1340.9225534241307 L152.25032137173935,1619.7140040837005 A285.60500786096424 285.60500786096424 0.5581037944483613 0 1 1,1663.0514722283276 Z\" style=\"fill: rgb(31, 119, 180);\"/><title>Italy → EGP (GEF)\n5.45k</title><text class=\"label\" dy=\"0.35em\" x=\"5\" y=\"1662.0514722283276\"/></g><g class=\"link\" style=\"opacity: 0.8;\"><path d=\"M1,1184.3958082020038 A228.0289330628553 228.0289330628553 1.0897300929227187 0 1 203.1481175503559,1306.9101314488169 L522.4875366166932,1918.7103602174182 A255.5126210258573 255.5126210258573 1.0897300929227187 0 0 749,2055.9909913440547 L749,2057.9909913440547 A257.5126210258573 257.5126210258573 1.0897300929227187 0 1 520.7145325085291,1919.6358095312291 L201.37511344219183,1307.8355807626278 A226.0289330628553 226.0289330628553 1.0897300929227187 0 0 1,1186.3958082020038 Z\" style=\"fill: rgb(31, 119, 180);\"/><title>Latvia → EUD (OEIC)\n5.46k</title><text class=\"label\" dy=\"0.35em\" x=\"5\" y=\"1185.3958082020038\"/></g><g class=\"link\" style=\"opacity: 0.8;\"><path d=\"M1,2015.4202378754517 A288.5421115660868 288.5421115660868 0.9686249541374684 0 0 238.78975311392193,1890.3179729228395 L554.8444906702699,1430.4877688983254 A235.59484755152582 235.59484755152582 0.9686249541374684 0 1 749,1328.3416770163064 L749,1330.3416770163064 A233.59484755152582 233.59484755152582 0.9686249541374684 0 0 556.4927059122205,1431.620635402465 L240.43796835587258,1891.4508394269792 A290.5421115660868 290.5421115660868 0.9686249541374684 0 1 1,2017.4202378754517 Z\" style=\"fill: rgb(31, 119, 180);\"/><title>Czech Republic → EGP (GEF)\n5.83k</title><text class=\"label\" dy=\"0.35em\" x=\"5\" y=\"2016.4202378754517\"/></g><g class=\"link\" style=\"opacity: 0.8;\"><path d=\"M1,473.39475172203123 A810.9363555082234 810.9363555082234 0.17158291586270535 0 0 139.46108515258396,461.48674401088607 L610.1974303789689,379.91433752430225 A812.9363555082234 812.9363555082234 0.17158291586270535 0 1 749,367.9769612748488 L749,369.9769612748488 A810.9363555082234 810.9363555082234 0.17158291586270535 0 0 610.538914847416,381.88496898599396 L139.80256962103107,463.4573754725778 A812.9363555082234 812.9363555082234 0.17158291586270535 0 1 1,475.39475172203123 Z\" style=\"fill: rgb(31, 119, 180);\"/><title>Pakistan → ACRE (ND)\n5.91k</title><text class=\"label\" dy=\"0.35em\" x=\"5\" y=\"474.39475172203123\"/></g><g class=\"link\" style=\"opacity: 0.8;\"><path d=\"M1,1041.3537401101923 A521.2768142049 521.2768142049 0.27337149914486014 0 1 141.7339323690679,1060.7107626077436 L608.8060261655688,1191.6737043882147 A519.2768142049 519.2768142049 0.27337149914486014 0 0 749,1210.9564591571038 L749,1212.9564591571038 A521.2768142049 521.2768142049 0.27337149914486014 0 1 608.2660676309321,1193.5994366595526 L141.19397383443126,1062.6364948790815 A519.2768142049 519.2768142049 0.27337149914486014 0 0 1,1043.3537401101923 Z\" style=\"fill: rgb(31, 119, 180);\"/><title>Croatia → EGP (GEF)\n6.01k</title><text class=\"label\" dy=\"0.35em\" x=\"5\" y=\"1042.3537401101923\"/></g><g class=\"link\" style=\"opacity: 0.8;\"><path d=\"M1,2198.4754573535997 A711.4543937064433 711.4543937064433 0.19635591140388198 0 0 139.80231203615895,2184.804176439104 L609.8074948235245,2091.3112201839194 A713.4543937064433 713.4543937064433 0.19635591140388198 0 1 749,2077.6015073445233 L749,2079.6015073445233 A711.4543937064433 711.4543937064433 0.19635591140388198 0 0 610.1976879638411,2093.272788259019 L140.19250517647552,2186.7657445142036 A713.4543937064433 713.4543937064433 0.19635591140388198 0 1 1,2200.4754573535997 Z\" style=\"fill: rgb(31, 119, 180);\"/><title>Denmark → EUD (OEIC)\n6.03k</title><text class=\"label\" dy=\"0.35em\" x=\"5\" y=\"2199.4754573535997\"/></g><g class=\"link\" style=\"opacity: 0.8;\"><path d=\"M1,1541.4765420714011 A258.46754900091975 258.46754900091975 0.6969045160802988 0 0 166.896633297907,1481.2103577150333 L588.726219998516,1128.134543203974 A249.7071234212856 249.7071234212856 0.6969045160802988 0 1 749,1069.9110037562737 L749,1071.9110037562737 A247.7071234212856 247.7071234212856 0.6969045160802988 0 0 590.0099140942673,1129.668208574429 L168.1803273936584,1482.7440230854882 A260.46754900091975 260.46754900091975 0.6969045160802988 0 1 1,1543.4765420714011 Z\" style=\"fill: rgb(31, 119, 180);\"/><title>UK → EFA (CMC)\n6.07k</title><text class=\"label\" dy=\"0.35em\" x=\"5\" y=\"1542.4765420714011\"/></g><g class=\"link\" style=\"opacity: 0.8;\"><path d=\"M1,342.12670630622847 A1001 1001 0.028432558095822902 0 1 29.45715611563322,342.53128843454425 L720.5997013391433,362.1875360609989 A999 999 0.028432558095822902 0 0 749,362.59130983341396 L749,364.59130983341396 A1001 1001 0.028432558095822902 0 1 720.5428438843668,364.1867277050982 L29.40029866085673,344.5304800786435 A999 999 0.028432558095822902 0 0 1,344.12670630622847 Z\" style=\"fill: rgb(31, 119, 180);\"/><title>Armenia → ACRE (ND)\n6.09k</title><text class=\"label\" dy=\"0.35em\" x=\"5\" y=\"343.12670630622847\"/></g><g class=\"link\" style=\"opacity: 0.8;\"><path d=\"M1,593.7693313941775 A238.02841289238768 238.02841289238768 0.7658012337399325 0 1 165.98100915281483,660.2203799199687 L585.4052203913649,1063.519672275406 A236.02841289238768 236.02841289238768 0.7658012337399325 0 0 749,1129.4123752850605 L749,1131.4123752850605 A238.02841289238768 238.02841289238768 0.7658012337399325 0 1 584.0189908471851,1064.9613267592692 L164.59477960863515,661.6620344038321 A236.02841289238768 236.02841289238768 0.7658012337399325 0 0 1,595.7693313941775 Z\" style=\"fill: rgb(31, 119, 180);\"/><title>Poland → EGP (GEF)\n6.24k</title><text class=\"label\" dy=\"0.35em\" x=\"5\" y=\"594.7693313941775\"/></g><g class=\"link\" style=\"opacity: 0.8;\"><path d=\"M1,1040.2574460948379 A337.6776144914458 337.6776144914458 0.44451554819300965 0 0 146.20831635538997,1007.44163011194 L602.9316425277354,789.9003522011874 A339.6776144914458 339.6776144914458 0.44451554819300965 0 1 749,756.8901744094244 L749,758.8901744094244 A337.6776144914458 337.6776144914458 0.44451554819300965 0 0 603.79168364461,791.7059903923223 L147.0683574722646,1009.2472683030749 A339.6776144914458 339.6776144914458 0.44451554819300965 0 1 1,1042.2574460948379 Z\" style=\"fill: rgb(31, 119, 180);\"/><title>Croatia → ECPM (SALLUX)\n6.50k</title><text class=\"label\" dy=\"0.35em\" x=\"5\" y=\"1041.2574460948379\"/></g><g class=\"link\" style=\"opacity: 0.8;\"><path d=\"M1,621.8644092719742 A443.3422138471698 443.3422138471698 0.32625651901372055 0 1 143.09085795134706,645.2512604131061 L607.5501405979151,802.3999095682639 A441.3422138471698 441.3422138471698 0.32625651901372055 0 0 749,825.6812582311265 L749,827.6812582311265 A443.3422138471698 443.3422138471698 0.32625651901372055 0 1 606.9091420486529,804.2944070899946 L142.44985940208494,647.1457579348369 A441.3422138471698 441.3422138471698 0.32625651901372055 0 0 1,623.8644092719742 Z\" style=\"fill: rgb(31, 119, 180);\"/><title>France → EDP (IED)\n6.54k</title><text class=\"label\" dy=\"0.35em\" x=\"5\" y=\"622.8644092719742\"/></g><g class=\"link\" style=\"opacity: 0.8;\"><path d=\"M1,1580.4335189152746 A324.85815435986393 324.85815435986393 0.4663102509427901 0 0 147.05412980703926,1545.7494702581864 L602.0466830994746,1316.736818426745 A326.85815435986393 326.85815435986393 0.4663102509427901 0 1 749,1281.8392362739353 L749,1283.8392362739353 A324.85815435986393 324.85815435986393 0.4663102509427901 0 0 602.9458701929607,1318.5232849310235 L147.9533169005253,1547.5359367624649 A326.85815435986393 326.85815435986393 0.4663102509427901 0 1 1,1582.4335189152746 Z\" style=\"fill: rgb(31, 119, 180);\"/><title>Bulgaria → EGP (GEF)\n6.88k</title><text class=\"label\" dy=\"0.35em\" x=\"5\" y=\"1581.4335189152746\"/></g><g class=\"link\" style=\"opacity: 0.8;\"><path d=\"M1,2087.7689807782094 A449.2473992540252 449.2473992540252 0.31992494103884184 0 0 142.28620059182074,2064.973730374244 L607.0848087859679,1910.983113679739 A451.2473992540252 451.2473992540252 0.31992494103884184 0 1 749,1888.086381328669 L749,1890.086381328669 A449.2473992540252 449.2473992540252 0.31992494103884184 0 0 607.7137994081793,1912.8816317326348 L142.91519121403215,2066.8722484271393 A451.2473992540252 451.2473992540252 0.31992494103884184 0 1 1,2089.7689807782094 Z\" style=\"fill: rgb(31, 119, 180);\"/><title>Lebanon → EPP (WMCES)\n7.25k</title><text class=\"label\" dy=\"0.35em\" x=\"5\" y=\"2088.7689807782094\"/></g><g class=\"link\" style=\"opacity: 0.8;\"><path d=\"M1,2172.6824286637166 A886.3583365292305 886.3583365292305 0.1566488610837764 0 0 139.2798621737865,2161.8295349799682 L610.4081198613004,2087.418175151673 A888.3583365292305 888.3583365292305 0.1566488610837764 0 1 749,2076.540792740879 L749,2078.540792740879 A886.3583365292305 886.3583365292305 0.1566488610837764 0 0 610.7201378262135,2089.3936864246275 L139.5918801386996,2163.8050462529227 A888.3583365292305 888.3583365292305 0.1566488610837764 0 1 1,2174.6824286637166 Z\" style=\"fill: rgb(31, 119, 180);\"/><title>Slovenia → EUD (OEIC)\n7.65k</title><text class=\"label\" dy=\"0.35em\" x=\"5\" y=\"2173.6824286637166\"/></g><g class=\"link\" style=\"opacity: 0.8;\"><path d=\"M1,1183.3785890221334 A1001 1001 0.0834312862012736 0 1 84.4178632801815,1186.8604387683301 L665.7488057773213,1235.4744765875191 A999 999 0.0834312862012736 0 0 749,1238.9493695909664 L749,1240.9493695909664 A1001 1001 0.0834312862012736 0 1 665.5821367198185,1237.4675198447696 L84.25119422267863,1188.8534820255807 A999 999 0.0834312862012736 0 0 1,1185.3785890221334 Z\" style=\"fill: rgb(31, 119, 180);\"/><title>Latvia → EGP (GEF)\n7.66k</title><text class=\"label\" dy=\"0.35em\" x=\"5\" y=\"1184.3785890221334\"/></g><g class=\"link\" style=\"opacity: 0.8;\"><path d=\"M1,1682.8398108566778 A236.1530530721755 236.1530530721755 0.847220322182357 0 1 177.98324418645646,1762.643269261816 L489.6164419662732,2115.403085855696 A346.1017986643723 346.1017986643723 0.847220322182357 0 0 749,2232.361643597544 L749,2234.361643597544 A348.1017986643723 348.1017986643723 0.847220322182357 0 1 488.11755603713505,2116.7272236776134 L176.48435825731823,1763.9674070837332 A234.1530530721755 234.1530530721755 0.847220322182357 0 0 1,1684.8398108566778 Z\" style=\"fill: rgb(31, 119, 180);\"/><title>Italy → ALDE (ELF)\n8.00k</title><text class=\"label\" dy=\"0.35em\" x=\"5\" y=\"1683.8398108566778\"/></g><g class=\"link\" style=\"opacity: 0.8;\"><path d=\"M1,588.9724064075657 A667.1064022891711 667.1064022891711 0.21057381294301658 0 1 140.43929554064448,603.7080285154581 L609.9787466039434,704.0685171728657 A665.1064022891711 665.1064022891711 0.21057381294301658 0 0 749,718.7599615542146 L749,720.7599615542146 A667.1064022891711 667.1064022891711 0.21057381294301658 0 1 609.5607044593555,706.0243394463222 L140.02125339605658,605.6638507889146 A665.1064022891711 665.1064022891711 0.21057381294301658 0 0 1,590.9724064075657 Z\" style=\"fill: rgb(31, 119, 180);\"/><title>Poland → ECPM (SALLUX)\n8.00k</title><text class=\"label\" dy=\"0.35em\" x=\"5\" y=\"589.9724064075657\"/></g><g class=\"link\" style=\"opacity: 0.8;\"><path d=\"M1,1251.498204135841 A485.77737053561935 485.77737053561935 0.29373755447182703 0 0 141.64795188275775,1230.6915932783825 L607.772984700897,1089.6944879280738 A487.77737053561935 487.77737053561935 0.29373755447182703 0 1 749,1068.8022139165885 L749,1070.8022139165885 A485.77737053561935 485.77737053561935 0.29373755447182703 0 0 608.3520481172422,1091.608824774047 L142.2270152991029,1232.6059301243556 A487.77737053561935 487.77737053561935 0.29373755447182703 0 1 1,1253.498204135841 Z\" style=\"fill: rgb(31, 119, 180);\"/><title>Germany → EFA (CMC)\n8.23k</title><text class=\"label\" dy=\"0.35em\" x=\"5\" y=\"1252.498204135841\"/></g><g class=\"link\" style=\"opacity: 0.8;\"><path d=\"M1,1208.0411243536555 A227.202961749381 227.202961749381 1.0744179603134953 0 1 200.7825420823654,1327.0400117490706 L523.3835904162747,1922.674306477661 A256.58256193151385 256.58256193151385 1.0744179603134953 0 0 749,2057.0609322497107 L749,2059.0609322497107 A258.58256193151385 258.58256193151385 1.0744179603134953 0 1 521.6249642034463,1923.626794715674 L199.0239158695369,1327.9924999870834 A225.202961749381 225.202961749381 1.0744179603134953 0 0 1,1210.0411243536555 Z\" style=\"fill: rgb(31, 119, 180);\"/><title>Malta → EUD (OEIC)\n8.34k</title><text class=\"label\" dy=\"0.35em\" x=\"5\" y=\"1209.0411243536555\"/></g><g class=\"link\" style=\"opacity: 0.8;\"><path d=\"M1,623.0308774549889 A303.8833499080291 303.8833499080291 0.5124331345230397 0 1 149.99379512119864,662.0634403777648 L600.9868034878814,915.7729371647989 A301.8833499080291 301.8833499080291 0.5124331345230397 0 0 749,954.5486083366146 L749,956.5486083366146 A303.8833499080291 303.8833499080291 0.5124331345230397 0 1 600.0062048788013,917.5160454138387 L149.01319651211858,663.8065486268046 A301.8833499080291 301.8833499080291 0.5124331345230397 0 0 1,625.0308774549889 Z\" style=\"fill: rgb(31, 119, 180);\"/><title>France → EAF (EFF)\n8.50k</title><text class=\"label\" dy=\"0.35em\" x=\"5\" y=\"624.0308774549889\"/></g><g class=\"link\" style=\"opacity: 0.8;\"><path d=\"M1,1952.6293109142177 A274.4601974051616 274.4601974051616 1.3941355178825594 0 0 271.18850455011835,1726.403665115254 L444.23491742468025,757.0746270003317 A309.58343274114696 309.58343274114696 1.3941355178825594 0 1 749,501.8984205315357 L749,503.8984205315357 A307.58343274114696 307.58343274114696 1.3941355178825594 0 0 446.20378946590563,757.4261136789994 L273.15737659134373,1726.7551517939216 A276.4601974051616 276.4601974051616 1.3941355178825594 0 1 1,1954.6293109142177 Z\" style=\"fill: rgb(31, 119, 180);\"/><title>Hungary → ACRE (ND)\n8.50k</title><text class=\"label\" dy=\"0.35em\" x=\"5\" y=\"1953.6293109142177\"/></g><g class=\"link\" style=\"opacity: 0.8;\"><path d=\"M1,2130.7806627690384 A223.9067462817593 223.9067462817593 1.0187632864553635 0 0 191.64766432368353,2024.294950030713 L550.4885346941646,1441.67212909715 A233.14241196676602 233.14241196676602 1.0187632864553635 0 1 749,1330.7941126010662 L749,1332.7941126010662 A231.14241196676602 231.14241196676602 1.0187632864553635 0 0 552.1914549276066,1442.7209678257132 L193.35058455712553,2025.343788759276 A225.9067462817593 225.9067462817593 1.0187632864553635 0 1 1,2132.7806627690384 Z\" style=\"fill: rgb(31, 119, 180);\"/><title>Portugal → EGP (GEF)\n8.60k</title><text class=\"label\" dy=\"0.35em\" x=\"5\" y=\"2131.7806627690384\"/></g><g class=\"link\" style=\"opacity: 0.8;\"><path d=\"M1,2104.476155807082 A290.8694051557978 290.8694051557978 1.0512600984703027 0 0 253.48904906289354,1958.0168990446825 L545.4632529300442,1447.5244585516132 A234.47596150135246 234.47596150135246 1.0512600984703027 0 1 749,1329.4605630664798 L749,1331.4605630664798 A232.47596150135246 232.47596150135246 1.0512600984703027 0 0 547.1993519805968,1448.5174137805486 L255.22514811344618,1959.009854273618 A292.8694051557978 292.8694051557978 1.0512600984703027 0 1 1,2106.476155807082 Z\" style=\"fill: rgb(31, 119, 180);\"/><title>Switzerland → EGP (GEF)\n8.60k</title><text class=\"label\" dy=\"0.35em\" x=\"5\" y=\"2105.476155807082\"/></g><g class=\"link\" style=\"opacity: 0.8;\"><path d=\"M1,1225.201860512867 A308.69687683503565 308.69687683503565 0.5199507445513367 0 1 154.3721513342873,1265.9981121847693 L561.9793251180621,1499.351763765233 A376.42230181541663 376.42230181541663 0.5199507445513367 0 0 749,1549.0983602233014 L749,1551.0983602233014 A378.42230181541663 378.42230181541663 0.5199507445513367 0 1 560.9856503332261,1501.0874510705912 L153.37847654945136,1267.7337994901275 A306.69687683503565 306.69687683503565 0.5199507445513367 0 0 1,1227.201860512867 Z\" style=\"fill: rgb(31, 119, 180);\"/><title>Ireland → EPP (WMCES)\n9.02k</title><text class=\"label\" dy=\"0.35em\" x=\"5\" y=\"1226.201860512867\"/></g><g class=\"link\" style=\"opacity: 0.8;\"><path d=\"M1,587.6155972880737 A999 999 0.012418297330598183 0 0 13.405560175463478,587.5385683307527 L736.5696038682293,578.557640550708 A1001 1001 0.012418297330598183 0 1 749,578.4804573812603 L749,580.4804573812603 A999 999 0.012418297330598183 0 0 736.5944398245365,580.5574863385813 L13.430396131770713,589.538414118626 A1001 1001 0.012418297330598183 0 1 1,589.6155972880737 Z\" style=\"fill: rgb(31, 119, 180);\"/><title>Poland → MENL (FENL)\n9.50k</title><text class=\"label\" dy=\"0.35em\" x=\"5\" y=\"588.6155972880737\"/></g><g class=\"link\" style=\"opacity: 0.8;\"><path d=\"M1,1063.1722670710276 A319.91378389692625 319.91378389692625 0.47539647819455855 0 0 147.42165851284597,1027.6974521034601 L601.6629594943605,793.8660438927789 A321.91378389692625 321.91378389692625 0.47539647819455855 0 1 749,758.1694515792312 L749,760.1694515792312 A319.91378389692625 319.91378389692625 0.47539647819455855 0 0 602.578341487154,795.6442665467987 L148.3370405056395,1029.47567475748 A321.91378389692625 321.91378389692625 0.47539647819455855 0 1 1,1065.1722670710276 Z\" style=\"fill: rgb(31, 119, 180);\"/><title>Spain → ECPM (SALLUX)\n10.0k</title><text class=\"label\" dy=\"0.35em\" x=\"5\" y=\"1064.1722670710276\"/></g><g class=\"link\" style=\"opacity: 0.8;\"><path d=\"M1,1862.130743799474 A264.88933962439205 264.88933962439205 1.3696757434301439 0 0 260.5500544739405,1650.1576726491628 L444.2057251440352,749.3413320143434 A311.0642929801354 311.0642929801354 1.3696757434301439 0 1 749,500.41756029254725 L749,502.41756029254725 A309.0642929801354 309.0642929801354 1.3696757434301439 0 0 446.1654118180402,749.7408669186102 L262.5097411479455,1650.5572075534299 A266.88933962439205 266.88933962439205 1.3696757434301439 0 1 1,1864.130743799474 Z\" style=\"fill: rgb(31, 119, 180);\"/><title>Slovakia → ACRE (ND)\n10.6k</title><text class=\"label\" dy=\"0.35em\" x=\"5\" y=\"1863.130743799474\"/></g><g class=\"link\" style=\"opacity: 0.8;\"><path d=\"M1,762.4623214159325 A501.76452134033013 501.76452134033013 0.2836366192719524 0 0 141.41820228522357,742.4138609899927 L608.0221001023979,606.4007905800155 A503.76452134033013 503.76452134033013 0.2836366192719524 0 1 749,586.2724183246288 L749,588.2724183246288 A501.76452134033013 501.76452134033013 0.2836366192719524 0 0 608.5817977147765,608.3208787505686 L141.97789989760213,744.3339491605458 A503.76452134033013 503.76452134033013 0.2836366192719524 0 1 1,764.4623214159325 Z\" style=\"fill: rgb(31, 119, 180);\"/><title>Belgium → MENL (FENL)\n11.4k</title><text class=\"label\" dy=\"0.35em\" x=\"5\" y=\"763.4623214159325\"/></g><g class=\"link\" style=\"opacity: 0.8;\"><path d=\"M1,799.0255980616136 A256.1846537916482 256.1846537916482 1.2880452067948636 0 1 247.01194925007886,983.7350976769796 L504.9086337794585,1871.3955273379877 A254.18465379164823 254.18465379164823 1.2880452067948636 0 0 749,2054.6630241098455 L749,2056.6630241098455 A256.1846537916482 256.1846537916482 1.2880452067948636 0 1 502.9880507499211,1871.9535244944793 L245.09136622054146,984.2930948334715 A254.18465379164823 254.18465379164823 1.2880452067948636 0 0 1,801.0255980616136 Z\" style=\"fill: rgb(31, 119, 180);\"/><title>Belgium → EUD (OEIC)\n11.7k</title><text class=\"label\" dy=\"0.35em\" x=\"5\" y=\"800.0255980616136\"/></g><g class=\"link\" style=\"opacity: 0.8;\"><path d=\"M1,2051.282387672892 A480.12478016000927 480.12478016000927 0.29884434145960137 0 1 142.35640133255933,2072.562779912546 L608.2324306010286,2216.0854222248317 A478.12478016000927 478.12478016000927 0.29884434145960137 0 0 749,2237.27716920759 L749,2239.27716920759 A480.12478016000927 480.12478016000927 0.29884434145960137 0 1 607.6435986674406,2217.996776967936 L141.76756939897135,2074.4741346556502 A478.12478016000927 478.12478016000927 0.29884434145960137 0 0 1,2053.282387672892 Z\" style=\"fill: rgb(31, 119, 180);\"/><title>Czech Republic → ALDE (ELF)\n12.0k</title><text class=\"label\" dy=\"0.35em\" x=\"5\" y=\"2052.282387672892\"/></g><g class=\"link\" style=\"opacity: 0.8;\"><path d=\"M1,1600.371744133621 A259.39904177491223 259.39904177491223 1.3239254683223456 0 0 252.53453983412876,1404.3622767710342 L480.0392552538744,501.60666697673184 A277.37009600438756 277.37009600438756 1.3239254683223456 0 1 749,292.0177478807798 L749,294.0177478807798 A275.37009600438756 275.37009600438756 1.3239254683223456 0 0 481.9786189316507,502.09540875448545 L254.47390351190515,1404.8510185487878 A261.39904177491223 261.39904177491223 1.3239254683223456 0 1 1,1602.371744133621 Z\" style=\"fill: rgb(31, 119, 180);\"/><title>Finland → ADDE (IDDE)\n12.0k</title><text class=\"label\" dy=\"0.35em\" x=\"5\" y=\"1601.371744133621\"/></g><g class=\"link\" style=\"opacity: 0.8;\"><path d=\"M1,2071.5705704031716 A526.9820310955001 526.9820310955001 0.27019210128848514 0 1 141.66023798185824,2090.689668663024 L608.873595164936,2220.091398461923 A524.9820310955001 524.9820310955001 0.27019210128848514 0 0 749,2239.137936000036 L749,2241.137936000036 A526.9820310955001 526.9820310955001 0.27019210128848514 0 1 608.3397620181418,2222.0188377401837 L141.12640483506402,2092.6171079412848 A524.9820310955001 524.9820310955001 0.27019210128848514 0 0 1,2073.5705704031716 Z\" style=\"fill: rgb(31, 119, 180);\"/><title>India → ALDE (ELF)\n12.0k</title><text class=\"label\" dy=\"0.35em\" x=\"5\" y=\"2072.5705704031716\"/></g><g class=\"link\" style=\"opacity: 0.8;\"><path d=\"M1,450.35467322920783 A504.0986110087269 504.0986110087269 0.2822222387278861 0 0 141.38675440676235,430.41199661358854 L608.0562642751346,295.09563835571083 A506.0986110087269 506.0986110087269 0.2822222387278861 0 1 749,275.07383961525284 L749,277.07383961525284 A504.0986110087269 504.0986110087269 0.2822222387278861 0 0 608.6132455932376,297.0165162308721 L141.94373572486535,432.33287448874984 A506.0986110087269 506.0986110087269 0.2822222387278861 0 1 1,452.35467322920783 Z\" style=\"fill: rgb(31, 119, 180);\"/><title>Lithuania → ADDE (IDDE)\n12.0k</title><text class=\"label\" dy=\"0.35em\" x=\"5\" y=\"451.35467322920783\"/></g><g class=\"link\" style=\"opacity: 0.8;\"><path d=\"M1,1734.4997659808828 A275.37009600438756 275.37009600438756 1.3502321832442647 0 0 269.69902995816994,1519.3751766388523 L443.76172116519115,743.0438140136214 A312.8165150430222 312.8165150430222 1.3502321832442647 0 1 749,498.6653382296604 L749,500.6653382296604 A310.8165150430222 310.8165150430222 1.3502321832442647 0 0 445.71326952760944,743.4813742827757 L271.65057832058824,1519.8127369080066 A277.37009600438756 277.37009600438756 1.3502321832442647 0 1 1,1736.4997659808828 Z\" style=\"fill: rgb(31, 119, 180);\"/><title>Sweden → ACRE (ND)\n12.0k</title><text class=\"label\" dy=\"0.35em\" x=\"5\" y=\"1735.4997659808828\"/></g><g class=\"link\" style=\"opacity: 0.8;\"><path d=\"M1,1546.7878783637432 A554.668154317526 554.668154317526 0.2557918319764094 0 1 141.3374529070939,1564.8349739018358 L609.1685702053372,1687.1824411101643 A552.668154317526 552.668154317526 0.2557918319764094 0 0 749,1705.1644631609922 L749,1707.1644631609922 A554.668154317526 554.668154317526 0.2557918319764094 0 1 608.662547092906,1689.1173676228996 L140.83142979466277,1566.769900414571 A552.668154317526 552.668154317526 0.2557918319764094 0 0 1,1548.7878783637432 Z\" style=\"fill: rgb(31, 119, 180);\"/><title>UK → EPP (WMCES)\n12.4k</title><text class=\"label\" dy=\"0.35em\" x=\"5\" y=\"1547.7878783637432\"/></g><g class=\"link\" style=\"opacity: 0.8;\"><path d=\"M1,688.92229517158 A350.32736529466746 350.32736529466746 0.4325688544540298 0 0 147.8587817681262,656.6542971212766 L584.4338668740329,455.072794572068 A392.5677384807516 392.5677384807516 0.4325688544540298 0 1 749,418.9141147919312 L749,420.9141147919312 A390.5677384807516 390.5677384807516 0.4325688544540298 0 0 585.27227572425,456.8885783146645 L148.69719061834317,658.4700808638731 A352.32736529466746 352.32736529466746 0.4325688544540298 0 1 1,690.92229517158 Z\" style=\"fill: rgb(31, 119, 180);\"/><title>Romania → ACRE (ND)\n12.7k</title><text class=\"label\" dy=\"0.35em\" x=\"5\" y=\"689.92229517158\"/></g><g class=\"link\" style=\"opacity: 0.8;\"><path d=\"M1,1019.2671340282085 A356.6327902632379 356.6327902632379 0.41620260212619864 0 0 145.1831276213789,988.8216715388432 L604.008292059829,786.009233386768 A358.6327902632379 358.6327902632379 0.41620260212619864 0 1 749,755.3930324610021 L749,757.3930324610021 A356.6327902632379 356.6327902632379 0.41620260212619864 0 0 604.8168723786212,787.8384949503674 L145.99170794017095,990.6509331024427 A358.6327902632379 358.6327902632379 0.41620260212619864 0 1 1,1021.2671340282085 Z\" style=\"fill: rgb(31, 119, 180);\"/><title>Norway → ECPM (SALLUX)\n12.8k</title><text class=\"label\" dy=\"0.35em\" x=\"5\" y=\"1020.2671340282085\"/></g><g class=\"link\" style=\"opacity: 0.8;\"><path d=\"M1,2106.142930574375 A419.12337739800597 419.12337739800597 0.3455653144770583 0 0 142.96908606748676,2081.366081096514 L606.3480943705009,1914.544543048235 A421.1392080898227 421.1392080898227 0.3455653144770583 0 1 749,1889.6485259545423 L749,1891.6643566463588 A419.12337739800597 419.12337739800597 0.3455653144770583 0 0 607.0309139325133,1916.4412061242197 L143.651905629499,2083.262744172499 A421.1392080898227 421.1392080898227 0.3455653144770583 0 1 1,2108.1587612661915 Z\" style=\"fill: rgb(31, 119, 180);\"/><title>Switzerland → EPP (WMCES)\n13.0k</title><text class=\"label\" dy=\"0.35em\" x=\"5\" y=\"2107.1508459202832\"/></g><g class=\"link\" style=\"opacity: 0.8;\"><path d=\"M1,691.4939631559984 A1001.0768412491785 1001.0768412491785 0.04746362329007359 0 1 48.49689592340281,692.6213622016851 L701.6052872749907,723.6435519059668 A998.9231587508215 998.9231587508215 0.04746362329007359 0 0 749,724.7685255038823 L749,726.9222080022394 A1001.0768412491785 1001.0768412491785 0.04746362329007359 0 1 701.5031040765972,725.7948089565526 L48.39471272500929,694.7726192522709 A998.9231587508215 998.9231587508215 0.04746362329007359 0 0 1,693.6476456543554 Z\" style=\"fill: rgb(31, 119, 180);\"/><title>Romania → ECPM (SALLUX)\n13.9k</title><text class=\"label\" dy=\"0.35em\" x=\"5\" y=\"692.5708044051769\"/></g><g class=\"link\" style=\"opacity: 0.8;\"><path d=\"M1,595.2531540197984 A226.25860286085026 226.25860286085026 1.0295090651318088 0 1 194.91406298507334,704.9343510716114 L548.5556448857285,1293.1793502711776 A233.87813674447233 233.87813674447233 1.0295090651318088 0 0 749,1406.5541951523571 L749,1408.7896986678559 A236.11364025997125 236.11364025997125 1.0295090651318088 0 1 546.639715219291,1294.3311703443974 L192.9981333186358,706.0861711448315 A224.02309934535134 224.02309934535134 1.0295090651318088 0 0 1,597.4886575352974 Z\" style=\"fill: rgb(31, 119, 180);\"/><title>Poland → EPP (WMCES)\n14.4k</title><text class=\"label\" dy=\"0.35em\" x=\"5\" y=\"596.3709057775479\"/></g><g class=\"link\" style=\"opacity: 0.8;\"><path d=\"M1,1602.302127529844 A261.3294251711353 261.3294251711353 1.3035781270396947 0 0 253.0546243443204,1409.976577662343 L440.0564402104189,726.903746717259 A320.3116907700359 320.3116907700359 1.3035781270396947 0 1 749,491.1701625026467 L749,493.4627822548398 A318.0190710178428 318.0190710178428 1.3035781270396947 0 0 442.2676929617115,727.5091115643112 L255.26587709561304,1410.5819425093955 A263.6220449233284 263.6220449233284 1.3035781270396947 0 1 1,1604.594747282037 Z\" style=\"fill: rgb(31, 119, 180);\"/><title>Finland → ACRE (ND)\n14.8k</title><text class=\"label\" dy=\"0.35em\" x=\"5\" y=\"1603.4484374059405\"/></g><g class=\"link\" style=\"opacity: 0.8;\"><path d=\"M1,759.9423709002218 A297.07350775833635 297.07350775833635 0.5488760812035725 0 0 155.99178411847575,716.3056715727331 L545.2204202663278,478.2690536083878 A390.58531331394124 390.58531331394124 0.5488760812035725 0 1 749,420.8965399587415 L749,423.5326262480403 A387.9492270246425 387.9492270246425 0.5488760812035725 0 0 546.5957422199805,480.51792898253143 L157.3671060721285,718.5545469468767 A299.7095940476351 299.7095940476351 0.5488760812035725 0 1 1,762.5784571895207 Z\" style=\"fill: rgb(31, 119, 180);\"/><title>Belgium → ACRE (ND)\n17.0k</title><text class=\"label\" dy=\"0.35em\" x=\"5\" y=\"761.2604140448713\"/></g><g class=\"link\" style=\"opacity: 0.8;\"><path d=\"M1,1629.8125147735623 A231.16973803392884 231.16973803392884 0.9099591112856443 0 1 183.50357126030315,1719.095346223724 L477.54135512179204,2097.3046322828654 A343.8454567775915 343.8454567775915 0.9099591112856443 0 0 749,2230.1053017107633 L749,2232.741388000062 A346.48154306689025 346.48154306689025 0.9099591112856443 0 1 475.4602212932944,2098.9226041344477 L181.42243743180552,1720.7133180753058 A228.53365174463008 228.53365174463008 0.9099591112856443 0 0 1,1632.4486010628611 Z\" style=\"fill: rgb(31, 119, 180);\"/><title>Finland → ALDE (ELF)\n17.0k</title><text class=\"label\" dy=\"0.35em\" x=\"5\" y=\"1631.1305579182117\"/></g><g class=\"link\" style=\"opacity: 0.8;\"><path d=\"M1,1699.1659488071007 A267.7902401680746 267.7902401680746 0.6061728654224009 0 0 153.5671612139449,1651.4549535677409 L594.9133221173197,1345.4972931645023 A270.4573392372475 270.4573392372475 0.6061728654224009 0 1 749,1297.3111127544196 L749,1299.9782118235923 A267.7902401680746 267.7902401680746 0.6061728654224009 0 0 596.4328387860551,1347.6892070629522 L155.08667788268033,1653.6468674661908 A270.4573392372475 270.4573392372475 0.6061728654224009 0 1 1,1701.8330478762734 Z\" style=\"fill: rgb(31, 119, 180);\"/><title>Republic of Cyprus → EGP (GEF)\n17.2k</title><text class=\"label\" dy=\"0.35em\" x=\"5\" y=\"1700.499498341687\"/></g><g class=\"link\" style=\"opacity: 0.8;\"><path d=\"M1,432.9272572913743 A998.6044249056654 998.6044249056654 0.10503059081838906 0 0 105.69128239009608,427.42430395479875 L644.0161001476663,370.6749010721208 A1001.3955750943346 1001.3955750943346 0.10503059081838906 0 1 749,365.1565667009128 L749,367.947716889582 A998.6044249056654 998.6044249056654 0.10503059081838906 0 0 644.3087176099039,373.45067022615757 L105.98389985233369,430.2000731088355 A1001.3955750943346 1001.3955750943346 0.10503059081838906 0 1 1,435.71840748004354 Z\" style=\"fill: rgb(31, 119, 180);\"/><title>Lichtenstein → ACRE (ND)\n18.0k</title><text class=\"label\" dy=\"0.35em\" x=\"5\" y=\"434.3228323857089\"/></g><g class=\"link\" style=\"opacity: 0.8;\"><path d=\"M1,1731.7782323959905 A272.64856241949525 272.64856241949525 1.3627431488361648 0 0 267.7688676439113,1515.4467175322993 L479.50017361327394,512.4942690353413 A275.4397126081645 275.4397126081645 1.3627431488361648 0 1 749,293.9481312770029 L749,296.73928146567215 A272.64856241949525 272.64856241949525 1.3627431488361648 0 0 482.2311323560887,513.0707963293631 L270.49982638672606,1516.0232448263214 A275.4397126081645 275.4397126081645 1.3627431488361648 0 1 1,1734.5693825846597 Z\" style=\"fill: rgb(31, 119, 180);\"/><title>Sweden → ADDE (IDDE)\n18.0k</title><text class=\"label\" dy=\"0.35em\" x=\"5\" y=\"1733.173807490325\"/></g><g class=\"link\" style=\"opacity: 0.8;\"><path d=\"M1,1110.9687164370368 A237.47592717330895 237.47592717330895 0.752752868764874 0 0 163.3505168975652,1046.8050094039017 L582.8805518920353,653.8095357995703 A242.98887810654657 242.98887810654657 0.752752868764874 0 1 749,588.1562825510408 L749,591.1024966390806 A240.04266401850674 240.04266401850674 0.752752868764874 0 0 584.8947323850966,655.9597112328629 L165.36469739062662,1048.9551848371943 A240.42214126134877 240.42214126134877 0.752752868764874 0 1 1,1113.9149305250764 Z\" style=\"fill: rgb(31, 119, 180);\"/><title>Austria → MENL (FENL)\n19.0k</title><text class=\"label\" dy=\"0.35em\" x=\"5\" y=\"1112.4418234810566\"/></g><g class=\"link\" style=\"opacity: 0.8;\"><path d=\"M1,1113.9149305250767 A407.7562088866848 407.7562088866848 0.35596376371781435 0 0 143.10054061089116,1088.353125369967 L605.8690990674774,916.294974616435 A410.71281845853844 410.71281845853844 0.35596376371781435 0 1 749,890.5478227366198 L749,893.5044323084733 A407.7562088866848 407.7562088866848 0.35596376371781435 0 0 606.8994593891088,919.0662374635831 L144.13090093252268,1091.1243882171152 A410.71281845853844 410.71281845853844 0.35596376371781435 0 1 1,1116.8715400969304 Z\" style=\"fill: rgb(31, 119, 180);\"/><title>Austria → EL (TE)\n19.1k</title><text class=\"label\" dy=\"0.35em\" x=\"5\" y=\"1115.3932353110035\"/></g><g class=\"link\" style=\"opacity: 0.8;\"><path d=\"M1,1176.2405952341246 A223.05095693012638 223.05095693012638 1.0480633506651649 0 0 194.2642813277141,1064.5478304154333 L442.0035419693609,634.5915851070065 A354.3119984068882 354.3119984068882 1.0480633506651649 0 1 749,457.16985486579443 L749,460.2171008374691 A351.26475243521355 351.26475243521355 1.0480633506651649 0 0 444.6438525551118,636.1129226838314 L196.90459191346494,1066.0691679922581 A226.09820290180105 226.09820290180105 1.0480633506651649 0 1 1,1179.2878412057994 Z\" style=\"fill: rgb(31, 119, 180);\"/><title>Latvia → ACRE (ND)\n19.7k</title><text class=\"label\" dy=\"0.35em\" x=\"5\" y=\"1177.764218219962\"/></g><g class=\"link\" style=\"opacity: 0.8;\"><path d=\"M1,1777.8227190477533 A253.9964257101277 253.9964257101277 0.718000805666475 0 1 168.09925732108644,1840.5287307893245 L520.2404934090315,2148.1371352130673 A347.7220542618544 347.7220542618544 0.718000805666475 0 0 749,2233.9818991950265 L749,2237.1607091321216 A350.90086419895 350.90086419895 0.718000805666475 0 1 518.1492168165815,2150.5311683853624 L166.00798072863643,1842.9227639616192 A250.81761577303212 250.81761577303212 0.718000805666475 0 0 1,1781.0015289848488 Z\" style=\"fill: rgb(31, 119, 180);\"/><title>Sweden → ALDE (ELF)\n20.5k</title><text class=\"label\" dy=\"0.35em\" x=\"5\" y=\"1779.412124016301\"/></g><g class=\"link\" style=\"opacity: 0.8;\"><path d=\"M1,1538.811386619042 A255.80239354856047 255.80239354856047 0.8056292930892033 0 0 185.50174066298723,1460.192435404974 L564.079973262354,1065.9775924636199 A256.382326175219 256.382326175219 0.8056292930892033 0 1 749,987.1804032970049 L749,990.3747196240374 A253.1880098481864 253.1880098481864 0.8056292930892033 0 0 566.3839271636056,1068.1901595740267 L187.80569456423888,1462.4050025153808 A258.9967098755931 258.9967098755931 0.8056292930892033 0 1 1,1542.0057029460745 Z\" style=\"fill: rgb(31, 119, 180);\"/><title>UK → EAF (EFF)\n20.6k</title><text class=\"label\" dy=\"0.35em\" x=\"5\" y=\"1540.4085447825582\"/></g><g class=\"link\" style=\"opacity: 0.8;\"><path d=\"M1,1548.7471261295148 A242.66593115443533 242.66593115443533 0.7457844563798964 0 1 165.66054199466777,1613.161381126133 L573.779043887352,1990.1621205761448 A258.2291783918889 258.2291783918889 0.7457844563798964 0 0 749,2058.707548710086 L749,2061.9057416346027 A261.4273713164058 261.4273713164058 0.7457844563798964 0 1 571.6089156874469,1992.511371856533 L163.49041379476267,1615.5106324065212 A239.46773822991844 239.46773822991844 0.7457844563798964 0 0 1,1551.9453190540319 Z\" style=\"fill: rgb(31, 119, 180);\"/><title>UK → EUD (OEIC)\n20.6k</title><text class=\"label\" dy=\"0.35em\" x=\"5\" y=\"1550.3462225917733\"/></g><g class=\"link\" style=\"opacity: 0.8;\"><path d=\"M1,666.2621525851903 A370.9284368543924 370.9284368543924 0.4000309317018138 0 0 145.4569046711119,636.9769623493784 L594.8664881214335,446.9532519517134 A395.7754927544687 395.7754927544687 0.4000309317018138 0 1 749,415.7063605182141 L749,418.9316896251209 A392.55016364756193 392.55016364756193 0.4000309317018138 0 0 596.1225823246187,449.9239379331971 L146.71299887429717,639.9476483308621 A374.15376596129914 374.15376596129914 0.4000309317018138 0 1 1,669.4874816920969 Z\" style=\"fill: rgb(31, 119, 180);\"/><title>Luxembourg → ACRE (ND)\n20.8k</title><text class=\"label\" dy=\"0.35em\" x=\"5\" y=\"667.8748171386436\"/></g><g class=\"link\" style=\"opacity: 0.8;\"><path d=\"M1,1081.4971409764453 A257.9133440432799 257.9133440432799 0.6978707437766549 0 1 166.73193819616932,1141.7941453680446 L523.7754668710285,1441.2304983132692 A350.4961875913316 350.4961875913316 0.6978707437766549 0 0 749,1523.1722459992163 L749,1526.4632105534486 A353.7871521455638 353.7871521455638 0.6978707437766549 0 1 521.6607335828731,1443.7520753628912 L164.6172049080139,1144.3157224176666 A254.62237948904763 254.62237948904763 0.6978707437766549 0 0 1,1084.7881055306775 Z\" style=\"fill: rgb(31, 119, 180);\"/><title>Spain → EPP (WMCES)\n21.2k</title><text class=\"label\" dy=\"0.35em\" x=\"5\" y=\"1083.1426232535614\"/></g><g class=\"link\" style=\"opacity: 0.8;\"><path d=\"M1,519.5774551736812 A458.91081457789494 458.91081457789494 0.3145514571264041 0 1 142.9824018405196,542.0937999147733 L608.0632659397396,693.4094161726188 A455.5310418272152 455.5310418272152 0.3145514571264041 0 0 749,715.7599332060528 L749,719.1397059567327 A458.91081457789494 458.91081457789494 0.3145514571264041 0 1 607.0175981594804,696.6233612156406 L141.9367340602603,545.3077449577951 A455.5310418272152 455.5310418272152 0.3145514571264041 0 0 1,522.9572279243611 Z\" style=\"fill: rgb(31, 119, 180);\"/><title>Georgia → ECPM (SALLUX)\n21.8k</title><text class=\"label\" dy=\"0.35em\" x=\"5\" y=\"521.2673415490211\"/></g><g class=\"link\" style=\"opacity: 0.8;\"><path d=\"M1,1844.1814494538357 A985.4687374551565 985.4687374551565 0.14050168477800695 0 0 139.00491718853186,1834.4705074239819 L610.5159261162156,1767.783017920315 A988.8903107811896 988.8903107811896 0.14050168477800695 0 1 749,1758.0383592448109 L749,1761.4599325708439 A985.4687374551565 985.4687374551565 0.14050168477800695 0 0 610.995082811468,1771.1708746006977 L139.4840738837844,1837.8583641043647 A988.8903107811896 988.8903107811896 0.14050168477800695 0 1 1,1847.6030227798688 Z\" style=\"fill: rgb(31, 119, 180);\"/><title>Greece → EPP (WMCES)\n22.1k</title><text class=\"label\" dy=\"0.35em\" x=\"5\" y=\"1845.8922361168522\"/></g><g class=\"link\" style=\"opacity: 0.8;\"><path d=\"M1,1954.2883324865425 A276.1192189774863 276.1192189774863 0.899594301342686 0 0 217.22196320009076,1849.895307546645 L562.1770132534273,1415.5593662167403 A238.5762131840789 238.5762131840789 0.899594301342686 0 1 749,1325.3603113837532 L749,1328.8895657334263 A235.04695883440596 235.04695883440596 0.899594301342686 0 0 564.9406828992587,1417.7543072987278 L219.98563284592214,1852.0902486286325 A279.6484733271592 279.6484733271592 0.899594301342686 0 1 1,1957.8175868362155 Z\" style=\"fill: rgb(31, 119, 180);\"/><title>Hungary → EGP (GEF)\n22.8k</title><text class=\"label\" dy=\"0.35em\" x=\"5\" y=\"1956.052959661379\"/></g><g class=\"link\" style=\"opacity: 0.8;\"><path d=\"M1,1652.4266559943997 A248.4350990704325 248.4350990704325 1.1986189692831342 0 0 232.42667820840165,1494.3336349582946 L525.391192025773,743.8549461690955 A240.04266401850674 240.04266401850674 1.1986189692831342 0 1 749,591.1024966390806 L749,594.6379535447285 A236.50720711285896 236.50720711285896 1.1986189692831342 0 0 528.6846036680266,745.1405959216954 L235.72008985065537,1495.6192847108946 A251.97055597608028 251.97055597608028 1.1986189692831342 0 1 1,1655.9621129000473 Z\" style=\"fill: rgb(31, 119, 180);\"/><title>Italy → MENL (FENL)\n22.8k</title><text class=\"label\" dy=\"0.35em\" x=\"5\" y=\"1654.1943844472235\"/></g><g class=\"link\" style=\"opacity: 0.8;\"><path d=\"M1,590.5926620050478 A288.6731718060934 288.6731718060934 0.5520039629306781 0 1 152.37865413600488,633.4677394479787 L599.5578547868471,908.8701412750781 A284.98032504258464 284.98032504258464 0.5520039629306781 0 0 749,951.1967400007811 L749,954.88958676429 A288.6731718060934 288.6731718060934 0.5520039629306781 0 1 597.6213458639951,912.0145093213591 L150.44214521315294,636.6121074942597 A284.98032504258464 284.98032504258464 0.5520039629306781 0 0 1,594.2855087685567 Z\" style=\"fill: rgb(31, 119, 180);\"/><title>Poland → EAF (EFF)\n23.8k</title><text class=\"label\" dy=\"0.35em\" x=\"5\" y=\"592.4390853868023\"/></g><g class=\"link\" style=\"opacity: 0.8;\"><path d=\"M1,2067.918653422056 A236.67370456522647 236.67370456522647 1.1912958595611274 0 0 220.8343247199856,1918.9222669472915 L525.7089295293173,1154.5067449832015 A240.39523815011884 240.39523815011884 1.1912958595611274 0 1 749,1003.1674913221051 L749,1006.8890249069974 A236.67370456522647 236.67370456522647 1.1912958595611274 0 0 529.1656752800144,1155.8854113817622 L224.2910704706826,1920.3009333458522 A240.39523815011884 240.39523815011884 1.1912958595611274 0 1 1,2071.6401870069485 Z\" style=\"fill: rgb(31, 119, 180);\"/><title>India → EAF (EFF)\n24.0k</title><text class=\"label\" dy=\"0.35em\" x=\"5\" y=\"2069.7794202145024\"/></g><g class=\"link\" style=\"opacity: 0.8;\"><path d=\"M1,1581.9669387291092 A691.2215795801947 691.2215795801947 0.20319393968237565 0 1 140.48753714408832,1596.187411176667 L610.2729488284033,1692.9807684868322 A687.4530399248472 687.4530399248472 0.20319393968237565 0 0 749,1707.1237109267638 L749,1710.8922505821113 A691.2215795801947 691.2215795801947 0.20319393968237565 0 1 609.5124628559117,1696.6717781345535 L139.72705117159666,1599.8784208243883 A687.4530399248472 687.4530399248472 0.20319393968237565 0 0 1,1585.7354783844567 Z\" style=\"fill: rgb(31, 119, 180);\"/><title>Bulgaria → EPP (WMCES)\n24.3k</title><text class=\"label\" dy=\"0.35em\" x=\"5\" y=\"1583.851208556783\"/></g><g class=\"link\" style=\"opacity: 0.8;\"><path d=\"M1,1064.9475865678803 A0 0 0 0 1 1,1064.9475865678803 L749,1065.3314991810407 A0 0 0 0 0 749,1065.3314991810407 L749,1069.1642632022294 A0 0 0 0 1 749,1069.1642632022294 L1,1068.780350589069 A0 0 0 0 0 1,1068.780350589069 Z\" style=\"fill: rgb(31, 119, 180);\"/><title>Spain → EFA (CMC)\n24.7k</title><text class=\"label\" dy=\"0.35em\" x=\"5\" y=\"1066.8639685784747\"/></g><g class=\"link\" style=\"opacity: 0.8;\"><path d=\"M1,1542.9473811967277 A355.00948634235107 355.00948634235107 0.41715211027282484 0 0 144.83508484245962,1512.504072638542 L603.5923942576782,1309.2007063656818 A358.89073574359503 358.89073574359503 0.41715211027282484 0 1 749,1278.4245670588566 L749,1282.3058164601007 A355.00948634235107 355.00948634235107 0.41715211027282484 0 0 605.1649151575403,1312.7491250182863 L146.4076057423218,1516.0524912911467 A358.89073574359503 358.89073574359503 0.41715211027282484 0 1 1,1546.8286305979718 Z\" style=\"fill: rgb(31, 119, 180);\"/><title>UK → EGP (GEF)\n25.0k</title><text class=\"label\" dy=\"0.35em\" x=\"5\" y=\"1544.8880058973498\"/></g><g class=\"link\" style=\"opacity: 0.8;\"><path d=\"M1,1765.393449693229 A998.029943395958 998.029943395958 0.031185817323860388 0 0 32.11933471427935,1764.908169418617 L717.7578095512351,1743.519038705736 A1001.970056604042 1001.970056604042 0.031185817323860388 0 1 749,1743.031842597604 L749,1746.971955805688 A998.029943395958 998.029943395958 0.031185817323860388 0 0 717.8806652857206,1747.4572360803 L32.24219044876493,1768.846366793181 A1001.970056604042 1001.970056604042 0.031185817323860388 0 1 1,1769.333562901313 Z\" style=\"fill: rgb(31, 119, 180);\"/><title>Sweden → EPP (WMCES)\n25.4k</title><text class=\"label\" dy=\"0.35em\" x=\"5\" y=\"1767.363506297271\"/></g><g class=\"link\" style=\"opacity: 0.8;\"><path d=\"M1,538.2833658747842 A358.4183130734704 358.4183130734704 0.4123994725133069 0 0 144.6572084373303,508.2341950945958 L603.7523481625686,307.3860711829747 A362.3863982583619 362.3863982583619 0.4123994725133069 0 1 749,277.004223011476 L749,280.97230819636746 A358.4183130734704 358.4183130734704 0.4123994725133069 0 0 605.3427915626697,311.0214789765559 L146.24765183743133,511.869602888177 A362.3863982583619 362.3863982583619 0.4123994725133069 0 1 1,542.2514510596758 Z\" style=\"fill: rgb(31, 119, 180);\"/><title>Poland → ADDE (IDDE)\n25.6k</title><text class=\"label\" dy=\"0.35em\" x=\"5\" y=\"540.26740846723\"/></g><g class=\"link\" style=\"opacity: 0.8;\"><path d=\"M1,617.9686543090985 A837.0492902312589 837.0492902312589 0.16674822922770693 0 1 139.9305655173119,629.5787812813718 L610.7977908269902,708.8309573443047 A832.6609818790733 832.6609818790733 0.16674822922770693 0 0 749,720.3802171516967 L749,724.7685255038822 A837.0492902312589 837.0492902312589 0.16674822922770693 0 1 610.0694344826882,713.1583985316089 L139.2022091730098,633.906222468676 A832.6609818790733 832.6609818790733 0.16674822922770693 0 0 1,622.356962661284 Z\" style=\"fill: rgb(31, 119, 180);\"/><title>France → ECPM (SALLUX)\n28.3k</title><text class=\"label\" dy=\"0.35em\" x=\"5\" y=\"620.1628084851912\"/></g><g class=\"link\" style=\"opacity: 0.8;\"><path d=\"M1,1247.3634003397372 A354.53700089108247 354.53700089108247 0.4173818864171226 0 0 144.71812789681124,1216.9275946249134 L603.4589895698817,1013.5053955997944 A359.0338539728274 359.0338539728274 0.4173818864171226 0 1 749,982.68355021526 L749,987.180403297005 A354.53700089108247 354.53700089108247 0.4173818864171226 0 0 605.2818721031887,1017.6162090118289 L146.54101043011823,1221.0384080369479 A359.0338539728274 359.0338539728274 0.4173818864171226 0 1 1,1251.8602534214822 Z\" style=\"fill: rgb(31, 119, 180);\"/><title>Germany → EAF (EFF)\n29.0k</title><text class=\"label\" dy=\"0.35em\" x=\"5\" y=\"1249.6118268806097\"/></g><g class=\"link\" style=\"opacity: 0.8;\"><path d=\"M1,1179.2878412057992 A431.46873428406684 431.46873428406684 0.3334756470578011 0 0 142.23230432444475,1155.5183893345202 L606.295744471496,994.7608117964309 A435.96558736581176 435.96558736581176 0.3334756470578011 0 1 749,970.7436299637303 L749,975.2404830454753 A431.46873428406684 431.46873428406684 0.3334756470578011 0 0 607.7676956755553,999.0099349167543 L143.70425552850392,1159.7675124548437 A435.96558736581176 435.96558736581176 0.3334756470578011 0 1 1,1183.7846942875442 Z\" style=\"fill: rgb(31, 119, 180);\"/><title>Latvia → EAF (EFF)\n29.0k</title><text class=\"label\" dy=\"0.35em\" x=\"5\" y=\"1181.5362677466717\"/></g><g class=\"link\" style=\"opacity: 0.8;\"><path d=\"M1,1021.2603183036766 A482.2122326297551 482.2122326297551 0.2983049050884714 0 1 142.72236653553094,1042.556714666829 L608.624918161067,1185.8123960644216 A477.6280785726645 477.6280785726645 0.2983049050884714 0 0 749,1206.906338082405 L749,1211.4904921394955 A482.2122326297551 482.2122326297551 0.2983049050884714 0 1 607.2776334644691,1190.1940957763431 L141.37508183893314,1046.9384143787506 A477.6280785726645 477.6280785726645 0.2983049050884714 0 0 1,1025.8444723607672 Z\" style=\"fill: rgb(31, 119, 180);\"/><title>Norway → EGP (GEF)\n29.6k</title><text class=\"label\" dy=\"0.35em\" x=\"5\" y=\"1023.5523953322219\"/></g><g class=\"link\" style=\"opacity: 0.8;\"><path d=\"M1,669.487481692097 A247.49631420611337 247.49631420611337 0.721670496459085 0 1 164.5058759606041,731.1875255589844 L574.3410123858268,1091.8538234254186 A264.3786067229442 264.3786067229442 0.721670496459085 0 0 749,1157.762569115617 L749,1162.5090750753486 A269.1251126826757 269.1251126826757 0.721670496459085 0 1 571.2052823965237,1095.41704054762 L161.37014597130087,734.750742681186 A242.74980824638186 242.74980824638186 0.721670496459085 0 0 1,674.2339876518284 Z\" style=\"fill: rgb(31, 119, 180);\"/><title>Luxembourg → EGP (GEF)\n30.6k</title><text class=\"label\" dy=\"0.35em\" x=\"5\" y=\"671.8607346719627\"/></g><g class=\"link\" style=\"opacity: 0.8;\"><path d=\"M1,754.9803261203654 A245.67541317757298 245.67541317757298 0.7118094569744355 0 0 161.47639017384265,695.3257097283771 L560.605551248468,351.0050311313615 A288.4155356887998 288.4155356887998 0.7118094569744355 0 1 749,280.97230819636746 L749,285.9343529762239 A283.45349090894337 283.45349090894337 0.7118094569744355 0 0 563.846783343504,354.76219800327584 L164.71762226887844,699.0828766002916 A250.6374579574295 250.6374579574295 0.7118094569744355 0 1 1,759.9423709002219 Z\" style=\"fill: rgb(31, 119, 180);\"/><title>Belgium → ADDE (IDDE)\n32.0k</title><text class=\"label\" dy=\"0.35em\" x=\"5\" y=\"757.4613485102936\"/></g><g class=\"link\" style=\"opacity: 0.8;\"><path d=\"M1,821.3734874801912 A268.14004392960805 268.14004392960805 0.6450601085355916 0 0 162.21825491712664,767.494399956664 L515.7468966560616,501.4857363140351 A387.9492270246425 387.9492270246425 0.6450601085355916 0 1 749,423.5326262480403 L749,428.5101774178338 A382.97167585484897 382.97167585484897 0.6450601085355916 0 0 518.7396317268647,505.4631164120266 L165.21098998792976,771.4717800546555 A273.11759509940157 273.11759509940157 0.6450601085355916 0 1 1,826.3510386499847 Z\" style=\"fill: rgb(31, 119, 180);\"/><title>Netherlands → ACRE (ND)\n32.1k</title><text class=\"label\" dy=\"0.35em\" x=\"5\" y=\"823.862263065088\"/></g><g class=\"link\" style=\"opacity: 0.8;\"><path d=\"M1,1647.1544834158021 A243.16292649183498 243.16292649183498 1.2986208432047988 0 0 235.2116970559127,1469.3604316447615 L442.68773688560276,725.9895904836558 A318.0190710178428 318.0190710178428 1.2986208432047988 0 1 749,493.4627822548398 L749,498.7349548334373 A312.7468984392453 312.7468984392453 1.2986208432047988 0 0 447.76583207313723,727.4068953079104 L240.28979224344712,1470.7777364690162 A248.4350990704325 248.4350990704325 1.2986208432047988 0 1 1,1652.4266559943999 Z\" style=\"fill: rgb(31, 119, 180);\"/><title>Italy → ACRE (ND)\n34.0k</title><text class=\"label\" dy=\"0.35em\" x=\"5\" y=\"1649.790569705101\"/></g><g class=\"link\" style=\"opacity: 0.8;\"><path d=\"M1,277.4986540510087 A997.3639137107012 997.3639137107012 0.02020330037310214 0 0 21.148671972905234,277.29511229160767 L728.7448199868395,262.99738940103117 A1002.6360862892988 1002.6360862892988 0.02020330037310214 0 1 749,262.79277169806755 L749,268.0649442766651 A997.3639137107012 997.3639137107012 0.02020330037310214 0 0 728.8513280270947,268.2684860360661 L21.25518001316056,282.5662089266426 A1002.6360862892988 1002.6360862892988 0.02020330037310214 0 1 1,282.77082662960623 Z\" style=\"fill: rgb(31, 119, 180);\"/><title>Monaco → ADDE (IDDE)\n34.0k</title><text class=\"label\" dy=\"0.35em\" x=\"5\" y=\"280.1347403403075\"/></g><g class=\"link\" style=\"opacity: 0.8;\"><path d=\"M1,1241.6072733312044 A221.8910234897899 221.8910234897899 1.1018823701887408 0 0 198.94002131000505,1119.9927389559684 L435.650899667065,652.7390813934186 A351.26475243521355 351.26475243521355 1.1018823701887408 0 1 749,460.2171008374691 L749,465.663100047261 A345.81875322542163 345.81875322542163 1.1018823701887408 0 0 440.50905563338813,655.2002250300096 L203.79817727632823,1122.4538825925592 A227.33702269958175 227.33702269958175 1.1018823701887408 0 1 1,1247.0532725409962 Z\" style=\"fill: rgb(31, 119, 180);\"/><title>Germany → ACRE (ND)\n35.1k</title><text class=\"label\" dy=\"0.35em\" x=\"5\" y=\"1244.3302729361003\"/></g><g class=\"link\" style=\"opacity: 0.8;\"><path d=\"M1,612.3863539317599 A997.2088498113308 997.2088498113308 0.0457793927596708 0 0 46.635671519552986,611.3415847953933 L703.1088634127314,581.2676285789325 A1002.7911501886692 1002.7911501886692 0.0457793927596708 0 1 749,580.2170109032703 L749,585.7993112806088 A997.2088498113308 997.2088498113308 0.0457793927596708 0 0 703.364328480447,586.8440804169754 L46.89113658726863,616.9180366334361 A1002.7911501886692 1002.7911501886692 0.0457793927596708 0 1 1,617.9686543090984 Z\" style=\"fill: rgb(31, 119, 180);\"/><title>France → MENL (FENL)\n36.0k</title><text class=\"label\" dy=\"0.35em\" x=\"5\" y=\"615.1775041204291\"/></g><g class=\"link\" style=\"opacity: 0.8;\"><path d=\"M1,913.6531836699425 A357.5639598476832 357.5639598476832 0.4124637005202838 0 0 144.3358160863234,883.6664348868009 L603.426420408189,682.7851641348109 A363.14626022502176 363.14626022502176 0.4124637005202838 0 1 749,652.330261237036 L749,657.9125616143745 A357.5639598476832 357.5639598476832 0.4124637005202838 0 0 605.6641839136767,687.899310397516 L146.5735795918111,888.780581149506 A363.14626022502176 363.14626022502176 0.4124637005202838 0 1 1,919.2354840472809 Z\" style=\"fill: rgb(31, 119, 180);\"/><title>USA → PES (FEPS)\n36.0k</title><text class=\"label\" dy=\"0.35em\" x=\"5\" y=\"916.4443338586117\"/></g><g class=\"link\" style=\"opacity: 0.8;\"><path d=\"M1,1042.8197071278007 A250.83827229510186 250.83827229510186 0.7441732032250635 0 1 170.90876793844512,1109.1292569279174 L515.4246440761707,1426.3496183889129 A344.8299898912386 344.8299898912386 0.7441732032250635 0 0 749,1517.5060482991234 L749,1523.1722459992166 A350.4961875913316 350.4961875913316 0.7441732032250635 0 1 511.5865668110481,1430.517946505015 L167.0706906733226,1113.2975850440196 A245.17207459500887 245.17207459500887 0.7441732032250635 0 0 1,1048.4859048278938 Z\" style=\"fill: rgb(31, 119, 180);\"/><title>Croatia → EPP (WMCES)\n36.5k</title><text class=\"label\" dy=\"0.35em\" x=\"5\" y=\"1045.6528059778473\"/></g><g class=\"link\" style=\"opacity: 0.8;\"><path d=\"M1,1655.9621129000475 A251.97055597608028 251.97055597608028 1.0572851356900637 0 0 220.47266555501025,1527.7692211169613 L550.045468384746,943.3970566956204 A228.41424839072315 228.41424839072315 1.0572851356900637 0 1 749,827.1887048418165 L749,832.855515044312 A222.74743818822762 222.74743818822762 1.0572851356900637 0 0 554.9814020120626,946.1808126292165 L225.40859918232692,1530.5529770505575 A257.6373661785758 257.6373661785758 1.0572851356900637 0 1 1,1661.628923102543 Z\" style=\"fill: rgb(31, 119, 180);\"/><title>Italy → EDP (IED)\n36.5k</title><text class=\"label\" dy=\"0.35em\" x=\"5\" y=\"1658.7955180012952\"/></g><g class=\"link\" style=\"opacity: 0.8;\"><path d=\"M1,815.6361232034822 A235.02592552591693 235.02592552591693 0.7807498850776601 0 0 166.41414304850656,747.5693152747843 L549.5019395715979,368.026463790145 A283.45349090894337 283.45349090894337 0.7807498850776601 0 1 749,285.934352976224 L749,291.67171725293304 A277.7161266322343 277.7161266322343 0.7807498850776601 0 0 553.5399672617996,372.1022068164926 L170.45217073870833,751.645058301132 A240.763289802626 240.763289802626 0.7807498850776601 0 1 1,821.3734874801912 Z\" style=\"fill: rgb(31, 119, 180);\"/><title>Netherlands → ADDE (IDDE)\n37.0k</title><text class=\"label\" dy=\"0.35em\" x=\"5\" y=\"818.5048053418367\"/></g><g class=\"link\" style=\"opacity: 0.8;\"><path d=\"M1,2045.5296649831048 A1002.911169646782 1002.911169646782 0.03542688900873614 0 1 36.52259108091847,2046.1589582472127 L713.6836331432394,2070.1587085768538 A997.088830353218 997.088830353218 0.03542688900873614 0 0 749,2070.784348517507 L749,2076.6066878110714 A1002.911169646782 1002.911169646782 0.03542688900873614 0 1 713.4774089190814,2075.9773945469638 L36.31636685676063,2051.9776442173224 A997.088830353218 997.088830353218 0.03542688900873614 0 0 1,2051.352004276669 Z\" style=\"fill: rgb(31, 119, 180);\"/><title>Czech Republic → EUD (OEIC)\n37.5k</title><text class=\"label\" dy=\"0.35em\" x=\"5\" y=\"2048.440834629887\"/></g><g class=\"link\" style=\"opacity: 0.8;\"><path d=\"M1,793.2882049889181 A261.92204686434366 261.92204686434366 0.9573736495002236 0 1 215.16906891387416,904.4297207686033 L518.3456995458084,1335.0626163539766 A282.08296743970914 282.08296743970914 0.9573736495002236 0 0 749,1454.7590258475939 L749,1460.5917761313617 A287.915717723477 287.915717723477 0.9573736495002236 0 1 513.5763618270607,1338.4203527339394 L210.39973119512652,907.787457148566 A256.0892965805758 256.0892965805758 0.9573736495002236 0 0 1,799.1209552726859 Z\" style=\"fill: rgb(31, 119, 180);\"/><title>Belgium → EPP (WMCES)\n37.6k</title><text class=\"label\" dy=\"0.35em\" x=\"5\" y=\"796.204580130802\"/></g><g class=\"link\" style=\"opacity: 0.8;\"><path d=\"M1,1532.5610709632151 A249.55207789273373 249.55207789273373 1.0435589779036398 0 0 216.66300264344346,1408.5705670945242 L515.4327115868365,895.4074196072044 A270.2698257783365 270.2698257783365 1.0435589779036398 0 1 749,761.1232567112999 L749,767.3735723671267 A264.01951012250976 264.01951012250976 1.0435589779036398 0 0 520.8342368042876,898.5522520546828 L222.06452786089454,1411.7153995420024 A255.80239354856047 255.80239354856047 1.0435589779036398 0 1 1,1538.811386619042 Z\" style=\"fill: rgb(31, 119, 180);\"/><title>UK → ECPM (SALLUX)\n40.3k</title><text class=\"label\" dy=\"0.35em\" x=\"5\" y=\"1535.6862287911285\"/></g><g class=\"link\" style=\"opacity: 0.8;\"><path d=\"M1,452.8562422519572 A233.87813674447233 233.87813674447233 1.119767906957024 0 1 211.49015913776398,584.7889242020892 L544.2469479166613,1271.8428940484225 A227.50356838607996 227.50356838607996 1.119767906957024 0 0 749,1400.1796267939649 L749,1406.5541951523574 A233.87813674447233 233.87813674447233 1.119767906957024 0 1 538.509840862236,1274.6215132022255 L205.75305208333864,587.567543355892 A227.50356838607996 227.50356838607996 1.119767906957024 0 0 1,459.2308106103496 Z\" style=\"fill: rgb(31, 119, 180);\"/><title>Lithuania → EPP (WMCES)\n41.1k</title><text class=\"label\" dy=\"0.35em\" x=\"5\" y=\"456.0435264311534\"/></g><g class=\"link\" style=\"opacity: 0.8;\"><path d=\"M1,927.0725685853663 A1003.5187875364654 1003.5187875364654 0.04145785344262887 0 1 42.59181808317119,927.934845841669 L707.6998611019277,955.52460609083 A996.4812124635346 996.4812124635346 0.04145785344262887 0 0 749,956.3808362845363 L749,963.4184113574671 A1003.5187875364654 1003.5187875364654 0.04145785344262887 0 1 707.4081819168288,962.5561341011644 L42.30013889807236,934.9663738520034 A996.4812124635346 996.4812124635346 0.04145785344262887 0 0 1,934.1101436582971 Z\" style=\"fill: rgb(31, 119, 180);\"/><title>USA → EAF (EFF)\n45.4k</title><text class=\"label\" dy=\"0.35em\" x=\"5\" y=\"930.5913561218317\"/></g><g class=\"link\" style=\"opacity: 0.8;\"><path d=\"M1,297.47670898254745 A996.4607440288177 996.4607440288177 0.04161323072070133 0 0 42.4539843867482,296.61406738710025 L707.2515408682119,268.9337137791793 A1003.5392559711823 1003.5392559711823 0.04161323072070133 0 1 749,268.0649442766651 L749,275.14345621902976 A996.4607440288177 996.4607440288177 0.04161323072070133 0 0 707.5460156132518,276.00609781447696 L42.74845913178814,303.6864514223979 A1003.5392559711823 1003.5392559711823 0.04161323072070133 0 1 1,304.55522092491213 Z\" style=\"fill: rgb(31, 119, 180);\"/><title>Iceland → ADDE (IDDE)\n45.6k</title><text class=\"label\" dy=\"0.35em\" x=\"5\" y=\"301.0159649537298\"/></g><g class=\"link\" style=\"opacity: 0.8;\"><path d=\"M1,1116.8715400969302 A566.2689400006154 566.2689400006154 0.24804918625427463 0 0 140.0265686125847,1099.5398693987652 L608.1749926329169,980.9742834336482 A573.5941586068786 573.5941586068786 0.24804918625427463 0 1 749,963.4184113574671 L749,970.7436299637303 A566.2689400006154 566.2689400006154 0.24804918625427463 0 0 609.9734313874153,988.0753006618954 L141.82500736708306,1106.6408866270124 A573.5941586068786 573.5941586068786 0.24804918625427463 0 1 1,1124.1967587031934 Z\" style=\"fill: rgb(31, 119, 180);\"/><title>Austria → EAF (EFF)\n47.2k</title><text class=\"label\" dy=\"0.35em\" x=\"5\" y=\"1120.5341494000618\"/></g><g class=\"link\" style=\"opacity: 0.8;\"><path d=\"M1,1836.8081610387678 A235.84476137191388 235.84476137191388 0.7488722527513428 0 0 161.5662188228822,1773.7095742684853 L581.3273664646591,1383.544869081681 A246.28288898279354 246.28288898279354 0.7488722527513428 0 1 749,1317.6536355850387 L749,1325.0269240001069 A238.9096005677255 238.9096005677255 0.7488722527513428 0 0 586.3471982990033,1388.9454866766123 L166.5860506572264,1779.1101918634165 A243.2180497869819 243.2180497869819 0.7488722527513428 0 1 1,1844.181449453836 Z\" style=\"fill: rgb(31, 119, 180);\"/><title>Greece → EGP (GEF)\n47.6k</title><text class=\"label\" dy=\"0.35em\" x=\"5\" y=\"1840.494805246302\"/></g><g class=\"link\" style=\"opacity: 0.8;\"><path d=\"M1,1200.618053339849 A402.46288511834996 402.46288511834996 0.35899620261298315 0 0 142.39913883838017,1174.9610299507863 L604.9858540962744,1001.3720022340834 A409.9059522881347 409.9059522881347 0.35899620261298315 0 1 749,975.2404830454752 L749,982.6835502152601 A402.46288511834996 402.46288511834996 0.35899620261298315 0 0 607.6008611616198,1008.3405736043229 L145.0141459037256,1181.9296013210255 A409.9059522881347 409.9059522881347 0.35899620261298315 0 1 1,1208.0611205096336 Z\" style=\"fill: rgb(31, 119, 180);\"/><title>Malta → EAF (EFF)\n48.0k</title><text class=\"label\" dy=\"0.35em\" x=\"5\" y=\"1204.3395869247413\"/></g><g class=\"link\" style=\"opacity: 0.8;\"><path d=\"M1,2108.9649384790187 A658.8394789891975 658.8394789891975 0.21425895434211006 0 1 141.0846806374099,2124.029813025425 L610.4978895040177,2226.1736363406926 A651.3964118194126 651.3964118194126 0.21425895434211006 0 0 749,2241.068319396259 L749,2248.5113865660437 A658.8394789891975 658.8394789891975 0.21425895434211006 0 1 608.9153193625901,2233.4465120196373 L139.50211049598218,2131.3026887043698 A651.3964118194126 651.3964118194126 0.21425895434211006 0 0 1,2116.4080056488033 Z\" style=\"fill: rgb(31, 119, 180);\"/><title>Switzerland → ALDE (ELF)\n48.0k</title><text class=\"label\" dy=\"0.35em\" x=\"5\" y=\"2112.686472063911\"/></g><g class=\"link\" style=\"opacity: 0.8;\"><path d=\"M1,862.5863706548869 A269.67019392967507 269.67019392967507 0.893544850323679 0 1 211.1534514070018,963.2668005282928 L524.6278478084541,1353.0994433477497 A287.915717723477 287.915717723477 0.893544850323679 0 0 749,1460.5917761313617 L749,1468.2856762154074 A295.60961780752245 295.60961780752245 0.893544850323679 0 1 518.6320066148796,1357.9208525696174 L205.15761021342723,968.0882097501603 A261.9762938456296 261.9762938456296 0.893544850323679 0 0 1,870.2802707389324 Z\" style=\"fill: rgb(31, 119, 180);\"/><title>Netherlands → EPP (WMCES)\n49.6k</title><text class=\"label\" dy=\"0.35em\" x=\"5\" y=\"866.4333206969096\"/></g><g class=\"link\" style=\"opacity: 0.8;\"><path d=\"M1,919.235484047281 A510.7021163519653 510.7021163519653 0.2766013609879572 0 0 140.46650632314984,899.823246748804 L607.3932816720644,767.2728954325755 A518.5392008900506 518.5392008900506 0.2766013609879572 0 1 749,747.5627636474487 L749,755.399848185534 A510.7021163519653 510.7021163519653 0.2766013609879572 0 0 609.5334936768502,774.812085484011 L142.6067183279355,907.3624368002395 A518.5392008900506 518.5392008900506 0.2766013609879572 0 1 1,927.0725685853663 Z\" style=\"fill: rgb(31, 119, 180);\"/><title>USA → ECPM (SALLUX)\n50.5k</title><text class=\"label\" dy=\"0.35em\" x=\"5\" y=\"923.1540263163237\"/></g><g class=\"link\" style=\"opacity: 0.8;\"><path d=\"M1,304.55522092491213 A1003.9851422138223 1003.9851422138223 0.07385359347235543 0 1 75.08052410906551,307.29202145030246 L675.5075750797295,351.71651512802464 A996.0148577861777 996.0148577861777 0.07385359347235543 0 0 749,354.43158915797994 L749,362.40187358562446 A1003.9851422138223 1003.9851422138223 0.07385359347235543 0 1 674.9194758909345,359.66507306023414 L74.49242492027047,315.24057938251195 A996.0148577861777 996.0148577861777 0.07385359347235543 0 0 1,312.52550535255665 Z\" style=\"fill: rgb(31, 119, 180);\"/><title>Iceland → ACRE (ND)\n51.4k</title><text class=\"label\" dy=\"0.35em\" x=\"5\" y=\"308.5403631387344\"/></g><g class=\"link\" style=\"opacity: 0.8;\"><path d=\"M1,1769.7825426687455 A334.7210470182499 334.7210470182499 0.4577925243520431 0 1 148.9363307263081,1804.2486623864932 L604.6171780909546,2028.763720798552 A326.68087063924213 326.68087063924213 0.4577925243520431 0 0 749,2062.4019461125886 L749,2070.4421224915964 A334.7210470182499 334.7210470182499 0.4577925243520431 0 1 601.063669273692,2035.9760027738487 L145.38282190904542,1811.4609443617899 A326.68087063924213 326.68087063924213 0.4577925243520431 0 0 1,1777.8227190477533 Z\" style=\"fill: rgb(31, 119, 180);\"/><title>Sweden → EUD (OEIC)\n51.9k</title><text class=\"label\" dy=\"0.35em\" x=\"5\" y=\"1773.8026308582494\"/></g><g class=\"link\" style=\"opacity: 0.8;\"><path d=\"M1,2164.2057139600774 A361.4941275211071 361.4941275211071 0.4050275197655113 0 0 143.44461139861698,2134.9577856884775 L603.0548607024181,1937.9081173859186 A370.37772280965396 370.37772280965396 0.4050275197655113 0 1 749,1907.941431220311 L749,1916.825026508858 A361.4941275211071 361.4941275211071 0.4050275197655113 0 0 606.555388601383,1946.0729547804576 L146.945139297582,2143.1226230830166 A370.37772280965396 370.37772280965396 0.4050275197655113 0 1 1,2173.089309248624 Z\" style=\"fill: rgb(31, 119, 180);\"/><title>Slovenia → EPP (WMCES)\n57.3k</title><text class=\"label\" dy=\"0.35em\" x=\"5\" y=\"2168.6475116043507\"/></g><g class=\"link\" style=\"opacity: 0.8;\"><path d=\"M1,2188.98143043175 A221.44920546617524 221.44920546617524 1.0568121741287722 0 0 193.83633235833298,2076.407839885477 L547.4327249497745,1450.1314093676413 A231.4756371994728 231.4756371994728 1.0568121741287722 0 1 749,1332.4608873683594 L749,1342.487319101657 A221.44920546617524 221.44920546617524 1.0568121741287722 0 0 556.1636676416671,1455.06090964793 L202.56727505022548,2081.3373401657655 A231.4756371994728 231.4756371994728 1.0568121741287722 0 1 1,2199.0078621650478 Z\" style=\"fill: rgb(31, 119, 180);\"/><title>Denmark → EGP (GEF)\n64.7k</title><text class=\"label\" dy=\"0.35em\" x=\"5\" y=\"2193.994646298399\"/></g><g class=\"link\" style=\"opacity: 0.8;\"><path d=\"M1,1811.0358752467039 A994.4667982804386 994.4667982804386 0.09829949095724344 0 0 98.5982241499841,1806.2350809923287 L650.3157050779668,1751.8261731870487 A1005.5332017195614 1005.5332017195614 0.09829949095724344 0 1 749,1746.9719558056881 L749,1758.038359244811 A994.4667982804386 994.4667982804386 0.09829949095724344 0 0 651.401775850016,1762.8391534991863 L99.68429492203325,1817.2480613044663 A1005.5332017195614 1005.5332017195614 0.09829949095724344 0 1 1,1822.1022786858268 Z\" style=\"fill: rgb(31, 119, 180);\"/><title>Estonia → EPP (WMCES)\n71.4k</title><text class=\"label\" dy=\"0.35em\" x=\"5\" y=\"1816.5690769662654\"/></g><g class=\"link\" style=\"opacity: 0.8;\"><path d=\"M1,1099.4939878836187 A220.6985495959339 220.6985495959339 0.9858797908196608 0 0 185.00921922251044,1000.6496833301576 L444.02232727331136,609.5201025411479 A365.7867269603064 365.7867269603064 0.9858797908196608 0 1 749,445.69512631237626 L749,457.1698548657944 A354.3119984068883 354.3119984068883 0.9858797908196608 0 0 453.5894759735203,615.8556420700847 L194.5763679227193,1006.9852228590944 A232.1732781493521 232.1732781493521 0.9858797908196608 0 1 1,1110.9687164370368 Z\" style=\"fill: rgb(31, 119, 180);\"/><title>Austria → ACRE (ND)\n74.0k</title><text class=\"label\" dy=\"0.35em\" x=\"5\" y=\"1105.2313521603278\"/></g><g class=\"link\" style=\"opacity: 0.8;\"><path d=\"M1,870.2802707389324 A261.9762938456296 261.9762938456296 1.2929250739601716 0 1 252.92728970357365,1060.3940622644832 L508.1072860670503,1954.9747238740977 A250.50156529221138 250.50156529221138 1.2929250739601716 0 0 749,2136.761410225383 L749,2148.2361387788014 A261.9762938456296 261.9762938456296 1.2929250739601716 0 1 497.07271029642635,1958.1223472532504 L241.89271393294968,1063.541685643636 A250.50156529221138 250.50156529221138 1.2929250739601716 0 0 1,881.7549992923505 Z\" style=\"fill: rgb(31, 119, 180);\"/><title>Netherlands → ALDE (ELF)\n74.0k</title><text class=\"label\" dy=\"0.35em\" x=\"5\" y=\"876.0176350156414\"/></g><g class=\"link\" style=\"opacity: 0.8;\"><path d=\"M1,1617.805954260639 A921.3073285735803 921.3073285735803 0.1517199274157306 0 1 140.2450307950371,1628.3893866492801 L611.4946274393419,1700.4410423396232 A909.7969725386428 909.7969725386428 0.1517199274157306 0 0 749,1710.8922505821113 L749,1722.4026066170488 A921.3073285735803 921.3073285735803 0.1517199274157306 0 1 609.7549692049629,1711.8191742284077 L138.50537256065815,1639.7675185380647 A909.7969725386428 909.7969725386428 0.1517199274157306 0 0 1,1629.3163102955766 Z\" style=\"fill: rgb(31, 119, 180);\"/><title>Finland → EPP (WMCES)\n74.2k</title><text class=\"label\" dy=\"0.35em\" x=\"5\" y=\"1623.5611322781078\"/></g><g class=\"link\" style=\"opacity: 0.8;\"><path d=\"M1,1736.4301493771059 A277.30047940061064 277.30047940061064 1.0295466342044222 0 0 238.6646739823914,1601.9969462039508 L532.3999915421117,1113.3580477216872 A252.72281815007486 252.72281815007486 1.0295466342044222 0 1 749,990.8399113221491 L749,1003.1674913221051 A240.39523815011884 240.39523815011884 1.0295466342044222 0 0 542.9655350565487,1119.7093089271373 L249.23021749682843,1608.3482074094009 A289.62805940056666 289.62805940056666 1.0295466342044222 0 1 1,1748.7577293770619 Z\" style=\"fill: rgb(31, 119, 180);\"/><title>Sweden → EAF (EFF)\n79.5k</title><text class=\"label\" dy=\"0.35em\" x=\"5\" y=\"1742.5939393770839\"/></g><g class=\"link\" style=\"opacity: 0.8;\"><path d=\"M1,1068.7803505890693 A612.1736239627747 612.1736239627747 0.23256350291839922 0 1 142.0893498344006,1085.260814242761 L610.8415240508884,1196.2843140918283 A599.4568335753987 599.4568335753987 0.23256350291839922 0 0 749,1212.4224261747122 L749,1225.1392165620882 A612.1736239627747 612.1736239627747 0.23256350291839922 0 1 607.9106501655995,1208.6587529083965 L139.15847594911156,1097.6352530593292 A599.4568335753987 599.4568335753987 0.23256350291839922 0 0 1,1081.4971409764453 Z\" style=\"fill: rgb(31, 119, 180);\"/><title>Spain → EGP (GEF)\n82.0k</title><text class=\"label\" dy=\"0.35em\" x=\"5\" y=\"1075.1387457827573\"/></g><g class=\"link\" style=\"opacity: 0.8;\"><path d=\"M1,250 A0 0 0 0 0 1,250 L749,250 A0 0 0 0 0 749,250 L749,262.79277169806755 A0 0 0 0 0 749,262.79277169806755 L1,262.79277169806755 A0 0 0 0 0 1,262.79277169806755 Z\" style=\"fill: rgb(31, 119, 180);\"/><title>Bosnia → ADDE (IDDE)\n82.5k</title><text class=\"label\" dy=\"0.35em\" x=\"5\" y=\"256.3963858490338\"/></g><g class=\"link\" style=\"opacity: 0.8;\"><path d=\"M1,1604.7125958455588 A302.82819528663236 302.82819528663236 0.49832372684373727 0 0 145.73788596833975,1567.8841378256661 L598.0040936533703,1321.7934631961373 A315.92155370171264 315.92155370171264 0.49832372684373727 0 1 749,1283.3726560877699 L749,1296.4660145028502 A302.82819528663236 302.82819528663236 0.49832372684373727 0 0 604.2621140316603,1333.2944725227428 L151.99590634662962,1579.3851471522717 A315.92155370171264 315.92155370171264 0.49832372684373727 0 1 1,1617.805954260639 Z\" style=\"fill: rgb(31, 119, 180);\"/><title>Finland → EGP (GEF)\n84.4k</title><text class=\"label\" dy=\"0.35em\" x=\"5\" y=\"1611.259275053099\"/></g><g class=\"link\" style=\"opacity: 0.8;\"><path d=\"M1,1551.9453190540316 A232.87068581118865 232.87068581118865 0.9764672306893527 0 1 193.93903591000395,1654.419360996248 L475.53579919400954,2071.0789191823287 A330.0617507812357 330.0617507812357 0.9764672306893527 0 0 749,2216.3215957144075 L749,2230.1053017107633 A343.8454567775915 343.8454567775915 0.9764672306893527 0 1 464.1156630058073,2078.797146986488 L182.5188997218017,1662.1375888004068 A219.08697981483277 219.08697981483277 0.9764672306893527 0 0 1,1565.7290250503875 Z\" style=\"fill: rgb(31, 119, 180);\"/><title>UK → ALDE (ELF)\n88.9k</title><text class=\"label\" dy=\"0.35em\" x=\"5\" y=\"1558.8371720522096\"/></g><g class=\"link\" style=\"opacity: 0.8;\"><path d=\"M1,1124.1967587031934 A853.6697126707339 853.6697126707339 0.16438375329440658 0 1 140.69828737383565,1135.7047488786868 L611.6281240088091,1213.822870248799 A839.4534543764449 839.4534543764449 0.16438375329440658 0 0 749,1225.1392165620882 L749,1239.355474856377 A853.6697126707339 853.6697126707339 0.16438375329440658 0 1 609.3017126261644,1227.8474846808836 L138.37187599119093,1149.7293633107713 A839.4534543764449 839.4534543764449 0.16438375329440658 0 0 1,1138.4130169974821 Z\" style=\"fill: rgb(31, 119, 180);\"/><title>Austria → EGP (GEF)\n91.7k</title><text class=\"label\" dy=\"0.35em\" x=\"5\" y=\"1131.3048878503378\"/></g><g class=\"link\" style=\"opacity: 0.8;\"><path d=\"M1,846.681466496453 A303.3434999910797 303.3434999910797 0.5327006243498378 0 1 155.05651908814335,888.7131452599374 L597.8515109594413,1149.7631612786968 A297.6174715312986 297.6174715312986 0.5327006243498378 0 0 749,1191.0014339239713 L749,1206.9063380824052 A313.5223756897324 313.5223756897324 0.5327006243498378 0 1 589.7740206847167,1163.4642607656247 L146.9790288134188,902.4142447468653 A287.43859583264583 287.43859583264583 0.5327006243498378 0 0 1,862.5863706548868 Z\" style=\"fill: rgb(31, 119, 180);\"/><title>Netherlands → EGP (GEF)\n103k</title><text class=\"label\" dy=\"0.35em\" x=\"5\" y=\"854.6339185756699\"/></g><g class=\"link\" style=\"opacity: 0.8;\"><path d=\"M1,2132.4474375363316 A376.53165409060847 376.53165409060847 0.3820880411257197 0 0 141.3931216403031,2105.2950300078232 L602.5378286907434,1919.9905347128883 A392.8087286645604 392.8087286645604 0.3820880411257197 0 1 749,1891.664356646359 L749,1907.9414312203112 A376.53165409060847 376.53165409060847 0.3820880411257197 0 0 608.6068783596969,1935.0938387488195 L147.46217130925663,2120.398334043754 A392.8087286645604 392.8087286645604 0.3820880411257197 0 1 1,2148.7245121102833 Z\" style=\"fill: rgb(31, 119, 180);\"/><title>Portugal → EPP (WMCES)\n105k</title><text class=\"label\" dy=\"0.35em\" x=\"5\" y=\"2140.5859748233074\"/></g><g class=\"link\" style=\"opacity: 0.8;\"><path d=\"M1,1748.8740273015899 A289.74435732509454 289.74435732509454 0.6828104632712211 0 0 183.8217000805666,1683.9140523997044 L582.4753263127042,1359.6809677638516 A263.9160697829295 263.9160697829295 0.6828104632712211 0 1 749,1300.511631637427 L749,1317.0310540290661 A247.39664739129034 247.39664739129034 0.6828104632712211 0 0 592.8986833501627,1372.4967761356652 L194.24505711802522,1696.729860771518 A306.2637797167337 306.2637797167337 0.6828104632712211 0 1 1,1765.393449693229 Z\" style=\"fill: rgb(31, 119, 180);\"/><title>Sweden → EGP (GEF)\n107k</title><text class=\"label\" dy=\"0.35em\" x=\"5\" y=\"1757.1337384974095\"/></g><g class=\"link\" style=\"opacity: 0.8;\"><path d=\"M1,896.8765288769155 A241.05456172843387 241.05456172843387 0.7506027940704938 0 0 165.4184216691826,832.0998283389957 L487.7827965728613,531.4231502463773 A382.97167585484897 382.97167585484897 0.7506027940704938 0 1 749,428.51017741783386 L749,445.28683221086084 A366.195021061822 366.195021061822 0.7506027940704938 0 0 499.225812138216,543.6915462627866 L176.86143723453725,844.368224355405 A257.8312165214608 257.8312165214608 0.7506027940704938 0 1 1,913.6531836699423 Z\" style=\"fill: rgb(31, 119, 180);\"/><title>USA → ACRE (ND)\n108k</title><text class=\"label\" dy=\"0.35em\" x=\"5\" y=\"905.2648562734289\"/></g><g class=\"link\" style=\"opacity: 0.8;\"><path d=\"M1,1998.5648399745203 A271.6867136651556 271.6867136651556 1.398137433645183 0 0 268.64712502457843,1773.5545320005692 L445.6539796429089,758.5797273496048 A307.92441116882225 307.92441116882225 1.398137433645183 0 1 749,503.5574421038604 L749,520.9607287219116 A290.52112455077116 290.52112455077116 1.398137433645183 0 0 462.7985045497869,761.5696522361991 L285.79164993145645,1776.5444568871637 A289.0900002832067 289.0900002832067 1.398137433645183 0 1 1,2015.9681265925713 Z\" style=\"fill: rgb(31, 119, 180);\"/><title>Czech Republic → ACRE (ND)\n112k</title><text class=\"label\" dy=\"0.35em\" x=\"5\" y=\"2007.2664832835458\"/></g><g class=\"link\" style=\"opacity: 0.8;\"><path d=\"M1,2215.114126593204 A316.44412488050284 316.44412488050284 0.4658762659262239 0 0 143.14855354014452,2181.3901334646375 L598.1765477573277,1952.607093511194 A335.755758097883 335.755758097883 0.4658762659262239 0 1 749,1916.825026508858 L749,1936.136659726238 A316.44412488050284 316.44412488050284 0.4658762659262239 0 0 606.8514464598555,1969.860652854805 L151.82345224267226,2198.643692808248 A335.755758097883 335.755758097883 0.4658762659262239 0 1 1,2234.4257598105846 Z\" style=\"fill: rgb(31, 119, 180);\"/><title>Serbia → EPP (WMCES)\n125k</title><text class=\"label\" dy=\"0.35em\" x=\"5\" y=\"2224.7699432018944\"/></g><g class=\"link\" style=\"opacity: 0.8;\"><path d=\"M1,826.3510386499847 A851.4206940185409 851.4206940185409 0.16144684324833558 0 0 137.86281356956582,815.2789440024645 L608.8691432930189,738.5688125840561 A871.7511218650093 871.7511218650093 0.16144684324833558 0 1 749,727.2323358009804 L749,747.5627636474488 A851.4206940185409 851.4206940185409 0.16144684324833558 0 0 612.1371864304342,758.634858294969 L141.13085670698118,835.3449897133775 A871.7511218650093 871.7511218650093 0.16144684324833558 0 1 1,846.6814664964531 Z\" style=\"fill: rgb(31, 119, 180);\"/><title>Netherlands → ECPM (SALLUX)\n131k</title><text class=\"label\" dy=\"0.35em\" x=\"5\" y=\"836.5162525732189\"/></g><g class=\"link\" style=\"opacity: 0.8;\"><path d=\"M1,984.0407084011302 A256.9819215763191 256.9819215763191 1.2648931223130064 0 1 246.05162257259732,1163.6313495151471 L499.18586720559836,1965.1552034358917 A261.9762938456296 261.9762938456296 1.2648931223130064 0 0 749,2148.236138778801 L749,2168.76349777747 A282.5036528442985 282.5036528442985 1.2648931223130064 0 1 479.6114839225311,1971.3371114381032 L226.47723928953,1169.8132575173586 A236.4545625776502 236.4545625776502 1.2648931223130064 0 0 1,1004.5680673997991 Z\" style=\"fill: rgb(31, 119, 180);\"/><title>USA → ALDE (ELF)\n132k</title><text class=\"label\" dy=\"0.35em\" x=\"5\" y=\"994.3043879004647\"/></g><g class=\"link\" style=\"opacity: 0.8;\"><path d=\"M1,1662.4740213541124 A1010.3146179902776 1010.3146179902776 0.09096802061771325 0 1 92.77961653275764,1666.6514074948075 L659.0943971001693,1718.3105169601852 A989.6853820097224 989.6853820097224 0.09096802061771325 0 0 749,1722.4026066170488 L749,1743.031842597604 A1010.3146179902776 1010.3146179902776 0.09096802061771325 0 1 657.2203834672423,1738.854456456909 L90.90560289983071,1687.1953469915313 A989.6853820097224 989.6853820097224 0.09096802061771325 0 0 1,1683.1032573346677 Z\" style=\"fill: rgb(31, 119, 180);\"/><title>Italy → EPP (WMCES)\n133k</title><text class=\"label\" dy=\"0.35em\" x=\"5\" y=\"1672.78863934439\"/></g><g class=\"link\" style=\"opacity: 0.8;\"><path d=\"M1,1138.4130169974824 A285.9504530246485 285.9504530246485 0.6206063462789493 0 1 167.2883511383794,1191.7353421857044 L543.2626718651932,1460.4911046358732 A353.7871521455638 353.7871521455638 0.6206063462789493 0 0 749,1526.4632105534486 L749,1549.398829757905 A376.72277135002037 376.72277135002037 0.6206063462789493 0 1 529.9249545805906,1479.14982715184 L153.95063385377668,1210.3940647016714 A263.01483382019194 263.01483382019194 0.6206063462789493 0 0 1,1161.348636201939 Z\" style=\"fill: rgb(31, 119, 180);\"/><title>Austria → EPP (WMCES)\n148k</title><text class=\"label\" dy=\"0.35em\" x=\"5\" y=\"1149.8808265997106\"/></g><g class=\"link\" style=\"opacity: 0.8;\"><path d=\"M1,1507.0540085078294 A224.045015437348 224.045015437348 1.2628086810682002 0 0 214.50269536414754,1350.9263547283485 L419.4535658739382,706.6498074222735 A345.81875322542163 345.81875322542163 1.2628086810682002 0 1 749,465.66310004726097 L749,491.1701625026467 A320.3116907700359 320.3116907700359 1.2628086810682002 0 0 443.76040695413786,714.3820588282266 L238.8095364443472,1358.6586061343019 A249.55207789273373 249.55207789273373 1.2628086810682002 0 1 1,1532.561070963215 Z\" style=\"fill: rgb(31, 119, 180);\"/><title>UK → ACRE (ND)\n164k</title><text class=\"label\" dy=\"0.35em\" x=\"5\" y=\"1519.8075397355221\"/></g><g class=\"link\" style=\"opacity: 0.8;\"><path d=\"M1,1957.8175868362155 A683.5233745078291 683.5233745078291 0.20103850683847524 0 0 137.49075212849604,1944.0512414680343 L607.3462809991731,1848.298704746364 A709.3786686139482 709.3786686139482 0.20103850683847524 0 1 749,1834.0116267719031 L749,1859.866920878022 A683.5233745078291 683.5233745078291 0.20103850683847524 0 0 612.5092478715039,1873.6332662462032 L142.65371900082684,1969.3858029678736 A709.3786686139482 709.3786686139482 0.20103850683847524 0 1 1,1983.6728809423344 Z\" style=\"fill: rgb(31, 119, 180);\"/><title>Hungary → EPP (WMCES)\n167k</title><text class=\"label\" dy=\"0.35em\" x=\"5\" y=\"1970.745233889275\"/></g><g class=\"link\" style=\"opacity: 0.8;\"><path d=\"M1,624.6898990273136 A255.15740520284942 255.15740520284942 0.7369740806113657 0 1 172.4786060590207,690.9018383043932 L589.3798351993308,1069.2630828412616 A237.5122355180086 237.5122355180086 0.7369740806113657 0 0 749,1130.8961979106814 L749,1157.762569115617 A264.3786067229442 264.3786067229442 0.7369740806113657 0 1 571.3242828612593,1089.1577789055032 L154.4230537209492,710.7965343686348 A228.29103399791381 228.29103399791381 0.7369740806113657 0 0 1,651.5562702322492 Z\" style=\"fill: rgb(31, 119, 180);\"/><title>France → EGP (GEF)\n173k</title><text class=\"label\" dy=\"0.35em\" x=\"5\" y=\"638.1230846297814\"/></g><g class=\"link\" style=\"opacity: 0.8;\"><path d=\"M1,765.4533170736262 A289.75693477963557 289.75693477963557 0.6069190928860456 0 1 166.25982120738482,817.201275662461 L595.1323399657213,1114.985825241574 A269.78258361600666 269.78258361600666 0.6069190928860456 0 0 749,1163.1665460086795 L749,1191.0014339239713 A297.6174715312986 297.6174715312986 0.6069190928860456 0 1 579.2570043030664,1137.8496548170172 L150.38448554472987,840.0651052379038 A261.92204686434366 261.92204686434366 0.6069190928860456 0 0 1,793.288204988918 Z\" style=\"fill: rgb(31, 119, 180);\"/><title>Belgium → EGP (GEF)\n180k</title><text class=\"label\" dy=\"0.35em\" x=\"5\" y=\"779.3707610312721\"/></g><g class=\"link\" style=\"opacity: 0.8;\"><path d=\"M1,2016.8723491583319 A543.7616363924984 543.7616363924984 0.2536375065194685 0 0 137.44433474500386,1999.4752829339263 L605.3647784185695,1878.1808469686828 A572.4189522172716 572.4189522172716 0.2536375065194685 0 1 749,1859.8669208780223 L749,1888.5242367027956 A543.7616363924984 543.7616363924984 0.2536375065194685 0 0 612.5556652549961,1905.9213029272012 L144.63522158143053,2027.2157388924447 A572.4189522172716 572.4189522172716 0.2536375065194685 0 1 1,2045.5296649831052 Z\" style=\"fill: rgb(31, 119, 180);\"/><title>Czech Republic → EPP (WMCES)\n185k</title><text class=\"label\" dy=\"0.35em\" x=\"5\" y=\"2031.2010070707186\"/></g><g class=\"link\" style=\"opacity: 0.8;\"><path d=\"M1,1253.1361548501995 A981.392736016996 981.392736016996 0.016297701572066003 0 0 16.993737885004954,1253.005821381773 L732.3997776934594,1241.3453148217257 A1018.607263983004 1018.607263983004 0.016297701572066003 0 1 749,1241.2100390928485 L749,1278.4245670588566 A981.392736016996 981.392736016996 0.016297701572066003 0 0 733.0062621149951,1278.554900527283 L17.600222306540566,1290.2154070873305 A1018.607263983004 1018.607263983004 0.016297701572066003 0 1 1,1290.3506828162076 Z\" style=\"fill: rgb(31, 119, 180);\"/><title>Germany → EGP (GEF)\n240k</title><text class=\"label\" dy=\"0.35em\" x=\"5\" y=\"1271.7434188332036\"/></g><g class=\"link\" style=\"opacity: 0.8;\"><path d=\"M1,542.2514510596757 A489.9485727997291 489.9485727997291 0.2776799245379227 0 0 135.30724347667893,523.4834894253336 L602.185084202013,390.40272518702375 A535.5761655061173 535.5761655061173 0.2776799245379227 0 1 749,369.88695376830464 L749,415.51454647469274 A489.9485727997291 489.9485727997291 0.2776799245379227 0 0 614.692756523321,434.2825081090349 L147.8149157979871,567.3632723473447 A535.5761655061173 535.5761655061173 0.2776799245379227 0 1 1,587.8790437660639 Z\" style=\"fill: rgb(31, 119, 180);\"/><title>Poland → ACRE (ND)\n294k</title><text class=\"label\" dy=\"0.35em\" x=\"5\" y=\"565.0652474128698\"/></g><g class=\"link\" style=\"opacity: 0.8;\"><path d=\"M1,694.3051165876864 A247.62048741305148 247.62048741305148 0.9653813706153669 0 1 204.6099115383692,801.0039601343159 L554.8517778210255,1307.0491172461755 A236.11364025997125 236.11364025997125 0.9653813706153669 0 0 749,1408.789698667856 L749,1454.7590258475939 A282.08296743970914 282.08296743970914 0.9653813706153669 0 1 517.0527623262703,1333.2104144040961 L166.81089604361398,827.1652572922368 A201.65116023331365 201.65116023331365 0.9653813706153669 0 0 1,740.2744437674241 Z\" style=\"fill: rgb(31, 119, 180);\"/><title>Romania → EPP (WMCES)\n296k</title><text class=\"label\" dy=\"0.35em\" x=\"5\" y=\"717.2897801775553\"/></g><g class=\"link\" style=\"opacity: 0.8;\"><path d=\"M1,1444.9761048971955 A248.2056160127339 248.2056160127339 1.0102775813245635 0 1 211.22505529220064,1561.2292523932251 L509.5676093301,2036.544952233231 A282.68972952354306 282.68972952354306 1.0102775813245635 0 0 749,2168.949574456715 L749,2216.3215957144075 A330.0617507812357 330.0617507812357 1.0102775813245635 0 1 469.4444809811798,2061.729133171577 L171.10192694328043,1586.413433331571 A200.8335947550413 200.8335947550413 1.0102775813245635 0 0 1,1492.3481261548882 Z\" style=\"fill: rgb(31, 119, 180);\"/><title>Germany → ALDE (ELF)\n306k</title><text class=\"label\" dy=\"0.35em\" x=\"5\" y=\"1468.6621155260418\"/></g><g class=\"link\" style=\"opacity: 0.8;\"><path d=\"M1,934.1101436582971 A306.9124863191522 306.9124863191522 0.8397998669345373 0 1 229.49926900019435,1036.1242202106075 L528.9158242515902,1370.0285393283245 A295.60961780752245 295.60961780752245 0.8397998669345373 0 0 749,1468.2856762154072 L749,1517.5060482991232 A344.8299898912386 344.8299898912386 0.8397998669345373 0 1 492.2707884763061,1402.8886425096541 L192.85423322491025,1068.984323391937 A257.69211423543607 257.69211423543607 0.8397998669345373 0 0 1,983.3305157420134 Z\" style=\"fill: rgb(31, 119, 180);\"/><title>USA → EPP (WMCES)\n317k</title><text class=\"label\" dy=\"0.35em\" x=\"5\" y=\"958.7203297001553\"/></g><g class=\"link\" style=\"opacity: 0.8;\"><path d=\"M1,1864.7123955730533 A792.0313736732093 792.0313736732093 0.16810109415516084 0 0 133.51517504125022,1853.54812023762 L604.3461638196022,1773.6468783673681 A864.5830678742685 864.5830678742685 0.16810109415516084 0 1 749,1761.4599325708439 L749,1834.0116267719034 A792.0313736732093 792.0313736732093 0.16810109415516084 0 0 616.4848249587499,1845.1759021073367 L145.65383618039775,1925.0771439775885 A864.5830678742685 864.5830678742685 0.16810109415516084 0 1 1,1937.2640897741128 Z\" style=\"fill: rgb(31, 119, 180);\"/><title>Slovakia → EPP (WMCES)\n468k</title><text class=\"label\" dy=\"0.35em\" x=\"5\" y=\"1900.988242673583\"/></g><g class=\"link\" style=\"opacity: 0.8;\"><path d=\"M1,1290.3506828162076 A438.507256206171 438.507256206171 0.4283496521133463 0 1 183.14281413141683,1329.968720058325 L591.9394869950031,1516.6355259356826 A378.1218322808129 378.1218322808129 0.4283496521133463 0 0 749,1550.7978906886976 L749,1705.2052153952206 A532.5291569873361 532.5291569873361 0.4283496521133463 0 1 527.8032971224081,1657.092533847898 L119.00662425882197,1470.4257279705405 A284.09993149964777 284.09993149964777 0.4283496521133463 0 0 1,1444.7580075227306 Z\" style=\"fill: rgb(31, 119, 180);\"/><title>Germany → EPP (WMCES)\n996k</title><text class=\"label\" dy=\"0.35em\" x=\"5\" y=\"1367.5543451694691\"/></g></g><g class=\"nodes\"><g class=\"node\" transform=\"translate(0,297.47670898254745)\"><title>Iceland</title><line x1=\"0\" x2=\"0\" y1=\"0\" y2=\"15.0487963700092\" style=\"display: inline; stroke: rgb(0, 0, 0);\"/><rect class=\"node-body\" width=\"1\" height=\"15.0487963700092\" style=\"fill: none;\"/><text class=\"node-value\" dy=\".35em\" text-anchor=\"middle\" style=\"display: none;\" transform=\"translate(0.5,7.5243981850046) rotate(-90)\"/><text class=\"node-title\" dy=\".35em\" text-anchor=\"end\" transform=\"translate(-4,7.5243981850046)\" style=\"display: inline;\">Iceland</text><rect class=\"node-click-target\" x=\"-5\" y=\"-5\" width=\"10\" style=\"fill: none; visibility: hidden; pointer-events: all;\" height=\"20.0487963700092\"/></g><g class=\"node\" transform=\"translate(749,354.43158915797994)\"><title>ACRE (ND)</title><line x1=\"0\" x2=\"0\" y1=\"0\" y2=\"166.62000700896272\" style=\"display: inline; stroke: rgb(0, 0, 0);\"/><rect class=\"node-body\" width=\"1\" height=\"166.62000700896272\" style=\"fill: none;\"/><text class=\"node-value\" dy=\".35em\" text-anchor=\"middle\" style=\"display: none;\" transform=\"translate(0.5,83.31000350448136) rotate(-90)\"/><text class=\"node-title\" dy=\".35em\" text-anchor=\"start\" transform=\"translate(5,83.31000350448136)\" style=\"display: inline;\">ACRE (ND)</text><rect class=\"node-click-target\" x=\"-5\" y=\"-5\" width=\"10\" style=\"fill: none; visibility: hidden; pointer-events: all;\" height=\"171.62000700896272\"/></g><g class=\"node\" transform=\"translate(0,2067.918653422056)\"><title>India</title><line x1=\"0\" x2=\"0\" y1=\"0\" y2=\"5.58230037733847\" style=\"display: inline; stroke: rgb(0, 0, 0);\"/><rect class=\"node-body\" width=\"1\" height=\"5.58230037733847\" style=\"fill: none;\"/><text class=\"node-value\" dy=\".35em\" text-anchor=\"middle\" style=\"display: none;\" transform=\"translate(0.5,2.791150188669235) rotate(-90)\"/><text class=\"node-title\" dy=\".35em\" text-anchor=\"end\" transform=\"translate(-4,2.791150188669235)\" style=\"display: inline;\">India</text><rect class=\"node-click-target\" x=\"-5\" y=\"-5\" width=\"10\" style=\"fill: none; visibility: hidden; pointer-events: all;\" height=\"10.58230037733847\"/></g><g class=\"node\" transform=\"translate(0,432.9272572913743)\"><title>Lichtenstein</title><line x1=\"0\" x2=\"0\" y1=\"0\" y2=\"2.7911501886692918\" style=\"display: inline; stroke: rgb(0, 0, 0);\"/><rect class=\"node-body\" width=\"1\" height=\"2.7911501886692918\" style=\"fill: none;\"/><text class=\"node-value\" dy=\".35em\" text-anchor=\"middle\" style=\"display: none;\" transform=\"translate(0.5,1.3955750943346459) rotate(-90)\"/><text class=\"node-title\" dy=\".35em\" text-anchor=\"end\" transform=\"translate(-4,1.3955750943346459)\" style=\"display: inline;\">Lichtenstein</text><rect class=\"node-click-target\" x=\"-5\" y=\"-5\" width=\"10\" style=\"fill: none; visibility: hidden; pointer-events: all;\" height=\"7.791150188669292\"/></g><g class=\"node\" transform=\"translate(0,473.93669296329074)\"><title>Pakistan</title><line x1=\"0\" x2=\"0\" y1=\"0\" y2=\"1\" style=\"display: inline; stroke: rgb(0, 0, 0);\"/><rect class=\"node-body\" width=\"1\" height=\"1\" style=\"fill: none;\"/><text class=\"node-value\" dy=\".35em\" text-anchor=\"middle\" style=\"display: none;\" transform=\"translate(0.5,0.45805875874049207) rotate(0)\"/><text class=\"node-title\" dy=\".35em\" text-anchor=\"end\" transform=\"translate(-4,0.45805875874049207)\" style=\"display: inline;\">Pakistan</text><rect class=\"node-click-target\" x=\"-5\" y=\"-5\" width=\"10\" style=\"fill: none; visibility: hidden; pointer-events: all;\" height=\"6\"/></g><g class=\"node\" transform=\"translate(0,342.6545367326452)\"><title>Armenia</title><line x1=\"0\" x2=\"0\" y1=\"0\" y2=\"1\" style=\"display: inline; stroke: rgb(0, 0, 0);\"/><rect class=\"node-body\" width=\"1\" height=\"1\" style=\"fill: none;\"/><text class=\"node-value\" dy=\".35em\" text-anchor=\"middle\" style=\"display: none;\" transform=\"translate(0.5,0.47216957358321565) rotate(0)\"/><text class=\"node-title\" dy=\".35em\" text-anchor=\"end\" transform=\"translate(-4,0.47216957358321565)\" style=\"display: inline;\">Armenia</text><rect class=\"node-click-target\" x=\"-5\" y=\"-5\" width=\"10\" style=\"fill: none; visibility: hidden; pointer-events: all;\" height=\"6\"/></g><g class=\"node\" transform=\"translate(0,1507.0540085078294)\"><title>UK</title><line x1=\"0\" x2=\"0\" y1=\"0\" y2=\"58.67501654255784\" style=\"display: inline; stroke: rgb(0, 0, 0);\"/><rect class=\"node-body\" width=\"1\" height=\"58.67501654255784\" style=\"fill: none;\"/><text class=\"node-value\" dy=\".35em\" text-anchor=\"middle\" style=\"display: none;\" transform=\"translate(0.5,29.33750827127892) rotate(-90)\"/><text class=\"node-title\" dy=\".35em\" text-anchor=\"end\" transform=\"translate(-4,29.33750827127892)\" style=\"display: inline;\">UK</text><rect class=\"node-click-target\" x=\"-5\" y=\"-5\" width=\"10\" style=\"fill: none; visibility: hidden; pointer-events: all;\" height=\"63.67501654255784\"/></g><g class=\"node\" transform=\"translate(0,1952.970289341893)\"><title>Hungary</title><line x1=\"0\" x2=\"0\" y1=\"0\" y2=\"30.888668279686044\" style=\"display: inline; stroke: rgb(0, 0, 0);\"/><rect class=\"node-body\" width=\"1\" height=\"30.888668279686044\" style=\"fill: none;\"/><text class=\"node-value\" dy=\".35em\" text-anchor=\"middle\" style=\"display: none;\" transform=\"translate(0.5,15.444334139843022) rotate(-90)\"/><text class=\"node-title\" dy=\".35em\" text-anchor=\"end\" transform=\"translate(-4,15.444334139843022)\" style=\"display: inline;\">Hungary</text><rect class=\"node-click-target\" x=\"-5\" y=\"-5\" width=\"10\" style=\"fill: none; visibility: hidden; pointer-events: all;\" height=\"35.888668279686044\"/></g><g class=\"node\" transform=\"translate(0,1699.1659488071007)\"><title>Republic of Cyprus</title><line x1=\"0\" x2=\"0\" y1=\"0\" y2=\"2.667099069172764\" style=\"display: inline; stroke: rgb(0, 0, 0);\"/><rect class=\"node-body\" width=\"1\" height=\"2.667099069172764\" style=\"fill: none;\"/><text class=\"node-value\" dy=\".35em\" text-anchor=\"middle\" style=\"display: none;\" transform=\"translate(0.5,1.333549534586382) rotate(-90)\"/><text class=\"node-title\" dy=\".35em\" text-anchor=\"end\" transform=\"translate(-4,1.333549534586382)\" style=\"display: inline;\">Republic of Cyprus</text><rect class=\"node-click-target\" x=\"-5\" y=\"-5\" width=\"10\" style=\"fill: none; visibility: hidden; pointer-events: all;\" height=\"7.667099069172764\"/></g><g class=\"node\" transform=\"translate(0,1040.5503547137084)\"><title>Croatia</title><line x1=\"0\" x2=\"0\" y1=\"0\" y2=\"7.935550114185617\" style=\"display: inline; stroke: rgb(0, 0, 0);\"/><rect class=\"node-body\" width=\"1\" height=\"7.935550114185617\" style=\"fill: none;\"/><text class=\"node-value\" dy=\".35em\" text-anchor=\"middle\" style=\"display: none;\" transform=\"translate(0.5,3.9677750570928083) rotate(-90)\"/><text class=\"node-title\" dy=\".35em\" text-anchor=\"end\" transform=\"translate(-4,3.9677750570928083)\" style=\"display: inline;\">Croatia</text><rect class=\"node-click-target\" x=\"-5\" y=\"-5\" width=\"10\" style=\"fill: none; visibility: hidden; pointer-events: all;\" height=\"12.935550114185617\"/></g><g class=\"node\" transform=\"translate(749,1064.5813325993051)\"><title>EFA (CMC)</title><line x1=\"0\" x2=\"0\" y1=\"0\" y2=\"7.034656770344782\" style=\"display: inline; stroke: rgb(0, 0, 0);\"/><rect class=\"node-body\" width=\"1\" height=\"7.034656770344782\" style=\"fill: none;\"/><text class=\"node-value\" dy=\".35em\" text-anchor=\"middle\" style=\"display: none;\" transform=\"translate(0.5,3.517328385172391) rotate(-90)\"/><text class=\"node-title\" dy=\".35em\" text-anchor=\"start\" transform=\"translate(5,3.517328385172391)\" style=\"display: inline;\">EFA (CMC)</text><rect class=\"node-click-target\" x=\"-5\" y=\"-5\" width=\"10\" style=\"fill: none; visibility: hidden; pointer-events: all;\" height=\"12.034656770344782\"/></g><g class=\"node\" transform=\"translate(0,1998.5648399745203)\"><title>Czech Republic</title><line x1=\"0\" x2=\"0\" y1=\"0\" y2=\"54.647931094594924\" style=\"display: inline; stroke: rgb(0, 0, 0);\"/><rect class=\"node-body\" width=\"1\" height=\"54.647931094594924\" style=\"fill: none;\"/><text class=\"node-value\" dy=\".35em\" text-anchor=\"middle\" style=\"display: none;\" transform=\"translate(0.5,27.323965547297462) rotate(-90)\"/><text class=\"node-title\" dy=\".35em\" text-anchor=\"end\" transform=\"translate(-4,27.323965547297462)\" style=\"display: inline;\">Czech Republic</text><rect class=\"node-click-target\" x=\"-5\" y=\"-5\" width=\"10\" style=\"fill: none; visibility: hidden; pointer-events: all;\" height=\"59.647931094594924\"/></g><g class=\"node\" transform=\"translate(0,612.1945398882386)\"><title>France</title><line x1=\"0\" x2=\"0\" y1=\"0\" y2=\"39.36173034401054\" style=\"display: inline; stroke: rgb(0, 0, 0);\"/><rect class=\"node-body\" width=\"1\" height=\"39.36173034401054\" style=\"fill: none;\"/><text class=\"node-value\" dy=\".35em\" text-anchor=\"middle\" style=\"display: none;\" transform=\"translate(0.5,19.68086517200527) rotate(-90)\"/><text class=\"node-title\" dy=\".35em\" text-anchor=\"end\" transform=\"translate(-4,19.68086517200527)\" style=\"display: inline;\">France</text><rect class=\"node-click-target\" x=\"-5\" y=\"-5\" width=\"10\" style=\"fill: none; visibility: hidden; pointer-events: all;\" height=\"44.36173034401054\"/></g><g class=\"node\" transform=\"translate(0,2088.206836152336)\"><title>Lebanon</title><line x1=\"0\" x2=\"0\" y1=\"0\" y2=\"1.1242892517470864\" style=\"display: inline; stroke: rgb(0, 0, 0);\"/><rect class=\"node-body\" width=\"1\" height=\"1.1242892517470864\" style=\"fill: none;\"/><text class=\"node-value\" dy=\".35em\" text-anchor=\"middle\" style=\"display: none;\" transform=\"translate(0.5,0.5621446258735432) rotate(-90)\"/><text class=\"node-title\" dy=\".35em\" text-anchor=\"end\" transform=\"translate(-4,0.5621446258735432)\" style=\"display: inline;\">Lebanon</text><rect class=\"node-click-target\" x=\"-5\" y=\"-5\" width=\"10\" style=\"fill: none; visibility: hidden; pointer-events: all;\" height=\"6.124289251747086\"/></g><g class=\"node\" transform=\"translate(0,1810.9467135045659)\"><title>Estonia</title><line x1=\"0\" x2=\"0\" y1=\"0\" y2=\"11.155565181260727\" style=\"display: inline; stroke: rgb(0, 0, 0);\"/><rect class=\"node-body\" width=\"1\" height=\"11.155565181260727\" style=\"fill: none;\"/><text class=\"node-value\" dy=\".35em\" text-anchor=\"middle\" style=\"display: none;\" transform=\"translate(0.5,5.577782590630363) rotate(-90)\"/><text class=\"node-title\" dy=\".35em\" text-anchor=\"end\" transform=\"translate(-4,5.577782590630363)\" style=\"display: inline;\">Estonia</text><rect class=\"node-click-target\" x=\"-5\" y=\"-5\" width=\"10\" style=\"fill: none; visibility: hidden; pointer-events: all;\" height=\"16.155565181260727\"/></g><g class=\"node\" transform=\"translate(0,327.2313877054978)\"><title>Argentina</title><line x1=\"0\" x2=\"0\" y1=\"0\" y2=\"1\" style=\"display: inline; stroke: rgb(0, 0, 0);\"/><rect class=\"node-body\" width=\"1\" height=\"1\" style=\"fill: none;\"/><text class=\"node-value\" dy=\".35em\" text-anchor=\"middle\" style=\"display: none;\" transform=\"translate(0.5,0.3586333371031287) rotate(0)\"/><text class=\"node-title\" dy=\".35em\" text-anchor=\"end\" transform=\"translate(-4,0.3586333371031287)\" style=\"display: inline;\">Argentina</text><rect class=\"node-click-target\" x=\"-5\" y=\"-5\" width=\"10\" style=\"fill: none; visibility: hidden; pointer-events: all;\" height=\"6\"/></g><g class=\"node\" transform=\"translate(0,1580.4349074033285)\"><title>Bulgaria</title><line x1=\"0\" x2=\"0\" y1=\"0\" y2=\"5.300570981128203\" style=\"display: inline; stroke: rgb(0, 0, 0);\"/><rect class=\"node-body\" width=\"1\" height=\"5.300570981128203\" style=\"fill: none;\"/><text class=\"node-value\" dy=\".35em\" text-anchor=\"middle\" style=\"display: none;\" transform=\"translate(0.5,2.6502854905641016) rotate(-90)\"/><text class=\"node-title\" dy=\".35em\" text-anchor=\"end\" transform=\"translate(-4,2.6502854905641016)\" style=\"display: inline;\">Bulgaria</text><rect class=\"node-click-target\" x=\"-5\" y=\"-5\" width=\"10\" style=\"fill: none; visibility: hidden; pointer-events: all;\" height=\"10.300570981128203\"/></g><g class=\"node\" transform=\"translate(0,1224.3936231669716)\"><title>Ireland</title><line x1=\"0\" x2=\"0\" y1=\"0\" y2=\"2.5077678112916146\" style=\"display: inline; stroke: rgb(0, 0, 0);\"/><rect class=\"node-body\" width=\"1\" height=\"2.5077678112916146\" style=\"fill: none;\"/><text class=\"node-value\" dy=\".35em\" text-anchor=\"middle\" style=\"display: none;\" transform=\"translate(0.5,1.2538839056458073) rotate(-90)\"/><text class=\"node-title\" dy=\".35em\" text-anchor=\"end\" transform=\"translate(-4,1.2538839056458073)\" style=\"display: inline;\">Ireland</text><rect class=\"node-click-target\" x=\"-5\" y=\"-5\" width=\"10\" style=\"fill: none; visibility: hidden; pointer-events: all;\" height=\"7.507767811291615\"/></g><g class=\"node\" transform=\"translate(749,250)\"><title>ADDE (IDDE)</title><line x1=\"0\" x2=\"0\" y1=\"0\" y2=\"46.73928146567221\" style=\"display: inline; stroke: rgb(0, 0, 0);\"/><rect class=\"node-body\" width=\"1\" height=\"46.73928146567221\" style=\"fill: none;\"/><text class=\"node-value\" dy=\".35em\" text-anchor=\"middle\" style=\"display: none;\" transform=\"translate(0.5,23.369640732836103) rotate(-90)\"/><text class=\"node-title\" dy=\".35em\" text-anchor=\"start\" transform=\"translate(5,23.369640732836103)\" style=\"display: inline;\">ADDE (IDDE)</text><rect class=\"node-click-target\" x=\"-5\" y=\"-5\" width=\"10\" style=\"fill: none; visibility: hidden; pointer-events: all;\" height=\"51.73928146567221\"/></g><g class=\"node\" transform=\"translate(0,450.42428983298475)\"><title>Lithuania</title><line x1=\"0\" x2=\"0\" y1=\"0\" y2=\"8.806520777364824\" style=\"display: inline; stroke: rgb(0, 0, 0);\"/><rect class=\"node-body\" width=\"1\" height=\"8.806520777364824\" style=\"fill: none;\"/><text class=\"node-value\" dy=\".35em\" text-anchor=\"middle\" style=\"display: none;\" transform=\"translate(0.5,4.403260388682412) rotate(-90)\"/><text class=\"node-title\" dy=\".35em\" text-anchor=\"end\" transform=\"translate(-4,4.403260388682412)\" style=\"display: inline;\">Lithuania</text><rect class=\"node-click-target\" x=\"-5\" y=\"-5\" width=\"10\" style=\"fill: none; visibility: hidden; pointer-events: all;\" height=\"13.806520777364824\"/></g><g class=\"node\" transform=\"translate(0,1019.2739497527404)\"><title>Norway</title><line x1=\"0\" x2=\"0\" y1=\"0\" y2=\"6.570522608026863\" style=\"display: inline; stroke: rgb(0, 0, 0);\"/><rect class=\"node-body\" width=\"1\" height=\"6.570522608026863\" style=\"fill: none;\"/><text class=\"node-value\" dy=\".35em\" text-anchor=\"middle\" style=\"display: none;\" transform=\"translate(0.5,3.2852613040134315) rotate(-90)\"/><text class=\"node-title\" dy=\".35em\" text-anchor=\"end\" transform=\"translate(-4,3.2852613040134315)\" style=\"display: inline;\">Norway</text><rect class=\"node-click-target\" x=\"-5\" y=\"-5\" width=\"10\" style=\"fill: none; visibility: hidden; pointer-events: all;\" height=\"11.570522608026863\"/></g><g class=\"node\" transform=\"translate(0,1716.5389302292147)\"><title>Russia</title><line x1=\"0\" x2=\"0\" y1=\"0\" y2=\"1\" style=\"display: inline; stroke: rgb(0, 0, 0);\"/><rect class=\"node-body\" width=\"1\" height=\"1\" style=\"fill: none;\"/><text class=\"node-value\" dy=\".35em\" text-anchor=\"middle\" style=\"display: none;\" transform=\"translate(0.5,0.2667099069172991) rotate(0)\"/><text class=\"node-title\" dy=\".35em\" text-anchor=\"end\" transform=\"translate(-4,0.2667099069172991)\" style=\"display: inline;\">Russia</text><rect class=\"node-click-target\" x=\"-5\" y=\"-5\" width=\"10\" style=\"fill: none; visibility: hidden; pointer-events: all;\" height=\"6\"/></g><g class=\"node\" transform=\"translate(0,1731.7782323959905)\"><title>Sweden</title><line x1=\"0\" x2=\"0\" y1=\"0\" y2=\"49.223296588858375\" style=\"display: inline; stroke: rgb(0, 0, 0);\"/><rect class=\"node-body\" width=\"1\" height=\"49.223296588858375\" style=\"fill: none;\"/><text class=\"node-value\" dy=\".35em\" text-anchor=\"middle\" style=\"display: none;\" transform=\"translate(0.5,24.611648294429187) rotate(-90)\"/><text class=\"node-title\" dy=\".35em\" text-anchor=\"end\" transform=\"translate(-4,24.611648294429187)\" style=\"display: inline;\">Sweden</text><rect class=\"node-click-target\" x=\"-5\" y=\"-5\" width=\"10\" style=\"fill: none; visibility: hidden; pointer-events: all;\" height=\"54.223296588858375\"/></g><g class=\"node\" transform=\"translate(0,1099.4939878836187)\"><title>Austria</title><line x1=\"0\" x2=\"0\" y1=\"0\" y2=\"62.040724997564894\" style=\"display: inline; stroke: rgb(0, 0, 0);\"/><rect class=\"node-body\" width=\"1\" height=\"62.040724997564894\" style=\"fill: none;\"/><text class=\"node-value\" dy=\".35em\" text-anchor=\"middle\" style=\"display: none;\" transform=\"translate(0.5,31.020362498782447) rotate(-90)\"/><text class=\"node-title\" dy=\".35em\" text-anchor=\"end\" transform=\"translate(-4,31.020362498782447)\" style=\"display: inline;\">Austria</text><rect class=\"node-click-target\" x=\"-5\" y=\"-5\" width=\"10\" style=\"fill: none; visibility: hidden; pointer-events: all;\" height=\"67.0407249975649\"/></g><g class=\"node\" transform=\"translate(749,715.6048693066823)\"><title>ECPM (SALLUX)</title><line x1=\"0\" x2=\"0\" y1=\"0\" y2=\"52.876634621446556\" style=\"display: inline; stroke: rgb(0, 0, 0);\"/><rect class=\"node-body\" width=\"1\" height=\"52.876634621446556\" style=\"fill: none;\"/><text class=\"node-value\" dy=\".35em\" text-anchor=\"middle\" style=\"display: none;\" transform=\"translate(0.5,26.438317310723278) rotate(-90)\"/><text class=\"node-title\" dy=\".35em\" text-anchor=\"start\" transform=\"translate(5,26.438317310723278)\" style=\"display: inline;\">ECPM (SALLUX)</text><rect class=\"node-click-target\" x=\"-5\" y=\"-5\" width=\"10\" style=\"fill: none; visibility: hidden; pointer-events: all;\" height=\"57.876634621446556\"/></g><g class=\"node\" transform=\"translate(0,1600.4413607373979)\"><title>Finland</title><line x1=\"0\" x2=\"0\" y1=\"0\" y2=\"32.007240325463044\" style=\"display: inline; stroke: rgb(0, 0, 0);\"/><rect class=\"node-body\" width=\"1\" height=\"32.007240325463044\" style=\"fill: none;\"/><text class=\"node-value\" dy=\".35em\" text-anchor=\"middle\" style=\"display: none;\" transform=\"translate(0.5,16.003620162731522) rotate(-90)\"/><text class=\"node-title\" dy=\".35em\" text-anchor=\"end\" transform=\"translate(-4,16.003620162731522)\" style=\"display: inline;\">Finland</text><rect class=\"node-click-target\" x=\"-5\" y=\"-5\" width=\"10\" style=\"fill: none; visibility: hidden; pointer-events: all;\" height=\"37.007240325463044\"/></g><g class=\"node\" transform=\"translate(0,2164.2057139600774)\"><title>Slovenia</title><line x1=\"0\" x2=\"0\" y1=\"0\" y2=\"10.06983411873125\" style=\"display: inline; stroke: rgb(0, 0, 0);\"/><rect class=\"node-body\" width=\"1\" height=\"10.06983411873125\" style=\"fill: none;\"/><text class=\"node-value\" dy=\".35em\" text-anchor=\"middle\" style=\"display: none;\" transform=\"translate(0.5,5.034917059365625) rotate(-90)\"/><text class=\"node-title\" dy=\".35em\" text-anchor=\"end\" transform=\"translate(-4,5.034917059365625)\" style=\"display: inline;\">Slovenia</text><rect class=\"node-click-target\" x=\"-5\" y=\"-5\" width=\"10\" style=\"fill: none; visibility: hidden; pointer-events: all;\" height=\"15.06983411873125\"/></g><g class=\"node\" transform=\"translate(0,1795.70741133779)\"><title>Ukraine</title><line x1=\"0\" x2=\"0\" y1=\"0\" y2=\"1\" style=\"display: inline; stroke: rgb(0, 0, 0);\"/><rect class=\"node-body\" width=\"1\" height=\"1\" style=\"fill: none;\"/><text class=\"node-value\" dy=\".35em\" text-anchor=\"middle\" style=\"display: none;\" transform=\"translate(0.5,0.2667099069172991) rotate(0)\"/><text class=\"node-title\" dy=\".35em\" text-anchor=\"end\" transform=\"translate(-4,0.2667099069172991)\" style=\"display: inline;\">Ukraine</text><rect class=\"node-click-target\" x=\"-5\" y=\"-5\" width=\"10\" style=\"fill: none; visibility: hidden; pointer-events: all;\" height=\"6\"/></g><g class=\"node\" transform=\"translate(749,890.5478227366198)\"><title>EL (TE)</title><line x1=\"0\" x2=\"0\" y1=\"0\" y2=\"2.956609571853619\" style=\"display: inline; stroke: rgb(0, 0, 0);\"/><rect class=\"node-body\" width=\"1\" height=\"2.956609571853619\" style=\"fill: none;\"/><text class=\"node-value\" dy=\".35em\" text-anchor=\"middle\" style=\"display: none;\" transform=\"translate(0.5,1.4783047859268095) rotate(-90)\"/><text class=\"node-title\" dy=\".35em\" text-anchor=\"start\" transform=\"translate(5,1.4783047859268095)\" style=\"display: inline;\">EL (TE)</text><rect class=\"node-click-target\" x=\"-5\" y=\"-5\" width=\"10\" style=\"fill: none; visibility: hidden; pointer-events: all;\" height=\"7.956609571853619\"/></g><g class=\"node\" transform=\"translate(749,652.330261237036)\"><title>PES (FEPS)</title><line x1=\"0\" x2=\"0\" y1=\"0\" y2=\"5.5823003773385835\" style=\"display: inline; stroke: rgb(0, 0, 0);\"/><rect class=\"node-body\" width=\"1\" height=\"5.5823003773385835\" style=\"fill: none;\"/><text class=\"node-value\" dy=\".35em\" text-anchor=\"middle\" style=\"display: none;\" transform=\"translate(0.5,2.7911501886692918) rotate(-90)\"/><text class=\"node-title\" dy=\".35em\" text-anchor=\"start\" transform=\"translate(5,2.7911501886692918)\" style=\"display: inline;\">PES (FEPS)</text><rect class=\"node-click-target\" x=\"-5\" y=\"-5\" width=\"10\" style=\"fill: none; visibility: hidden; pointer-events: all;\" height=\"10.582300377338584\"/></g><g class=\"node\" transform=\"translate(0,250)\"><title>Bosnia</title><line x1=\"0\" x2=\"0\" y1=\"0\" y2=\"12.792771698067554\" style=\"display: inline; stroke: rgb(0, 0, 0);\"/><rect class=\"node-body\" width=\"1\" height=\"12.792771698067554\" style=\"fill: none;\"/><text class=\"node-value\" dy=\".35em\" text-anchor=\"middle\" style=\"display: none;\" transform=\"translate(0.5,6.396385849033777) rotate(-90)\"/><text class=\"node-title\" dy=\".35em\" text-anchor=\"end\" transform=\"translate(-4,6.396385849033777)\" style=\"display: inline;\">Bosnia</text><rect class=\"node-click-target\" x=\"-5\" y=\"-5\" width=\"10\" style=\"fill: none; visibility: hidden; pointer-events: all;\" height=\"17.792771698067554\"/></g><g class=\"node\" transform=\"translate(749,951.1967400007811)\"><title>EAF (EFF)</title><line x1=\"0\" x2=\"0\" y1=\"0\" y2=\"55.6922849062164\" style=\"display: inline; stroke: rgb(0, 0, 0);\"/><rect class=\"node-body\" width=\"1\" height=\"55.6922849062164\" style=\"fill: none;\"/><text class=\"node-value\" dy=\".35em\" text-anchor=\"middle\" style=\"display: none;\" transform=\"translate(0.5,27.8461424531082) rotate(-90)\"/><text class=\"node-title\" dy=\".35em\" text-anchor=\"start\" transform=\"translate(5,27.8461424531082)\" style=\"display: inline;\">EAF (EFF)</text><rect class=\"node-click-target\" x=\"-5\" y=\"-5\" width=\"10\" style=\"fill: none; visibility: hidden; pointer-events: all;\" height=\"60.6922849062164\"/></g><g class=\"node\" transform=\"translate(0,2188.98143043175)\"><title>Denmark</title><line x1=\"0\" x2=\"0\" y1=\"0\" y2=\"11.426813808512634\" style=\"display: inline; stroke: rgb(0, 0, 0);\"/><rect class=\"node-body\" width=\"1\" height=\"11.426813808512634\" style=\"fill: none;\"/><text class=\"node-value\" dy=\".35em\" text-anchor=\"middle\" style=\"display: none;\" transform=\"translate(0.5,5.713406904256317) rotate(-90)\"/><text class=\"node-title\" dy=\".35em\" text-anchor=\"end\" transform=\"translate(-4,5.713406904256317)\" style=\"display: inline;\">Denmark</text><rect class=\"node-click-target\" x=\"-5\" y=\"-5\" width=\"10\" style=\"fill: none; visibility: hidden; pointer-events: all;\" height=\"16.426813808512634\"/></g><g class=\"node\" transform=\"translate(0,1176.2405952341246)\"><title>Latvia</title><line x1=\"0\" x2=\"0\" y1=\"0\" y2=\"9.578537413160802\" style=\"display: inline; stroke: rgb(0, 0, 0);\"/><rect class=\"node-body\" width=\"1\" height=\"9.578537413160802\" style=\"fill: none;\"/><text class=\"node-value\" dy=\".35em\" text-anchor=\"middle\" style=\"display: none;\" transform=\"translate(0.5,4.789268706580401) rotate(-90)\"/><text class=\"node-title\" dy=\".35em\" text-anchor=\"end\" transform=\"translate(-4,4.789268706580401)\" style=\"display: inline;\">Latvia</text><rect class=\"node-click-target\" x=\"-5\" y=\"-5\" width=\"10\" style=\"fill: none; visibility: hidden; pointer-events: all;\" height=\"14.578537413160802\"/></g><g class=\"node\" transform=\"translate(0,815.6361232034822)\"><title>Netherlands</title><line x1=\"0\" x2=\"0\" y1=\"0\" y2=\"66.11887608886843\" style=\"display: inline; stroke: rgb(0, 0, 0);\"/><rect class=\"node-body\" width=\"1\" height=\"66.11887608886843\" style=\"fill: none;\"/><text class=\"node-value\" dy=\".35em\" text-anchor=\"middle\" style=\"display: none;\" transform=\"translate(0.5,33.059438044434216) rotate(-90)\"/><text class=\"node-title\" dy=\".35em\" text-anchor=\"end\" transform=\"translate(-4,33.059438044434216)\" style=\"display: inline;\">Netherlands</text><rect class=\"node-click-target\" x=\"-5\" y=\"-5\" width=\"10\" style=\"fill: none; visibility: hidden; pointer-events: all;\" height=\"71.11887608886843\"/></g><g class=\"node\" transform=\"translate(0,666.2621525851903)\"><title>Luxembourg</title><line x1=\"0\" x2=\"0\" y1=\"0\" y2=\"7.971835066638278\" style=\"display: inline; stroke: rgb(0, 0, 0);\"/><rect class=\"node-body\" width=\"1\" height=\"7.971835066638278\" style=\"fill: none;\"/><text class=\"node-value\" dy=\".35em\" text-anchor=\"middle\" style=\"display: none;\" transform=\"translate(0.5,3.985917533319139) rotate(-90)\"/><text class=\"node-title\" dy=\".35em\" text-anchor=\"end\" transform=\"translate(-4,3.985917533319139)\" style=\"display: inline;\">Luxembourg</text><rect class=\"node-click-target\" x=\"-5\" y=\"-5\" width=\"10\" style=\"fill: none; visibility: hidden; pointer-events: all;\" height=\"12.971835066638278\"/></g><g class=\"node\" transform=\"translate(0,402.7406754956733)\"><title>HongKong</title><line x1=\"0\" x2=\"0\" y1=\"0\" y2=\"1\" style=\"display: inline; stroke: rgb(0, 0, 0);\"/><rect class=\"node-body\" width=\"1\" height=\"1\" style=\"fill: none;\"/><text class=\"node-value\" dy=\".35em\" text-anchor=\"middle\" style=\"display: none;\" transform=\"translate(0.5,0.3486425700666871) rotate(0)\"/><text class=\"node-title\" dy=\".35em\" text-anchor=\"end\" transform=\"translate(-4,0.3486425700666871)\" style=\"display: inline;\">HongKong</text><rect class=\"node-click-target\" x=\"-5\" y=\"-5\" width=\"10\" style=\"fill: none; visibility: hidden; pointer-events: all;\" height=\"6\"/></g><g class=\"node\" transform=\"translate(0,1200.5250150002266)\"><title>Malta</title><line x1=\"0\" x2=\"0\" y1=\"0\" y2=\"9.162725813803718\" style=\"display: inline; stroke: rgb(0, 0, 0);\"/><rect class=\"node-body\" width=\"1\" height=\"9.162725813803718\" style=\"fill: none;\"/><text class=\"node-value\" dy=\".35em\" text-anchor=\"middle\" style=\"display: none;\" transform=\"translate(0.5,4.581362906901859) rotate(-90)\"/><text class=\"node-title\" dy=\".35em\" text-anchor=\"end\" transform=\"translate(-4,4.581362906901859)\" style=\"display: inline;\">Malta</text><rect class=\"node-click-target\" x=\"-5\" y=\"-5\" width=\"10\" style=\"fill: none; visibility: hidden; pointer-events: all;\" height=\"14.162725813803718\"/></g><g class=\"node\" transform=\"translate(749,2136.761410225383)\"><title>ALDE (ELF)</title><line x1=\"0\" x2=\"0\" y1=\"0\" y2=\"113.23858977461714\" style=\"display: inline; stroke: rgb(0, 0, 0);\"/><rect class=\"node-body\" width=\"1\" height=\"113.23858977461714\" style=\"fill: none;\"/><text class=\"node-value\" dy=\".35em\" text-anchor=\"middle\" style=\"display: none;\" transform=\"translate(0.5,56.61929488730857) rotate(-90)\"/><text class=\"node-title\" dy=\".35em\" text-anchor=\"start\" transform=\"translate(5,56.61929488730857)\" style=\"display: inline;\">ALDE (ELF)</text><rect class=\"node-click-target\" x=\"-5\" y=\"-5\" width=\"10\" style=\"fill: none; visibility: hidden; pointer-events: all;\" height=\"118.23858977461714\"/></g><g class=\"node\" transform=\"translate(0,387.8904999818119)\"><title>Guatemala</title><line x1=\"0\" x2=\"0\" y1=\"0\" y2=\"1\" style=\"display: inline; stroke: rgb(0, 0, 0);\"/><rect class=\"node-body\" width=\"1\" height=\"1\" style=\"fill: none;\"/><text class=\"node-value\" dy=\".35em\" text-anchor=\"middle\" style=\"display: none;\" transform=\"translate(0.5,0.07214658046012801) rotate(0)\"/><text class=\"node-title\" dy=\".35em\" text-anchor=\"end\" transform=\"translate(-4,0.07214658046012801)\" style=\"display: inline;\">Guatemala</text><rect class=\"node-click-target\" x=\"-5\" y=\"-5\" width=\"10\" style=\"fill: none; visibility: hidden; pointer-events: all;\" height=\"6\"/></g><g class=\"node\" transform=\"translate(0,489.55869283371294)\"><title>Tunesia</title><line x1=\"0\" x2=\"0\" y1=\"0\" y2=\"1\" style=\"display: inline; stroke: rgb(0, 0, 0);\"/><rect class=\"node-body\" width=\"1\" height=\"1\" style=\"fill: none;\"/><text class=\"node-value\" dy=\".35em\" text-anchor=\"middle\" style=\"display: none;\" transform=\"translate(0.5,0.031012779874089347) rotate(0)\"/><text class=\"node-title\" dy=\".35em\" text-anchor=\"end\" transform=\"translate(-4,0.031012779874089347)\" style=\"display: inline;\">Tunesia</text><rect class=\"node-click-target\" x=\"-5\" y=\"-5\" width=\"10\" style=\"fill: none; visibility: hidden; pointer-events: all;\" height=\"6\"/></g><g class=\"node\" transform=\"translate(0,2249.441769962267)\"><title>South-Korea</title><line x1=\"0\" x2=\"0\" y1=\"0\" y2=\"1\" style=\"display: inline; stroke: rgb(0, 0, 0);\"/><rect class=\"node-body\" width=\"1\" height=\"1\" style=\"fill: none;\"/><text class=\"node-value\" dy=\".35em\" text-anchor=\"middle\" style=\"display: none;\" transform=\"translate(0.5,0.27911501886683254) rotate(0)\"/><text class=\"node-title\" dy=\".35em\" text-anchor=\"end\" transform=\"translate(-4,0.27911501886683254)\" style=\"display: inline;\">South-Korea</text><rect class=\"node-click-target\" x=\"-5\" y=\"-5\" width=\"10\" style=\"fill: none; visibility: hidden; pointer-events: all;\" height=\"6\"/></g><g class=\"node\" transform=\"translate(0,754.9803261203654)\"><title>Belgium</title><line x1=\"0\" x2=\"0\" y1=\"0\" y2=\"45.94991473017569\" style=\"display: inline; stroke: rgb(0, 0, 0);\"/><rect class=\"node-body\" width=\"1\" height=\"45.94991473017569\" style=\"fill: none;\"/><text class=\"node-value\" dy=\".35em\" text-anchor=\"middle\" style=\"display: none;\" transform=\"translate(0.5,22.974957365087846) rotate(-90)\"/><text class=\"node-title\" dy=\".35em\" text-anchor=\"end\" transform=\"translate(-4,22.974957365087846)\" style=\"display: inline;\">Belgium</text><rect class=\"node-click-target\" x=\"-5\" y=\"-5\" width=\"10\" style=\"fill: none; visibility: hidden; pointer-events: all;\" height=\"50.94991473017569\"/></g><g class=\"node\" transform=\"translate(0,1836.8081610387678)\"><title>Greece</title><line x1=\"0\" x2=\"0\" y1=\"0\" y2=\"10.794861741101158\" style=\"display: inline; stroke: rgb(0, 0, 0);\"/><rect class=\"node-body\" width=\"1\" height=\"10.794861741101158\" style=\"fill: none;\"/><text class=\"node-value\" dy=\".35em\" text-anchor=\"middle\" style=\"display: none;\" transform=\"translate(0.5,5.397430870550579) rotate(-90)\"/><text class=\"node-title\" dy=\".35em\" text-anchor=\"end\" transform=\"translate(-4,5.397430870550579)\" style=\"display: inline;\">Greece</text><rect class=\"node-click-target\" x=\"-5\" y=\"-5\" width=\"10\" style=\"fill: none; visibility: hidden; pointer-events: all;\" height=\"15.794861741101158\"/></g><g class=\"node\" transform=\"translate(0,418.14384298874785)\"><title>Israel</title><line x1=\"0\" x2=\"0\" y1=\"0\" y2=\"1\" style=\"display: inline; stroke: rgb(0, 0, 0);\"/><rect class=\"node-body\" width=\"1\" height=\"1\" style=\"fill: none;\"/><text class=\"node-value\" dy=\".35em\" text-anchor=\"middle\" style=\"display: none;\" transform=\"translate(0.5,0.03876597484261879) rotate(0)\"/><text class=\"node-title\" dy=\".35em\" text-anchor=\"end\" transform=\"translate(-4,0.03876597484261879)\" style=\"display: inline;\">Israel</text><rect class=\"node-click-target\" x=\"-5\" y=\"-5\" width=\"10\" style=\"fill: none; visibility: hidden; pointer-events: all;\" height=\"6\"/></g><g class=\"node\" transform=\"translate(0,896.4608816452918)\"><title>USA</title><line x1=\"0\" x2=\"0\" y1=\"0\" y2=\"108.10718575450733\" style=\"display: inline; stroke: rgb(0, 0, 0);\"/><rect class=\"node-body\" width=\"1\" height=\"108.10718575450733\" style=\"fill: none;\"/><text class=\"node-value\" dy=\".35em\" text-anchor=\"middle\" style=\"display: none;\" transform=\"translate(0.5,54.053592877253664) rotate(-90)\"/><text class=\"node-title\" dy=\".35em\" text-anchor=\"end\" transform=\"translate(-4,54.053592877253664)\" style=\"display: inline;\">USA</text><rect class=\"node-click-target\" x=\"-5\" y=\"-5\" width=\"10\" style=\"fill: none; visibility: hidden; pointer-events: all;\" height=\"113.10718575450733\"/></g><g class=\"node\" transform=\"translate(749,1400.1796267939649)\"><title>EPP (WMCES)</title><line x1=\"0\" x2=\"0\" y1=\"0\" y2=\"535.9570329322737\" style=\"display: inline; stroke: rgb(0, 0, 0);\"/><rect class=\"node-body\" width=\"1\" height=\"535.9570329322737\" style=\"fill: none;\"/><text class=\"node-value\" dy=\".35em\" text-anchor=\"middle\" style=\"display: none;\" transform=\"translate(0.5,267.97851646613685) rotate(-90)\"/><text class=\"node-title\" dy=\".35em\" text-anchor=\"start\" transform=\"translate(5,267.97851646613685)\" style=\"display: inline;\">EPP (WMCES)</text><rect class=\"node-click-target\" x=\"-5\" y=\"-5\" width=\"10\" style=\"fill: none; visibility: hidden; pointer-events: all;\" height=\"540.9570329322737\"/></g><g class=\"node\" transform=\"translate(749,2054.758381320918)\"><title>EUD (OEIC)</title><line x1=\"0\" x2=\"0\" y1=\"0\" y2=\"24.310721212157205\" style=\"display: inline; stroke: rgb(0, 0, 0);\"/><rect class=\"node-body\" width=\"1\" height=\"24.310721212157205\" style=\"fill: none;\"/><text class=\"node-value\" dy=\".35em\" text-anchor=\"middle\" style=\"display: none;\" transform=\"translate(0.5,12.155360606078602) rotate(-90)\"/><text class=\"node-title\" dy=\".35em\" text-anchor=\"start\" transform=\"translate(5,12.155360606078602)\" style=\"display: inline;\">EUD (OEIC)</text><rect class=\"node-click-target\" x=\"-5\" y=\"-5\" width=\"10\" style=\"fill: none; visibility: hidden; pointer-events: all;\" height=\"29.310721212157205\"/></g><g class=\"node\" transform=\"translate(0,358.3047582327528)\"><title>Dominican Republic</title><line x1=\"0\" x2=\"0\" y1=\"0\" y2=\"1\" style=\"display: inline; stroke: rgb(0, 0, 0);\"/><rect class=\"node-body\" width=\"1\" height=\"1\" style=\"fill: none;\"/><text class=\"node-value\" dy=\".35em\" text-anchor=\"middle\" style=\"display: none;\" transform=\"translate(0.5,0.03542977504767464) rotate(0)\"/><text class=\"node-title\" dy=\".35em\" text-anchor=\"end\" transform=\"translate(-4,0.03542977504767464)\" style=\"display: inline;\">Dominican Republic</text><rect class=\"node-click-target\" x=\"-5\" y=\"-5\" width=\"10\" style=\"fill: none; visibility: hidden; pointer-events: all;\" height=\"6\"/></g><g class=\"node\" transform=\"translate(0,519.187546998714)\"><title>Georgia</title><line x1=\"0\" x2=\"0\" y1=\"0\" y2=\"4.389936523128995\" style=\"display: inline; stroke: rgb(0, 0, 0);\"/><rect class=\"node-body\" width=\"1\" height=\"4.389936523128995\" style=\"fill: none;\"/><text class=\"node-value\" dy=\".35em\" text-anchor=\"middle\" style=\"display: none;\" transform=\"translate(0.5,2.1949682615644974) rotate(-90)\"/><text class=\"node-title\" dy=\".35em\" text-anchor=\"end\" transform=\"translate(-4,2.1949682615644974)\" style=\"display: inline;\">Georgia</text><rect class=\"node-click-target\" x=\"-5\" y=\"-5\" width=\"10\" style=\"fill: none; visibility: hidden; pointer-events: all;\" height=\"9.389936523128995\"/></g><g class=\"node\" transform=\"translate(0,538.2833658747842)\"><title>Poland</title><line x1=\"0\" x2=\"0\" y1=\"0\" y2=\"59.20529166051324\" style=\"display: inline; stroke: rgb(0, 0, 0);\"/><rect class=\"node-body\" width=\"1\" height=\"59.20529166051324\" style=\"fill: none;\"/><text class=\"node-value\" dy=\".35em\" text-anchor=\"middle\" style=\"display: none;\" transform=\"translate(0.5,29.60264583025662) rotate(-90)\"/><text class=\"node-title\" dy=\".35em\" text-anchor=\"end\" transform=\"translate(-4,29.60264583025662)\" style=\"display: inline;\">Poland</text><rect class=\"node-click-target\" x=\"-5\" y=\"-5\" width=\"10\" style=\"fill: none; visibility: hidden; pointer-events: all;\" height=\"64.20529166051324\"/></g><g class=\"node\" transform=\"translate(0,688.9398700047697)\"><title>Romania</title><line x1=\"0\" x2=\"0\" y1=\"0\" y2=\"51.3345737626546\" style=\"display: inline; stroke: rgb(0, 0, 0);\"/><rect class=\"node-body\" width=\"1\" height=\"51.3345737626546\" style=\"fill: none;\"/><text class=\"node-value\" dy=\".35em\" text-anchor=\"middle\" style=\"display: none;\" transform=\"translate(0.5,25.6672868813273) rotate(-90)\"/><text class=\"node-title\" dy=\".35em\" text-anchor=\"end\" transform=\"translate(-4,25.6672868813273)\" style=\"display: inline;\">Romania</text><rect class=\"node-click-target\" x=\"-5\" y=\"-5\" width=\"10\" style=\"fill: none; visibility: hidden; pointer-events: all;\" height=\"56.3345737626546\"/></g><g class=\"node\" transform=\"translate(0,2131.113888001745)\"><title>Portugal</title><line x1=\"0\" x2=\"0\" y1=\"0\" y2=\"18.38594360539082\" style=\"display: inline; stroke: rgb(0, 0, 0);\"/><rect class=\"node-body\" width=\"1\" height=\"18.38594360539082\" style=\"fill: none;\"/><text class=\"node-value\" dy=\".35em\" text-anchor=\"middle\" style=\"display: none;\" transform=\"translate(0.5,9.19297180269541) rotate(-90)\"/><text class=\"node-title\" dy=\".35em\" text-anchor=\"end\" transform=\"translate(-4,9.19297180269541)\" style=\"display: inline;\">Portugal</text><rect class=\"node-click-target\" x=\"-5\" y=\"-5\" width=\"10\" style=\"fill: none; visibility: hidden; pointer-events: all;\" height=\"23.38594360539082\"/></g><g class=\"node\" transform=\"translate(0,1862.3089051328102)\"><title>Slovakia</title><line x1=\"0\" x2=\"0\" y1=\"0\" y2=\"75.95550185614161\" style=\"display: inline; stroke: rgb(0, 0, 0);\"/><rect class=\"node-body\" width=\"1\" height=\"75.95550185614161\" style=\"fill: none;\"/><text class=\"node-value\" dy=\".35em\" text-anchor=\"middle\" style=\"display: none;\" transform=\"translate(0.5,37.977750928070805) rotate(-90)\"/><text class=\"node-title\" dy=\".35em\" text-anchor=\"end\" transform=\"translate(-4,37.977750928070805)\" style=\"display: inline;\">Slovakia</text><rect class=\"node-click-target\" x=\"-5\" y=\"-5\" width=\"10\" style=\"fill: none; visibility: hidden; pointer-events: all;\" height=\"80.95550185614161\"/></g><g class=\"node\" transform=\"translate(0,1063.191787180835)\"><title>Spain</title><line x1=\"0\" x2=\"0\" y1=\"0\" y2=\"21.596318349842477\" style=\"display: inline; stroke: rgb(0, 0, 0);\"/><rect class=\"node-body\" width=\"1\" height=\"21.596318349842477\" style=\"fill: none;\"/><text class=\"node-value\" dy=\".35em\" text-anchor=\"middle\" style=\"display: none;\" transform=\"translate(0.5,10.798159174921238) rotate(-90)\"/><text class=\"node-title\" dy=\".35em\" text-anchor=\"end\" transform=\"translate(-4,10.798159174921238)\" style=\"display: inline;\">Spain</text><rect class=\"node-click-target\" x=\"-5\" y=\"-5\" width=\"10\" style=\"fill: none; visibility: hidden; pointer-events: all;\" height=\"26.596318349842477\"/></g><g class=\"node\" transform=\"translate(0,2215.114126593204)\"><title>Serbia</title><line x1=\"0\" x2=\"0\" y1=\"0\" y2=\"19.621761016121127\" style=\"display: inline; stroke: rgb(0, 0, 0);\"/><rect class=\"node-body\" width=\"1\" height=\"19.621761016121127\" style=\"fill: none;\"/><text class=\"node-value\" dy=\".35em\" text-anchor=\"middle\" style=\"display: none;\" transform=\"translate(0.5,9.810880508060563) rotate(-90)\"/><text class=\"node-title\" dy=\".35em\" text-anchor=\"end\" transform=\"translate(-4,9.810880508060563)\" style=\"display: inline;\">Serbia</text><rect class=\"node-click-target\" x=\"-5\" y=\"-5\" width=\"10\" style=\"fill: none; visibility: hidden; pointer-events: all;\" height=\"24.621761016121127\"/></g><g class=\"node\" transform=\"translate(0,277.4986540510087)\"><title>Monaco</title><line x1=\"0\" x2=\"0\" y1=\"0\" y2=\"5.2721725785975195\" style=\"display: inline; stroke: rgb(0, 0, 0);\"/><rect class=\"node-body\" width=\"1\" height=\"5.2721725785975195\" style=\"fill: none;\"/><text class=\"node-value\" dy=\".35em\" text-anchor=\"middle\" style=\"display: none;\" transform=\"translate(0.5,2.6360862892987598) rotate(-90)\"/><text class=\"node-title\" dy=\".35em\" text-anchor=\"end\" transform=\"translate(-4,2.6360862892987598)\" style=\"display: inline;\">Monaco</text><rect class=\"node-click-target\" x=\"-5\" y=\"-5\" width=\"10\" style=\"fill: none; visibility: hidden; pointer-events: all;\" height=\"10.27217257859752\"/></g><g class=\"node\" transform=\"translate(749,1993.8289674185462)\"><title>APF (Terra Nostra)</title><line x1=\"0\" x2=\"0\" y1=\"0\" y2=\"3.2371062100639847\" style=\"display: inline; stroke: rgb(0, 0, 0);\"/><rect class=\"node-body\" width=\"1\" height=\"3.2371062100639847\" style=\"fill: none;\"/><text class=\"node-value\" dy=\".35em\" text-anchor=\"middle\" style=\"display: none;\" transform=\"translate(0.5,1.6185531050319923) rotate(-90)\"/><text class=\"node-title\" dy=\".35em\" text-anchor=\"start\" transform=\"translate(5,1.6185531050319923)\" style=\"display: inline;\">APF (Terra Nostra)</text><rect class=\"node-click-target\" x=\"-5\" y=\"-5\" width=\"10\" style=\"fill: none; visibility: hidden; pointer-events: all;\" height=\"8.237106210063985\"/></g><g class=\"node\" transform=\"translate(0,1647.1544834158021)\"><title>Italy</title><line x1=\"0\" x2=\"0\" y1=\"0\" y2=\"37.305583038357554\" style=\"display: inline; stroke: rgb(0, 0, 0);\"/><rect class=\"node-body\" width=\"1\" height=\"37.305583038357554\" style=\"fill: none;\"/><text class=\"node-value\" dy=\".35em\" text-anchor=\"middle\" style=\"display: none;\" transform=\"translate(0.5,18.652791519178777) rotate(-90)\"/><text class=\"node-title\" dy=\".35em\" text-anchor=\"end\" transform=\"translate(-4,18.652791519178777)\" style=\"display: inline;\">Italy</text><rect class=\"node-click-target\" x=\"-5\" y=\"-5\" width=\"10\" style=\"fill: none; visibility: hidden; pointer-events: all;\" height=\"42.305583038357554\"/></g><g class=\"node\" transform=\"translate(749,826.1738116204365)\"><title>EDP (IED)</title><line x1=\"0\" x2=\"0\" y1=\"0\" y2=\"6.681703423875547\" style=\"display: inline; stroke: rgb(0, 0, 0);\"/><rect class=\"node-body\" width=\"1\" height=\"6.681703423875547\" style=\"fill: none;\"/><text class=\"node-value\" dy=\".35em\" text-anchor=\"middle\" style=\"display: none;\" transform=\"translate(0.5,3.3408517119377734) rotate(-90)\"/><text class=\"node-title\" dy=\".35em\" text-anchor=\"start\" transform=\"translate(5,3.3408517119377734)\" style=\"display: inline;\">EDP (IED)</text><rect class=\"node-click-target\" x=\"-5\" y=\"-5\" width=\"10\" style=\"fill: none; visibility: hidden; pointer-events: all;\" height=\"11.681703423875547\"/></g><g class=\"node\" transform=\"translate(0,2104.037007757024)\"><title>Switzerland</title><line x1=\"0\" x2=\"0\" y1=\"0\" y2=\"12.370997891779552\" style=\"display: inline; stroke: rgb(0, 0, 0);\"/><rect class=\"node-body\" width=\"1\" height=\"12.370997891779552\" style=\"fill: none;\"/><text class=\"node-value\" dy=\".35em\" text-anchor=\"middle\" style=\"display: none;\" transform=\"translate(0.5,6.185498945889776) rotate(-90)\"/><text class=\"node-title\" dy=\".35em\" text-anchor=\"end\" transform=\"translate(-4,6.185498945889776)\" style=\"display: inline;\">Switzerland</text><rect class=\"node-click-target\" x=\"-5\" y=\"-5\" width=\"10\" style=\"fill: none; visibility: hidden; pointer-events: all;\" height=\"17.370997891779552\"/></g><g class=\"node\" transform=\"translate(0,373.0815001357893)\"><title>Faroe Islands</title><line x1=\"0\" x2=\"0\" y1=\"0\" y2=\"1\" style=\"display: inline; stroke: rgb(0, 0, 0);\"/><rect class=\"node-body\" width=\"1\" height=\"1\" style=\"fill: none;\"/><text class=\"node-value\" dy=\".35em\" text-anchor=\"middle\" style=\"display: none;\" transform=\"translate(0.5,0.05155874654070658) rotate(0)\"/><text class=\"node-title\" dy=\".35em\" text-anchor=\"end\" transform=\"translate(-4,0.05155874654070658)\" style=\"display: inline;\">Faroe Islands</text><rect class=\"node-click-target\" x=\"-5\" y=\"-5\" width=\"10\" style=\"fill: none; visibility: hidden; pointer-events: all;\" height=\"6\"/></g><g class=\"node\" transform=\"translate(749,1129.3082970619575)\"><title>EGP (GEF)</title><line x1=\"0\" x2=\"0\" y1=\"0\" y2=\"213.1790220396997\" style=\"display: inline; stroke: rgb(0, 0, 0);\"/><rect class=\"node-body\" width=\"1\" height=\"213.1790220396997\" style=\"fill: none;\"/><text class=\"node-value\" dy=\".35em\" text-anchor=\"middle\" style=\"display: none;\" transform=\"translate(0.5,106.58951101984985) rotate(-90)\"/><text class=\"node-title\" dy=\".35em\" text-anchor=\"start\" transform=\"translate(5,106.58951101984985)\" style=\"display: inline;\">EGP (GEF)</text><rect class=\"node-click-target\" x=\"-5\" y=\"-5\" width=\"10\" style=\"fill: none; visibility: hidden; pointer-events: all;\" height=\"218.1790220396997\"/></g><g class=\"node\" transform=\"translate(0,1241.6072733312044)\"><title>Germany</title><line x1=\"0\" x2=\"0\" y1=\"0\" y2=\"250.74085282368378\" style=\"display: inline; stroke: rgb(0, 0, 0);\"/><rect class=\"node-body\" width=\"1\" height=\"250.74085282368378\" style=\"fill: none;\"/><text class=\"node-value\" dy=\".35em\" text-anchor=\"middle\" style=\"display: none;\" transform=\"translate(0.5,125.37042641184189) rotate(-90)\"/><text class=\"node-title\" dy=\".35em\" text-anchor=\"end\" transform=\"translate(-4,125.37042641184189)\" style=\"display: inline;\">Germany</text><rect class=\"node-click-target\" x=\"-5\" y=\"-5\" width=\"10\" style=\"fill: none; visibility: hidden; pointer-events: all;\" height=\"255.74085282368378\"/></g><g class=\"node\" transform=\"translate(749,578.7439038592504)\"><title>MENL (FENL)</title><line x1=\"0\" x2=\"0\" y1=\"0\" y2=\"15.894049685477853\" style=\"display: inline; stroke: rgb(0, 0, 0);\"/><rect class=\"node-body\" width=\"1\" height=\"15.894049685477853\" style=\"fill: none;\"/><text class=\"node-value\" dy=\".35em\" text-anchor=\"middle\" style=\"display: none;\" transform=\"translate(0.5,7.9470248427389265) rotate(-90)\"/><text class=\"node-title\" dy=\".35em\" text-anchor=\"start\" transform=\"translate(5,7.9470248427389265)\" style=\"display: inline;\">MENL (FENL)</text><rect class=\"node-click-target\" x=\"-5\" y=\"-5\" width=\"10\" style=\"fill: none; visibility: hidden; pointer-events: all;\" height=\"20.894049685477853\"/></g><g class=\"node\" transform=\"translate(0,504.32660074640233)\"><title>Albania</title><line x1=\"0\" x2=\"0\" y1=\"0\" y2=\"1\" style=\"display: inline; stroke: rgb(0, 0, 0);\"/><rect class=\"node-body\" width=\"1\" height=\"1\" style=\"fill: none;\"/><text class=\"node-value\" dy=\".35em\" text-anchor=\"middle\" style=\"display: none;\" transform=\"translate(0.5,0.077531949685266) rotate(0)\"/><text class=\"node-title\" dy=\".35em\" text-anchor=\"end\" transform=\"translate(-4,0.077531949685266)\" style=\"display: inline;\">Albania</text><rect class=\"node-click-target\" x=\"-5\" y=\"-5\" width=\"10\" style=\"fill: none; visibility: hidden; pointer-events: all;\" height=\"6\"/></g></g><g class=\"slice-titles\"/></g></svg>"
      }
     }
    },
    "version_major": 2,
    "version_minor": 0
   }
  }
 },
 "nbformat": 4,
 "nbformat_minor": 2
}
